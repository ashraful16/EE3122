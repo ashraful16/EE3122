{
 "cells": [
  {
   "cell_type": "code",
   "execution_count": 23,
   "metadata": {},
   "outputs": [
    {
     "name": "stdout",
     "output_type": "stream",
     "text": [
      "4 5\n",
      "2 6 9 2 1\n",
      "GAME OVER\n"
     ]
    }
   ],
   "source": [
    "a,b=(input().split(' '))\n",
    "a,b=int(a),int(b)\n",
    "\n",
    "c=input().split(' ')\n",
    "z=[]\n",
    "for i in range(b):\n",
    "    z.append(int(c[i]))\n",
    "d=[]   \n",
    "ma=0\n",
    "for i in range(1,b):\n",
    "    e=int(z[i-1]-int(z[i]))\n",
    "    if (e)>ma:\n",
    "        ma=e\n",
    "\n",
    "\n",
    "if int(ma) >int(a):\n",
    "    print(\"GAME OVER\")\n",
    "else:\n",
    "    print(\"YOU WIN\")\n",
    " "
   ]
  },
  {
   "cell_type": "code",
   "execution_count": null,
   "metadata": {},
   "outputs": [],
   "source": [
    "Input Samples\tOutput Samples\n",
    "5 10\n",
    "1 3 6 9 7 2 4 5 8 3\n",
    "\n",
    "GAME OVER\n",
    "\n",
    "1 2\n",
    "2 2\n",
    "\n",
    "YOU WIN\n",
    "\n",
    "1 2\n",
    "1 3\n",
    "\n",
    "GAME OVER"
   ]
  }
 ],
 "metadata": {
  "kernelspec": {
   "display_name": "Python 3",
   "language": "python",
   "name": "python3"
  },
  "language_info": {
   "codemirror_mode": {
    "name": "ipython",
    "version": 3
   },
   "file_extension": ".py",
   "mimetype": "text/x-python",
   "name": "python",
   "nbconvert_exporter": "python",
   "pygments_lexer": "ipython3",
   "version": "3.6.5"
  }
 },
 "nbformat": 4,
 "nbformat_minor": 2
}
