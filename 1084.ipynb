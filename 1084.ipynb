{
 "cells": [
  {
   "cell_type": "code",
   "execution_count": 27,
   "metadata": {},
   "outputs": [
    {
     "name": "stdout",
     "output_type": "stream",
     "text": [
      "6 3\n",
      "123123\n"
     ]
    }
   ],
   "source": [
    "a,b= input().split(\" \")\n",
    "c=int(input())\n",
    "a,b=int(a),int(b)"
   ]
  },
  {
   "cell_type": "code",
   "execution_count": 28,
   "metadata": {},
   "outputs": [
    {
     "data": {
      "text/plain": [
       "['1', '2', '3', '1', '2', '3']"
      ]
     },
     "execution_count": 28,
     "metadata": {},
     "output_type": "execute_result"
    }
   ],
   "source": [
    "cs=str(c)\n",
    "st=[]\n",
    "for d in cs:\n",
    "    st.append(d)\n",
    "\n",
    "st"
   ]
  },
  {
   "cell_type": "code",
   "execution_count": 29,
   "metadata": {},
   "outputs": [
    {
     "data": {
      "text/plain": [
       "['1', '2', '3']"
      ]
     },
     "execution_count": 29,
     "metadata": {},
     "output_type": "execute_result"
    }
   ],
   "source": [
    "p=set(st)\n",
    "\n",
    "p=list(p)\n",
    "p.sort()\n",
    "p"
   ]
  },
  {
   "cell_type": "code",
   "execution_count": null,
   "metadata": {},
   "outputs": [],
   "source": [
    "\n"
   ]
  },
  {
   "cell_type": "code",
   "execution_count": 30,
   "metadata": {},
   "outputs": [],
   "source": [
    "sm=0\n",
    "i=0\n",
    "de=[]\n",
    "while sm<=b:\n",
    "    sm+=st.count(p[i])\n",
    "    de.append(st.count(p[i]))\n",
    "    i+=1"
   ]
  },
  {
   "cell_type": "code",
   "execution_count": 31,
   "metadata": {},
   "outputs": [
    {
     "data": {
      "text/plain": [
       "(2, [2, 2])"
      ]
     },
     "execution_count": 31,
     "metadata": {},
     "output_type": "execute_result"
    }
   ],
   "source": [
    "i,de"
   ]
  },
  {
   "cell_type": "code",
   "execution_count": null,
   "metadata": {},
   "outputs": [],
   "source": []
  },
  {
   "cell_type": "code",
   "execution_count": 32,
   "metadata": {},
   "outputs": [
    {
     "name": "stdout",
     "output_type": "stream",
     "text": [
      "['2', '3', '1', '2', '3']\n",
      "['2', '3', '2', '3']\n",
      "['3', '2', '3']\n"
     ]
    }
   ],
   "source": [
    "fk=0\n",
    "for  j in range(i):\n",
    "    for pii in range(int(de[j])):\n",
    "        k1=st.index((p[j]))\n",
    "        st.remove(str(st[k1]))\n",
    "        fk+=1\n",
    "        if fk-1==b:\n",
    "            break\n",
    "        print(st)\n",
    "        \n",
    "        "
   ]
  },
  {
   "cell_type": "code",
   "execution_count": null,
   "metadata": {},
   "outputs": [],
   "source": [
    "st.index(p[0])\n",
    "\n"
   ]
  },
  {
   "cell_type": "code",
   "execution_count": null,
   "metadata": {},
   "outputs": [],
   "source": [
    "st.remove(st[0])\n",
    "st"
   ]
  },
  {
   "cell_type": "code",
   "execution_count": null,
   "metadata": {},
   "outputs": [],
   "source": [
    "st.index(p[0])"
   ]
  },
  {
   "cell_type": "code",
   "execution_count": null,
   "metadata": {},
   "outputs": [],
   "source": [
    "st.remove(st[st.index(p[0])])\n",
    "st"
   ]
  },
  {
   "cell_type": "code",
   "execution_count": null,
   "metadata": {},
   "outputs": [],
   "source": [
    "st.remove(st[st.index(p[1])])\n",
    "st"
   ]
  },
  {
   "cell_type": "code",
   "execution_count": null,
   "metadata": {},
   "outputs": [],
   "source": []
  },
  {
   "cell_type": "code",
   "execution_count": null,
   "metadata": {},
   "outputs": [],
   "source": []
  },
  {
   "cell_type": "code",
   "execution_count": 54,
   "metadata": {},
   "outputs": [
    {
     "name": "stdout",
     "output_type": "stream",
     "text": [
      "6 3\n",
      "123123\n",
      "['1', '2', '3', '1', '2', '3']\n",
      "['1', '2', '3']\n",
      "2 [2, 2]\n"
     ]
    }
   ],
   "source": [
    "a,b= input().split(\" \")\n",
    "c=int(input())\n",
    "a,b=int(a),int(b)\n",
    "\n",
    "cs=str(c)\n",
    "st=[]\n",
    "for d in cs:\n",
    "    st.append(d)\n",
    "\n",
    "print(st)\n",
    "\n",
    "p=set(st)\n",
    "\n",
    "p=list(p)\n",
    "p.sort()\n",
    "print(p)\n",
    "\n",
    "sm=0\n",
    "i=0\n",
    "de=[]\n",
    "while sm<=b:\n",
    "    sm+=st.count(p[i])\n",
    "    de.append(st.count(p[i]))\n",
    "    i+=1\n",
    "\n",
    "print(i,de)\n",
    "\n",
    "\n"
   ]
  },
  {
   "cell_type": "code",
   "execution_count": 55,
   "metadata": {},
   "outputs": [
    {
     "name": "stdout",
     "output_type": "stream",
     "text": [
      "['3', '2', '3']\n"
     ]
    }
   ],
   "source": [
    "fk=0\n",
    "for  j in range(i):\n",
    "    for pii in range(int(de[j])):\n",
    "        \n",
    "        #print(pii)\n",
    "        k1=st.index((p[j]))\n",
    "        #print(k1,fk)\n",
    "        st.remove(str(st[k1]))\n",
    "        fk+=1\n",
    "        if fk==b:\n",
    "            \n",
    "            print(st)\n",
    "            break\n",
    "        \n",
    "        "
   ]
  },
  {
   "cell_type": "code",
   "execution_count": 71,
   "metadata": {},
   "outputs": [
    {
     "name": "stdout",
     "output_type": "stream",
     "text": [
      "8 4\n",
      "95111451\n",
      "9545\n"
     ]
    }
   ],
   "source": [
    "a,b= input().split(\" \")\n",
    "c=int(input())\n",
    "a,b=int(a),int(b)\n",
    "\n",
    "cs=str(c)\n",
    "st=[]\n",
    "for d in cs:\n",
    "    st.append(d)\n",
    "\n",
    "#print(st)\n",
    "\n",
    "p=set(st)\n",
    "\n",
    "p=list(p)\n",
    "p.sort()\n",
    "#print(p)\n",
    "\n",
    "sm=0\n",
    "i=0\n",
    "de=[]\n",
    "while sm<=b:\n",
    "    sm+=st.count(p[i])\n",
    "    de.append(st.count(p[i]))\n",
    "    i+=1\n",
    "\n",
    "#print(i,de)\n",
    "\n",
    "\n",
    "fk=0\n",
    "for  j in range(i):\n",
    "    for pii in range(int(de[j])):\n",
    "        \n",
    "        #print(pii)\n",
    "        k1=st.index((p[j]))\n",
    "        #print(k1,fk)\n",
    "        st.remove(str(st[k1]))\n",
    "        fk+=1\n",
    "        if fk==b:\n",
    "            \n",
    "            #print(st)\n",
    "            prs=''\n",
    "            for r in st:\n",
    "                prs+=r\n",
    "            print(prs)\n",
    "            break\n",
    "        \n",
    "        "
   ]
  },
  {
   "cell_type": "code",
   "execution_count": null,
   "metadata": {},
   "outputs": [],
   "source": [
    "8 4\n",
    "95111451\n",
    "['9', '5', '4', '5']  ==>>> 9551"
   ]
  },
  {
   "cell_type": "code",
   "execution_count": 72,
   "metadata": {},
   "outputs": [
    {
     "name": "stdout",
     "output_type": "stream",
     "text": [
      "5 2\n",
      "10021\n",
      "121\n",
      "0 0\n"
     ]
    }
   ],
   "source": [
    "while True :\n",
    "    a,b= input().split(\" \")\n",
    "    \n",
    "    a,b=int(a),int(b)\n",
    "    if a==b==0:\n",
    "        break\n",
    "    c=int(input())\n",
    "\n",
    "    cs=str(c)\n",
    "    st=[]\n",
    "    for d in cs:\n",
    "        st.append(d)\n",
    "\n",
    "    #print(st)\n",
    "\n",
    "    p=set(st)\n",
    "\n",
    "    p=list(p)\n",
    "    p.sort()\n",
    "    #print(p)\n",
    "\n",
    "    sm=0\n",
    "    i=0\n",
    "    de=[]\n",
    "    while sm<=b:\n",
    "        sm+=st.count(p[i])\n",
    "        de.append(st.count(p[i]))\n",
    "        i+=1\n",
    "\n",
    "    #print(i,de)\n",
    "\n",
    "\n",
    "    fk=0\n",
    "    for  j in range(i):\n",
    "        for pii in range(int(de[j])):\n",
    "\n",
    "            #print(pii)\n",
    "            k1=st.index((p[j]))\n",
    "            #print(k1,fk)\n",
    "            st.remove(str(st[k1]))\n",
    "            fk+=1\n",
    "            if fk==b:\n",
    "                prs=''\n",
    "                for r in st:\n",
    "                    prs+=r\n",
    "                print(prs)\n",
    "                break\n",
    "\n",
    "        \n"
   ]
  },
  {
   "cell_type": "code",
   "execution_count": null,
   "metadata": {},
   "outputs": [],
   "source": [
    "30 10\n",
    "145276763522376489625376239619\n",
    "10 3\n",
    "9821122098\n",
    "8 4\n",
    "95111451\n",
    "40 20\n",
    "9387678903215673421345672345643212364555\n",
    "15 13\n",
    "982311121123976\n",
    "5 2\n",
    "10021\n",
    "10 3\n",
    "1000010001\n",
    "0 0\n"
   ]
  }
 ],
 "metadata": {
  "kernelspec": {
   "display_name": "Python 3",
   "language": "python",
   "name": "python3"
  },
  "language_info": {
   "codemirror_mode": {
    "name": "ipython",
    "version": 3
   },
   "file_extension": ".py",
   "mimetype": "text/x-python",
   "name": "python",
   "nbconvert_exporter": "python",
   "pygments_lexer": "ipython3",
   "version": "3.6.8"
  }
 },
 "nbformat": 4,
 "nbformat_minor": 2
}
