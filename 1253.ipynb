{
 "cells": [
  {
   "cell_type": "code",
   "execution_count": 6,
   "metadata": {},
   "outputs": [
    {
     "data": {
      "text/plain": [
       "'D'"
      ]
     },
     "execution_count": 6,
     "metadata": {},
     "output_type": "execute_result"
    }
   ],
   "source": [
    "chr((ord('A')+3))\n",
    "\n",
    "VQREQFGT\n",
    "2"
   ]
  },
  {
   "cell_type": "code",
   "execution_count": 31,
   "metadata": {},
   "outputs": [
    {
     "name": "stdout",
     "output_type": "stream",
     "text": [
      "1\n",
      "ABCDEFGHIJKLMNOPQRSTUVWXYZ\n",
      "10\n",
      "QRSTUVWXYZABCDEFGHIJKLMNOP\n"
     ]
    }
   ],
   "source": [
    "a=int(input())\n",
    "\n",
    "for i in range(a):\n",
    "    st=input()\n",
    "    sft=int(input())\n",
    "    \n",
    "    re=''\n",
    "    \n",
    "    for d in st:\n",
    "        #re=re+str(chr((ord(d)+sft)))\n",
    "        #if (ord(d)+sft)>ord('Z'):\n",
    "            #re=re+str(chr((ord(d)+(ord(d)+sft)-ord('Z'))))\n",
    "        #else:\n",
    "            #print(d,ord(d))\n",
    "        if ord(d)-sft<65:\n",
    "            re=re+str(chr((90-(64-(ord(d)-sft)))))\n",
    "        else:\n",
    "            re=re+str(chr((ord(d)-sft)))\n",
    "        #print(re)\n",
    "            #break\n",
    "    print(re)"
   ]
  },
  {
   "cell_type": "code",
   "execution_count": 13,
   "metadata": {},
   "outputs": [
    {
     "name": "stdout",
     "output_type": "stream",
     "text": [
      "\\\n"
     ]
    }
   ],
   "source": [
    "ABCDEFGHIJKLMNOPQRSTUVWXYZ\n",
    "10\n",
    "QRSTUVWXYZABCDEFGHIJKLMNOP"
   ]
  },
  {
   "cell_type": "code",
   "execution_count": 25,
   "metadata": {},
   "outputs": [
    {
     "name": "stdout",
     "output_type": "stream",
     "text": [
      "65 90\n"
     ]
    }
   ],
   "source": [
    "print(ord('A'),ord('Z'))"
   ]
  },
  {
   "cell_type": "code",
   "execution_count": null,
   "metadata": {},
   "outputs": [],
   "source": []
  }
 ],
 "metadata": {
  "kernelspec": {
   "display_name": "Python 3",
   "language": "python",
   "name": "python3"
  },
  "language_info": {
   "codemirror_mode": {
    "name": "ipython",
    "version": 3
   },
   "file_extension": ".py",
   "mimetype": "text/x-python",
   "name": "python",
   "nbconvert_exporter": "python",
   "pygments_lexer": "ipython3",
   "version": "3.6.5"
  }
 },
 "nbformat": 4,
 "nbformat_minor": 2
}
