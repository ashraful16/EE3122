{
 "cells": [
  {
   "cell_type": "code",
   "execution_count": null,
   "metadata": {},
   "outputs": [],
   "source": [
    "i=5\n"
   ]
  },
  {
   "cell_type": "code",
   "execution_count": null,
   "metadata": {},
   "outputs": [],
   "source": [
    "def isn(d):\n",
    "    stc=str(d)\n",
    "    for k in stc:\n",
    "        if k=='4':\n",
    "            return 1\n",
    "        \n",
    "        \n",
    "    for i in range(len(stc)-1):\n",
    "        if stc[i]=='1' and stc[i+1]=='3':\n",
    "            return 1\n",
    "        \n",
    "    return 0\n",
    "\n",
    "        \n",
    "        "
   ]
  },
  {
   "cell_type": "code",
   "execution_count": null,
   "metadata": {},
   "outputs": [],
   "source": [
    "for i in range(16):\n",
    "    print(i,\"==\",isn(i))"
   ]
  },
  {
   "cell_type": "code",
   "execution_count": null,
   "metadata": {},
   "outputs": [],
   "source": []
  },
  {
   "cell_type": "code",
   "execution_count": null,
   "metadata": {},
   "outputs": [],
   "source": [
    "def isn(d):\n",
    "    stc=str(d)\n",
    "    for k in stc:\n",
    "        if k=='4':\n",
    "            return 1\n",
    "        \n",
    "        \n",
    "    for i in range(len(stc)-1):\n",
    "        if stc[i]=='1' and stc[i+1]=='3':\n",
    "            return 1\n",
    "        \n",
    "    return 0\n",
    "\n",
    "        \n",
    "        \n",
    "\n",
    "while True :\n",
    "    i=(input())\n",
    "    if i==\"\":\n",
    "        break\n",
    "    i=int(i)\n",
    "    \n",
    "    j=1\n",
    "    itr=1\n",
    "    while j<=i:\n",
    "        if isn(itr)==0:\n",
    "            j+=1\n",
    "            \n",
    "        \n",
    "        itr+=1\n",
    "    print(itr-1)\n",
    "        \n",
    "\n",
    "    "
   ]
  },
  {
   "cell_type": "code",
   "execution_count": null,
   "metadata": {},
   "outputs": [],
   "source": [
    "Sample Input\tSample Output\n",
    "1\n",
    "\n",
    "\n",
    "550\n",
    "1050\n",
    "60\n",
    "30\n",
    "90\n",
    "\n",
    "\n",
    "799\n",
    "1632\n",
    "78\n",
    "35\n",
    "111\n"
   ]
  },
  {
   "cell_type": "code",
   "execution_count": null,
   "metadata": {},
   "outputs": [],
   "source": [
    "def isn(d):\n",
    "    stc=str(d)\n",
    "    for k in stc:\n",
    "        if k=='4':\n",
    "            return 1\n",
    "    for i in range(len(stc)-1):\n",
    "        if stc[i]=='1' and stc[i+1]=='3':\n",
    "            return 1\n",
    "        \n",
    "    return 0\n",
    "\n",
    "        \n",
    "        \n",
    "\n",
    "while True :\n",
    "    \n",
    "    try:\n",
    "        i=(input())\n",
    "        i=int(i)\n",
    "        j=1\n",
    "        itr=1\n",
    "        while j<=i:\n",
    "            if isn(itr)==0:\n",
    "                j+=1\n",
    "            itr+=1\n",
    "        print(itr-1)\n",
    "        \n",
    "    except :\n",
    "        break\n",
    "        \n",
    "\n",
    "    "
   ]
  },
  {
   "cell_type": "code",
   "execution_count": null,
   "metadata": {},
   "outputs": [],
   "source": []
  }
 ],
 "metadata": {
  "kernelspec": {
   "display_name": "Python 3",
   "language": "python",
   "name": "python3"
  },
  "language_info": {
   "codemirror_mode": {
    "name": "ipython",
    "version": 3
   },
   "file_extension": ".py",
   "mimetype": "text/x-python",
   "name": "python",
   "nbconvert_exporter": "python",
   "pygments_lexer": "ipython3",
   "version": "3.6.8"
  }
 },
 "nbformat": 4,
 "nbformat_minor": 2
}
