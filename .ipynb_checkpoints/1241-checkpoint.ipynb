{
 "cells": [
  {
   "cell_type": "code",
   "execution_count": 11,
   "metadata": {},
   "outputs": [
    {
     "name": "stdout",
     "output_type": "stream",
     "text": [
      "4\n",
      "56234523485723854755454545478690 78690\n",
      "encaixa\n",
      "5434554 543\n",
      "nao encaixa\n",
      "1243 1243\n",
      "encaixa\n",
      "54 64545454545454545454545454545454554\n",
      "nao encaixa\n"
     ]
    }
   ],
   "source": [
    "a=int(input())\n",
    "\n",
    "for i in range(a):\n",
    "    n1,n2=input().split(\" \")\n",
    "    k=len(n2)\n",
    "    #print(n1[len(n1)-k:],n2)\n",
    "    #print(n1[len(n1)-k:]==n2)\n",
    "    #print(int(n1[len(n1)-k:])==int(n2))\n",
    "    if int(n1[len(n1)-k:])==int(n2):\n",
    "        print(\"encaixa\")\n",
    "    else:\n",
    "        print(\"nao encaixa\")\n",
    "        "
   ]
  },
  {
   "cell_type": "code",
   "execution_count": null,
   "metadata": {},
   "outputs": [],
   "source": [
    "4\n",
    "56234523485723854755454545478690 78690\n",
    "5434554 543\n",
    "1243 1243\n",
    "54 64545454545454545454545454545454554\n",
    "\n",
    "encaixa\n",
    "nao encaixa\n",
    "encaixa\n",
    "nao encaixa"
   ]
  }
 ],
 "metadata": {
  "kernelspec": {
   "display_name": "Python 3",
   "language": "python",
   "name": "python3"
  },
  "language_info": {
   "codemirror_mode": {
    "name": "ipython",
    "version": 3
   },
   "file_extension": ".py",
   "mimetype": "text/x-python",
   "name": "python",
   "nbconvert_exporter": "python",
   "pygments_lexer": "ipython3",
   "version": "3.6.5"
  }
 },
 "nbformat": 4,
 "nbformat_minor": 2
}
