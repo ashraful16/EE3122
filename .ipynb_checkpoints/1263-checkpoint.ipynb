{
 "cells": [
  {
   "cell_type": "code",
   "execution_count": 55,
   "metadata": {},
   "outputs": [
    {
     "name": "stdout",
     "output_type": "stream",
     "text": [
      "area artic Soul Silly subway ant artic none\n",
      "2\n"
     ]
    }
   ],
   "source": [
    "c=input().split(\" \")\n",
    "\n",
    "\n",
    "\n",
    "i=0\n",
    "for d in c:\n",
    "    i+=1\n",
    "    n=0\n",
    "    for l in range(i,len(c)):\n",
    "        #print(type(d),type(c[l]))\n",
    "        if str(d.lower()[0:2])==str(c[l].lower()[0:2]):\n",
    "            n+=1\n",
    "    if n>1 and l==(len(c)-1):\n",
    "        print(n)\n",
    "            #print(d)\n",
    "        break\n",
    "if n==0:\n",
    "    \n",
    "    print(n)\n",
    "        "
   ]
  },
  {
   "cell_type": "code",
   "execution_count": 16,
   "metadata": {},
   "outputs": [
    {
     "name": "stdout",
     "output_type": "stream",
     "text": [
      "fans fans\n"
     ]
    },
    {
     "data": {
      "text/plain": [
       "True"
      ]
     },
     "execution_count": 16,
     "metadata": {},
     "output_type": "execute_result"
    }
   ],
   "source": [
    "print(d,c[l])\n",
    "d==c[l]"
   ]
  },
  {
   "cell_type": "code",
   "execution_count": 49,
   "metadata": {},
   "outputs": [
    {
     "data": {
      "text/plain": [
       "'fou'"
      ]
     },
     "execution_count": 49,
     "metadata": {},
     "output_type": "execute_result"
    }
   ],
   "source": [
    "str(d.lower()[:3])"
   ]
  },
  {
   "cell_type": "code",
   "execution_count": 78,
   "metadata": {},
   "outputs": [
    {
     "name": "stdout",
     "output_type": "stream",
     "text": [
      "There may be no alliteration in a sequence\n",
      "0\n"
     ]
    }
   ],
   "source": [
    "c=input().split(\" \")\n",
    "\n",
    "re=[1]\n",
    "\n",
    "i=0\n",
    "for d in c:\n",
    "    i+=1\n",
    "    n=1\n",
    "    for l in range(i,len(c)):\n",
    "        #print(type(d),type(c[l]))\n",
    "        qq,ss=d.lower()[0:2],c[l].lower()[0:2]\n",
    "        if str(d.lower()[0:2])==str(c[l].lower()[0:2]):\n",
    "            n+=1\n",
    "    if n>1 and l==(len(c)-1):\n",
    "        #print(n)\n",
    "            #print(d)\n",
    "        re.append(n)\n",
    "        n=0\n",
    "        #break\n",
    "        \n",
    "#print(re,max(re))\n",
    "n=max(re)\n",
    "if n>1:\n",
    "    \n",
    "    print(n)\n",
    "else:\n",
    "    print(n-1)"
   ]
  },
  {
   "cell_type": "code",
   "execution_count": 1,
   "metadata": {},
   "outputs": [
    {
     "name": "stdout",
     "output_type": "stream",
     "text": [
      "He has four fanatic fantastic fans\n",
      "3\n",
      "There may be no alliteration in a sequence\n",
      "0\n",
      "Round the rugged rock the ragged rascal ran\n",
      "3\n",
      "area artic Soul Silly subway ant artic none\n",
      "3\n",
      "\n"
     ]
    }
   ],
   "source": [
    "fc=True\n",
    "while fc==True:\n",
    "    try:\n",
    "        c=input()\n",
    "        if c==\"\":\n",
    "            fc=False\n",
    "            break\n",
    "        re=[1]\n",
    "        c=c.split(\" \")\n",
    "        i=0\n",
    "        for d in c:\n",
    "            i+=1\n",
    "            n=1\n",
    "            for l in range(i,len(c)):\n",
    "        #print(type(d),type(c[l]))\n",
    "                qq,ss=d.lower()[0:2],c[l].lower()[0:2]\n",
    "                if str(d.lower()[0:2])==str(c[l].lower()[0:2]):\n",
    "                    n+=1\n",
    "            if n>1 and l==(len(c)-1):\n",
    "        #print(n)\n",
    "            #print(d)\n",
    "                re.append(n)\n",
    "                n=0\n",
    "        #break\n",
    "        \n",
    "#print(re,max(re))\n",
    "        n=max(re)\n",
    "        if n>1:\n",
    "    \n",
    "            print(n)\n",
    "        else:\n",
    "            print(n-1)\n",
    "    except EOFError:\n",
    "        print()"
   ]
  },
  {
   "cell_type": "code",
   "execution_count": null,
   "metadata": {},
   "outputs": [
    {
     "name": "stdout",
     "output_type": "stream",
     "text": [
      "He has four fanatic fantastic fans\n",
      "2\n",
      "There may be no alliteration in a sequence\n",
      "0\n",
      "Round the rugged rock the ragged rascal ran\n",
      "2\n",
      "area artic Soul Silly subway ant artic none\n",
      "3\n",
      "\n",
      "0\n",
      "\n",
      "0\n",
      "\n",
      "0\n"
     ]
    }
   ],
   "source": [
    "while True:\n",
    "    try:\n",
    "        c = []\n",
    "        c = (input().lower()).split()\n",
    "        t = 0\n",
    "        y = 0\n",
    "        for i, j in enumerate(c):\n",
    "            c[i] = j[0]\n",
    "            if c[i] == c[i-1] and y == 0:\n",
    "                y = 1\n",
    "                t += 1\n",
    "            elif c[i] != c[i-1]:\n",
    "                y = 0\n",
    "                \n",
    "        print(t)\n",
    "        \n",
    "        \n",
    "    except EOFError:\n",
    "        break\n",
    "        "
   ]
  },
  {
   "cell_type": "code",
   "execution_count": null,
   "metadata": {},
   "outputs": [],
   "source": [
    "\n",
    "Sample Input\tSample Output\n",
    "He has four fanatic fantastic fans\n",
    "There may be no alliteration in a sequence\n",
    "Round the rugged rock the ragged rascal ran\n",
    "area artic Soul Silly subway ant artic none\n",
    "\n",
    "2\n",
    "0\n",
    "2\n",
    "3"
   ]
  }
 ],
 "metadata": {
  "kernelspec": {
   "display_name": "Python 3",
   "language": "python",
   "name": "python3"
  },
  "language_info": {
   "codemirror_mode": {
    "name": "ipython",
    "version": 3
   },
   "file_extension": ".py",
   "mimetype": "text/x-python",
   "name": "python",
   "nbconvert_exporter": "python",
   "pygments_lexer": "ipython3",
   "version": "3.6.5"
  }
 },
 "nbformat": 4,
 "nbformat_minor": 2
}
