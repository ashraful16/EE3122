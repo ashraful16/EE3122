{
 "cells": [
  {
   "cell_type": "code",
   "execution_count": 16,
   "metadata": {},
   "outputs": [
    {
     "name": "stdout",
     "output_type": "stream",
     "text": [
      "9 100 99 98 97 96 95 94 93 91\n",
      "95\n",
      "5\n",
      "0.555555555556\n"
     ]
    }
   ],
   "source": [
    "c=raw_input().split(\" \")\n",
    "c=c[1:]\n",
    "a=[]\n",
    "s=0\n",
    "for d in c:\n",
    "    a.append(int(d))\n",
    "    s+=int(d)\n",
    "av=s/len(c)\n",
    "print(av)\n",
    "\n",
    "cn=0\n",
    "\n",
    "for d in a:\n",
    "    if d>av:\n",
    "        cn+=1\n",
    "        \n",
    "print(cn)\n",
    "print(cn/float(len(c)))"
   ]
  },
  {
   "cell_type": "code",
   "execution_count": 2,
   "metadata": {},
   "outputs": [
    {
     "name": "stdout",
     "output_type": "stream",
     "text": [
      "2\n"
     ]
    }
   ],
   "source": []
  },
  {
   "cell_type": "code",
   "execution_count": 23,
   "metadata": {},
   "outputs": [
    {
     "name": "stdout",
     "output_type": "stream",
     "text": [
      "5\n",
      "5 50 50 70 80 100\n",
      "40.000%\n",
      "7 100 95 90 80 70 60 50\n",
      "57.143%\n",
      "3 70 90 80\n",
      "33.333%\n",
      "3 70 90 81\n",
      "66.667%\n",
      "9 100 99 98 97 96 95 94 93 91\n",
      "55.556%\n"
     ]
    }
   ],
   "source": [
    "for p in range(int(input())):\n",
    "    \n",
    "    \n",
    "\n",
    "    c=raw_input().split(\" \")\n",
    "    c=c[1:]\n",
    "    a=[]\n",
    "    s=0\n",
    "    for d in c:\n",
    "        a.append(int(d))\n",
    "        s+=int(d)\n",
    "    av=s/len(c)\n",
    "#print(av)\n",
    "\n",
    "    cn=0\n",
    "\n",
    "    for d in a:\n",
    "        if d>av:\n",
    "            cn+=1\n",
    "        \n",
    "    \n",
    "    k=(cn/float(len(c)))*100\n",
    "    l=str(\"%.3f\"%k)+str('%')\n",
    "    print(l)"
   ]
  },
  {
   "cell_type": "code",
   "execution_count": null,
   "metadata": {},
   "outputs": [],
   "source": [
    "Sample Input\tSample Output\n",
    "5\n",
    "5 50 50 70 80 100\n",
    "7 100 95 90 80 70 60 50\n",
    "3 70 90 80\n",
    "3 70 90 81\n",
    "9 100 99 98 97 96 95 94 93 91\n",
    "\n",
    "40.000%\n",
    "57.143%\n",
    "33.333%\n",
    "66.667%\n",
    "55.556%"
   ]
  }
 ],
 "metadata": {
  "kernelspec": {
   "display_name": "Python 2",
   "language": "python",
   "name": "python2"
  },
  "language_info": {
   "codemirror_mode": {
    "name": "ipython",
    "version": 2
   },
   "file_extension": ".py",
   "mimetype": "text/x-python",
   "name": "python",
   "nbconvert_exporter": "python",
   "pygments_lexer": "ipython2",
   "version": "2.7.12"
  }
 },
 "nbformat": 4,
 "nbformat_minor": 2
}
