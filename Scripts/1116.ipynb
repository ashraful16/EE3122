{
 "cells": [
  {
   "cell_type": "code",
   "execution_count": 4,
   "metadata": {},
   "outputs": [
    {
     "name": "stdout",
     "output_type": "stream",
     "text": [
      "3\n",
      "1 0\n",
      "2 3\n",
      "5 6\n",
      "[10.012034, 0.6666666666666666, 0.8333333333333334]\n",
      "divisao impossivel\n",
      "0.7\n",
      "0.8\n"
     ]
    }
   ],
   "source": [
    "c=int(input())\n",
    "i=0\n",
    "def divop(a,b):\n",
    "    if b == 0:\n",
    "        return 10.0120340\n",
    "    else:\n",
    "        return float(a/b)\n",
    "\n",
    "result=[]\n",
    "while i<c:\n",
    "    inp=raw_input()\n",
    "    inp=inp.split(\" \")\n",
    "    x,y=float(inp[0]),float(inp[1])\n",
    "    kk=divop(x,y)\n",
    "    result.append(kk)\n",
    "    i+=1\n",
    "\n",
    "\n",
    "for d in result:\n",
    "    if d == 10.0120340:\n",
    "        print \"divisao impossivel\"\n",
    "    else:\n",
    "        print \"%.1f\"%d"
   ]
  },
  {
   "cell_type": "code",
   "execution_count": null,
   "metadata": {},
   "outputs": [],
   "source": []
  }
 ],
 "metadata": {
  "kernelspec": {
   "display_name": "Python 2",
   "language": "python",
   "name": "python2"
  },
  "language_info": {
   "codemirror_mode": {
    "name": "ipython",
    "version": 2
   },
   "file_extension": ".py",
   "mimetype": "text/x-python",
   "name": "python",
   "nbconvert_exporter": "python",
   "pygments_lexer": "ipython2",
   "version": "2.7.12"
  }
 },
 "nbformat": 4,
 "nbformat_minor": 2
}
