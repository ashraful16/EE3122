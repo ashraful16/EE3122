{
 "cells": [
  {
   "cell_type": "code",
   "execution_count": null,
   "metadata": {},
   "outputs": [],
   "source": [
    "salario = float(raw_input())\n",
    "\n",
    "if(salario > 0 and salario <= 2000):\n",
    "    print \"Isento\"\n",
    "elif(salario > 2000 and salario <= 3000):\n",
    "    resto = salario - 2000\n",
    "    resultado = resto * 0.08\n",
    "    print \"R$ %.2f\" %resultado\n",
    "elif(salario > 3000 and salario < 4500):\n",
    "    resto = salario - 3000\n",
    "    resultado = (resto * 0.18) + (1000 * 0.08)\n",
    "    print \"R$ %.2f\" %resultado\n",
    "else:\n",
    "    resto = salario - 4500\n",
    "    resultado = (resto * 0.28) + (1500 * 0.18) + (1000 * 0.08)\n",
    "    print \"R$ %.2f\" %resultado"
   ]
  }
 ],
 "metadata": {
  "kernelspec": {
   "display_name": "Python 2",
   "language": "python",
   "name": "python2"
  },
  "language_info": {
   "codemirror_mode": {
    "name": "ipython",
    "version": 2
   },
   "file_extension": ".py",
   "mimetype": "text/x-python",
   "name": "python",
   "nbconvert_exporter": "python",
   "pygments_lexer": "ipython2",
   "version": "2.7.12"
  }
 },
 "nbformat": 4,
 "nbformat_minor": 2
}
