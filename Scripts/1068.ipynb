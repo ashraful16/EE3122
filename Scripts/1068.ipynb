{
 "cells": [
  {
   "cell_type": "code",
   "execution_count": 4,
   "metadata": {},
   "outputs": [
    {
     "data": {
      "text/plain": [
       "(40, 41)"
      ]
     },
     "execution_count": 4,
     "metadata": {},
     "output_type": "execute_result"
    }
   ],
   "source": [
    "ord('('),ord(\")\")"
   ]
  },
  {
   "cell_type": "code",
   "execution_count": 2,
   "metadata": {},
   "outputs": [
    {
     "name": "stdout",
     "output_type": "stream",
     "text": [
      "(x+y))((x-y)\n",
      "correct\n",
      "\n"
     ]
    }
   ],
   "source": [
    "while True:\n",
    "    try:\n",
    "        a=raw_input()\n",
    "        if len(a)==0:\n",
    "            break\n",
    "        sb,eb=0,0\n",
    "        a=True\n",
    "        for d in a:\n",
    "            if ord(d)==40 and a==True:\n",
    "                sb+=1\n",
    "                \n",
    "            if ord(d)==41:\n",
    "                eb+=1\n",
    "            \n",
    "        if sb==eb:\n",
    "            print(\"correct\")\n",
    "        else:\n",
    "            print(\"incorrect\")\n",
    "    except:\n",
    "        break"
   ]
  },
  {
   "cell_type": "code",
   "execution_count": null,
   "metadata": {},
   "outputs": [],
   "source": [
    "\n",
    "Input Sample\tOutput Sample\n",
    "a+(b*c)-2-a \n",
    "(a+b*(2-c)-2+a)*2 \n",
    "(a*b-(2+c) \n",
    "2*(3-a))  \n",
    ")3+b*(2-c)( \n",
    "\n",
    "correct\n",
    "\n",
    "correct\n",
    "\n",
    "incorrect\n",
    "\n",
    "incorrect\n",
    "\n",
    "incorrect"
   ]
  },
  {
   "cell_type": "code",
   "execution_count": 9,
   "metadata": {},
   "outputs": [
    {
     "name": "stdout",
     "output_type": "stream",
     "text": [
      "(x+y))((x-y)\n",
      "())(()\n",
      "correct\n",
      "\n"
     ]
    }
   ],
   "source": [
    "while True:\n",
    "    try:\n",
    "        a=raw_input()\n",
    "        if len(a)==0:\n",
    "            break\n",
    "        k=\"\"\n",
    "        for d in a:\n",
    "            if ord(d)==40 or ord(d)==41:\n",
    "                k=k+str(d)\n",
    "        print(k)\n",
    "        p=len(k)/2\n",
    "        \n",
    "        #if p%2==0 and k[:p]==k[p:]\n",
    "        if sb==eb:\n",
    "            print(\"correct\")\n",
    "        else:\n",
    "            print(\"incorrect\")\n",
    "    except:\n",
    "        break"
   ]
  },
  {
   "cell_type": "code",
   "execution_count": 15,
   "metadata": {},
   "outputs": [
    {
     "data": {
      "text/plain": [
       "(True, '())', '(()')"
      ]
     },
     "execution_count": 15,
     "metadata": {},
     "output_type": "execute_result"
    }
   ],
   "source": [
    "len(k)%2==0, k[:p],k[p:]"
   ]
  },
  {
   "cell_type": "code",
   "execution_count": 19,
   "metadata": {},
   "outputs": [
    {
     "name": "stdout",
     "output_type": "stream",
     "text": [
      "incorrect\n"
     ]
    }
   ],
   "source": [
    "fo=0\n",
    "for i in range(0,len(k)-1):\n",
    "    if k[i]==k[i+1]:\n",
    "        fo=1\n",
    "        print(\"incorrect\")\n",
    "        break\n",
    "        \n",
    "if fo==True:\n",
    "    print(\"correct\")\n"
   ]
  },
  {
   "cell_type": "code",
   "execution_count": 18,
   "metadata": {},
   "outputs": [
    {
     "data": {
      "text/plain": [
       "'())(()'"
      ]
     },
     "execution_count": 18,
     "metadata": {},
     "output_type": "execute_result"
    }
   ],
   "source": [
    "k"
   ]
  },
  {
   "cell_type": "code",
   "execution_count": 28,
   "metadata": {},
   "outputs": [
    {
     "name": "stdout",
     "output_type": "stream",
     "text": [
      "\n"
     ]
    }
   ],
   "source": [
    "while True:\n",
    "    try:\n",
    "        a=raw_input()\n",
    "        if len(a)==0:\n",
    "            break\n",
    "        \n",
    "        k=\"\"\n",
    "        for d in a:\n",
    "            if ord(d)==40 or ord(d)==41:\n",
    "                k=k+str(d)\n",
    "        #print(k)\n",
    "        #p=len(k)/2\n",
    "        \n",
    "        fo=0\n",
    "        for i in range(0,len(k)-1):\n",
    "            if k[i]==k[i+1] and (len(k)%2==0):\n",
    "                fo=1\n",
    "                print(\"incorrect\")\n",
    "                break\n",
    "     \n",
    "        if len(a)%2 !=0:\n",
    "            print(\"incorrect\")\n",
    "        elif k[0]==\")\":\n",
    "            print(\"incorrect\")\n",
    "        elif fo==0:\n",
    "            print(\"correct\")\n",
    "    except:\n",
    "        break"
   ]
  },
  {
   "cell_type": "code",
   "execution_count": 38,
   "metadata": {},
   "outputs": [
    {
     "name": "stdout",
     "output_type": "stream",
     "text": [
      "())(\n",
      "correct\n",
      "\n"
     ]
    }
   ],
   "source": [
    "while True:\n",
    "    try:\n",
    "        a=raw_input()\n",
    "        if len(a)==0:\n",
    "            break\n",
    "        \n",
    "        k=\"\"\n",
    "        for d in a:\n",
    "            if ord(d)==40 or ord(d)==41:\n",
    "                k=k+str(d)\n",
    "        #print(k)\n",
    "        #p=len(k)/2\n",
    "        \n",
    "        k1=[p1 for p1 in k if ord(p1)==40]\n",
    "        k2=[p1 for p1 in k if ord(p1)==41]\n",
    "        if len(a)%2 !=0:\n",
    "            print(\"incorrect\")\n",
    "        elif k[0]==\")\":\n",
    "            print(\"incorrect\")\n",
    "        elif len(k1)==len(k2):\n",
    "            print(\"correct\")\n",
    "    except:\n",
    "        break"
   ]
  },
  {
   "cell_type": "code",
   "execution_count": 1,
   "metadata": {},
   "outputs": [
    {
     "name": "stdout",
     "output_type": "stream",
     "text": [
      "(()())\n",
      "(\n",
      "((\n",
      "(\n",
      "((\n",
      "(\n",
      "\n",
      "correct\n",
      ")(\n",
      "\n",
      "(\n",
      "incorrect\n",
      "()()\n",
      "(\n",
      "\n",
      "(\n",
      "\n",
      "correct\n",
      "\n"
     ]
    }
   ],
   "source": [
    "while True:\n",
    "    try:\n",
    "        a=raw_input()\n",
    "        if len(a)==0:\n",
    "            break\n",
    "        \n",
    "        k=\"\"\n",
    "        for d in a:\n",
    "            if ord(d)==40 :\n",
    "                k=k+str(d)\n",
    "            elif  ord(d)==41:\n",
    "                k=k[:len(k)-1]\n",
    "            \n",
    "            print k\n",
    "        \n",
    "        if len(a)%2 !=0:\n",
    "            print(\"incorrect\")\n",
    "        elif len(k)>0:\n",
    "            print(\"incorrect\")\n",
    "        elif a[0]==\")\":\n",
    "            print(\"incorrect\")\n",
    "        else:\n",
    "            print(\"correct\")\n",
    "        \n",
    "        \n",
    "    except:\n",
    "        break"
   ]
  },
  {
   "cell_type": "code",
   "execution_count": 10,
   "metadata": {},
   "outputs": [
    {
     "name": "stdout",
     "output_type": "stream",
     "text": [
      "()\n",
      "correct\n",
      "(\n",
      "incorrect\n",
      ")\n",
      "incorrect\n",
      "(())\n",
      "correct\n",
      "()()\n",
      "correct\n",
      "((())\n",
      "incorrect\n",
      "\n"
     ]
    }
   ],
   "source": [
    "\n",
    "from pythonds.basic.stack import Stack\n",
    "\n",
    "def parChecker(symbolString):\n",
    "    s = Stack()\n",
    "    balanced = True\n",
    "    index = 0\n",
    "    while index < len(symbolString) and balanced:\n",
    "        symbol = symbolString[index]\n",
    "        if symbol == \"(\":\n",
    "            s.push(symbol)\n",
    "        else:\n",
    "            if s.isEmpty():\n",
    "                balanced = False\n",
    "            else:\n",
    "                s.pop()\n",
    "\n",
    "        index = index + 1\n",
    "\n",
    "    if balanced and s.isEmpty():\n",
    "        return True\n",
    "    else:\n",
    "        return False\n",
    "\n",
    "\n",
    "while True:\n",
    "    try:\n",
    "        a=raw_input()\n",
    "        if len(a)==0:\n",
    "            break\n",
    "        else:\n",
    "            k=parChecker(a)\n",
    "            if k==True:\n",
    "                print('correct')\n",
    "            else:\n",
    "                print('incorrect')\n",
    "        \n",
    "    except:\n",
    "        break\n"
   ]
  },
  {
   "cell_type": "code",
   "execution_count": 7,
   "metadata": {},
   "outputs": [],
   "source": [
    "\n",
    "from pythonds.basic.stack import Stack\n"
   ]
  },
  {
   "cell_type": "code",
   "execution_count": 5,
   "metadata": {},
   "outputs": [],
   "source": [
    "import pythonds"
   ]
  },
  {
   "cell_type": "code",
   "execution_count": null,
   "metadata": {},
   "outputs": [],
   "source": []
  }
 ],
 "metadata": {
  "kernelspec": {
   "display_name": "Python 2",
   "language": "python",
   "name": "python2"
  },
  "language_info": {
   "codemirror_mode": {
    "name": "ipython",
    "version": 2
   },
   "file_extension": ".py",
   "mimetype": "text/x-python",
   "name": "python",
   "nbconvert_exporter": "python",
   "pygments_lexer": "ipython2",
   "version": "2.7.12"
  }
 },
 "nbformat": 4,
 "nbformat_minor": 2
}
