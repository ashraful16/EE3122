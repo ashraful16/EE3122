{
 "cells": [
  {
   "cell_type": "code",
   "execution_count": 6,
   "metadata": {},
   "outputs": [
    {
     "name": "stdout",
     "output_type": "stream",
     "text": [
      "4\n",
      "900775 9.4\n",
      "999999 9.9\n",
      "10022 9.7\n",
      "441002 9.8\n",
      "999999\n"
     ]
    }
   ],
   "source": [
    "a,b=[],[]\n",
    "for j in range(int(input())):\n",
    "    a1,b1=raw_input().split(\" \")\n",
    "    a.append(a1)\n",
    "    b.append(b1)\n",
    "    \n",
    "i=0\n",
    "tm=0\n",
    "pos=0\n",
    "for d in b:\n",
    "    \n",
    "    if float(d)>=8 and float(d) >tm:\n",
    "        tm=float(d)\n",
    "        pos=i\n",
    "    i+=1\n",
    "if tm>0:\n",
    "    print(a[pos])\n",
    "else:\n",
    "    print(\"Minimum note not reached\")"
   ]
  },
  {
   "cell_type": "code",
   "execution_count": null,
   "metadata": {},
   "outputs": [],
   "source": [
    "4\n",
    "\n",
    "900775 9.4\n",
    "\n",
    "999999 9.9\n",
    "\n",
    "10022 9.7\n",
    "\n",
    "441002 9.8\n",
    "\n",
    "999999"
   ]
  },
  {
   "cell_type": "code",
   "execution_count": 3,
   "metadata": {},
   "outputs": [
    {
     "name": "stdout",
     "output_type": "stream",
     "text": [
      "1001\n"
     ]
    }
   ],
   "source": []
  },
  {
   "cell_type": "code",
   "execution_count": null,
   "metadata": {},
   "outputs": [],
   "source": []
  }
 ],
 "metadata": {
  "kernelspec": {
   "display_name": "Python 2",
   "language": "python",
   "name": "python2"
  },
  "language_info": {
   "codemirror_mode": {
    "name": "ipython",
    "version": 2
   },
   "file_extension": ".py",
   "mimetype": "text/x-python",
   "name": "python",
   "nbconvert_exporter": "python",
   "pygments_lexer": "ipython2",
   "version": "2.7.12"
  }
 },
 "nbformat": 4,
 "nbformat_minor": 2
}
