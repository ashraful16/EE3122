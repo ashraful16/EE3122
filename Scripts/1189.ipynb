{
 "cells": [
  {
   "cell_type": "code",
   "execution_count": null,
   "metadata": {},
   "outputs": [],
   "source": [
    "stri=raw_input()\n",
    "l=5\n",
    "summ,pp=0,0\n",
    "\n",
    "r,c=0,0\n",
    "for i in range(l*l):\n",
    "\n",
    "    d=float(raw_input())\n",
    "    if r>c and r<=(l-1)/2:\n",
    "        summ=summ+float(d)\n",
    "    if c<r and r>(l-1)/2:\n",
    "        summ=summ+float(d)\n",
    "    pp+=1\n",
    "    c+=1\n",
    "    if c>l-1:\n",
    "        r,c=r+1,0\n",
    "    \n",
    "if stri ==\"S\":\n",
    "    print \"%.1f\"%summ\n",
    "elif stri ==\"M\":\n",
    "    num=float(l*l-l*.5*(l+1))\n",
    "    print \"%.1f\"%(summ/float(pp))"
   ]
  },
  {
   "cell_type": "code",
   "execution_count": null,
   "metadata": {},
   "outputs": [],
   "source": [
    "(4-1)/2"
   ]
  },
  {
   "cell_type": "code",
   "execution_count": null,
   "metadata": {},
   "outputs": [],
   "source": []
  },
  {
   "cell_type": "code",
   "execution_count": 1,
   "metadata": {},
   "outputs": [
    {
     "name": "stdout",
     "output_type": "stream",
     "text": [
      "[[1, 1, 1, 1, 1, 1, 1, 1], [1, 1, 1, 1, 1, 1, 1], [1, 1, 1, 1, 1, 1], [1, 1, 1, 1, 1], [1, 1, 1, 1], [1, 1, 1], [1, 1], [1]]\n",
      "\n",
      "\n"
     ]
    }
   ],
   "source": [
    "import numpy as np\n",
    "def recur(f,kk,m,x):\n",
    "    e=kk\n",
    "    #g=1\n",
    "    k=e-1\n",
    "    m=m+1\n",
    "    #g=g+1\n",
    "    if e<=2:\n",
    "        print(x)\n",
    "        print(\"\\n\")\n",
    "    elif e>2:\n",
    "        for i in range(f,k):\n",
    "            for j in range(f,k):\n",
    "                x[i][j]=m\n",
    "        \n",
    "        print(f,k,m)\n",
    "        #print(x)\n",
    "        if k-f==2:\n",
    "            print(x)\n",
    "        else:\n",
    "            #print(x)\n",
    "            return recur(f+1,kk-1,m,x)\n",
    "        \n",
    "    \n",
    "    \n",
    "i=8\n",
    "foo=1\n",
    "y = [[foo for i in range(i)] for j in range(i)]\n",
    "#y=np.ones((i,i))\n",
    "#print(recur(1,i,1))\n",
    "a=recur(1,i,1,y)"
   ]
  },
  {
   "cell_type": "code",
   "execution_count": null,
   "metadata": {},
   "outputs": [],
   "source": []
  }
 ],
 "metadata": {
  "kernelspec": {
   "display_name": "Python 2",
   "language": "python",
   "name": "python2"
  },
  "language_info": {
   "codemirror_mode": {
    "name": "ipython",
    "version": 2
   },
   "file_extension": ".py",
   "mimetype": "text/x-python",
   "name": "python",
   "nbconvert_exporter": "python",
   "pygments_lexer": "ipython2",
   "version": "2.7.12"
  }
 },
 "nbformat": 4,
 "nbformat_minor": 2
}
