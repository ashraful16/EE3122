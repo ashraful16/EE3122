{
 "cells": [
  {
   "cell_type": "code",
   "execution_count": 2,
   "metadata": {},
   "outputs": [
    {
     "name": "stdout",
     "output_type": "stream",
     "text": [
      "1 7\n",
      "5 9\n",
      "4.4721\n"
     ]
    }
   ],
   "source": [
    "from math import *\n",
    "p1=raw_input()\n",
    "p1=p1.split(\" \")\n",
    "x1,y1=float(p1[0]),float(p1[1])\n",
    "p2=raw_input()\n",
    "p2=p2.split(\" \")\n",
    "x2,y2=float(p2[0]),float(p2[1])\n",
    "\n",
    "d=sqrt((x1-x2)**2+(y1-y2)**2)\n",
    "print \"%.4f\"%d"
   ]
  },
  {
   "cell_type": "code",
   "execution_count": null,
   "metadata": {},
   "outputs": [],
   "source": []
  }
 ],
 "metadata": {
  "kernelspec": {
   "display_name": "Python 2",
   "language": "python",
   "name": "python2"
  },
  "language_info": {
   "codemirror_mode": {
    "name": "ipython",
    "version": 2
   },
   "file_extension": ".py",
   "mimetype": "text/x-python",
   "name": "python",
   "nbconvert_exporter": "python",
   "pygments_lexer": "ipython2",
   "version": "2.7.12"
  }
 },
 "nbformat": 4,
 "nbformat_minor": 2
}
