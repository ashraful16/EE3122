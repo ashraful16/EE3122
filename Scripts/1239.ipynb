{
 "cells": [
  {
   "cell_type": "code",
   "execution_count": 18,
   "metadata": {},
   "outputs": [
    {
     "name": "stdout",
     "output_type": "stream",
     "text": [
      "**********__________**********__________*_*_*_*___\n",
      "<b></b><b></b><b></b><b></b><b></b><i></i><i></i><i></i><i></i><i></i><b></b><b></b><b></b><b></b><b></b><i></i><i></i><i></i><i></i><i></i><b><i></b></i><b><i></b></i><i></i>\n"
     ]
    }
   ],
   "source": [
    "c=raw_input()\n",
    "ot=\"\"\n",
    "i,j=0,0\n",
    "m=True\n",
    "for da in c:\n",
    "    \n",
    "    if da==\"_\" and i==0:\n",
    "        ot=ot+str('<i>')\n",
    "        i=1\n",
    "    elif da==\"_\" and i==1:\n",
    "        ot=ot+str('</i>')\n",
    "        i=0\n",
    "    elif da != \"*\":\n",
    "        ot=ot+str(da)\n",
    "        m=False\n",
    "        \n",
    "        \n",
    "    if da==\"*\" and j==0:\n",
    "        ot=ot+str('<b>')\n",
    "        j=1\n",
    "    elif da==\"*\" and j==1:\n",
    "        ot=ot+str('</b>')\n",
    "        j=0\n",
    "    elif da!=\"_\" and m==True:\n",
    "        ot=ot+str(da)\n",
    "        \n",
    "        \n",
    "print(ot)\n",
    "        \n",
    "        "
   ]
  },
  {
   "cell_type": "code",
   "execution_count": null,
   "metadata": {},
   "outputs": [],
   "source": [
    "no changes\n",
    "\n",
    "*_ch-ch-ch-chaaaaaanges_*\n",
    "_*testo_*\n",
    "**********__________**********__________*_*_*_*___\n",
    "\n",
    "\n",
    "\n",
    "no changes\n",
    "\n",
    "<b><i>ch-ch-ch-chaaaaaanges</i></b>\n",
    "<i><b>testo</i></b>\n",
    "<b></b><b></b><b></b><b></b><b></b><i></i><i></i><i></i><i>\n",
    "</i><i></i><b></b><b></b><b></b><b></b><b></b><i></i><i></i>\n",
    "<i></i><i></i><i></i><b><i></b></i><b><i></b></i><i></i>"
   ]
  },
  {
   "cell_type": "code",
   "execution_count": null,
   "metadata": {},
   "outputs": [
    {
     "name": "stdout",
     "output_type": "stream",
     "text": [
      "_ _ __ _ yabba dabba _ * dooooo * ****\n",
      "<i> </i> <i></i> <i> yabba dabba </i> <b> dooooo </b> <b></b><b></b>\n",
      "\n",
      "\n",
      "\n",
      "\n"
     ]
    }
   ],
   "source": [
    "while True:\n",
    "    try:\n",
    "        c=raw_input()\n",
    "        ot=\"\"\n",
    "        i,j=0,0\n",
    "        m=True\n",
    "        for da in c:\n",
    "    \n",
    "            if da==\"_\" and i==0:\n",
    "                ot=ot+str('<i>')\n",
    "                i=1\n",
    "            elif da==\"_\" and i==1:\n",
    "                ot=ot+str('</i>')\n",
    "                i=0\n",
    "            elif da != \"*\":\n",
    "                ot=ot+str(da)\n",
    "                m=False\n",
    "        \n",
    "        \n",
    "            if da==\"*\" and j==0:\n",
    "                ot=ot+str('<b>')\n",
    "                j=1\n",
    "            elif da==\"*\" and j==1:\n",
    "                ot=ot+str('</b>')\n",
    "                j=0\n",
    "            elif da!=\"_\" and m==True:\n",
    "                ot=ot+str(da)\n",
    "        \n",
    "        \n",
    "        print(ot)\n",
    "    except:\n",
    "        #print(\"\")\n",
    "        break\n",
    "        \n",
    "        "
   ]
  },
  {
   "cell_type": "code",
   "execution_count": null,
   "metadata": {},
   "outputs": [],
   "source": []
  }
 ],
 "metadata": {
  "kernelspec": {
   "display_name": "Python 2",
   "language": "python",
   "name": "python2"
  },
  "language_info": {
   "codemirror_mode": {
    "name": "ipython",
    "version": 2
   },
   "file_extension": ".py",
   "mimetype": "text/x-python",
   "name": "python",
   "nbconvert_exporter": "python",
   "pygments_lexer": "ipython2",
   "version": "2.7.12"
  }
 },
 "nbformat": 4,
 "nbformat_minor": 2
}
