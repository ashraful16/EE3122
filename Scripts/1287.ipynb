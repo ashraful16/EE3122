{
 "cells": [
  {
   "cell_type": "code",
   "execution_count": null,
   "metadata": {},
   "outputs": [],
   "source": [
    "def check(a):\n",
    "    try:\n",
    "        b=a.replace('l','1')\n",
    "        c=b.replace('o','0')\n",
    "        c=c.replace('O','0')\n",
    "        d=c.replace(',','')\n",
    "        d=d.replace(' ','')\n",
    "        d=int(d)\n",
    "        if d < 2147483648 and d>=0:\n",
    "#             print(d)\n",
    "            return d\n",
    "        else:\n",
    "#             print('error')\n",
    "            return 'error'\n",
    "    except:\n",
    "#         print('error')\n",
    "        return 'error'\n",
    "    \n",
    "\n",
    "while True:\n",
    "    try:\n",
    "        inp=input()\n",
    "        pr=check(inp)\n",
    "        print(pr)\n",
    "    except EOFError:\n",
    "        break"
   ]
  }
 ],
 "metadata": {
  "kernelspec": {
   "display_name": "Python 3",
   "language": "python",
   "name": "python3"
  },
  "language_info": {
   "codemirror_mode": {
    "name": "ipython",
    "version": 3
   },
   "file_extension": ".py",
   "mimetype": "text/x-python",
   "name": "python",
   "nbconvert_exporter": "python",
   "pygments_lexer": "ipython3",
   "version": "3.7.4"
  }
 },
 "nbformat": 4,
 "nbformat_minor": 4
}
