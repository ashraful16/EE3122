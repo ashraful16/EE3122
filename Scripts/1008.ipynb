{
 "cells": [
  {
   "cell_type": "code",
   "execution_count": 1,
   "metadata": {},
   "outputs": [
    {
     "name": "stdout",
     "output_type": "stream",
     "text": [
      "25\n",
      "100\n",
      "5.5\n",
      "NUMBER = 25\n",
      "SALARY = U$ 550.00\n"
     ]
    }
   ],
   "source": [
    "A=int(input())\n",
    "B=int(input())\n",
    "C=float(input())\n",
    "\n",
    "e=B*C\n",
    "print \"NUMBER = %d\"%A\n",
    "print \"SALARY = U$ %.2f\"%e"
   ]
  },
  {
   "cell_type": "code",
   "execution_count": null,
   "metadata": {},
   "outputs": [],
   "source": []
  }
 ],
 "metadata": {
  "kernelspec": {
   "display_name": "Python 2",
   "language": "python",
   "name": "python2"
  },
  "language_info": {
   "codemirror_mode": {
    "name": "ipython",
    "version": 2
   },
   "file_extension": ".py",
   "mimetype": "text/x-python",
   "name": "python",
   "nbconvert_exporter": "python",
   "pygments_lexer": "ipython2",
   "version": "2.7.12"
  }
 },
 "nbformat": 4,
 "nbformat_minor": 2
}
