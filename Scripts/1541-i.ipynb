{
 "cells": [
  {
   "cell_type": "code",
   "execution_count": 12,
   "metadata": {},
   "outputs": [
    {
     "name": "stdout",
     "output_type": "stream",
     "text": [
      "8 10 20\n",
      "20\n",
      "1 10 100\n",
      "3\n",
      "10 3 100\n",
      "5\n",
      "0\n"
     ]
    }
   ],
   "source": [
    "from math import *\n",
    "c=True\n",
    "while 1:\n",
    "\tk=raw_input()\n",
    "\tk=k.split(\" \")\n",
    "\tif len(k)==1:\n",
    "\t\tbreak\n",
    "\ta,b,c=float(k[0]),float(k[1]),float(k[2])\n",
    "\td=a*b\n",
    "\te=(d*100)/c\n",
    "\tf=sqrt(e)\n",
    "\tprint \"%d\"%f"
   ]
  },
  {
   "cell_type": "code",
   "execution_count": null,
   "metadata": {},
   "outputs": [],
   "source": [
    "\n",
    "Sample Input\tSample Output\n",
    "8 10 20\n",
    "1 10 100\n",
    "10 3 100\n",
    "0\n",
    "\n",
    "20\n",
    "3\n",
    "5"
   ]
  }
 ],
 "metadata": {
  "kernelspec": {
   "display_name": "Python 2",
   "language": "python",
   "name": "python2"
  },
  "language_info": {
   "codemirror_mode": {
    "name": "ipython",
    "version": 2
   },
   "file_extension": ".py",
   "mimetype": "text/x-python",
   "name": "python",
   "nbconvert_exporter": "python",
   "pygments_lexer": "ipython2",
   "version": "2.7.12"
  }
 },
 "nbformat": 4,
 "nbformat_minor": 2
}
