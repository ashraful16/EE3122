{
 "cells": [
  {
   "cell_type": "code",
   "execution_count": null,
   "metadata": {},
   "outputs": [],
   "source": [
    "x=int(input())\n",
    "j=x/100\n",
    "k=x%100\n",
    "l,m,p,r,s,pp=0,0,0,0,0,0\n",
    "if k >49 :\n",
    "    l=k/50\n",
    "c=x-j*100-50*l\n",
    "\n",
    "if c > 19:\n",
    "    m=c/20\n",
    "c=x-j*100-50*l-m*20\n",
    "if c > 9:\n",
    "    pp=c/10\n",
    "c=x-j*100-50*l-m*20-pp*10\n",
    "if c > 4:\n",
    "    p=c/5\n",
    "c=x-j*100-50*l-m*20-p*5-pp*10\n",
    "if c>1:\n",
    "    r=c/2\n",
    "c=x-j*100-50*l-m*20-p*5-r*2-pp*10\n",
    "if c >0:\n",
    "    s=c\n",
    "see=j*100+l*50+m*20+p*5+r*2+c+pp*10\n",
    "print \"%d nota(s) de R$ 100,00\"%j\n",
    "print \"%d nota(s) de R$ 50,00\"%l\n",
    "print \"%d nota(s) de R$ 20,00\"%m\n",
    "print \"%d nota(s) de R$ 10,00\"%pp\n",
    "print \"%d nota(s) de R$ 5,00\"%p\n",
    "print \"%d nota(s) de R$ 2,00\"%r\n",
    "print \"%d nota(s) de R$ 1,00\"%s\n",
    "\n",
    "print \"see \",see,\"\\n\"\n",
    "print j,\"  \",l,\"  \",m,\"  \",pp,\"  \",p,\" \",r,\"  \",s"
   ]
  },
  {
   "cell_type": "code",
   "execution_count": null,
   "metadata": {},
   "outputs": [],
   "source": [
    "In this problem you have to read an integer value and calculate the smallest possible\n",
    "number of banknotes in which the value may be decomposed. The possible banknotes are \n",
    "100, 50, 20, 10, 5, 2 e 1. Print the read value and the list of banknotes."
   ]
  },
  {
   "cell_type": "code",
   "execution_count": null,
   "metadata": {},
   "outputs": [],
   "source": [
    "576\n",
    "5 nota(s) de R$ 100,00\n",
    "1 nota(s) de R$ 50,00\n",
    "1 nota(s) de R$ 20,00\n",
    "0 nota(s) de R$ 10,00\n",
    "1 nota(s) de R$ 5,00\n",
    "0 nota(s) de R$ 2,00\n",
    "1 nota(s) de R$ 1,00"
   ]
  },
  {
   "cell_type": "code",
   "execution_count": 4,
   "metadata": {},
   "outputs": [
    {
     "name": "stdout",
     "output_type": "stream",
     "text": [
      "580\n",
      "580\n",
      "5 nota(s) de R$ 100,00\n",
      "1 nota(s) de R$ 50,00\n",
      "1 nota(s) de R$ 20,00\n",
      "1 nota(s) de R$ 10,00\n",
      "0 nota(s) de R$ 5,00\n",
      "0 nota(s) de R$ 2,00\n",
      "0 nota(s) de R$ 1,00\n"
     ]
    }
   ],
   "source": [
    "x=input()\n",
    "j=x/100\n",
    "k=x%100\n",
    "l,m,p,r,s,pp=0,0,0,0,0,0\n",
    "if k >49 :\n",
    "    l=k/50\n",
    "c=x-j*100-50*l\n",
    "\n",
    "if c > 19:\n",
    "    m=c/20\n",
    "c=x-j*100-50*l-m*20\n",
    "if c > 9:\n",
    "    pp=c/10\n",
    "c=x-j*100-50*l-m*20-pp*10\n",
    "if c > 4:\n",
    "    p=c/5\n",
    "c=x-j*100-50*l-m*20-p*5-pp*10\n",
    "if c>1:\n",
    "    r=c/2\n",
    "c=x-j*100-50*l-m*20-p*5-r*2-pp*10\n",
    "if c >0:\n",
    "    s=c\n",
    "print \"%d\"%x\n",
    "print \"%d nota(s) de R$ 100,00\"%j\n",
    "print \"%d nota(s) de R$ 50,00\"%l\n",
    "print \"%d nota(s) de R$ 20,00\"%m\n",
    "print \"%d nota(s) de R$ 10,00\"%pp\n",
    "print \"%d nota(s) de R$ 5,00\"%p\n",
    "print \"%d nota(s) de R$ 2,00\"%r\n",
    "print \"%d nota(s) de R$ 1,00\"%s\n"
   ]
  },
  {
   "cell_type": "code",
   "execution_count": null,
   "metadata": {},
   "outputs": [],
   "source": [
    "\n",
    "11257\n",
    "\n",
    "11257\n",
    "112 nota(s) de R$ 100,00\n",
    "1 nota(s) de R$ 50,00\n",
    "0 nota(s) de R$ 20,00\n",
    "0 nota(s) de R$ 10,00\n",
    "1 nota(s) de R$ 5,00\n",
    "1 nota(s) de R$ 2,00\n",
    "0 nota(s) de R$ 1,00\n",
    "\n",
    "503\n",
    "\n",
    "503\n",
    "5 nota(s) de R$ 100,00\n",
    "0 nota(s) de R$ 50,00\n",
    "0 nota(s) de R$ 20,00\n",
    "0 nota(s) de R$ 10,00\n",
    "0 nota(s) de R$ 5,00\n",
    "1 nota(s) de R$ 2,00\n",
    "1 nota(s) de R$ 1,00"
   ]
  }
 ],
 "metadata": {
  "kernelspec": {
   "display_name": "Python 2",
   "language": "python",
   "name": "python2"
  },
  "language_info": {
   "codemirror_mode": {
    "name": "ipython",
    "version": 2
   },
   "file_extension": ".py",
   "mimetype": "text/x-python",
   "name": "python",
   "nbconvert_exporter": "python",
   "pygments_lexer": "ipython2",
   "version": "2.7.12"
  }
 },
 "nbformat": 4,
 "nbformat_minor": 2
}
