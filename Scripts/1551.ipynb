{
 "cells": [
  {
   "cell_type": "code",
   "execution_count": 10,
   "metadata": {},
   "outputs": [
    {
     "name": "stdout",
     "output_type": "stream",
     "text": [
      "ola, como voce esta hoje\n",
      "11\n",
      "frase mal elaborada\n"
     ]
    }
   ],
   "source": [
    "a=raw_input()\n",
    "a=str(a)\n",
    "b=set(a)\n",
    "#print(b)\n",
    "s=0\n",
    "for d in b:\n",
    "    if d>='a' and d<='z':\n",
    "        s+=1\n",
    "        \n",
    "if s==26:\n",
    "    print(\"frase completa\")\n",
    "elif s>= 13:\n",
    "    print(\"frase quase completa\")\n",
    "else:\n",
    "    print(\"frase mal elaborada\")\n",
    "    "
   ]
  },
  {
   "cell_type": "code",
   "execution_count": 11,
   "metadata": {},
   "outputs": [
    {
     "name": "stdout",
     "output_type": "stream",
     "text": [
      "2\n",
      "ola, como voce esta hoje\n",
      "frase mal elaborada\n",
      "hoje fui na feira, e comprei banana, melao e abacates\n",
      "frase quase completa\n"
     ]
    }
   ],
   "source": [
    "c=int(input())\n",
    "\n",
    "\n",
    "for i in range(c):\n",
    "    \n",
    "    a=raw_input()\n",
    "    a=str(a)\n",
    "    b=set(a)\n",
    "#print(b)\n",
    "    s=0\n",
    "    for d in b:\n",
    "        if d>='a' and d<='z':\n",
    "            s+=1\n",
    "        \n",
    "    if s==26:\n",
    "        print(\"frase completa\")\n",
    "    elif s>= 13:\n",
    "        print(\"frase quase completa\")\n",
    "    else:\n",
    "        print(\"frase mal elaborada\")\n",
    "    \n",
    "    "
   ]
  },
  {
   "cell_type": "code",
   "execution_count": null,
   "metadata": {},
   "outputs": [],
   "source": [
    "Sample Input\tSample Output\n",
    "2\n",
    "ola, como voce esta hoje\n",
    "hoje fui na feira, e comprei banana, melao e abacates\n",
    "frase mal elaborada\n",
    "frase quase completa"
   ]
  }
 ],
 "metadata": {
  "kernelspec": {
   "display_name": "Python 2",
   "language": "python",
   "name": "python2"
  },
  "language_info": {
   "codemirror_mode": {
    "name": "ipython",
    "version": 2
   },
   "file_extension": ".py",
   "mimetype": "text/x-python",
   "name": "python",
   "nbconvert_exporter": "python",
   "pygments_lexer": "ipython2",
   "version": "2.7.12"
  }
 },
 "nbformat": 4,
 "nbformat_minor": 2
}
