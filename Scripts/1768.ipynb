{
 "cells": [
  {
   "cell_type": "code",
   "execution_count": null,
   "metadata": {},
   "outputs": [],
   "source": [
    "while True:\n",
    "    try:\n",
    "    \n",
    "        a=int(input())\n",
    "\n",
    "        for i in range(1,a+1,2):\n",
    "            print(' '*int((a-i)/2)+'*'*i+' '*int((a-i)/2))\n",
    "\n",
    "        for i in range(1,4,2):\n",
    "            print(' '*int((a-i)/2)+'*'*i+' '*int((a-i)/2))\n",
    "        print()\n",
    "    except:\n",
    "        break\n",
    "    "
   ]
  }
 ],
 "metadata": {
  "kernelspec": {
   "display_name": "Python 3",
   "language": "python",
   "name": "python3"
  },
  "language_info": {
   "codemirror_mode": {
    "name": "ipython",
    "version": 3
   },
   "file_extension": ".py",
   "mimetype": "text/x-python",
   "name": "python",
   "nbconvert_exporter": "python",
   "pygments_lexer": "ipython3",
   "version": "3.7.4"
  }
 },
 "nbformat": 4,
 "nbformat_minor": 4
}
