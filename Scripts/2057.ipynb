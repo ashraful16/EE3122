{
 "cells": [
  {
   "cell_type": "code",
   "execution_count": 11,
   "metadata": {},
   "outputs": [
    {
     "name": "stdout",
     "output_type": "stream",
     "text": [
      "23 1 5\n",
      "5\n"
     ]
    }
   ],
   "source": [
    "a,b,c=raw_input().split(\" \")\n",
    "a,b,c=int(a),int(b),int(c)\n",
    "\n",
    "s=a+b+c\n",
    "\n",
    "if s>0 and s<=23:\n",
    "    print s\n",
    "elif s>=24:\n",
    "    print(s-24)\n",
    "elif s<0:\n",
    "    print(24+s)\n",
    "else:\n",
    "    print(s)"
   ]
  },
  {
   "cell_type": "code",
   "execution_count": null,
   "metadata": {},
   "outputs": [],
   "source": [
    "\n",
    "Input Samples\tOutput Samples\n",
    "10 7 3\n",
    "\n",
    "20\n",
    "\n",
    "22 6 -2\n",
    "\n",
    "2\n",
    "0 3 -4\n",
    "\n",
    "23"
   ]
  }
 ],
 "metadata": {
  "kernelspec": {
   "display_name": "Python 2",
   "language": "python",
   "name": "python2"
  },
  "language_info": {
   "codemirror_mode": {
    "name": "ipython",
    "version": 2
   },
   "file_extension": ".py",
   "mimetype": "text/x-python",
   "name": "python",
   "nbconvert_exporter": "python",
   "pygments_lexer": "ipython2",
   "version": "2.7.12"
  }
 },
 "nbformat": 4,
 "nbformat_minor": 2
}
