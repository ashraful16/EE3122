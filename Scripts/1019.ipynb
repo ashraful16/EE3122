{
 "cells": [
  {
   "cell_type": "code",
   "execution_count": 6,
   "metadata": {},
   "outputs": [
    {
     "name": "stdout",
     "output_type": "stream",
     "text": [
      "140153\n",
      "38:55:53\n"
     ]
    }
   ],
   "source": [
    "x=input()\n",
    "h,m,s=0,0,0\n",
    "\n",
    "if x >3600:\n",
    "    h=x/3600\n",
    "c=x-3600*h\n",
    "if c > 59:\n",
    "    m=c/60\n",
    "c=x-3600*h-60*m\n",
    "s=c\n",
    "print \"%d:%d:%d\"%(h,m,s)"
   ]
  },
  {
   "cell_type": "code",
   "execution_count": 5,
   "metadata": {},
   "outputs": [
    {
     "ename": "SyntaxError",
     "evalue": "invalid syntax (<ipython-input-5-823cbec92f4c>, line 3)",
     "output_type": "error",
     "traceback": [
      "\u001b[0;36m  File \u001b[0;32m\"<ipython-input-5-823cbec92f4c>\"\u001b[0;36m, line \u001b[0;32m3\u001b[0m\n\u001b[0;31m    0:9:16\u001b[0m\n\u001b[0m     ^\u001b[0m\n\u001b[0;31mSyntaxError\u001b[0m\u001b[0;31m:\u001b[0m invalid syntax\n"
     ]
    }
   ],
   "source": [
    "556\n",
    "\n",
    "0:9:16\n",
    "\n",
    "1\n",
    "\n",
    "0:0:1\n",
    "\n",
    "140153\n",
    "\n",
    "38:55:53"
   ]
  },
  {
   "cell_type": "code",
   "execution_count": 14,
   "metadata": {},
   "outputs": [
    {
     "name": "stdout",
     "output_type": "stream",
     "text": [
      "30\n",
      "0 ano(s)\n",
      "1 mes(s)\n",
      "0 dia(s)\n"
     ]
    }
   ],
   "source": [
    "x=input()\n",
    "y,m,d=0,0,0\n",
    "\n",
    "if x >364:\n",
    "    y=x/365\n",
    "c=x-365*y\n",
    "if c > 29:\n",
    "    m=c/30\n",
    "c=x-365*y-30*m\n",
    "d=c\n",
    "print \"%d ano(s)\"%y\n",
    "print \"%d mes(es)\"%m\n",
    "print \"%d dia(s)\"%d\n"
   ]
  },
  {
   "cell_type": "code",
   "execution_count": null,
   "metadata": {},
   "outputs": [],
   "source": [
    "Input Sample\tOutput Sample\n",
    "400\n",
    "\n",
    "1 ano(s)\n",
    "1 mes(es)\n",
    "5 dia(s)\n",
    "\n",
    "800\n",
    "\n",
    "2 ano(s)\n",
    "2 mes(es)\n",
    "10 dia(s)\n",
    "\n",
    "30\n",
    "\n",
    "0 ano(s)\n",
    "1 mes(es)\n",
    "0 dia(s)"
   ]
  }
 ],
 "metadata": {
  "kernelspec": {
   "display_name": "Python 2",
   "language": "python",
   "name": "python2"
  },
  "language_info": {
   "codemirror_mode": {
    "name": "ipython",
    "version": 2
   },
   "file_extension": ".py",
   "mimetype": "text/x-python",
   "name": "python",
   "nbconvert_exporter": "python",
   "pygments_lexer": "ipython2",
   "version": "2.7.12"
  }
 },
 "nbformat": 4,
 "nbformat_minor": 2
}
