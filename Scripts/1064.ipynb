{
 "cells": [
  {
   "cell_type": "code",
   "execution_count": 4,
   "metadata": {},
   "outputs": [
    {
     "name": "stdout",
     "output_type": "stream",
     "text": [
      "4\n",
      "5\n",
      "-7\n",
      "5\n",
      "1\n",
      "2\n",
      "5.000000 valores positivos\n",
      "3.4\n"
     ]
    }
   ],
   "source": [
    "i=0;\n",
    "s=0;\n",
    "n=0\n",
    "while i<6:\n",
    "    c=float(raw_input())\n",
    "    if c >0:\n",
    "        n+=1\n",
    "        s+=c\n",
    "    i+=1\n",
    "\n",
    "print \"%f valores positivos\"%n\n",
    "\n",
    "if n>0:\n",
    "    print \"%.1f\"%(s/n)\n",
    "else:\n",
    "    print \"-nan\""
   ]
  },
  {
   "cell_type": "code",
   "execution_count": null,
   "metadata": {},
   "outputs": [],
   "source": [
    "\n",
    "i=0;\n",
    "s=0;\n",
    "n=0\n",
    "while i<6:\n",
    "    c=float(raw_input())\n",
    "    if c >0:\n",
    "        n+=1\n",
    "        s+=c\n",
    "    i+=1\n",
    "\n",
    "print \"\"\n",
    "print \"%d valores positivos\\n\"%n\n",
    "\n",
    "print s/n\n"
   ]
  }
 ],
 "metadata": {
  "kernelspec": {
   "display_name": "Python 2",
   "language": "python",
   "name": "python2"
  },
  "language_info": {
   "codemirror_mode": {
    "name": "ipython",
    "version": 2
   },
   "file_extension": ".py",
   "mimetype": "text/x-python",
   "name": "python",
   "nbconvert_exporter": "python",
   "pygments_lexer": "ipython2",
   "version": "2.7.12"
  }
 },
 "nbformat": 4,
 "nbformat_minor": 2
}
