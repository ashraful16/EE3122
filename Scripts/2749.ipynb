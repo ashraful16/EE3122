{
 "cells": [
  {
   "cell_type": "code",
   "execution_count": null,
   "metadata": {},
   "outputs": [],
   "source": [
    "--------------------------------------- (39 dashes)\n",
    "\n",
    "|x = 35                               |\n",
    "\n",
    "|                                     |\n",
    "\n",
    "|                x = 35               |\n",
    "\n",
    "|                                     |\n",
    "\n",
    "|                               x = 35|\n",
    "\n",
    "--------------------------------------- ("
   ]
  },
  {
   "cell_type": "code",
   "execution_count": 3,
   "metadata": {},
   "outputs": [
    {
     "name": "stdout",
     "output_type": "stream",
     "text": [
      "---------------------------------------\n",
      "|x = 35                               |\n",
      "|                                     |\n",
      "|               x = 35                |\n",
      "|                                     |\n",
      "|                               x = 35|\n",
      "---------------------------------------\n"
     ]
    }
   ],
   "source": [
    "print \"---------------------------------------\\n\" ,\n",
    "print \"|x = 35                               |\\n\" ,\n",
    "print \"|                                     |\\n\",\n",
    "print \"|               x = 35                |\\n\",\n",
    "print \"|                                     |\\n\",\n",
    "print \"|                               x = 35|\\n\",\n",
    "print \"---------------------------------------\\n\","
   ]
  },
  {
   "cell_type": "code",
   "execution_count": null,
   "metadata": {},
   "outputs": [],
   "source": [
    " "
   ]
  }
 ],
 "metadata": {
  "kernelspec": {
   "display_name": "Python 2",
   "language": "python",
   "name": "python2"
  },
  "language_info": {
   "codemirror_mode": {
    "name": "ipython",
    "version": 2
   },
   "file_extension": ".py",
   "mimetype": "text/x-python",
   "name": "python",
   "nbconvert_exporter": "python",
   "pygments_lexer": "ipython2",
   "version": "2.7.12"
  }
 },
 "nbformat": 4,
 "nbformat_minor": 2
}
