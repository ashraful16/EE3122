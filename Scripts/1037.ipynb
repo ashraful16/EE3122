{
 "cells": [
  {
   "cell_type": "code",
   "execution_count": 16,
   "metadata": {},
   "outputs": [
    {
     "name": "stdout",
     "output_type": "stream",
     "text": [
      "25.00001\n",
      "Intervalo (25,50]\n"
     ]
    }
   ],
   "source": [
    "a=float(input())\n",
    "if a >=0 and a<=25.0000000:\n",
    "\tprint \"Intervalo [0,25]\"\n",
    "elif a >25.0000000 and a<51.0000000:\n",
    "\tprint \"Intervalo (25,50]\"\n",
    "\n",
    "elif a >50.0000000 and a<=75.0000000:\n",
    "\tprint \"Intervalo (50,75]\"\n",
    "elif a >75.0000000 and a<=100.0000000:\n",
    "\tprint \"Intervalo (75,100]\"\n",
    "else:\n",
    "\tprint \"Fora de intervalo\"\n"
   ]
  },
  {
   "cell_type": "code",
   "execution_count": null,
   "metadata": {},
   "outputs": [],
   "source": [
    "x = float(input());\n",
    "\n",
    "if x >= 0 and x <= 25.0000:\n",
    "\tprint(\"Intervalo [0,25]\");\n",
    "elif x>25.0000 and x <= 50.0000:\n",
    "\tprint(\"Intervalo (25,50]\");\n",
    "elif x>50.0000 and x <= 75.0000:\n",
    "\tprint(\"Intervalo (50,75]\");\n",
    "elif x>75.0000 and x <= 100.0000:\n",
    "\tprint(\"Intervalo (75,100]\");\n",
    "else:\n",
    "\tprint(\"Fora de intervalo\");"
   ]
  },
  {
   "cell_type": "markdown",
   "metadata": {},
   "source": [
    "##### Input Sample\tOutput Sample\n",
    "25.01\n",
    "\n",
    "Intervalo (25,50]\n",
    "\n",
    "25.00\n",
    "\n",
    "Intervalo [0,25]\n",
    "\n",
    "100.00\n",
    "\n",
    "Intervalo (75,100]\n",
    "\n",
    "-25.02\n",
    "\n",
    "Fora de intervalo"
   ]
  }
 ],
 "metadata": {
  "kernelspec": {
   "display_name": "Python 2",
   "language": "python",
   "name": "python2"
  },
  "language_info": {
   "codemirror_mode": {
    "name": "ipython",
    "version": 2
   },
   "file_extension": ".py",
   "mimetype": "text/x-python",
   "name": "python",
   "nbconvert_exporter": "python",
   "pygments_lexer": "ipython2",
   "version": "2.7.12"
  }
 },
 "nbformat": 4,
 "nbformat_minor": 2
}
