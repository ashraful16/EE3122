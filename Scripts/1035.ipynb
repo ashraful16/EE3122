{
 "cells": [
  {
   "cell_type": "code",
   "execution_count": 14,
   "metadata": {},
   "outputs": [
    {
     "name": "stdout",
     "output_type": "stream",
     "text": [
      "2 3 2 6\n",
      "Valores aceitos\n"
     ]
    }
   ],
   "source": [
    "a=raw_input()\n",
    "a=a.split(\" \")\n",
    "A=int(a[0])\n",
    "B=int(a[1])\n",
    "C=int(a[2])\n",
    "D=int(a[3])\n",
    "#print type(A)\n",
    "#A,B,C,D=5,6,7,8\n",
    "\n",
    "if B>C and D>A and C+D>(A+B) and C>0 and D>0 and A%2==0:\n",
    "\tprint \"Valores aceitos\"\n",
    "else:\n",
    "\tprint \"Valores nao aceitos\""
   ]
  },
  {
   "cell_type": "code",
   "execution_count": 2,
   "metadata": {},
   "outputs": [
    {
     "ename": "SyntaxError",
     "evalue": "invalid syntax (<ipython-input-2-9eaa4b4bb493>, line 2)",
     "output_type": "error",
     "traceback": [
      "\u001b[0;36m  File \u001b[0;32m\"<ipython-input-2-9eaa4b4bb493>\"\u001b[0;36m, line \u001b[0;32m2\u001b[0m\n\u001b[0;31m    Input Sample\tOutput Sample\u001b[0m\n\u001b[0m               ^\u001b[0m\n\u001b[0;31mSyntaxError\u001b[0m\u001b[0;31m:\u001b[0m invalid syntax\n"
     ]
    }
   ],
   "source": [
    "\n",
    "Input Sample\tOutput Sample\n",
    "5 6 7 8\n",
    "\n",
    "Valores nao aceitos\n",
    "\n",
    "2 3 2 6\n",
    "\n",
    "Valores aceitos"
   ]
  }
 ],
 "metadata": {
  "kernelspec": {
   "display_name": "Python 2",
   "language": "python",
   "name": "python2"
  },
  "language_info": {
   "codemirror_mode": {
    "name": "ipython",
    "version": 2
   },
   "file_extension": ".py",
   "mimetype": "text/x-python",
   "name": "python",
   "nbconvert_exporter": "python",
   "pygments_lexer": "ipython2",
   "version": "2.7.12"
  }
 },
 "nbformat": 4,
 "nbformat_minor": 2
}
