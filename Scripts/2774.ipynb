{
 "cells": [
  {
   "cell_type": "code",
   "execution_count": 9,
   "metadata": {},
   "outputs": [
    {
     "name": "stdout",
     "output_type": "stream",
     "text": [
      "\n",
      "2.99 2.94 3.02 2.91 3.05 3.11\n",
      "0.07312\n",
      "\n",
      "5.00 5.00 5.00 5.00 5.00 5.00 5.00\n",
      "0.00000\n",
      "\n",
      "\n"
     ]
    }
   ],
   "source": [
    "while True:\n",
    "    try:\n",
    "        du=raw_input()\n",
    "        a=raw_input().split(\" \")\n",
    "\n",
    "        s=0\n",
    "        for d in a:\n",
    "            s+=float(d)\n",
    "        av=s/float(len(a))\n",
    "        \n",
    "        dv=0\n",
    "        for d in a:\n",
    "            dv=dv+(float(d)-av)**2\n",
    "        fr=dv/float((len(a)-1))\n",
    "        re=fr**.5\n",
    "        print(\"%.5f\"%re)\n",
    "    except:\n",
    "        break"
   ]
  },
  {
   "cell_type": "code",
   "execution_count": 7,
   "metadata": {},
   "outputs": [
    {
     "data": {
      "text/plain": [
       "0.0"
      ]
     },
     "execution_count": 7,
     "metadata": {},
     "output_type": "execute_result"
    }
   ],
   "source": [
    "dv"
   ]
  },
  {
   "cell_type": "code",
   "execution_count": null,
   "metadata": {},
   "outputs": [],
   "source": [
    "Input Sample\tOutput Sample\n",
    "1 10\n",
    "\n",
    "2.99 2.94 3.02 2.91 3.05 3.11\n",
    "\n",
    "2 16\n",
    "\n",
    "5.00 5.00 5.00 5.00 5.00 5.00 5.00\n",
    "\n",
    "0.07312\n",
    "\n",
    "0.00000"
   ]
  }
 ],
 "metadata": {
  "kernelspec": {
   "display_name": "Python 2",
   "language": "python",
   "name": "python2"
  },
  "language_info": {
   "codemirror_mode": {
    "name": "ipython",
    "version": 2
   },
   "file_extension": ".py",
   "mimetype": "text/x-python",
   "name": "python",
   "nbconvert_exporter": "python",
   "pygments_lexer": "ipython2",
   "version": "2.7.12"
  }
 },
 "nbformat": 4,
 "nbformat_minor": 2
}
