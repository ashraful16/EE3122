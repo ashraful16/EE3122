{
 "cells": [
  {
   "cell_type": "code",
   "execution_count": 2,
   "metadata": {},
   "outputs": [
    {
     "name": "stdout",
     "output_type": "stream",
     "text": [
      "512 1024 3.1 2.3\n"
     ]
    },
    {
     "ename": "SyntaxError",
     "evalue": "invalid syntax (<string>, line 1)",
     "output_type": "error",
     "traceback": [
      "\u001b[0;36m  File \u001b[0;32m\"<string>\"\u001b[0;36m, line \u001b[0;32m1\u001b[0m\n\u001b[0;31m    512 1024 3.1 2.3\u001b[0m\n\u001b[0m           ^\u001b[0m\n\u001b[0;31mSyntaxError\u001b[0m\u001b[0;31m:\u001b[0m invalid syntax\n"
     ]
    }
   ],
   "source": [
    "\n",
    "def renum(a,b,c,d):\n",
    "    pp,qq,a,b=int(a*(1+.01*c)),int(b*(1+.01*d)),int(a*(1+.01*c)),int(b*(1+.01*d))\n",
    "    ren=1\n",
    "    while pp<qq:\n",
    "        pp,qq,ren,a,b=int(a*(1+.01*c)),int(b*(1+.01*d)),ren+1,int(a*(1+.01*c)),int(b*(1+.01*d))\n",
    "        if ren >100:\n",
    "            return\n",
    "    return ren\n",
    " \n",
    " \n",
    " \n",
    "kk=int(input())\n",
    "i=0\n",
    "a=[]\n",
    "while i<kk:\n",
    "    da=raw_input().split(\" \")\n",
    "    x,y,r1,r2=int(da[0]),int(da[1]),float(da[2]),float(da[3])\n",
    " \n",
    "    num=renum(x,y,r1,r2)\n",
    "    a.append(num)\n",
    "    i+=1\n",
    " \n",
    " \n",
    "for da in a:\n",
    "    if int(da)<=100:\n",
    "        print \"%d anos.\"%(int(da))\n",
    "    else:\n",
    "        print \"Mais de 1 seculo.\"\n",
    " \n"
   ]
  },
  {
   "cell_type": "code",
   "execution_count": null,
   "metadata": {},
   "outputs": [],
   "source": [
    "\"\"\"\n",
    "11\n",
    "100 101 10.0 0.0\n",
    "100 101 10.0 9.0\n",
    "654327 894521 8.4 3.2\n",
    "100 1000 10.0 9.0\n",
    "128 256 6.6 2.8\n",
    "512 1024 3.1 2.3\n",
    "2048 4096 5.5 2.7\n",
    "100 200 1.0 0.0\n",
    "1000 1999 1.8 1.0\n",
    "100 200 10.0 0.0\n",
    "666 6660 10.0 0.0\n",
    "\"\"\"512 1024 3.1 2.3"
   ]
  },
  {
   "cell_type": "code",
   "execution_count": null,
   "metadata": {},
   "outputs": [],
   "source": [
    "\n",
    "def renum(a,b,c,d):\n",
    "    pp,qq,a,b=a*(1+.01*c),b*(1+.01*d),a*(1+.01*c),b*(1+.01*d)\n",
    "    ren=1\n",
    "    while pp<=qq:\n",
    "        pp,qq,ren,a,b=a*(1+.01*c),b*(1+.01*d),ren+1,a*(1+.01*c),b*(1+.01*d)\n",
    "        print pp,qq\n",
    "    return ren\n",
    " \n",
    "da=raw_input().split()\n",
    "x,y,r1,r2=float(da[0]),float(da[1]),float(da[2]),float(da[3])\n",
    " \n",
    "num=renum(x,y,r1,r2)\n",
    "print num"
   ]
  },
  {
   "cell_type": "code",
   "execution_count": null,
   "metadata": {},
   "outputs": [],
   "source": [
    "qte = int(input())\n",
    "\n",
    "for i in range(qte):\n",
    "    pa,pb,g1,g2 = input().split()\n",
    "    pa = int(pa)\n",
    "    pb = int(pb)\n",
    "    g1 = float(g1)\n",
    "    g2 = float(g2)\n",
    "    \n",
    "    anos = 0\n",
    "    while(pa <= pb):\n",
    "        cpa = int((pa*(g1/100)))\n",
    "        cpb = int((pb*(g2/100)))\n",
    "        anos += 1\n",
    "        pa += cpa\n",
    "        pb += cpb\n",
    "        \n",
    "        if(anos > 100):\n",
    "            break\n",
    "\n",
    "    if(anos>100):\n",
    "        print(\"Mais de 1 seculo.\")\n",
    "    else:\n",
    "        print(\"%d anos.\" %anos)"
   ]
  }
 ],
 "metadata": {
  "kernelspec": {
   "display_name": "Python 2",
   "language": "python",
   "name": "python2"
  },
  "language_info": {
   "codemirror_mode": {
    "name": "ipython",
    "version": 2
   },
   "file_extension": ".py",
   "mimetype": "text/x-python",
   "name": "python",
   "nbconvert_exporter": "python",
   "pygments_lexer": "ipython2",
   "version": "2.7.12"
  }
 },
 "nbformat": 4,
 "nbformat_minor": 2
}
