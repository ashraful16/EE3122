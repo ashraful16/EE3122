{
 "cells": [
  {
   "cell_type": "code",
   "execution_count": 7,
   "metadata": {},
   "outputs": [
    {
     "name": "stdout",
     "output_type": "stream",
     "text": [
      "12 3 4\n",
      "wererg g gregr egr egr ge rge egt gerg eg grg \n",
      "1\n"
     ]
    }
   ],
   "source": [
    "a,b,c=raw_input().split(\" \")\n",
    "a,b,c=int(a),int(b),int(c)\n",
    "s=raw_input()\n",
    "s=s.split(\" \")\n",
    "\n",
    "\n",
    "def numpg():\n",
    "    s1=0\n",
    "    l1=0\n",
    "    pg=1\n",
    "    i=0\n",
    "    for d in s:\n",
    "        k=len(d)\n",
    "        i+=1\n",
    "        s1+=k\n",
    "        if s1<=b :\n",
    "            if s1==b :\n",
    "                l1+=1\n",
    "                s1=0\n",
    "                if s1+len(s[i])>b:\n",
    "                    l1,s1=l1+1,0\n",
    "            if l1==c:\n",
    "                pg+=1\n",
    "                l1=0\n",
    "\n",
    "            \n",
    "    print(pg)\n",
    "    \n",
    "    \n",
    "numpg()\n",
    "            \n",
    "        \n",
    "        "
   ]
  },
  {
   "cell_type": "code",
   "execution_count": null,
   "metadata": {},
   "outputs": [],
   "source": [
    "5 2 2\n",
    "a de i de o"
   ]
  },
  {
   "cell_type": "code",
   "execution_count": null,
   "metadata": {},
   "outputs": [],
   "source": []
  },
  {
   "cell_type": "code",
   "execution_count": 25,
   "metadata": {},
   "outputs": [
    {
     "name": "stdout",
     "output_type": "stream",
     "text": [
      "16 3 30\n",
      "No dia seguinte entrou a dizer de mim nomes feios e acabou alcunhando me Dom Casmurro\n",
      "1\n"
     ]
    }
   ],
   "source": [
    "a,b,c=raw_input().split(\" \")\n",
    "a,c,b=int(a),int(b),int(c)\n",
    "s=raw_input()\n",
    "s=s.split(\" \")\n",
    "\n",
    "\n",
    "def numpg():\n",
    "    s1=0\n",
    "    l1=0\n",
    "    pg=1\n",
    "    i=0\n",
    "    for d in s:\n",
    "        k=len(d)\n",
    "        i+=1\n",
    "        s1+=k\n",
    "        if i==len(s):\n",
    "            #if (s1+len(s[i]))<=b:\n",
    "            if (s1)<=b:\n",
    "                l1=l1\n",
    "            else:\n",
    "                l1+=1\n",
    "            if l1==c:\n",
    "                pg+=1\n",
    "            return pg\n",
    "                \n",
    "        if s1<=b :\n",
    "            if s1==b :\n",
    "                l1+=1\n",
    "                s1=0\n",
    "                \n",
    "            elif (s1+len(s[i]))>b:\n",
    "                l1,s1=l1+1,0\n",
    "            if l1==c:\n",
    "                pg+=1\n",
    "                l1=0\n",
    "\n",
    "            \n",
    "    return pg\n",
    "    \n",
    "    \n",
    "k=numpg()\n",
    "print(k)\n",
    "            \n",
    "        \n",
    "        "
   ]
  },
  {
   "cell_type": "code",
   "execution_count": null,
   "metadata": {},
   "outputs": [],
   "source": [
    "14 4 20\n",
    "Se mana Piedade tem casado com Quincas Borba apenas me daria uma esperanca colateral\n",
    "16 3 30\n",
    "No dia seguinte entrou a dizer de mim nomes feios e acabou alcunhando me Dom Casmurro"
   ]
  },
  {
   "cell_type": "code",
   "execution_count": 27,
   "metadata": {},
   "outputs": [
    {
     "name": "stdout",
     "output_type": "stream",
     "text": [
      "1 2 2\n",
      "sd w\n",
      "1\n",
      "\n"
     ]
    }
   ],
   "source": [
    "while True:\n",
    "    try:\n",
    "        \n",
    "        a,b,c=raw_input().split(\" \")\n",
    "        a,c,b=int(a),int(b),int(c)\n",
    "        s=raw_input()\n",
    "        s=s.split(\" \")\n",
    "\n",
    "\n",
    "        def numpg():\n",
    "            s1=0\n",
    "            l1=0\n",
    "            pg=1\n",
    "            i=0\n",
    "            for d in s:\n",
    "                k=len(d)\n",
    "                i+=1\n",
    "                s1+=k\n",
    "                if i==len(s):\n",
    "          \n",
    "                    if (s1)<=b:\n",
    "                        l1=l1\n",
    "                    else:\n",
    "                        l1+=1\n",
    "                    if l1==c:\n",
    "                        pg+=1\n",
    "                    return pg\n",
    "                \n",
    "                if s1<=b :\n",
    "                    if s1==b :\n",
    "                        l1+=1\n",
    "                        s1=0\n",
    "                \n",
    "                elif (s1+len(s[i]))>b:\n",
    "                    l1,s1=l1+1,0\n",
    "                if l1==c:\n",
    "                    pg+=1\n",
    "                    l1=0\n",
    "\n",
    "            \n",
    "            return pg\n",
    "    \n",
    "    \n",
    "        k=numpg()\n",
    "        print(k)\n",
    "    except:\n",
    "        break\n",
    "            \n",
    "        \n",
    "        "
   ]
  },
  {
   "cell_type": "code",
   "execution_count": null,
   "metadata": {},
   "outputs": [],
   "source": []
  },
  {
   "cell_type": "code",
   "execution_count": null,
   "metadata": {},
   "outputs": [],
   "source": []
  },
  {
   "cell_type": "markdown",
   "metadata": {},
   "source": [
    "## "
   ]
  }
 ],
 "metadata": {
  "kernelspec": {
   "display_name": "Python 2",
   "language": "python",
   "name": "python2"
  },
  "language_info": {
   "codemirror_mode": {
    "name": "ipython",
    "version": 2
   },
   "file_extension": ".py",
   "mimetype": "text/x-python",
   "name": "python",
   "nbconvert_exporter": "python",
   "pygments_lexer": "ipython2",
   "version": "2.7.12"
  }
 },
 "nbformat": 4,
 "nbformat_minor": 2
}
