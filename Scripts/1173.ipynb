{
 "cells": [
  {
   "cell_type": "code",
   "execution_count": 3,
   "metadata": {},
   "outputs": [
    {
     "name": "stdout",
     "output_type": "stream",
     "text": [
      "4\n",
      "N[0] = 4\n",
      "N[1] = 8\n",
      "N[2] = 16\n",
      "N[3] = 32\n",
      "N[4] = 64\n",
      "N[5] = 128\n",
      "N[6] = 256\n",
      "N[7] = 512\n",
      "N[8] = 1024\n",
      "N[9] = 2048\n"
     ]
    }
   ],
   "source": [
    "i=0\n",
    "a=int(input())\n",
    "while i<10:\n",
    "    print \"N[%d] = %d\"%(i,a)\n",
    "    a=a*2\n",
    "    i+=1\n",
    "\n",
    "  "
   ]
  },
  {
   "cell_type": "code",
   "execution_count": null,
   "metadata": {},
   "outputs": [],
   "source": []
  }
 ],
 "metadata": {
  "kernelspec": {
   "display_name": "Python 2",
   "language": "python",
   "name": "python2"
  },
  "language_info": {
   "codemirror_mode": {
    "name": "ipython",
    "version": 2
   },
   "file_extension": ".py",
   "mimetype": "text/x-python",
   "name": "python",
   "nbconvert_exporter": "python",
   "pygments_lexer": "ipython2",
   "version": "2.7.12"
  }
 },
 "nbformat": 4,
 "nbformat_minor": 2
}
