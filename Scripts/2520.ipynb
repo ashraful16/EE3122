{
 "cells": [
  {
   "cell_type": "code",
   "execution_count": 16,
   "metadata": {},
   "outputs": [
    {
     "name": "stdout",
     "output_type": "stream",
     "text": [
      "3 3\n",
      "2 0 0\n",
      "0 0 0\n",
      "0 1 0\n",
      "[['2', '0', '0'], ['0', '0', '0'], ['0', '1', '0']]\n",
      "[2, 1]\n",
      "('#####', 3)\n"
     ]
    }
   ],
   "source": [
    "a,b=raw_input().split(\" \")\n",
    "a,b=int(a),int(b)\n",
    "\n",
    "k=[]\n",
    "for i in range(a):\n",
    "    k.append(raw_input().split(\" \"))\n",
    "    \n",
    "print(k)\n",
    "l,m=-1,-1\n",
    "for d in k:\n",
    "    l+=1\n",
    "    for p in d:\n",
    "        m+=1\n",
    "        if p=='1':\n",
    "            \n",
    "            me=[l,m]\n",
    "                \n",
    "        if p=='2':\n",
    "            he=[l,m]\n",
    "    m=-1\n",
    "    \n",
    "            \n",
    "print(me)\n",
    "\n",
    "s=abs(me[0]-he[0])+abs(me[1]-he[1])\n",
    "\n",
    "print(\"#####\",s)\n",
    "                "
   ]
  },
  {
   "cell_type": "code",
   "execution_count": 10,
   "metadata": {},
   "outputs": [
    {
     "name": "stdout",
     "output_type": "stream",
     "text": [
      "([3, 2], [0, 0])\n"
     ]
    }
   ],
   "source": [
    "print(me,he)"
   ]
  },
  {
   "cell_type": "code",
   "execution_count": null,
   "metadata": {},
   "outputs": [],
   "source": [
    "\n",
    "2\n",
    "3\n",
    "4\n",
    "2\n",
    "4\n",
    "2\n",
    "1\n",
    "2\n",
    "2\n",
    "1\n",
    "2\n",
    "\n"
   ]
  },
  {
   "cell_type": "code",
   "execution_count": null,
   "metadata": {},
   "outputs": [],
   "source": [
    "\n",
    "3 3\n",
    "2 0 1\n",
    "0 0 0\n",
    "0 0 0\n",
    "3 3\n",
    "2 0 0\n",
    "0 0 1\n",
    "0 0 0\n",
    "3 3\n",
    "2 0 0\n",
    "0 0 0\n",
    "0 0 1\n",
    "3 3\n",
    "0 2 0\n",
    "1 0 0\n",
    "0 0 0\n",
    "3 3\n",
    "0 0 2\n",
    "0 0 0\n",
    "1 0 0\n",
    "3 3\n",
    "0 1 0\n",
    "2 0 0\n",
    "0 0 0\n",
    "3 3\n",
    "0 2 0\n",
    "0 1 0\n",
    "0 0 0\n",
    "3 3\n",
    "0 2 0\n",
    "0 0 0\n",
    "0 1 0\n",
    "3 3\n",
    "0 0 1\n",
    "0 2 0\n",
    "0 0 0\n",
    "3 3\n",
    "0 0 0\n",
    "0 0 1\n",
    "0 0 2\n",
    "3 3\n",
    "0 0 2\n",
    "0 0 0\n",
    "0 0 1"
   ]
  },
  {
   "cell_type": "code",
   "execution_count": 17,
   "metadata": {},
   "outputs": [
    {
     "name": "stdout",
     "output_type": "stream",
     "text": [
      "3 3\n",
      "2 1 0\n",
      "0 0 0\n",
      "0 0 0\n",
      "1\n",
      "5 5\n",
      "0 1 0 0 0\n",
      "0 0 0 0 2\n",
      "0 0 0 0 0\n",
      "0 0 0 0 0\n",
      "0 0 0 0 0\n",
      "4\n",
      "\n"
     ]
    }
   ],
   "source": [
    "while True:\n",
    "    try:\n",
    "        a,b=raw_input().split(\" \")\n",
    "        a,b=int(a),int(b)\n",
    "\n",
    "        k=[]\n",
    "        for i in range(a):\n",
    "            k.append(raw_input().split(\" \"))\n",
    "    \n",
    "#print(k)\n",
    "        l,m=-1,-1\n",
    "        for d in k:\n",
    "            l+=1\n",
    "            for p in d:\n",
    "                m+=1\n",
    "                if p=='1':\n",
    "            \n",
    "                    me=[l,m]\n",
    "                \n",
    "                if p=='2':\n",
    "                    he=[l,m]\n",
    "            m=-1\n",
    "    \n",
    "            \n",
    "#print(me)\n",
    "\n",
    "        s=abs(me[0]-he[0])+abs(me[1]-he[1])\n",
    "\n",
    "        print(s)\n",
    "    except:\n",
    "        break\n",
    "                "
   ]
  },
  {
   "cell_type": "code",
   "execution_count": null,
   "metadata": {},
   "outputs": [],
   "source": []
  }
 ],
 "metadata": {
  "kernelspec": {
   "display_name": "Python 2",
   "language": "python",
   "name": "python2"
  },
  "language_info": {
   "codemirror_mode": {
    "name": "ipython",
    "version": 2
   },
   "file_extension": ".py",
   "mimetype": "text/x-python",
   "name": "python",
   "nbconvert_exporter": "python",
   "pygments_lexer": "ipython2",
   "version": "2.7.12"
  }
 },
 "nbformat": 4,
 "nbformat_minor": 2
}
