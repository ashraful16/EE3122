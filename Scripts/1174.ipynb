{
 "cells": [
  {
   "cell_type": "code",
   "execution_count": 6,
   "metadata": {},
   "outputs": [
    {
     "name": "stdout",
     "output_type": "stream",
     "text": [
      "3\n",
      "A[0] = 3.0\n",
      "2\n",
      "A[1] = 2.0\n",
      "12\n",
      "2\n",
      "A[3] = 2.0\n"
     ]
    }
   ],
   "source": [
    "i=0\n",
    "a=[]\n",
    "while i<100:\n",
    "    ap=float(input())\n",
    "    #a.append(ap)\n",
    "    if ap<=10:\n",
    "        print \"A[%d] = %.1f\"%(i,ap)\n",
    "    i+=1\n"
   ]
  },
  {
   "cell_type": "markdown",
   "metadata": {},
   "source": [
    "## "
   ]
  },
  {
   "cell_type": "code",
   "execution_count": null,
   "metadata": {},
   "outputs": [],
   "source": []
  }
 ],
 "metadata": {
  "kernelspec": {
   "display_name": "Python 2",
   "language": "python",
   "name": "python2"
  },
  "language_info": {
   "codemirror_mode": {
    "name": "ipython",
    "version": 2
   },
   "file_extension": ".py",
   "mimetype": "text/x-python",
   "name": "python",
   "nbconvert_exporter": "python",
   "pygments_lexer": "ipython2",
   "version": "2.7.12"
  }
 },
 "nbformat": 4,
 "nbformat_minor": 2
}
