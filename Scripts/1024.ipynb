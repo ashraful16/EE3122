{
 "cells": [
  {
   "cell_type": "code",
   "execution_count": 21,
   "metadata": {},
   "outputs": [
    {
     "name": "stdout",
     "output_type": "stream",
     "text": [
      "Texto #3\n",
      "Wh{wr #3\n",
      "3# rw{hW\n",
      "3# qv{gV\n"
     ]
    }
   ],
   "source": [
    "#chr(56)  ord(\"u\")\n",
    "s=\"Texto #3\"\n",
    "print(s)\n",
    "sp=\"\"\n",
    "for ss in s:\n",
    "    if (ss>=\"A\"and ss<=\"Z\") or (ss>=\"a\"and ss<=\"z\"):\n",
    "        sp=sp+str(chr(ord(ss)+3))\n",
    "    else:\n",
    "        sp=sp+str(ss)\n",
    "print(sp)\n",
    "sp=sp[::-1]\n",
    "print(sp)\n",
    "sp1=\"\"\n",
    "i=0\n",
    "for ss in sp:\n",
    "    #f i<len(sp)/2 and (ss>=\"A\"and ss<=\"Z\") or (ss>=\"a\"and ss<=\"z\"):\n",
    "    if (ss>=\"A\"and ss<=\"Z\") or (ss>=\"a\"and ss<=\"z\"):\n",
    "        sp1=sp1+str(chr(ord(ss)-1))\n",
    "    else:\n",
    "        sp1=sp1+str(ss)\n",
    "    i+=1\n",
    "    #f i>=(len(sp)/2):\n",
    "      #    break\n",
    "print(sp1)"
   ]
  },
  {
   "cell_type": "code",
   "execution_count": 10,
   "metadata": {},
   "outputs": [
    {
     "name": "stdout",
     "output_type": "stream",
     "text": [
      "]][po[pper\n"
     ]
    }
   ],
   "source": [
    "## 3# rvzgV\n",
    "q=\"repp[op[]]\"\n",
    "c=q[::-1]\n",
    "print(c)"
   ]
  },
  {
   "cell_type": "code",
   "execution_count": null,
   "metadata": {},
   "outputs": [],
   "source": [
    "import re\n",
    "\n",
    "qte = int(input())\n",
    "\n",
    "for i in range(qte):\n",
    "    texto = input()\n",
    "    texto_new = ''\n",
    "\n",
    "    for l in texto:\n",
    "        if re.match(\"[a-zA-Z]\", l):\n",
    "            texto_new += chr(ord(l)+3)\n",
    "        else:\n",
    "            texto_new += l\n",
    "\n",
    "    texto_new = texto_new[::-1]\n",
    "    meio = int((len(texto_new)/2))\n",
    "    metade1 = texto_new[0:meio]\n",
    "    metade2 = texto_new[meio:]\n",
    "    metade_new = ''\n",
    "\n",
    "    for l in metade2:\n",
    "        metade_new += chr(ord(l)-1)\n",
    "\n",
    "    texto_final = metade1+metade_new\n",
    "\n",
    "    print(texto_final)"
   ]
  }
 ],
 "metadata": {
  "kernelspec": {
   "display_name": "Python 2",
   "language": "python",
   "name": "python2"
  },
  "language_info": {
   "codemirror_mode": {
    "name": "ipython",
    "version": 2
   },
   "file_extension": ".py",
   "mimetype": "text/x-python",
   "name": "python",
   "nbconvert_exporter": "python",
   "pygments_lexer": "ipython2",
   "version": "2.7.12"
  }
 },
 "nbformat": 4,
 "nbformat_minor": 2
}
