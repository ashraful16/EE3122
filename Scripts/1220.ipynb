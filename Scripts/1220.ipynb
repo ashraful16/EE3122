{
 "cells": [
  {
   "cell_type": "code",
   "execution_count": null,
   "metadata": {},
   "outputs": [],
   "source": [
    "\n",
    "i=int(input())\n",
    "[p.append(float(input())) for k in range(i)]\n",
    "p\n",
    "k=sum(p)/len(p)\n",
    "k=round(k,2)\n",
    "k\n",
    "su=0\n",
    "su=sum([su+k-sm for sm in p if sm <k])\n",
    "#for sm in p:\n",
    " #   if sm<k:\n",
    "  #      su+=k-sm\n",
    "print(\".2f\"%su)"
   ]
  },
  {
   "cell_type": "code",
   "execution_count": null,
   "metadata": {},
   "outputs": [],
   "source": [
    "i=4"
   ]
  },
  {
   "cell_type": "code",
   "execution_count": null,
   "metadata": {},
   "outputs": [],
   "source": [
    "p=[]\n",
    "[p.append(float(input())) for k in range(i)]\n",
    "#for i in range(4):\n",
    " #   p.append(float(input()))\n",
    "p  "
   ]
  },
  {
   "cell_type": "code",
   "execution_count": null,
   "metadata": {},
   "outputs": [],
   "source": [
    "p"
   ]
  },
  {
   "cell_type": "code",
   "execution_count": null,
   "metadata": {},
   "outputs": [],
   "source": [
    "k=sum(p)/len(p)\n",
    "k=round(k,2)\n",
    "k"
   ]
  },
  {
   "cell_type": "code",
   "execution_count": null,
   "metadata": {},
   "outputs": [],
   "source": [
    "su=0\n",
    "su=sum([su+k-sm for sm in p if sm <k])\n",
    "#for sm in p:\n",
    " #   if sm<k:\n",
    "  #      su+=k-sm\n",
    "print(\".2f\"%su)"
   ]
  },
  {
   "cell_type": "code",
   "execution_count": null,
   "metadata": {},
   "outputs": [],
   "source": [
    "round(su,1)"
   ]
  },
  {
   "cell_type": "code",
   "execution_count": 3,
   "metadata": {},
   "outputs": [
    {
     "name": "stdout",
     "output_type": "stream",
     "text": [
      "3\n",
      "10\n",
      "20\n",
      "30\n",
      "$10.00\n",
      "\n"
     ]
    },
    {
     "ename": "ValueError",
     "evalue": "invalid literal for int() with base 10: ''",
     "output_type": "error",
     "traceback": [
      "\u001b[1;31m-------------------------\u001b[0m",
      "\u001b[1;31mValueError\u001b[0mTraceback (most recent call last)",
      "\u001b[1;32m<ipython-input-3-107ab53cd62a>\u001b[0m in \u001b[0;36m<module>\u001b[1;34m\u001b[0m\n\u001b[0;32m      1\u001b[0m \u001b[1;32mwhile\u001b[0m \u001b[1;32mTrue\u001b[0m\u001b[1;33m:\u001b[0m\u001b[1;33m\u001b[0m\u001b[1;33m\u001b[0m\u001b[0m\n\u001b[1;32m----> 2\u001b[1;33m     \u001b[0mi\u001b[0m\u001b[1;33m=\u001b[0m\u001b[0mint\u001b[0m\u001b[1;33m(\u001b[0m\u001b[0minput\u001b[0m\u001b[1;33m(\u001b[0m\u001b[1;33m)\u001b[0m\u001b[1;33m)\u001b[0m\u001b[1;33m\u001b[0m\u001b[1;33m\u001b[0m\u001b[0m\n\u001b[0m\u001b[0;32m      3\u001b[0m     \u001b[1;32mif\u001b[0m \u001b[0mi\u001b[0m\u001b[1;33m==\u001b[0m\u001b[1;36m0\u001b[0m\u001b[1;33m:\u001b[0m\u001b[1;33m\u001b[0m\u001b[1;33m\u001b[0m\u001b[0m\n\u001b[0;32m      4\u001b[0m         \u001b[1;32mbreak\u001b[0m\u001b[1;33m\u001b[0m\u001b[1;33m\u001b[0m\u001b[0m\n\u001b[0;32m      5\u001b[0m     \u001b[1;32melse\u001b[0m\u001b[1;33m:\u001b[0m\u001b[1;33m\u001b[0m\u001b[1;33m\u001b[0m\u001b[0m\n",
      "\u001b[1;31mValueError\u001b[0m: invalid literal for int() with base 10: ''"
     ]
    }
   ],
   "source": [
    "while True:\n",
    "    i=int(input())\n",
    "    if i==0:\n",
    "        break\n",
    "    else:\n",
    "        p=[]\n",
    "        [p.append(float(input())) for k in range(i)]\n",
    "        k=sum(p)/len(p)\n",
    "        k=round(k,2)\n",
    "        su=0\n",
    "        su=sum([su+k-sm for sm in p if sm <k])\n",
    "        if int(su)==round(su,2):\n",
    "            su=str(int(su))+str(\".00\")\n",
    "        else:\n",
    "            su=round(su,2)\n",
    "        print(\"$\"+str(su))"
   ]
  },
  {
   "cell_type": "code",
   "execution_count": null,
   "metadata": {},
   "outputs": [],
   "source": []
  },
  {
   "cell_type": "code",
   "execution_count": null,
   "metadata": {},
   "outputs": [],
   "source": []
  },
  {
   "cell_type": "code",
   "execution_count": null,
   "metadata": {},
   "outputs": [],
   "source": [
    "su=2.01\n",
    "if int(su)==round(su,2):\n",
    "    su=str(int(su))+str(\".00\")\n",
    "else:\n",
    "    su=round(su,2)\n"
   ]
  },
  {
   "cell_type": "code",
   "execution_count": null,
   "metadata": {},
   "outputs": [],
   "source": [
    "int(su)"
   ]
  },
  {
   "cell_type": "code",
   "execution_count": null,
   "metadata": {},
   "outputs": [],
   "source": [
    "p=[]\n",
    "[p.append(float(input())) for k in range(i)]\n",
    "k=sum(p)/len(p)\n",
    "k=round(k,2)\n",
    "su=0\n",
    "su=sum([su+k-sm for sm in p if sm <k])\n",
    "if int(su)==round(su,2):\n",
    "    su=str(int(su))+str(\".00\")\n",
    "else:\n",
    "    su=round(su,2)\n",
    "print(\"$\"+str(su))"
   ]
  },
  {
   "cell_type": "code",
   "execution_count": 7,
   "metadata": {},
   "outputs": [
    {
     "name": "stdout",
     "output_type": "stream",
     "text": [
      "0.99\n",
      "$0.05\n"
     ]
    }
   ],
   "source": [
    "p=[0.99,0.98,1.00,0.98,0.98,0.98,0.98,0.99,0.99,0.99]\n",
    "#[p.append(float(input())) for k in range(i)]\n",
    "k=sum(p)/len(p)\n",
    "k=round(k,2)\n",
    "print(k)\n",
    "su=0\n",
    "su=sum([su+k-sm for sm in p if sm <k])\n",
    "if int(su)==round(su,2):\n",
    "    su=str(int(su))+str(\".00\")\n",
    "else:\n",
    "    su=round(su,2)\n",
    "print(\"$\"+str(su))"
   ]
  },
  {
   "cell_type": "code",
   "execution_count": null,
   "metadata": {},
   "outputs": [],
   "source": []
  }
 ],
 "metadata": {
  "kernelspec": {
   "display_name": "Python 3",
   "language": "python",
   "name": "python3"
  },
  "language_info": {
   "codemirror_mode": {
    "name": "ipython",
    "version": 3
   },
   "file_extension": ".py",
   "mimetype": "text/x-python",
   "name": "python",
   "nbconvert_exporter": "python",
   "pygments_lexer": "ipython3",
   "version": "3.6.8"
  }
 },
 "nbformat": 4,
 "nbformat_minor": 2
}
