{
 "cells": [
  {
   "cell_type": "code",
   "execution_count": 12,
   "metadata": {},
   "outputs": [
    {
     "name": "stdout",
     "output_type": "stream",
     "text": [
      "5\n",
      "VECTOR\n",
      "                                     ENTRADA DO CARAPI\n",
      "           CARA PE\n",
      "         CARA MENO \n",
      "CARA TUUUUUUUUUUUUUUUU\n",
      "                VECTOR\n",
      "\n",
      "\n",
      "     ENTRADA DO CARAPI\n",
      "\n",
      "\n",
      "               CARA PE\n",
      "\n",
      "\n",
      "             CARA MENO\n",
      "\n",
      "\n",
      "CARA TUUUUUUUUUUUUUUUU\n",
      "\n",
      "\n"
     ]
    }
   ],
   "source": [
    "a=[]\n",
    "l1=[]\n",
    "kk=int(input())\n",
    "\n",
    "if kk>0:\n",
    "\n",
    "    for i in range(0,kk):\n",
    "        b=raw_input().split()\n",
    "        k=''\n",
    "        for d in b:\n",
    "            k+=d+' '\n",
    "        k=k.strip()\n",
    "        a.append(k)\n",
    "        l1.append(len(k))\n",
    "    \n",
    "    far=[]\n",
    "    nl=max(l1)\n",
    "    for d in a:\n",
    "        if len(d)<nl:\n",
    "            k1=\" \"*(nl-len(d))+d\n",
    "        else:\n",
    "            k1=d\n",
    "        far.append(k1)\n",
    "    \n",
    "    for d in far:\n",
    "        print d\n",
    "        print \"\\n\"\n",
    "    \n"
   ]
  },
  {
   "cell_type": "code",
   "execution_count": 5,
   "metadata": {},
   "outputs": [
    {
     "data": {
      "text/plain": [
       "['asd wdqwd dd dfd ddw dd', 'qwqw ew', 'we qw']"
      ]
     },
     "execution_count": 5,
     "metadata": {},
     "output_type": "execute_result"
    }
   ],
   "source": [
    "5\n",
    "VECTOR\n",
    "                                     ENTRADA DO CARAPI\n",
    "           CARA PE\n",
    "         CARA MENO           \n",
    "CARA TUUUUUUUUUUUUUUUU\n"
   ]
  },
  {
   "cell_type": "code",
   "execution_count": null,
   "metadata": {},
   "outputs": [],
   "source": []
  }
 ],
 "metadata": {
  "kernelspec": {
   "display_name": "Python 2",
   "language": "python",
   "name": "python2"
  },
  "language_info": {
   "codemirror_mode": {
    "name": "ipython",
    "version": 2
   },
   "file_extension": ".py",
   "mimetype": "text/x-python",
   "name": "python",
   "nbconvert_exporter": "python",
   "pygments_lexer": "ipython2",
   "version": "2.7.12"
  }
 },
 "nbformat": 4,
 "nbformat_minor": 2
}
