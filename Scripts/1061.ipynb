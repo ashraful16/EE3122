{
 "cells": [
  {
   "cell_type": "code",
   "execution_count": null,
   "metadata": {},
   "outputs": [],
   "source": [
    "Input Sample\tOutput Sample\n",
    "Dia 5\n",
    "08 : 12 : 23\n",
    "Dia 9\n",
    "06 : 13 : 23\n",
    "\n",
    "3 dia(s)\n",
    "22 hora(s)\n",
    "1 minuto(s)\n",
    "0 segundo(s)"
   ]
  },
  {
   "cell_type": "code",
   "execution_count": 31,
   "metadata": {},
   "outputs": [
    {
     "name": "stdout",
     "output_type": "stream",
     "text": [
      "dia 5\n",
      "8:12:23\n",
      "dia 5\n",
      "9:12:22\n",
      "[8, 12, 23] [9, 12, 22]\n",
      "\n",
      "\n",
      "1 dia(s)\n",
      "0 hora(s)\n",
      "59 minuto(s)\n",
      "59 segundo(s)\n"
     ]
    }
   ],
   "source": [
    "c=raw_input()\n",
    "c=c.split(\" \")\n",
    "d1=int(c[1])\n",
    "t1=[]\n",
    "d=raw_input()\n",
    "d=d.split(\":\")\n",
    "for data in d:\n",
    "    t1.append(int(data))\n",
    "\n",
    "c=raw_input()\n",
    "c=c.split(\" \")\n",
    "d2=int(c[1])\n",
    "t2=[]\n",
    "d=raw_input()\n",
    "d=d.split(\":\")\n",
    "for data in d:\n",
    "    t2.append(int(data))\n",
    "print t1,t2\n",
    "if d2!=d1 :\n",
    "    days=d2-d1-1\n",
    "else:\n",
    "    days=0\n",
    "if t2[0]-t1[0]<0:\n",
    "    hr=24-abs(t2[0]-t1[0])\n",
    "elif t2[0]-t1[0]==0 and t2[1]==t1[1] and t2[2]>=t1[2]:\n",
    "    days=days+1\n",
    "elif t2[0]-t1[0]>0:\n",
    "    hr=t2[0]-t1[0]\n",
    "if t2[1]-t1[1]<0:\n",
    "    mi=60-abs(t2[1]-t1[1])\n",
    "    \n",
    "elif  t2[1]==t1[1]:\n",
    "    mi=0\n",
    "else:\n",
    "    mi=t2[1]-t1[1]\n",
    "if t2[2]-t1[2]<0:\n",
    "    mi=mi-1\n",
    "    se=60-abs(t2[2]-t1[2])\n",
    "else:\n",
    "    se=t2[2]-t1[2]\n",
    "if int(t1[0])-int(t2[0])<0:\n",
    "    days=days+1\n",
    "if mi <0:\n",
    "    hr-=1\n",
    "    mi=60+mi\n",
    "print \"\\n\"\n",
    "print \"%d dia(s)\"%days\n",
    "print \"%d hora(s)\"%hr\n",
    "print \"%d minuto(s)\"%mi\n",
    "print \"%d segundo(s)\"%se\n",
    "#print days,hr,mi,se"
   ]
  },
  {
   "cell_type": "code",
   "execution_count": 48,
   "metadata": {},
   "outputs": [
    {
     "name": "stdout",
     "output_type": "stream",
     "text": [
      "d 5\n",
      "8:12:23\n",
      "d 6\n",
      "9:12:22\n",
      "[8, 12, 23] [9, 12, 22]\n",
      "1 dia(s)\n",
      "0 hora(s)\n",
      "59 minuto(s)\n",
      "59 segundo(s)\n"
     ]
    }
   ],
   "source": [
    "c=raw_input()\n",
    "c=c.split(\" \")\n",
    "d1=int(c[1])\n",
    "t1=[]\n",
    "d=raw_input()\n",
    "d=d.split(\":\")\n",
    "for data in d:\n",
    "    t1.append(int(data))\n",
    "c=raw_input()\n",
    "c=c.split(\" \")\n",
    "d2=int(c[1])\n",
    "t2=[]\n",
    "d=raw_input()\n",
    "d=d.split(\":\")\n",
    "for data in d:\n",
    "    t2.append(int(data))\n",
    "print t1,t2\n",
    "\n",
    "\n",
    "if d2!=d1 :\n",
    "    days=d2-d1-1\n",
    "else:\n",
    "    days=0\n",
    "if t2[0]-t1[0]>=0 and  d2-d1>0 :\n",
    "    days=days+1\n",
    "    if t2[1] -t1[1]<0 and t2[0]-t1[0]==0:\n",
    "        days-=1\n",
    "        \n",
    "if t2[0]-t1[0]<0:\n",
    "    hr=24-abs(t2[0]-t1[0])\n",
    "\n",
    "elif t2[0]-t1[0]>0:\n",
    "    hr=t2[0]-t1[0]\n",
    "if t2[1]-t1[1]<0:\n",
    "    mi=60-abs(t2[1]-t1[1])\n",
    "    hr-=1\n",
    "    \n",
    "elif  t2[1]==t1[1]:\n",
    "    mi=0\n",
    "else:\n",
    "    mi=t2[1]-t1[1]\n",
    "if t2[2]-t1[2]<0:\n",
    "    mi=mi-1\n",
    "    se=60-abs(t2[2]-t1[2])\n",
    "else:\n",
    "    se=t2[2]-t1[2]\n",
    "\n",
    "if mi <0:\n",
    "    hr-=1\n",
    "    mi=60+mi\n",
    "\n",
    "print \"%d dia(s)\"%days\n",
    "print \"%d hora(s)\"%hr\n",
    "print \"%d minuto(s)\"%mi\n",
    "print \"%d segundo(s)\"%se\n",
    "#print days,hr,mi,se"
   ]
  },
  {
   "cell_type": "code",
   "execution_count": null,
   "metadata": {},
   "outputs": [],
   "source": [
    "Dia 5\n",
    "08 : 12 : 23\n",
    "Dia 6\n",
    "09 : 12 : 22"
   ]
  },
  {
   "cell_type": "code",
   "execution_count": 14,
   "metadata": {},
   "outputs": [
    {
     "name": "stdout",
     "output_type": "stream",
     "text": [
      "dia 5\n",
      "8:12:23\n",
      "dia 5\n",
      "9:12:22\n",
      "[8, 12, 23] [9, 12, 22]\n",
      "0 dia(s)\n",
      "0 hora(s)\n",
      "59 minuto(s)\n",
      "59 segundo(s)\n"
     ]
    }
   ],
   "source": [
    "c=raw_input()\n",
    "c=c.split(\" \")\n",
    "d1=int(c[1])\n",
    "t1=[]\n",
    "d=raw_input()\n",
    "d=d.split(\":\")\n",
    "for data in d:\n",
    "    t1.append(int(data))\n",
    "c=raw_input()\n",
    "c=c.split(\" \")\n",
    "d2=int(c[1])\n",
    "t2=[]\n",
    "d=raw_input()\n",
    "d=d.split(\":\")\n",
    "for data in d:\n",
    "    t2.append(int(data))\n",
    "#print t1,t2\n",
    "\n",
    "\n",
    "if d2!=d1 :\n",
    "    days=d2-d1-1\n",
    "    if t2[0]-t1[0]>=0:\n",
    "        days+=1\n",
    "        #hr=t2[0]-t1[0]\n",
    "else:\n",
    "    days=0\n",
    "#print t2[0],t1[0],bool(t2[0]-t1[0]<0)\n",
    "if t2[0]-t1[0]<0:\n",
    "    hr=24-abs(t2[0]-t1[0])\n",
    "else:\n",
    "    hr=t2[0]-t1[0]\n",
    "\n",
    "if t2[1]-t1[1]<0:\n",
    "    mi=60-abs(t2[1]-t1[1])\n",
    "    hr-=1\n",
    "\n",
    "else:\n",
    "    mi=t2[1]-t1[1]\n",
    "if t2[2]-t1[2]<0:\n",
    "    mi=mi-1\n",
    "    if mi <0:\n",
    "        hr-=1\n",
    "        mi=60+mi\n",
    "    se=60-abs(t2[2]-t1[2])\n",
    "else:\n",
    "    se=t2[2]-t1[2]\n",
    "\n",
    "\n",
    "print \"%d dia(s)\"%days\n",
    "print \"%d hora(s)\"%hr\n",
    "print \"%d minuto(s)\"%mi\n",
    "print \"%d segundo(s)\"%se\n",
    "#print days,hr,mi,se"
   ]
  },
  {
   "cell_type": "code",
   "execution_count": null,
   "metadata": {},
   "outputs": [],
   "source": [
    "Dia 5\n",
    "08 : 12 : 23\n",
    "Dia 5\n",
    "09 : 12 : 22"
   ]
  },
  {
   "cell_type": "code",
   "execution_count": 6,
   "metadata": {},
   "outputs": [
    {
     "name": "stdout",
     "output_type": "stream",
     "text": [
      "[8, 12, 23] [9, 13, 25]\n",
      "9 8 False\n",
      "0 dia(s)\n",
      "1 hora(s)\n",
      "1 minuto(s)\n",
      "2 segundo(s)\n"
     ]
    }
   ],
   "source": []
  },
  {
   "cell_type": "code",
   "execution_count": null,
   "metadata": {},
   "outputs": [],
   "source": []
  }
 ],
 "metadata": {
  "kernelspec": {
   "display_name": "Python 2",
   "language": "python",
   "name": "python2"
  },
  "language_info": {
   "codemirror_mode": {
    "name": "ipython",
    "version": 2
   },
   "file_extension": ".py",
   "mimetype": "text/x-python",
   "name": "python",
   "nbconvert_exporter": "python",
   "pygments_lexer": "ipython2",
   "version": "2.7.12"
  }
 },
 "nbformat": 4,
 "nbformat_minor": 2
}
