{
 "cells": [
  {
   "cell_type": "code",
   "execution_count": 26,
   "metadata": {},
   "outputs": [
    {
     "name": "stdout",
     "output_type": "stream",
     "text": [
      "2\n",
      "ab\n",
      "ba\n",
      "Conjunto Bom\n",
      "0\n"
     ]
    }
   ],
   "source": [
    "c=int(input())\n",
    "a=[]\n",
    "for i in range(c):\n",
    "    a.append(str(input()))\n",
    "\n",
    "#print(a)\n",
    "\n",
    "fl=0\n",
    "for i in range(c):\n",
    "    for j in range(i+1,c):\n",
    "        if a[i] in a[j] or a[j] in a[i]:\n",
    "            ci,di=a[i],a[j]\n",
    "            if ci[:len(di)]== a[j] or di[:len(ci)]==a[i] :\n",
    "                \n",
    "                fl+=1\n",
    "        \n",
    "    \n",
    "if fl==0:\n",
    "    print(\"Conjunto Bom\")\n",
    "else:\n",
    "    \n",
    "    print(\"Conjunto Ruim\")\n"
   ]
  },
  {
   "cell_type": "code",
   "execution_count": 5,
   "metadata": {},
   "outputs": [
    {
     "data": {
      "text/plain": [
       "True"
      ]
     },
     "execution_count": 5,
     "metadata": {},
     "output_type": "execute_result"
    }
   ],
   "source": [
    "3\n",
    "abc\n",
    "dae\n",
    "abcde\n",
    "2\n",
    "abc\n",
    "def\n",
    "2\n",
    "abc\n",
    "abcdef\n",
    "2\n",
    "abcdef\n",
    "abc\n",
    "2\n",
    "acde\n",
    "acde\n",
    "4\n",
    "a\n",
    "b\n",
    "c\n",
    "b\n",
    "2\n",
    "a\n",
    "a\n",
    "3\n",
    "a\n",
    "b\n",
    "c\n",
    "2\n",
    "a\n",
    "ab\n",
    "2\n",
    "ab\n",
    "a\n",
    "2\n",
    "ab\n",
    "ac\n",
    "0"
   ]
  },
  {
   "cell_type": "code",
   "execution_count": 49,
   "metadata": {},
   "outputs": [
    {
     "name": "stdout",
     "output_type": "stream",
     "text": [
      "3\n",
      "abc\n",
      "dae\n",
      "abcde\n",
      "Conjunto Ruim\n",
      "2\n",
      "abc\n",
      "def\n",
      "Conjunto Bom\n",
      "2\n",
      "abc\n",
      "abcdef\n",
      "Conjunto Ruim\n",
      "2\n",
      "abcdef\n",
      "abc\n",
      "Conjunto Ruim\n",
      "2\n",
      "acde\n",
      "acde\n",
      "Conjunto Ruim\n",
      "4\n",
      "a\n",
      "b\n",
      "c\n",
      "d\n",
      "Conjunto Bom\n",
      "2\n",
      "a\n",
      "a\n",
      "Conjunto Ruim\n",
      "3\n",
      "a\n",
      "b\n",
      "c\n",
      "Conjunto Bom\n",
      "2\n",
      "a\n",
      "ab\n",
      "Conjunto Ruim\n",
      "2\n",
      "ab\n",
      "a\n",
      "Conjunto Ruim\n",
      "2\n",
      "ab\n",
      "ac\n",
      "Conjunto Bom\n",
      "4\n",
      "a\n",
      "b\n",
      "c\n",
      "b\n",
      "Conjunto Ruim\n",
      "0\n"
     ]
    }
   ],
   "source": [
    "while True:\n",
    "    c=int(input())\n",
    "    #print(c)\n",
    "    if c==0:\n",
    "        break\n",
    "            \n",
    "    a=[]\n",
    "    for i in range(c):\n",
    "        a.append(str(input()))\n",
    "\n",
    "\n",
    "        \n",
    "\n",
    "    fl=0\n",
    "    for i in range(c):\n",
    "        for j in range(i+1,c):\n",
    "            if a[i] in a[j] or a[j] in a[i]:\n",
    "                ci,di=a[i],a[j]\n",
    "                if ci[:len(di)]== a[j] or di[:len(ci)]==a[i] :\n",
    "\n",
    "                    fl+=1\n",
    "\n",
    "\n",
    "                    \n",
    "    if fl==0:\n",
    "        print(\"Conjunto Bom\")\n",
    "    else:\n",
    "\n",
    "        print(\"Conjunto Ruim\")\n",
    "    "
   ]
  },
  {
   "cell_type": "code",
   "execution_count": 50,
   "metadata": {},
   "outputs": [
    {
     "name": "stdout",
     "output_type": "stream",
     "text": [
      "3\n",
      "abcd\n",
      "cd\n",
      "ok\n",
      "Conjunto Bom\n",
      "2\n",
      "ab\n",
      "ab\n",
      "Conjunto Ruim\n",
      "3\n",
      "pop\n",
      "po\n",
      "nok\n",
      "Conjunto Ruim\n",
      "2\n",
      "ab\n",
      "ba\n",
      "Conjunto Bom\n",
      "0\n"
     ]
    }
   ],
   "source": [
    "while True:\n",
    "    c=int(input())\n",
    "    if c==0:\n",
    "        break\n",
    "            \n",
    "    a=[]\n",
    "    for i in range(c):\n",
    "        sti=(input())\n",
    "        a.append(sti)\n",
    "\n",
    "\n",
    "        \n",
    "\n",
    "    fl=0\n",
    "    for i in range(c):\n",
    "        for j in range(i+1,c):\n",
    "            #if a[i] in a[j] or a[j] in a[i]:\n",
    "            ci,di=a[i],a[j]\n",
    "            if ci[:len(di)]== a[j] or di[:len(ci)]==a[i] :\n",
    "\n",
    "                fl+=1\n",
    "\n",
    "\n",
    "                    \n",
    "    if fl==0:\n",
    "        print(\"Conjunto Bom\")\n",
    "    else:\n",
    "\n",
    "        print(\"Conjunto Ruim\")\n",
    "    "
   ]
  },
  {
   "cell_type": "code",
   "execution_count": null,
   "metadata": {},
   "outputs": [],
   "source": [
    "3\n",
    "abcd\n",
    "cd\n",
    "ok\n",
    "2\n",
    "ab\n",
    "ab\n",
    "3\n",
    "pop\n",
    "po\n",
    "nok\n",
    "2\n",
    "ab\n",
    "ba\n",
    "0"
   ]
  },
  {
   "cell_type": "code",
   "execution_count": 54,
   "metadata": {},
   "outputs": [
    {
     "name": "stdout",
     "output_type": "stream",
     "text": [
      "3\n",
      "0 1\n",
      "0 2\n",
      "1 2\n",
      "\n"
     ]
    },
    {
     "ename": "ValueError",
     "evalue": "invalid literal for int() with base 10: ''",
     "output_type": "error",
     "traceback": [
      "\u001b[1;31m---------------------------------------------------------------------------\u001b[0m",
      "\u001b[1;31mValueError\u001b[0m                                Traceback (most recent call last)",
      "\u001b[1;32m<ipython-input-54-6ae10c8ca34e>\u001b[0m in \u001b[0;36m<module>\u001b[1;34m()\u001b[0m\n\u001b[0;32m      1\u001b[0m \u001b[1;32mwhile\u001b[0m \u001b[1;32mTrue\u001b[0m\u001b[1;33m:\u001b[0m\u001b[1;33m\u001b[0m\u001b[0m\n\u001b[1;32m----> 2\u001b[1;33m     \u001b[0mc\u001b[0m\u001b[1;33m=\u001b[0m\u001b[0mint\u001b[0m\u001b[1;33m(\u001b[0m\u001b[0minput\u001b[0m\u001b[1;33m(\u001b[0m\u001b[1;33m)\u001b[0m\u001b[1;33m)\u001b[0m\u001b[1;33m\u001b[0m\u001b[0m\n\u001b[0m\u001b[0;32m      3\u001b[0m     \u001b[1;32mif\u001b[0m \u001b[0mc\u001b[0m\u001b[1;33m==\u001b[0m\u001b[1;36m0\u001b[0m\u001b[1;33m:\u001b[0m\u001b[1;33m\u001b[0m\u001b[0m\n\u001b[0;32m      4\u001b[0m         \u001b[1;32mbreak\u001b[0m\u001b[1;33m\u001b[0m\u001b[0m\n\u001b[0;32m      5\u001b[0m \u001b[1;33m\u001b[0m\u001b[0m\n",
      "\u001b[1;31mValueError\u001b[0m: invalid literal for int() with base 10: ''"
     ]
    }
   ],
   "source": []
  },
  {
   "cell_type": "code",
   "execution_count": null,
   "metadata": {},
   "outputs": [],
   "source": []
  }
 ],
 "metadata": {
  "kernelspec": {
   "display_name": "Python 3",
   "language": "python",
   "name": "python3"
  },
  "language_info": {
   "codemirror_mode": {
    "name": "ipython",
    "version": 3
   },
   "file_extension": ".py",
   "mimetype": "text/x-python",
   "name": "python",
   "nbconvert_exporter": "python",
   "pygments_lexer": "ipython3",
   "version": "3.6.5"
  }
 },
 "nbformat": 4,
 "nbformat_minor": 2
}
