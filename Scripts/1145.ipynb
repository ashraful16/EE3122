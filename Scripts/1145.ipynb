{
 "cells": [
  {
   "cell_type": "code",
   "execution_count": 27,
   "metadata": {},
   "outputs": [
    {
     "name": "stdout",
     "output_type": "stream",
     "text": [
      "3 6\n",
      "1 2 3 \n",
      "4 5 6 \n"
     ]
    }
   ],
   "source": [
    "x=raw_input()\n",
    "x=x.split(\" \")\n",
    "x,y=int(x[0]),int(x[1])\n",
    "i=1\n",
    "st=1\n",
    "while st<y:\n",
    "\n",
    "    j=0\n",
    "    while j<x:\n",
    "        print str(st),\n",
    "        st+=1\n",
    "        j+=1\n",
    "    print \"\"\n",
    "\n",
    "    i+=1\n",
    "\n"
   ]
  },
  {
   "cell_type": "code",
   "execution_count": 30,
   "metadata": {},
   "outputs": [
    {
     "name": "stdout",
     "output_type": "stream",
     "text": [
      "3 6\n",
      "1 2 3\n",
      "4 5 6\n"
     ]
    }
   ],
   "source": [
    "x=raw_input()\n",
    "x=x.split(\" \")\n",
    "x,y=int(x[0]),int(x[1])\n",
    "n1,n2 = x,y\n",
    "cont = 1\n",
    "for i in range(1,(int((n2/n1))+1)):\n",
    "    r = \"\"\n",
    "    for y in range(n1):\n",
    "        r += str(cont) + \" \"\n",
    "        cont += 1\n",
    "    print(r[:-1])"
   ]
  },
  {
   "cell_type": "code",
   "execution_count": null,
   "metadata": {},
   "outputs": [],
   "source": []
  }
 ],
 "metadata": {
  "kernelspec": {
   "display_name": "Python 2",
   "language": "python",
   "name": "python2"
  },
  "language_info": {
   "codemirror_mode": {
    "name": "ipython",
    "version": 2
   },
   "file_extension": ".py",
   "mimetype": "text/x-python",
   "name": "python",
   "nbconvert_exporter": "python",
   "pygments_lexer": "ipython2",
   "version": "2.7.12"
  }
 },
 "nbformat": 4,
 "nbformat_minor": 2
}
