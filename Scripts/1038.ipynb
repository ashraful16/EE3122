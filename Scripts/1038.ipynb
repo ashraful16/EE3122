{
 "cells": [
  {
   "cell_type": "code",
   "execution_count": 5,
   "metadata": {},
   "outputs": [
    {
     "name": "stdout",
     "output_type": "stream",
     "text": [
      "2 3\n",
      "Total : R$ 13.50\n"
     ]
    }
   ],
   "source": [
    "a=raw_input()\n",
    "a=a.split(\" \")\n",
    "\n",
    "c=int(a[0])\n",
    "q=int(a[1])\n",
    "t=[]\n",
    "if c==1:\n",
    "\tt=4.00\n",
    "elif c==2:\n",
    "\tt=4.50\n",
    "elif c==3:\n",
    "\tt=5.00\n",
    "elif c==4:\n",
    "\tt=2.00\n",
    "elif c==5:\n",
    "\tt=1.50\n",
    "cst=q*t\n",
    "print \"Total: R$ %.2f\"%cst"
   ]
  },
  {
   "cell_type": "code",
   "execution_count": null,
   "metadata": {},
   "outputs": [],
   "source": [
    "Input Sample\tOutput Sample\n",
    "3 2\n",
    "\n",
    "Total: R$ 10.00\n",
    "\n",
    "4 3\n",
    "\n",
    "Total: R$ 6.00\n",
    "\n",
    "2 3\n",
    "\n",
    "Total: R$ 13.50"
   ]
  }
 ],
 "metadata": {
  "kernelspec": {
   "display_name": "Python 2",
   "language": "python",
   "name": "python2"
  },
  "language_info": {
   "codemirror_mode": {
    "name": "ipython",
    "version": 2
   },
   "file_extension": ".py",
   "mimetype": "text/x-python",
   "name": "python",
   "nbconvert_exporter": "python",
   "pygments_lexer": "ipython2",
   "version": "2.7.12"
  }
 },
 "nbformat": 4,
 "nbformat_minor": 2
}
