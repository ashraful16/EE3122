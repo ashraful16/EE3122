{
 "cells": [
  {
   "cell_type": "code",
   "execution_count": null,
   "metadata": {},
   "outputs": [],
   "source": [
    "Input Sample\tOutput Sample\n",
    "2 2\n",
    "3 -2\n",
    "-8 -1\n",
    "-7 1\n",
    "0 2\n",
    "\n",
    "primeiro\n",
    "quarto\n",
    "terceiro\n",
    "segundo"
   ]
  },
  {
   "cell_type": "code",
   "execution_count": 6,
   "metadata": {},
   "outputs": [
    {
     "name": "stdout",
     "output_type": "stream",
     "text": [
      "1 -1\n",
      "2 -9\n",
      "3 4\n",
      "-7 1\n",
      "00 1\n",
      "quarto\n",
      "quarto\n",
      "primeiro\n",
      "segundo\n"
     ]
    }
   ],
   "source": [
    "c=True\n",
    "def oper(x,y):\n",
    "    if x>0 and y>0:\n",
    "        s=\"primeiro\"\n",
    "    elif x>0 and y<0:\n",
    "        s=\"quarto\"\n",
    "    elif x<0 and y>0:\n",
    "        s=\"segundo\"\n",
    "    elif x<0 and y <0:\n",
    "        s=\"terceiro\"\n",
    "    return s\n",
    "ci=0\n",
    "st = list()\n",
    "\n",
    "while c==True:\n",
    "    i=raw_input()\n",
    "    i=i.split(\" \")\n",
    "    t1,t2=int(i[0]),int(i[1])\n",
    "    if t1==0 or t2==0:\n",
    "        c=False\n",
    "    else:\n",
    "        cd=oper(t1,t2)\n",
    "        #re=re.append(cd)\n",
    "        #re=list(re)\n",
    "        st.append(cd)\n",
    "        #re[ci]=cd\n",
    "    ci+=1\n",
    "    \n",
    "\n",
    "for s in st:\n",
    "    print s\n"
   ]
  },
  {
   "cell_type": "code",
   "execution_count": null,
   "metadata": {},
   "outputs": [],
   "source": [
    "1 -1\n",
    "2 -9\n",
    "3 4\n",
    "-7 1\n",
    "0 1"
   ]
  },
  {
   "cell_type": "code",
   "execution_count": null,
   "metadata": {},
   "outputs": [],
   "source": [
    "strings2"
   ]
  },
  {
   "cell_type": "code",
   "execution_count": null,
   "metadata": {},
   "outputs": [],
   "source": []
  }
 ],
 "metadata": {
  "kernelspec": {
   "display_name": "Python 2",
   "language": "python",
   "name": "python2"
  },
  "language_info": {
   "codemirror_mode": {
    "name": "ipython",
    "version": 2
   },
   "file_extension": ".py",
   "mimetype": "text/x-python",
   "name": "python",
   "nbconvert_exporter": "python",
   "pygments_lexer": "ipython2",
   "version": "2.7.12"
  }
 },
 "nbformat": 4,
 "nbformat_minor": 2
}
