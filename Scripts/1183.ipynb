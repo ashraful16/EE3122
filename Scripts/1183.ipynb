{
 "cells": [
  {
   "cell_type": "code",
   "execution_count": null,
   "metadata": {},
   "outputs": [],
   "source": []
  },
  {
   "cell_type": "code",
   "execution_count": 4,
   "metadata": {},
   "outputs": [
    {
     "name": "stdout",
     "output_type": "stream",
     "text": [
      "S\n",
      "1\n",
      "2\n",
      "3\n",
      "4\n",
      "5\n",
      "6\n",
      "7\n",
      "8\n",
      "9\n",
      "11.0\n"
     ]
    }
   ],
   "source": [
    "#inp=int(raw_input())\n",
    "stri=raw_input()\n",
    "l=12\n",
    "summ,pp=0,0\n",
    "\n",
    "r,c=0,0\n",
    "for i in range(l*l):\n",
    "\n",
    "    d=float(raw_input())\n",
    "    if (r <c):\n",
    "        summ=summ+float(d)\n",
    "        pp+=1\n",
    "    c+=1\n",
    "    if c>l-1:\n",
    "        r,c=r+1,0\n",
    "    \n",
    "if stri ==\"S\":\n",
    "    print \"%.1f\"%summ\n",
    "elif stri ==\"M\":\n",
    "    num=float(l*l-l*.5*(l+1))\n",
    "    print \"%.1f\"%(summ/float(pp))"
   ]
  },
  {
   "cell_type": "code",
   "execution_count": null,
   "metadata": {},
   "outputs": [],
   "source": []
  }
 ],
 "metadata": {
  "kernelspec": {
   "display_name": "Python 2",
   "language": "python",
   "name": "python2"
  },
  "language_info": {
   "codemirror_mode": {
    "name": "ipython",
    "version": 2
   },
   "file_extension": ".py",
   "mimetype": "text/x-python",
   "name": "python",
   "nbconvert_exporter": "python",
   "pygments_lexer": "ipython2",
   "version": "2.7.12"
  }
 },
 "nbformat": 4,
 "nbformat_minor": 2
}
