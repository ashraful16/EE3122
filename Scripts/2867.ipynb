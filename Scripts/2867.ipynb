{
 "cells": [
  {
   "cell_type": "code",
   "execution_count": 4,
   "metadata": {},
   "outputs": [
    {
     "name": "stdout",
     "output_type": "stream",
     "text": [
      "4\n",
      "1 1\n",
      "1\n",
      "2 10\n",
      "4\n",
      "3 9\n",
      "5\n",
      "100 100\n",
      "201\n"
     ]
    }
   ],
   "source": [
    "i=int(input())\n",
    "for j in range(i):\n",
    "    a,b=raw_input().split(\" \")\n",
    "    a,b=int(a),int(b)\n",
    "    c=a**b\n",
    "    c=str(c)\n",
    "    print(len(c))"
   ]
  },
  {
   "cell_type": "code",
   "execution_count": null,
   "metadata": {},
   "outputs": [],
   "source": [
    "Input Sample\tOutput Sample\n",
    "4\n",
    "1 1\n",
    "2 10\n",
    "3 9\n",
    "100 100\n",
    "\n",
    "1\n",
    "4\n",
    "5\n",
    "201"
   ]
  }
 ],
 "metadata": {
  "kernelspec": {
   "display_name": "Python 2",
   "language": "python",
   "name": "python2"
  },
  "language_info": {
   "codemirror_mode": {
    "name": "ipython",
    "version": 2
   },
   "file_extension": ".py",
   "mimetype": "text/x-python",
   "name": "python",
   "nbconvert_exporter": "python",
   "pygments_lexer": "ipython2",
   "version": "2.7.12"
  }
 },
 "nbformat": 4,
 "nbformat_minor": 2
}
