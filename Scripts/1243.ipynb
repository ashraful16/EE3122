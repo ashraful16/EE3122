{
 "cells": [
  {
   "cell_type": "code",
   "execution_count": 21,
   "metadata": {},
   "outputs": [
    {
     "name": "stdout",
     "output_type": "stream",
     "text": [
      " no9 . wor7ds he8re. hj..\n",
      "6\n",
      "1000\n"
     ]
    }
   ],
   "source": [
    "c=raw_input().split(\" \")\n",
    "\n",
    "su=0\n",
    "co=0\n",
    "k=False\n",
    "for d in c:\n",
    "    \n",
    "    for le in d:\n",
    "        \n",
    "        if (ord(le)<=122 and ord(le) >=97) or (ord(le)<= 90  and  ord(le) >=65):\n",
    "            k=True\n",
    "        else:\n",
    "            k=False\n",
    "            \n",
    "    if k==True:\n",
    "        su,co=su+len(d),co+1\n",
    "\n",
    "if co==0:\n",
    "    av=0\n",
    "else:    \n",
    "    av=su/co\n",
    "    \n",
    "    \n",
    "print(av)\n",
    "\n",
    "if av>=6:\n",
    "    print(\"1000\")\n",
    "elif av>=4 and av<=5:\n",
    "    print(\"500\")\n",
    "elif av<=3:\n",
    "    print(\"250\")"
   ]
  },
  {
   "cell_type": "code",
   "execution_count": null,
   "metadata": {},
   "outputs": [],
   "source": [
    " \n",
    "    \n",
    "    \n",
    "Sample Input\tSample Output\n",
    "This is a problem statement\n",
    "523hi.\n",
    "Implement a class H5 which contains some method.\n",
    " no9 . wor7ds he8re. hj..\n",
    "\n",
    "500\n",
    "250\n",
    "500\n",
    "250\n",
    "    \n",
    "    If the average length of the words of the statement is less than or equal to 3, \n",
    "    the problem difficulty receives 250 points.\n",
    "    \n",
    "    If the average length of the words of the statement is 4 or 5, \n",
    "    the problem difficulty receives 500 points. If the average length\n",
    "    of utterance of words is greater than or equal to 6, the problem\n",
    "    difficulty receives 1000 points."
   ]
  },
  {
   "cell_type": "code",
   "execution_count": 25,
   "metadata": {},
   "outputs": [
    {
     "name": "stdout",
     "output_type": "stream",
     "text": [
      " no9 . wor7ds he8re. hj..\n",
      "0\n",
      "250\n"
     ]
    }
   ],
   "source": [
    "c=raw_input().split(\" \")\n",
    "\n",
    "su=0\n",
    "co=0\n",
    "k=False\n",
    "for d in c:\n",
    "    \n",
    "    for le in d:\n",
    "        \n",
    "        if (ord(le)<=122 and ord(le) >=97) or (ord(le)<= 90  and  ord(le) >=65):\n",
    "            k=True\n",
    "        else:\n",
    "            k=False\n",
    "            if k==False:\n",
    "                break\n",
    "            \n",
    "            \n",
    "    if k==True:\n",
    "        su,co=su+len(d),co+1\n",
    "\n",
    "if co==0:\n",
    "    av=0\n",
    "else:    \n",
    "    av=su/co\n",
    "    \n",
    "    \n",
    "#rint(av)\n",
    "\n",
    "if av>=6:\n",
    "    print(\"1000\")\n",
    "elif av>=4 and av<=5:\n",
    "    print(\"500\")\n",
    "elif av<=3:\n",
    "    print(\"250\")"
   ]
  },
  {
   "cell_type": "code",
   "execution_count": 10,
   "metadata": {},
   "outputs": [
    {
     "data": {
      "text/plain": [
       "122"
      ]
     },
     "execution_count": 10,
     "metadata": {},
     "output_type": "execute_result"
    }
   ],
   "source": [
    "    \n",
    "Sample Input\tSample Output\n",
    "This is a problem statement\n",
    "523hi.\n",
    "Implement a class H5 which contains some method.\n",
    " no9 . wor7ds he8re. hj..\n",
    "\n",
    "500\n",
    "250\n",
    "500\n",
    "250\n",
    "    "
   ]
  },
  {
   "cell_type": "code",
   "execution_count": 11,
   "metadata": {},
   "outputs": [
    {
     "data": {
      "text/plain": [
       "65"
      ]
     },
     "execution_count": 11,
     "metadata": {},
     "output_type": "execute_result"
    }
   ],
   "source": [
    "ord('A')"
   ]
  },
  {
   "cell_type": "code",
   "execution_count": 12,
   "metadata": {},
   "outputs": [
    {
     "data": {
      "text/plain": [
       "90"
      ]
     },
     "execution_count": 12,
     "metadata": {},
     "output_type": "execute_result"
    }
   ],
   "source": [
    "ord('Z')"
   ]
  },
  {
   "cell_type": "code",
   "execution_count": null,
   "metadata": {},
   "outputs": [
    {
     "name": "stdout",
     "output_type": "stream",
     "text": [
      "palavra2 frase3\n",
      "250\n",
      "palavra2 \n",
      "250\n",
      "frase3\n",
      "250\n",
      "aaaaaaaa. aaaaaaaaaaaaaa. aaaaaaaaaaaaaaaa.\n",
      "250\n"
     ]
    }
   ],
   "source": [
    "while True:\n",
    "    try:\n",
    "        c=raw_input().split(\" \")\n",
    "\n",
    "        su=0\n",
    "        co=0\n",
    "        k=False\n",
    "        for d in c:\n",
    "    \n",
    "            for le in d:\n",
    "        \n",
    "                if (ord(le)<=122 and ord(le) >=97) or (ord(le)<= 90  and  ord(le) >=65):\n",
    "                    k=True\n",
    "                else:\n",
    "                    k=False\n",
    "                    if k==False:\n",
    "                        break\n",
    "            \n",
    "            \n",
    "            if k==True:\n",
    "                su,co=su+len(d),co+1\n",
    "\n",
    "        if co==0:\n",
    "            av=0\n",
    "        else:    \n",
    "            av=su/co\n",
    "    \n",
    "    \n",
    "#rint(av)\n",
    "\n",
    "        if av>=6:\n",
    "            print(\"1000\")\n",
    "        elif av>=4 and av<=5:\n",
    "            print(\"500\")\n",
    "        elif av<=3:\n",
    "            print(\"250\")\n",
    "            \n",
    "    except:\n",
    "        break"
   ]
  },
  {
   "cell_type": "code",
   "execution_count": null,
   "metadata": {},
   "outputs": [],
   "source": [
    "\n",
    "Sample Input\tSample Output\n",
    "This is a problem statement\n",
    "523hi.\n",
    "Implement a class H5 which contains some method.\n",
    " no9 . wor7ds he8re. hj..\n",
    "\n",
    "500\n",
    "250\n",
    "500\n",
    "250"
   ]
  }
 ],
 "metadata": {
  "kernelspec": {
   "display_name": "Python 2",
   "language": "python",
   "name": "python2"
  },
  "language_info": {
   "codemirror_mode": {
    "name": "ipython",
    "version": 2
   },
   "file_extension": ".py",
   "mimetype": "text/x-python",
   "name": "python",
   "nbconvert_exporter": "python",
   "pygments_lexer": "ipython2",
   "version": "2.7.12"
  }
 },
 "nbformat": 4,
 "nbformat_minor": 2
}
