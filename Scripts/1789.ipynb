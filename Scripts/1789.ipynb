{
 "cells": [
  {
   "cell_type": "code",
   "execution_count": null,
   "metadata": {},
   "outputs": [
    {
     "name": "stdout",
     "output_type": "stream",
     "text": [
      "2\n",
      "3 5\n",
      "5\n",
      "1\n",
      "3\n",
      "4 8 15\n",
      "15\n",
      "2\n",
      "4\n",
      "5 10 50 5\n",
      "50\n",
      "3\n"
     ]
    }
   ],
   "source": [
    "try:\n",
    "    while True:\n",
    "        inp=int(input())\n",
    "        cc=raw_input().split(\" \")\n",
    "        mx=int(cc[0])\n",
    "        for fts in cc:\n",
    "            if mx<int(fts):\n",
    "                mx=int(fts)\n",
    "        \n",
    "        if mx>0 and mx<10:\n",
    "            print \"1\"\n",
    "        elif mx>=10 and mx<20:\n",
    "            print 2\n",
    "        elif mx>=20:\n",
    "            print \"3\"\n",
    "except EOFError:\n",
    "    False\n",
    "        "
   ]
  },
  {
   "cell_type": "code",
   "execution_count": null,
   "metadata": {},
   "outputs": [],
   "source": [
    "2\n",
    "3 5\n",
    "3\n",
    "4 8 15\n",
    "4\n",
    "5 10 50 5 "
   ]
  }
 ],
 "metadata": {
  "kernelspec": {
   "display_name": "Python 2",
   "language": "python",
   "name": "python2"
  },
  "language_info": {
   "codemirror_mode": {
    "name": "ipython",
    "version": 2
   },
   "file_extension": ".py",
   "mimetype": "text/x-python",
   "name": "python",
   "nbconvert_exporter": "python",
   "pygments_lexer": "ipython2",
   "version": "2.7.12"
  }
 },
 "nbformat": 4,
 "nbformat_minor": 2
}
