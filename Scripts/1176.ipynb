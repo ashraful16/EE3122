{
 "cells": [
  {
   "cell_type": "code",
   "execution_count": 4,
   "metadata": {},
   "outputs": [
    {
     "name": "stdout",
     "output_type": "stream",
     "text": [
      "[0]\n",
      "3\n",
      "0\n",
      "Fib(0) = 0\n",
      "4\n",
      "Fib(4) = 3\n",
      "2\n",
      "Fib(2) = 1\n"
     ]
    }
   ],
   "source": [
    "i=0\n",
    "ar=[]\n",
    "ar.append(0)\n",
    "a,b=0,1\n",
    "\n",
    "while i<=60:\n",
    "    \n",
    "    ar.append(b)\n",
    "    a,b=b,a+b\n",
    "    i+=1\n",
    "#print ar\n",
    "    \n",
    "    \n",
    "inp=int(input())\n",
    "\n",
    "j=0\n",
    "while j<inp:\n",
    "    inf=int(input())\n",
    "    print \"Fib(%d) = %d\"%(inf,ar[inf])\n",
    "    j+=1"
   ]
  },
  {
   "cell_type": "code",
   "execution_count": null,
   "metadata": {},
   "outputs": [],
   "source": [
    "3\n",
    "0\n",
    "4\n",
    "2\n",
    "\n",
    "Fib(0) = 0\n",
    "Fib(4) = 3\n",
    "Fib(2) = 1"
   ]
  }
 ],
 "metadata": {
  "kernelspec": {
   "display_name": "Python 2",
   "language": "python",
   "name": "python2"
  },
  "language_info": {
   "codemirror_mode": {
    "name": "ipython",
    "version": 2
   },
   "file_extension": ".py",
   "mimetype": "text/x-python",
   "name": "python",
   "nbconvert_exporter": "python",
   "pygments_lexer": "ipython2",
   "version": "2.7.12"
  }
 },
 "nbformat": 4,
 "nbformat_minor": 2
}
