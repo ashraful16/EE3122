{
 "cells": [
  {
   "cell_type": "code",
   "execution_count": 2,
   "metadata": {},
   "outputs": [
    {
     "name": "stdout",
     "output_type": "stream",
     "text": [
      "3\n",
      "123321\n",
      "Not Prime\n",
      "123\n",
      "Not Prime\n",
      "103\n",
      "\t5\n",
      "Prime\n"
     ]
    }
   ],
   "source": [
    "def is_prime(n):\n",
    "    if n == 2 or n == 3: return True\n",
    "    if n < 2 or n%2 == 0: return False\n",
    "    if n < 9: return True\n",
    "    if n%3 == 0: return False\n",
    "    r = int(n**0.5)\n",
    "    f = 5\n",
    "    while f <= r:\n",
    "        #print '\\t',f\n",
    "        if n%f == 0: return False\n",
    "        if n%(f+2) == 0: return False\n",
    "        f +=6\n",
    "    return True \n",
    "\n",
    "\n",
    "for i in range(int(input())):\n",
    "    k=int(input())\n",
    "    if is_prime(k)==True:\n",
    "        print(\"Prime\")\n",
    "    else:\n",
    "        print(\"Not Prime\")"
   ]
  },
  {
   "cell_type": "code",
   "execution_count": null,
   "metadata": {},
   "outputs": [],
   "source": [
    "Sample Input\tSample Output\n",
    "3\n",
    "123321\n",
    "123\n",
    "103\n",
    "\n",
    "Not Prime\n",
    "Not Prime\n",
    "Prime"
   ]
  }
 ],
 "metadata": {
  "kernelspec": {
   "display_name": "Python 2",
   "language": "python",
   "name": "python2"
  },
  "language_info": {
   "codemirror_mode": {
    "name": "ipython",
    "version": 2
   },
   "file_extension": ".py",
   "mimetype": "text/x-python",
   "name": "python",
   "nbconvert_exporter": "python",
   "pygments_lexer": "ipython2",
   "version": "2.7.12"
  }
 },
 "nbformat": 4,
 "nbformat_minor": 2
}
