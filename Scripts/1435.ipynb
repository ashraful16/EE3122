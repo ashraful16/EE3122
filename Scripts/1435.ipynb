{
 "cells": [
  {
   "cell_type": "code",
   "execution_count": null,
   "metadata": {
    "scrolled": true
   },
   "outputs": [],
   "source": []
  },
  {
   "cell_type": "code",
   "execution_count": null,
   "metadata": {},
   "outputs": [],
   "source": []
  },
  {
   "cell_type": "code",
   "execution_count": null,
   "metadata": {},
   "outputs": [],
   "source": []
  },
  {
   "cell_type": "code",
   "execution_count": null,
   "metadata": {},
   "outputs": [],
   "source": []
  },
  {
   "cell_type": "code",
   "execution_count": null,
   "metadata": {},
   "outputs": [],
   "source": []
  },
  {
   "cell_type": "code",
   "execution_count": null,
   "metadata": {},
   "outputs": [],
   "source": []
  },
  {
   "cell_type": "code",
   "execution_count": null,
   "metadata": {},
   "outputs": [],
   "source": []
  },
  {
   "cell_type": "code",
   "execution_count": null,
   "metadata": {},
   "outputs": [],
   "source": []
  },
  {
   "cell_type": "code",
   "execution_count": null,
   "metadata": {},
   "outputs": [],
   "source": []
  },
  {
   "cell_type": "code",
   "execution_count": null,
   "metadata": {},
   "outputs": [],
   "source": []
  },
  {
   "cell_type": "code",
   "execution_count": null,
   "metadata": {},
   "outputs": [],
   "source": []
  },
  {
   "cell_type": "code",
   "execution_count": null,
   "metadata": {},
   "outputs": [],
   "source": []
  },
  {
   "cell_type": "code",
   "execution_count": null,
   "metadata": {},
   "outputs": [],
   "source": []
  },
  {
   "cell_type": "code",
   "execution_count": null,
   "metadata": {},
   "outputs": [],
   "source": []
  },
  {
   "cell_type": "code",
   "execution_count": null,
   "metadata": {},
   "outputs": [],
   "source": []
  },
  {
   "cell_type": "code",
   "execution_count": null,
   "metadata": {},
   "outputs": [],
   "source": []
  },
  {
   "cell_type": "code",
   "execution_count": null,
   "metadata": {},
   "outputs": [],
   "source": []
  },
  {
   "cell_type": "code",
   "execution_count": null,
   "metadata": {},
   "outputs": [],
   "source": []
  },
  {
   "cell_type": "code",
   "execution_count": null,
   "metadata": {},
   "outputs": [],
   "source": [
    "1   1   1\n",
    "1   1   1"
   ]
  },
  {
   "cell_type": "code",
   "execution_count": 20,
   "metadata": {},
   "outputs": [
    {
     "name": "stdout",
     "output_type": "stream",
     "text": [
      "  4\n"
     ]
    }
   ],
   "source": [
    "c=4\n",
    "k=\"%3d\"%c\n",
    "print(str(k))"
   ]
  },
  {
   "cell_type": "code",
   "execution_count": 41,
   "metadata": {},
   "outputs": [
    {
     "name": "stdout",
     "output_type": "stream",
     "text": [
      "1\n",
      "0\n",
      "  1\n",
      "\n"
     ]
    }
   ],
   "source": [
    "a=[]\n",
    "ine=int(input())\n",
    "while ine != 0:\n",
    "    a.append(ine)\n",
    "    ine=int(input())\n",
    "#print(a)\n",
    "for d in a:\n",
    "   \n",
    "    k=d\n",
    "    foo=1\n",
    "    y = [[foo for i in range(k)] for j in range(k)]\n",
    "    kk=len(y)\n",
    "    mm,pq=0,0\n",
    "    bsn=len(y)\n",
    "    if len(y)>=2:\n",
    "        for kkk in range(kk,0,-1):\n",
    "            asn=0\n",
    "            \n",
    "            for i in range(pq,kkk):\n",
    "                #y[mm][i],y[i][mm],y[kkk-1][i],y[i][kkk-1]=6,6,6,6\n",
    "                #y[i][mm],y[kkk-1][i],y[i][kkk-1]=6,6,6\n",
    "                y[mm][i]=asn+1\n",
    "                y[i][mm]=asn+1\n",
    "                y[kkk-1][i]=bsn-i\n",
    "                y[i][kkk-1]=bsn-i\n",
    "                #y[kkk-1][i]=\n",
    "                asn+=1\n",
    "            bsn=bsn-1\n",
    "            kk,mm,pq=len(y),mm+1,pq+1\n",
    " \n",
    "    i=0\n",
    "    for i in range(len(y)):\n",
    "        prt=\"\"\n",
    "        for j in range(len(y)):\n",
    "            pp=\" %3d\" %y[i][j]\n",
    "            prt+= str(pp)\n",
    "        print(prt[1:])\n",
    "    print(\"\")\n",
    "\n",
    "       # print(prt)\n",
    "   # print(\"\\n\")\n",
    "   \n",
    "   # print(\"\\n\")"
   ]
  },
  {
   "cell_type": "code",
   "execution_count": null,
   "metadata": {},
   "outputs": [],
   "source": [
    "  1   2   3   4   5   6\n",
    "  2   1   2   3   4   5\n",
    "  3   2   1   2   3   4\n",
    "  4   3   2   1   2   3\n",
    "  5   4   3   2   1   2\n",
    "  6   5   4   3   2   1"
   ]
  }
 ],
 "metadata": {
  "kernelspec": {
   "display_name": "Python 3",
   "language": "python",
   "name": "python3"
  },
  "language_info": {
   "codemirror_mode": {
    "name": "ipython",
    "version": 3
   },
   "file_extension": ".py",
   "mimetype": "text/x-python",
   "name": "python",
   "nbconvert_exporter": "python",
   "pygments_lexer": "ipython3",
   "version": "3.6.5"
  }
 },
 "nbformat": 4,
 "nbformat_minor": 2
}
