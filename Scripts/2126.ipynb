{
 "cells": [
  {
   "cell_type": "code",
   "execution_count": 11,
   "metadata": {},
   "outputs": [
    {
     "name": "stdout",
     "output_type": "stream",
     "text": [
      "12\n",
      "1231321455123214565423112\n",
      "(3, 24)\n"
     ]
    }
   ],
   "source": [
    "a=raw_input()\n",
    "b=raw_input()\n",
    "k=len(a)\n",
    "c=0\n",
    "pos=0\n",
    "for i in range(len(b)):\n",
    "#    for j in range((len(a))):\n",
    "    if b[i]==a[0]:\n",
    "        if len(a)+i<=len(b):\n",
    "            if b[i:len(a)+i]==a:\n",
    "                c+=1\n",
    "                pos=i+1\n",
    "\n",
    "            \n",
    "print(c,pos)"
   ]
  },
  {
   "cell_type": "code",
   "execution_count": 6,
   "metadata": {},
   "outputs": [
    {
     "name": "stdout",
     "output_type": "stream",
     "text": [
      "7\n"
     ]
    }
   ],
   "source": [
    "Input Sample\tOutput Sample\n",
    "78954\n",
    "7895478954789547895447895478954\n",
    "464133\n",
    "1331646546874694\n",
    "12\n",
    "1231321455123214565423112\n",
    "\n",
    "Caso #1:\n",
    "Qtd.Subsequencias: 6\n",
    "Pos: 27\n",
    "\n",
    "\n",
    "Caso #2:\n",
    "Nao existe subsequencia\n",
    "\n",
    "\n",
    "Caso #3:\n",
    "Qtd.Subsequencias: 3\n",
    "Pos: 24"
   ]
  },
  {
   "cell_type": "code",
   "execution_count": 2,
   "metadata": {},
   "outputs": [
    {
     "name": "stdout",
     "output_type": "stream",
     "text": [
      "12\n",
      "121212\n",
      "Caso #1:\n",
      "Qtd.Subsequencias: 3\n",
      "Pos: 5\n",
      "\n",
      "\n",
      "\n"
     ]
    }
   ],
   "source": [
    "l=0\n",
    "while True:\n",
    "    try:\n",
    "        l+=1\n",
    "        a=raw_input()\n",
    "        \n",
    "        if len(a)==0:\n",
    "            break\n",
    "            \n",
    "        b=raw_input()\n",
    "        \n",
    "        k=len(a)\n",
    "        if k==0:\n",
    "            break\n",
    "        c=0\n",
    "        pos=0\n",
    "        for i in range(len(b)):\n",
    "#    for j in range((len(a))):\n",
    "          \n",
    "                \n",
    "            if b[i]==a[0]:\n",
    "                if len(a)+i<=len(b):\n",
    "                    if b[i:len(a)+i]==a:\n",
    "                        c+=1\n",
    "                        pos=i+1\n",
    "                        \n",
    "        if c ==0 and pos==0:\n",
    "            print(\"Nao existe subsequencia\")\n",
    "        else:   \n",
    "            print(\"Caso #%d:\"%l)\n",
    "            print(\"Qtd.Subsequencias: %d\"%c)\n",
    "            print(\"Pos: %d\"%pos)\n",
    "        print(\"\\n\")\n",
    "    except:\n",
    "        break\n",
    "            \n",
    "        "
   ]
  },
  {
   "cell_type": "code",
   "execution_count": null,
   "metadata": {},
   "outputs": [
    {
     "name": "stdout",
     "output_type": "stream",
     "text": [
      "12\n",
      "12212\n",
      "Caso #1:\n",
      "Qtd.Subsequencias: 2\n",
      "Pos: 4\n",
      "()\n",
      "1212\n",
      "12\n",
      "Caso #2:\n",
      "Nao existe subsequencia\n",
      "()\n",
      "\n",
      "\n",
      "Caso #3:\n",
      "Qtd.Subsequencias: 1\n",
      "Pos: 1\n",
      "()\n"
     ]
    }
   ],
   "source": [
    "caso = 1\n",
    "while True:\n",
    "    try:\n",
    "        n1 = raw_input()\n",
    "        n2 = raw_input()\n",
    "        \n",
    "        print('Caso #%d:' % caso)\n",
    "        if len(str(n1))>len(str(n2)):\n",
    "            print('Nao existe subsequencia')\n",
    "        else:  \n",
    "            qt = n2.count(n1)\n",
    "            if qt == 0:\n",
    "                print('Nao existe subsequencia')\n",
    "            else:\n",
    "                print('Qtd.Subsequencias: %d' % qt)\n",
    "                qt = n2.rfind(n1)\n",
    "                print('Pos: %d' % (int(qt)+1))\n",
    "        print()\n",
    "        caso += 1\n",
    "        \n",
    "    except EOFError:\n",
    "        break"
   ]
  },
  {
   "cell_type": "code",
   "execution_count": null,
   "metadata": {},
   "outputs": [],
   "source": []
  },
  {
   "cell_type": "code",
   "execution_count": null,
   "metadata": {},
   "outputs": [],
   "source": []
  }
 ],
 "metadata": {
  "kernelspec": {
   "display_name": "Python 2",
   "language": "python",
   "name": "python2"
  },
  "language_info": {
   "codemirror_mode": {
    "name": "ipython",
    "version": 2
   },
   "file_extension": ".py",
   "mimetype": "text/x-python",
   "name": "python",
   "nbconvert_exporter": "python",
   "pygments_lexer": "ipython2",
   "version": "2.7.12"
  }
 },
 "nbformat": 4,
 "nbformat_minor": 2
}
