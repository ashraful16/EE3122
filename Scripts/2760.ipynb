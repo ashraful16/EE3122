{
 "cells": [
  {
   "cell_type": "code",
   "execution_count": 5,
   "metadata": {},
   "outputs": [
    {
     "name": "stdout",
     "output_type": "stream",
     "text": [
      "1111111111111111111111111111111111\n",
      "333\n",
      "22\n",
      "111111111111111111111111111111111133322\n",
      "333221111111111111111111111111111111111\n",
      "221111111111111111111111111111111111333\n",
      "111111111133322\n"
     ]
    }
   ],
   "source": [
    "a=raw_input()\n",
    "b=raw_input()\n",
    "c=raw_input()\n",
    "\n",
    "print(a+b+c)\n",
    "print(b+c+a)\n",
    "print(c+a+b)\n",
    "print(a[:10]+b[:10]+c[:10])"
   ]
  },
  {
   "cell_type": "code",
   "execution_count": null,
   "metadata": {},
   "outputs": [],
   "source": [
    "1111111111111111111111111111111111\n",
    "333\n",
    "22"
   ]
  }
 ],
 "metadata": {
  "kernelspec": {
   "display_name": "Python 2",
   "language": "python",
   "name": "python2"
  },
  "language_info": {
   "codemirror_mode": {
    "name": "ipython",
    "version": 2
   },
   "file_extension": ".py",
   "mimetype": "text/x-python",
   "name": "python",
   "nbconvert_exporter": "python",
   "pygments_lexer": "ipython2",
   "version": "2.7.12"
  }
 },
 "nbformat": 4,
 "nbformat_minor": 2
}
