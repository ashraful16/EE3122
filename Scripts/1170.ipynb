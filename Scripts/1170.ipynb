{
 "cells": [
  {
   "cell_type": "code",
   "execution_count": 6,
   "metadata": {},
   "outputs": [
    {
     "name": "stdout",
     "output_type": "stream",
     "text": [
      "10\n",
      "1.0\n",
      "0 dias\n",
      "2.0\n",
      "1 dias\n",
      "3.0\n",
      "2 dias\n",
      "4.0\n",
      "2 dias\n",
      "500.0\n",
      "9 dias\n",
      "555.55\n",
      "10 dias\n",
      "320.23\n",
      "9 dias\n",
      "999.99\n",
      "10 dias\n",
      "123.45\n",
      "7 dias\n",
      "100.0\n",
      "7 dias\n"
     ]
    }
   ],
   "source": [
    "a=int(input())\n",
    "\n",
    "for i in range(a):\n",
    "    b=float(input())\n",
    "    \n",
    "    c,i=b,0\n",
    "    while b>1:\n",
    "        b=b/2\n",
    "        i+=1\n",
    "    print(\"%d dias\"%i)\n",
    "        \n",
    "        "
   ]
  },
  {
   "cell_type": "code",
   "execution_count": null,
   "metadata": {},
   "outputs": [],
   "source": [
    "10\n",
    "1.0\n",
    "2.0\n",
    "3.0\n",
    "4.0\n",
    "500.0\n",
    "555.55\n",
    "320.23\n",
    "999.99\n",
    "123.45\n",
    "100.0\n",
    "\n",
    "0 dias\n",
    "1 dias\n",
    "2 dias\n",
    "2 dias\n",
    "9 dias\n",
    "10 dias\n",
    "9 dias\n",
    "10 dias\n",
    "7 dias\n",
    "7 dias\n"
   ]
  }
 ],
 "metadata": {
  "kernelspec": {
   "display_name": "Python 3",
   "language": "python",
   "name": "python3"
  },
  "language_info": {
   "codemirror_mode": {
    "name": "ipython",
    "version": 3
   },
   "file_extension": ".py",
   "mimetype": "text/x-python",
   "name": "python",
   "nbconvert_exporter": "python",
   "pygments_lexer": "ipython3",
   "version": "3.6.5"
  }
 },
 "nbformat": 4,
 "nbformat_minor": 2
}
