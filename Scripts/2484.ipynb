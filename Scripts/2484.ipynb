{
 "cells": [
  {
   "cell_type": "code",
   "execution_count": null,
   "metadata": {},
   "outputs": [],
   "source": []
  },
  {
   "cell_type": "code",
   "execution_count": null,
   "metadata": {},
   "outputs": [],
   "source": []
  },
  {
   "cell_type": "code",
   "execution_count": null,
   "metadata": {},
   "outputs": [],
   "source": [
    "\n",
    "\n",
    "\n",
    "def prit(i):\n",
    "    \n",
    "    s=(j-i)*\" \"\n",
    "    for k in range(i):\n",
    "        s+=prl[k]+\" \"\n",
    "\n",
    "    print(s)\n",
    "\n",
    "\n",
    "while True:\n",
    "    a=input()\n",
    "    if a==\"\":\n",
    "        break\n",
    "\n",
    "    prl=[]\n",
    "    for k in a:\n",
    "\n",
    "        prl.append(k)\n",
    "\n",
    "    i=len(a)\n",
    "    j=len(a)\n",
    "    while i >0:\n",
    "        prit(i)\n",
    "        i-=1        \n"
   ]
  },
  {
   "cell_type": "code",
   "execution_count": null,
   "metadata": {},
   "outputs": [],
   "source": [
    "\n",
    "\n",
    "\n",
    "\n",
    "l=a[:]"
   ]
  },
  {
   "cell_type": "code",
   "execution_count": null,
   "metadata": {},
   "outputs": [
    {
     "name": "stdout",
     "output_type": "stream",
     "text": [
      "ewrwe\n",
      "e w r w e\n",
      " e w r w\n",
      "  e w r\n",
      "   e w\n",
      "    e\n",
      "\n",
      "\n",
      "\n"
     ]
    }
   ],
   "source": [
    "\n",
    "\n",
    "\n",
    "while True:\n",
    "    \n",
    "    try:\n",
    "        a=input()\n",
    "        #if a==\"\":\n",
    "          #  break\n",
    "\n",
    "        prl=[]\n",
    "        for k in a:\n",
    "\n",
    "            prl.append(k)\n",
    "\n",
    "        i=len(a)\n",
    "        j=len(a)\n",
    "        while i >0:\n",
    "            #prit(i)\n",
    "\n",
    "            s=(j-i)*\" \"\n",
    "            for k in range(i):\n",
    "                \n",
    "                if k==i-1:\n",
    "                    s+=prl[k]\n",
    "                else:\n",
    "                    s+=prl[k]+\" \"\n",
    "                \n",
    "            #s=s-\" \"\n",
    "\n",
    "            print(s)\n",
    "\n",
    "            i-=1 \n",
    "        print('')\n",
    "    except :\n",
    "        break\n"
   ]
  },
  {
   "cell_type": "code",
   "execution_count": null,
   "metadata": {},
   "outputs": [],
   "source": []
  },
  {
   "cell_type": "code",
   "execution_count": null,
   "metadata": {},
   "outputs": [],
   "source": []
  },
  {
   "cell_type": "code",
   "execution_count": null,
   "metadata": {},
   "outputs": [
    {
     "name": "stdout",
     "output_type": "stream",
     "text": [
      "ewewer\n",
      "e w e w e r\n",
      " e w e w e\n",
      "  e w e w\n",
      "   e w e\n",
      "    e w\n",
      "     e\n",
      "\n",
      "\n",
      "\n",
      "\n",
      "\n"
     ]
    }
   ],
   "source": [
    "while True:\n",
    "    try:\n",
    "        word = input()\n",
    "        l = []\n",
    "        for i in word:\n",
    "            l.append(i)\n",
    "        n = len(l)\n",
    "        for i in range(0, len(l)):\n",
    "            for j in range(i):\n",
    "                print('', end=' ')\n",
    "            for j in range(n):\n",
    "                print(l[j], end='')\n",
    "                if(j != n-1):\n",
    "                    print(' ', end='')\n",
    "            print('')\n",
    "            n -= 1\n",
    "        print('')\n",
    "            \n",
    "    except EOFError:\n",
    "        break"
   ]
  },
  {
   "cell_type": "code",
   "execution_count": null,
   "metadata": {},
   "outputs": [],
   "source": []
  }
 ],
 "metadata": {
  "kernelspec": {
   "display_name": "Python 3",
   "language": "python",
   "name": "python3"
  },
  "language_info": {
   "codemirror_mode": {
    "name": "ipython",
    "version": 3
   },
   "file_extension": ".py",
   "mimetype": "text/x-python",
   "name": "python",
   "nbconvert_exporter": "python",
   "pygments_lexer": "ipython3",
   "version": "3.6.8"
  }
 },
 "nbformat": 4,
 "nbformat_minor": 2
}
