{
 "cells": [
  {
   "cell_type": "code",
   "execution_count": 8,
   "metadata": {},
   "outputs": [
    {
     "name": "stdout",
     "output_type": "stream",
     "text": [
      "9.00\n"
     ]
    }
   ],
   "source": [
    "while True:\n",
    "    try:\n",
    "        x=0\n",
    "        a=raw_input().split(\":\")\n",
    "        a1,a2=int(a[0]),int(a[1])\n",
    "        if a1>=7 and a2>30:\n",
    "            if a1==7:\n",
    "                x=a2-30\n",
    "            elif a1>7:\n",
    "                x=(a1-8)*60+(a2-30)\n",
    "                \n",
    "        print(x)\n",
    "        \n",
    "    except:\n",
    "        break"
   ]
  },
  {
   "cell_type": "code",
   "execution_count": 18,
   "metadata": {},
   "outputs": [
    {
     "name": "stdout",
     "output_type": "stream",
     "text": [
      "5:0\n",
      "Atraso maximo: 0\n",
      "7:10\n",
      "Atraso maximo: 10\n",
      "5:30\n",
      "Atraso maximo: 0\n",
      "6:10\n",
      "Atraso maximo: 0\n",
      "6:0\n",
      "Atraso maximo: 0\n",
      "7:30\n",
      "Atraso maximo: 30\n",
      "7:23\n",
      "Atraso maximo: 23\n",
      "8:0\n",
      "Atraso maximo: 60\n",
      "8:32\n",
      "Atraso maximo: 92\n",
      "8:55\n",
      "Atraso maximo: 115\n",
      "9:0\n",
      "Atraso maximo: 120\n",
      "7:55\n",
      "Atraso maximo: 55\n",
      "\n"
     ]
    }
   ],
   "source": [
    "while True:\n",
    "    try:\n",
    "        \n",
    "        a=raw_input().split(\":\")\n",
    "        a1,a2=int(a[0]),int(a[1])\n",
    "        if a1>=7 :\n",
    "            \n",
    "            \n",
    "            if a1==7 and a2>0:\n",
    "                x=a2\n",
    "            elif a1>7:\n",
    "                x=(a1-7)*60+a2\n",
    "        elif a1<7:\n",
    "            x=0\n",
    "                \n",
    "        print(\"Atraso maximo: %d\"%x)\n",
    "        \n",
    "    except:\n",
    "        break"
   ]
  },
  {
   "cell_type": "code",
   "execution_count": null,
   "metadata": {},
   "outputs": [],
   "source": [
    "\n",
    "8:32\n",
    "8:55\n",
    "9:00\n",
    "7:55\n",
    "\n",
    "\n",
    "Atraso maximo: 92\n",
    "Atraso maximo: 115\n",
    "Atraso maximo: 120\n",
    "Atraso maximo: 55\n"
   ]
  },
  {
   "cell_type": "code",
   "execution_count": 20,
   "metadata": {},
   "outputs": [
    {
     "name": "stdout",
     "output_type": "stream",
     "text": [
      "3\n",
      "4 1 1 2 1\n",
      "0\n"
     ]
    }
   ],
   "source": [
    "a=int(input())\n",
    "\n",
    "b=raw_input().split(\" \")\n",
    "\n",
    "\n",
    "s=0\n",
    "for d in b:\n",
    "    if int(d)==a:\n",
    "        s+=1\n",
    "        \n",
    "print(s)"
   ]
  },
  {
   "cell_type": "code",
   "execution_count": null,
   "metadata": {},
   "outputs": [],
   "source": [
    "\n",
    "Input Samples\tOutput Samples\n",
    "1\n",
    "1 2 3 2 1\n",
    "\n",
    "2\n",
    "\n",
    "3\n",
    "4 1 1 2 1\n",
    "\n",
    "0"
   ]
  }
 ],
 "metadata": {
  "kernelspec": {
   "display_name": "Python 2",
   "language": "python",
   "name": "python2"
  },
  "language_info": {
   "codemirror_mode": {
    "name": "ipython",
    "version": 2
   },
   "file_extension": ".py",
   "mimetype": "text/x-python",
   "name": "python",
   "nbconvert_exporter": "python",
   "pygments_lexer": "ipython2",
   "version": "2.7.12"
  }
 },
 "nbformat": 4,
 "nbformat_minor": 2
}
