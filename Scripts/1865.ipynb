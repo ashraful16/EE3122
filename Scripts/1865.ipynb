{
 "cells": [
  {
   "cell_type": "code",
   "execution_count": 1,
   "metadata": {},
   "outputs": [
    {
     "name": "stdout",
     "output_type": "stream",
     "text": [
      "4\n",
      "Hulk 5000\n",
      "N\n",
      "Tony 1000\n",
      "N\n",
      "Thor 50\n",
      "Y\n",
      "Steve 500\n",
      "N\n"
     ]
    }
   ],
   "source": [
    "inp=int(input())\n",
    "for i in range(inp):\n",
    "    k=raw_input().split(\" \")\n",
    "    if k[0]==\"Thor\":\n",
    "        print \"Y\"\n",
    "    else:\n",
    "        print \"N\""
   ]
  },
  {
   "cell_type": "code",
   "execution_count": null,
   "metadata": {},
   "outputs": [],
   "source": [
    "Input Sample\tOutput Sample\n",
    "4\n",
    "\n",
    "Hulk 5000\n",
    "\n",
    "Tony 1000\n",
    "\n",
    "Thor 50\n",
    "\n",
    "Steve 500\n",
    "\n",
    "N\n",
    "\n",
    "N\n",
    "\n",
    "Y\n",
    "\n",
    "N"
   ]
  }
 ],
 "metadata": {
  "kernelspec": {
   "display_name": "Python 2",
   "language": "python",
   "name": "python2"
  },
  "language_info": {
   "codemirror_mode": {
    "name": "ipython",
    "version": 2
   },
   "file_extension": ".py",
   "mimetype": "text/x-python",
   "name": "python",
   "nbconvert_exporter": "python",
   "pygments_lexer": "ipython2",
   "version": "2.7.12"
  }
 },
 "nbformat": 4,
 "nbformat_minor": 2
}
