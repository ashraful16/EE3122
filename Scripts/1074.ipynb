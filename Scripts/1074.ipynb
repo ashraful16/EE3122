{
 "cells": [
  {
   "cell_type": "code",
   "execution_count": 2,
   "metadata": {},
   "outputs": [
    {
     "name": "stdout",
     "output_type": "stream",
     "text": [
      "4\n",
      "-5\n",
      "0\n",
      "3\n",
      "-4\n",
      "ODD NEGATIVE\n",
      "EVEN NULL\n",
      "ODD POSITIVE\n",
      "EVEN NEGATIVE\n"
     ]
    }
   ],
   "source": [
    "cd=int(input())\n",
    "\n",
    "c=[]\n",
    "i=0\n",
    "while i<cd:\n",
    "\tk=int(raw_input())\n",
    "\tc.append(k)\n",
    "\ti+=1\n",
    "\n",
    "for d in c:\n",
    "\tif d==0 :\n",
    "\t\tprint \"NULL\"\n",
    "\tif d >0 and d%2==0:\n",
    "\t\tprint \"EVEN POSITIVE\"\n",
    "\tif d <0 and d%2==0:\n",
    "\t\tprint \"EVEN NEGATIVE\"\n",
    "\tif d >0 and d%2!=0:\n",
    "\t\tprint \"ODD POSITIVE\"\n",
    "\tif d <0 and d%2!=0:\n",
    "\t\tprint \"ODD NEGATIVE\""
   ]
  },
  {
   "cell_type": "code",
   "execution_count": null,
   "metadata": {},
   "outputs": [],
   "source": [
    "4\n",
    "-5\n",
    "0\n",
    "3\n",
    "-4\n",
    "\n",
    "ODD NEGATIVE\n",
    "NULL\n",
    "ODD POSITIVE\n",
    "EVEN NEGATIVE"
   ]
  }
 ],
 "metadata": {
  "kernelspec": {
   "display_name": "Python 2",
   "language": "python",
   "name": "python2"
  },
  "language_info": {
   "codemirror_mode": {
    "name": "ipython",
    "version": 2
   },
   "file_extension": ".py",
   "mimetype": "text/x-python",
   "name": "python",
   "nbconvert_exporter": "python",
   "pygments_lexer": "ipython2",
   "version": "2.7.12"
  }
 },
 "nbformat": 4,
 "nbformat_minor": 2
}
