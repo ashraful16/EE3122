{
 "cells": [
  {
   "cell_type": "markdown",
   "metadata": {},
   "source": [
    "![title](UOJ_1050.png)"
   ]
  },
  {
   "cell_type": "code",
   "execution_count": null,
   "metadata": {},
   "outputs": [],
   "source": [
    "If the input number isn’t found in the above table, the output must be:\n",
    "DDD nao cadastrado\n",
    "That means “DDD not found” in Portuguese language."
   ]
  },
  {
   "cell_type": "code",
   "execution_count": null,
   "metadata": {},
   "outputs": [],
   "source": [
    "c=int(input())\n",
    "if c ==61:\n",
    "    print \"Brasilia\"\n",
    "elif c==71:\n",
    "    print \"Salvador\"\n",
    "elif c==11:\n",
    "    print \"Sao Paulo\"\n",
    "elif c==21:\n",
    "    print \"Rio de Janeiro\"\n",
    "elif c==32:\n",
    "    print \"Juiz de Fora\"\n",
    "elif c==19:\n",
    "    print \"Campinas\"\n",
    "elif c==27:\n",
    "    print \"Vitoria\"\n",
    "elif c==31:\n",
    "    print \"Belo Horizonte\"\n",
    "else:\n",
    "    print \"DDD nao cadastrado\""
   ]
  }
 ],
 "metadata": {
  "kernelspec": {
   "display_name": "Python 2",
   "language": "python",
   "name": "python2"
  },
  "language_info": {
   "codemirror_mode": {
    "name": "ipython",
    "version": 2
   },
   "file_extension": ".py",
   "mimetype": "text/x-python",
   "name": "python",
   "nbconvert_exporter": "python",
   "pygments_lexer": "ipython2",
   "version": "2.7.12"
  }
 },
 "nbformat": 4,
 "nbformat_minor": 2
}
