{
 "cells": [
  {
   "cell_type": "code",
   "execution_count": 2,
   "metadata": {},
   "outputs": [
    {
     "name": "stdout",
     "output_type": "stream",
     "text": [
      ".5\n",
      ".001\n",
      "1\n",
      "3.656930\n",
      ".5\n",
      "4\n",
      ".001\n",
      ".0001\n",
      "1\n",
      "1.9999999\n",
      ".9999\n",
      "2\n",
      "135\n",
      ".65\n",
      "135\n",
      "135.\n",
      ".65\n",
      "135\n",
      "1356.1367\n",
      ".00010001\n",
      "1357\n",
      "1356.13671\n",
      ".1367\n",
      "1357\n",
      ".00010001\n",
      ".0001\n",
      "1\n",
      "\n"
     ]
    }
   ],
   "source": [
    "while True:\n",
    "    try:\n",
    "        a=float(input())\n",
    "        b=float(input())\n",
    "        c=str(a).split(\".\")\n",
    "        \n",
    "        d=c[1]\n",
    "        le=len(d)\n",
    "        flt=float(int(d)/10.0**le)\n",
    "        \n",
    "        \n",
    "        if flt>=b:\n",
    "            print(int(a)+1)\n",
    "        else:\n",
    "            print(int(a))\n",
    "        \n",
    "  \n",
    "        \n",
    "    except:\n",
    "        \n",
    "        break"
   ]
  },
  {
   "cell_type": "code",
   "execution_count": null,
   "metadata": {},
   "outputs": [],
   "source": [
    "\n",
    "Sample Input\tSample Output\n",
    "003.656930\n",
    "0.5000\n",
    ".001\n",
    "0.0001\n",
    "1.99999999\n",
    "0.9999\n",
    "135\n",
    "0.6531\n",
    "135.\n",
    "0.6531\n",
    "1356.13671\n",
    "0.1367\n",
    "0.00010001\n",
    "0.0001\n",
    "\n",
    "4\n",
    "1\n",
    "2\n",
    "135\n",
    "135\n",
    "1357\n",
    "1"
   ]
  }
 ],
 "metadata": {
  "kernelspec": {
   "display_name": "Python 2",
   "language": "python",
   "name": "python2"
  },
  "language_info": {
   "codemirror_mode": {
    "name": "ipython",
    "version": 2
   },
   "file_extension": ".py",
   "mimetype": "text/x-python",
   "name": "python",
   "nbconvert_exporter": "python",
   "pygments_lexer": "ipython2",
   "version": "2.7.12"
  }
 },
 "nbformat": 4,
 "nbformat_minor": 2
}
