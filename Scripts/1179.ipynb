{
 "cells": [
  {
   "cell_type": "code",
   "execution_count": null,
   "metadata": {},
   "outputs": [],
   "source": [
    "inc=20\n",
    "par,impar=[],[]\n",
    "k,l,i=0,0,0\n",
    "fl1,p1,fl2,p2=0,True,0,True\n",
    "while i<inc:\n",
    "    ind=int(input())\n",
    "    if ind%2==0  :\n",
    "        par.append((ind))\n",
    "        k+=1\n",
    "        if fl1%2==0:\n",
    "            kk=0\n",
    "            for d in par:\n",
    "                \n",
    "                print \"impar[%d] = %d\"%(kk,d)\n",
    "                kk+=1\n",
    "                fl1=2*fl1+1\n",
    "                \n",
    "                \n",
    " \n",
    "        if k>4:\n",
    "            k=0\n",
    "    else:\n",
    "        impar.append(ind)\n",
    "        \n",
    "        l+=1\n",
    "        if ind%2!=0:\n",
    "            ll=0\n",
    "            for d in impar:\n",
    "                print \"impar[%d] = %d\"%(ll,d)\n",
    "                ll+=1\n",
    "                impar=2*impar\n",
    "                \n",
    "        if l>4:\n",
    "            l=0\n",
    "    i+=1\n",
    "    \n",
    "    "
   ]
  },
  {
   "cell_type": "markdown",
   "metadata": {},
   "source": [
    "#### Input Sample\tOutput Sample\n",
    "1  3\n",
    "    4\n",
    "    -4\n",
    "    2\n",
    "3\n",
    "8\n",
    "2\n",
    "5\n",
    "-7\n",
    "54\n",
    "76\n",
    "789\n",
    "23\n",
    "98\n",
    "\n",
    "par[0] = 4\n",
    "par[1] = -4\n",
    "par[2] = 2\n",
    "par[3] = 8\n",
    "par[4] = 2\n",
    "impar[0] = 1\n",
    "impar[1] = 3\n",
    "impar[2] = 3\n",
    "impar[3] = 5\n",
    "impar[4] = -7\n",
    "impar[0] = 789\n",
    "impar[1] = 23\n",
    "par[0] = 54\n",
    "par[1] = 76\n",
    "par[2] = 98"
   ]
  },
  {
   "cell_type": "code",
   "execution_count": null,
   "metadata": {},
   "outputs": [],
   "source": [
    "par = []\n",
    "impar = []\n",
    "for i in range(15):\n",
    "    valor = int(input())\n",
    "    if(valor % 2 == 0):\n",
    "        par.append(valor)\n",
    "    else:\n",
    "        impar.append(valor)\n",
    "    \n",
    "    if(len(par)==5):\n",
    "        ix = 0\n",
    "        for v in par:\n",
    "            print(\"par[%d] = %d\" %(ix,v))\n",
    "            ix += 1\n",
    "        par = []\n",
    "    if(len(impar)==5):\n",
    "        ix = 0\n",
    "        for v in impar:\n",
    "            print(\"impar[%d] = %d\" %(ix,v))\n",
    "            ix += 1\n",
    "        impar = []\n",
    "if(len(impar)> 0):\n",
    "    ix = 0\n",
    "    for v in impar:\n",
    "        print(\"impar[%d] = %d\" %(ix,v))\n",
    "        ix += 1\n",
    "\n",
    "if(len(par)>0):\n",
    "    ix = 0\n",
    "    for v in par:\n",
    "        print(\"par[%d] = %d\" %(ix,v))\n",
    "        ix += 1"
   ]
  },
  {
   "cell_type": "code",
   "execution_count": null,
   "metadata": {},
   "outputs": [],
   "source": []
  },
  {
   "cell_type": "code",
   "execution_count": 1,
   "metadata": {},
   "outputs": [
    {
     "name": "stdout",
     "output_type": "stream",
     "text": [
      "3\n",
      "2 1 -7\n",
      "Menor valor: -7\n",
      "Posicao: 2\n"
     ]
    }
   ],
   "source": [
    "#1180\n",
    "rs=int(input())\n",
    "ar=raw_input().split(\" \")\n",
    "i=0\n",
    "big=int(ar[0])\n",
    "for arr in ar:\n",
    "    if int(arr)<(big):\n",
    "        big,j=int(arr),i\n",
    "    i+=1\n",
    "print(\"Menor valor: %d\"%big)\n",
    "print(\"Posicao: %d\"%j)"
   ]
  },
  {
   "cell_type": "code",
   "execution_count": null,
   "metadata": {},
   "outputs": [],
   "source": [
    "rs=int(input())\n",
    "lista=raw_input().split(\" \")\n",
    "#print lista\n",
    "\n",
    "posicao = 0\n",
    "count = 0\n",
    "menor = (lista[0])  \n",
    "for v in a:\n",
    "    if v < imenor:\n",
    "        menor = (v)\n",
    "        posicao = count\n",
    "    count += 1\n",
    "menor=int(menor)\n",
    "print(\"Menor valor: %d\" %menor)\n",
    "print(\"Posicao: %d\" %posicao)"
   ]
  },
  {
   "cell_type": "markdown",
   "metadata": {},
   "source": []
  },
  {
   "cell_type": "code",
   "execution_count": null,
   "metadata": {},
   "outputs": [],
   "source": []
  },
  {
   "cell_type": "code",
   "execution_count": null,
   "metadata": {},
   "outputs": [],
   "source": []
  },
  {
   "cell_type": "code",
   "execution_count": null,
   "metadata": {},
   "outputs": [],
   "source": []
  },
  {
   "cell_type": "code",
   "execution_count": null,
   "metadata": {},
   "outputs": [],
   "source": []
  }
 ],
 "metadata": {
  "kernelspec": {
   "display_name": "Python 2",
   "language": "python",
   "name": "python2"
  },
  "language_info": {
   "codemirror_mode": {
    "name": "ipython",
    "version": 2
   },
   "file_extension": ".py",
   "mimetype": "text/x-python",
   "name": "python",
   "nbconvert_exporter": "python",
   "pygments_lexer": "ipython2",
   "version": "2.7.12"
  }
 },
 "nbformat": 4,
 "nbformat_minor": 2
}
