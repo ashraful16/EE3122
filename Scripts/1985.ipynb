{
 "cells": [
  {
   "cell_type": "code",
   "execution_count": null,
   "metadata": {},
   "outputs": [],
   "source": [
    "1001 | R$ 1.50\n",
    "\n",
    "1002 | R$ 2.50\n",
    "\n",
    "1003 | R$ 3.50\n",
    "\n",
    "1004 | R$ 4.50\n",
    "\n",
    "1005 | R$ 5.50"
   ]
  },
  {
   "cell_type": "code",
   "execution_count": 3,
   "metadata": {},
   "outputs": [
    {
     "name": "stdout",
     "output_type": "stream",
     "text": [
      "5\n",
      "1001 500\n",
      "1005 300\n",
      "1003 23\n",
      "1002 52\n",
      "1004 44\n",
      "2808.50\n"
     ]
    }
   ],
   "source": [
    "a=[1.5,2.5,3.5,4.5,5.5]\n",
    "s=0\n",
    "for i in range(int(input())):\n",
    "    b=raw_input().split(\" \")\n",
    "    s=s+a[int(b[0])-1001]*int(b[1])\n",
    "print(\"%.2f\"%s)\n",
    "    "
   ]
  },
  {
   "cell_type": "code",
   "execution_count": null,
   "metadata": {},
   "outputs": [],
   "source": [
    "\n",
    "\n",
    "5\n",
    "\n",
    "1001 500\n",
    "\n",
    "1005 300\n",
    "\n",
    "1003 23\n",
    "\n",
    "1002 52\n",
    "\n",
    "1004 44\n",
    "\n",
    "2808.50"
   ]
  }
 ],
 "metadata": {
  "kernelspec": {
   "display_name": "Python 2",
   "language": "python",
   "name": "python2"
  },
  "language_info": {
   "codemirror_mode": {
    "name": "ipython",
    "version": 2
   },
   "file_extension": ".py",
   "mimetype": "text/x-python",
   "name": "python",
   "nbconvert_exporter": "python",
   "pygments_lexer": "ipython2",
   "version": "2.7.12"
  }
 },
 "nbformat": 4,
 "nbformat_minor": 2
}
