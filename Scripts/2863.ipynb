{
 "cells": [
  {
   "cell_type": "code",
   "execution_count": 1,
   "metadata": {},
   "outputs": [
    {
     "name": "stdout",
     "output_type": "stream",
     "text": [
      "2\n",
      "9.81\n",
      "9.71\n",
      "9.71\n",
      "3\n",
      "9.82\n",
      "9.72\n",
      "9.92\n",
      "9.72\n",
      "\n"
     ]
    }
   ],
   "source": [
    "\n",
    "while True:\n",
    "    try:\n",
    "        a=[]\n",
    "        for i in range(int(input())):\n",
    "            b=float(input())\n",
    "            a.append(b)\n",
    "            \n",
    "        k=min(a)\n",
    "        print(\"%.2f\"%k)\n",
    "            \n",
    "    except:\n",
    "        break"
   ]
  },
  {
   "cell_type": "code",
   "execution_count": null,
   "metadata": {},
   "outputs": [],
   "source": [
    "\n",
    "Input Sample\tOutput Sample\n",
    "2\n",
    "9.81\n",
    "9.71\n",
    "3\n",
    "9.82\n",
    "9.72\n",
    "9.92\n",
    "\n",
    "9.71\n",
    "9.72"
   ]
  }
 ],
 "metadata": {
  "kernelspec": {
   "display_name": "Python 2",
   "language": "python",
   "name": "python2"
  },
  "language_info": {
   "codemirror_mode": {
    "name": "ipython",
    "version": 2
   },
   "file_extension": ".py",
   "mimetype": "text/x-python",
   "name": "python",
   "nbconvert_exporter": "python",
   "pygments_lexer": "ipython2",
   "version": "2.7.12"
  }
 },
 "nbformat": 4,
 "nbformat_minor": 2
}
