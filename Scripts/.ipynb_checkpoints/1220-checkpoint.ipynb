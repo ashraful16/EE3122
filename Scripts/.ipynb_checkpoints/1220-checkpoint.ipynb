{
 "cells": [
  {
   "cell_type": "code",
   "execution_count": null,
   "metadata": {},
   "outputs": [],
   "source": [
    "\n",
    "i=int(input())\n",
    "[p.append(float(input())) for k in range(i)]\n",
    "p\n",
    "k=sum(p)/len(p)\n",
    "k=round(k,2)\n",
    "k\n",
    "su=0\n",
    "su=sum([su+k-sm for sm in p if sm <k])\n",
    "#for sm in p:\n",
    " #   if sm<k:\n",
    "  #      su+=k-sm\n",
    "print(\".2f\"%su)"
   ]
  },
  {
   "cell_type": "code",
   "execution_count": null,
   "metadata": {},
   "outputs": [],
   "source": [
    "i=4"
   ]
  },
  {
   "cell_type": "code",
   "execution_count": null,
   "metadata": {},
   "outputs": [],
   "source": [
    "p=[]\n",
    "[p.append(float(input())) for k in range(i)]\n",
    "#for i in range(4):\n",
    " #   p.append(float(input()))\n",
    "p  "
   ]
  },
  {
   "cell_type": "code",
   "execution_count": null,
   "metadata": {},
   "outputs": [],
   "source": [
    "p"
   ]
  },
  {
   "cell_type": "code",
   "execution_count": null,
   "metadata": {},
   "outputs": [],
   "source": [
    "k=sum(p)/len(p)\n",
    "k=round(k,2)\n",
    "k"
   ]
  },
  {
   "cell_type": "code",
   "execution_count": null,
   "metadata": {},
   "outputs": [],
   "source": [
    "su=0\n",
    "su=sum([su+k-sm for sm in p if sm <k])\n",
    "#for sm in p:\n",
    " #   if sm<k:\n",
    "  #      su+=k-sm\n",
    "print(\".2f\"%su)"
   ]
  },
  {
   "cell_type": "code",
   "execution_count": null,
   "metadata": {},
   "outputs": [],
   "source": [
    "round(su,1)"
   ]
  },
  {
   "cell_type": "code",
   "execution_count": 6,
   "metadata": {},
   "outputs": [
    {
     "name": "stdout",
     "output_type": "stream",
     "text": [
      "3\n",
      "10.00\n",
      "20.00\n",
      "30.00\n",
      "$10.0\n"
     ]
    }
   ],
   "source": [
    "\n",
    "i=int(input())\n",
    "p=[]\n",
    "[p.append(float(input())) for k in range(i)]\n",
    "#print(p)\n",
    "k=sum(p)/len(p)\n",
    "k=round(k,2)\n",
    "#print(k)\n",
    "su=0\n",
    "su=sum([su+k-sm for sm in p if sm <k])\n",
    "su\n",
    "print(\"$\"+str(round(su,2)))"
   ]
  },
  {
   "cell_type": "code",
   "execution_count": null,
   "metadata": {},
   "outputs": [],
   "source": []
  }
 ],
 "metadata": {
  "kernelspec": {
   "display_name": "Python 3",
   "language": "python",
   "name": "python3"
  },
  "language_info": {
   "codemirror_mode": {
    "name": "ipython",
    "version": 3
   },
   "file_extension": ".py",
   "mimetype": "text/x-python",
   "name": "python",
   "nbconvert_exporter": "python",
   "pygments_lexer": "ipython3",
   "version": "3.6.8"
  }
 },
 "nbformat": 4,
 "nbformat_minor": 2
}
