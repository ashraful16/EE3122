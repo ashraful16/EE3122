{
 "cells": [
  {
   "cell_type": "code",
   "execution_count": null,
   "metadata": {
    "scrolled": true
   },
   "outputs": [],
   "source": [
    "foo,k=1,5\n",
    "y = [[foo for i in range(k)] for j in range(k)]\n",
    "print(y)"
   ]
  },
  {
   "cell_type": "code",
   "execution_count": null,
   "metadata": {},
   "outputs": [],
   "source": [
    "print(y[1][1])\n",
    "print(len(y))"
   ]
  },
  {
   "cell_type": "code",
   "execution_count": null,
   "metadata": {},
   "outputs": [],
   "source": [
    "if len(y)>2:\n",
    "    kk,mm,pq=len(y),0,0\n",
    "    while kk>-1:\n",
    "        for i in range(pq,kk-pq):\n",
    "            y[mm][i],y[i][mm],y[kk-1][i],y[i][kk-1]=pq,pq,pq,pq\n",
    "            mm=mm+1\n",
    "            kk=kk-1\n",
    "            pq=pq+1"
   ]
  },
  {
   "cell_type": "code",
   "execution_count": null,
   "metadata": {},
   "outputs": [],
   "source": []
  },
  {
   "cell_type": "code",
   "execution_count": null,
   "metadata": {},
   "outputs": [],
   "source": []
  },
  {
   "cell_type": "code",
   "execution_count": null,
   "metadata": {},
   "outputs": [],
   "source": [
    "i=0\n",
    "for i in range(len(y)):\n",
    "    for j in range(len(y)):\n",
    "        print(y[i][j],end=\" \")\n",
    "    print(\"\\n\")\n",
    "        "
   ]
  },
  {
   "cell_type": "code",
   "execution_count": null,
   "metadata": {},
   "outputs": [],
   "source": []
  },
  {
   "cell_type": "code",
   "execution_count": null,
   "metadata": {},
   "outputs": [],
   "source": []
  },
  {
   "cell_type": "code",
   "execution_count": null,
   "metadata": {},
   "outputs": [],
   "source": [
    "foo,k=1,7\n",
    "y = [[foo for i in range(k)] for j in range(k)]\n",
    "print(y)\n",
    "kk=len(y)\n",
    "mm,pq=0,0\n",
    "if len(y)>2:\n",
    "    #kk,mm,pq=len(y),0,0\n",
    "    \n",
    "    #while kk>-2:\n",
    "    for kkk in range(kk,0,-1):\n",
    "        #kk,mm,pq=len(y),mm+1,pq+1\n",
    "        for i in range(pq,kkk):\n",
    "            \n",
    "            y[mm][i],y[i][mm],y[kkk-1][i],y[i][kkk-1]=pq,pq,pq,pq\n",
    "            #mm=mm+1\n",
    "           # kk=kk-1\n",
    "            #pq=pq+1\n",
    "            \n",
    "        kk,mm,pq=len(y),mm+1,pq+1\n",
    "       # print(pq)\n",
    "    \n",
    "    \n",
    "\n",
    "i=0\n",
    "for i in range(len(y)):\n",
    "    for j in range(len(y)):\n",
    "        print(y[i][j],end=\" \")\n",
    "    print(\"\\n\")\n"
   ]
  },
  {
   "cell_type": "code",
   "execution_count": null,
   "metadata": {},
   "outputs": [],
   "source": []
  },
  {
   "cell_type": "code",
   "execution_count": null,
   "metadata": {},
   "outputs": [],
   "source": []
  },
  {
   "cell_type": "code",
   "execution_count": null,
   "metadata": {},
   "outputs": [],
   "source": []
  },
  {
   "cell_type": "code",
   "execution_count": null,
   "metadata": {},
   "outputs": [],
   "source": []
  },
  {
   "cell_type": "code",
   "execution_count": null,
   "metadata": {},
   "outputs": [],
   "source": []
  },
  {
   "cell_type": "code",
   "execution_count": null,
   "metadata": {},
   "outputs": [],
   "source": [
    "k=int(input())\n",
    "foo=1\n",
    "y = [[foo for i in range(k)] for j in range(k)]\n",
    "kk=len(y)\n",
    "mm,pq=0,0\n",
    "if len(y)>2:\n",
    "    for kkk in range(kk,0,-1):\n",
    "        for i in range(pq,kkk):\n",
    "            y[mm][i],y[i][mm],y[kkk-1][i],y[i][kkk-1]=pq+1,pq+1,pq+1,pq+1\n",
    "        kk,mm,pq=len(y),mm+1,pq+1\n",
    "\n",
    "i=0\n",
    "prt=\"\"\n",
    "for i in range(len(y)):\n",
    "    for j in range(len(y)):\n",
    "        print(y[i][j],end=\" \")\n",
    "        #prt=prt+str(y[i][j])+str(\" \")\n",
    "    #prt=prt.strip()\n",
    "    print(prt)\n",
    "   # print(\"\\n\")\n"
   ]
  },
  {
   "cell_type": "code",
   "execution_count": null,
   "metadata": {},
   "outputs": [],
   "source": []
  },
  {
   "cell_type": "code",
   "execution_count": null,
   "metadata": {},
   "outputs": [],
   "source": []
  },
  {
   "cell_type": "code",
   "execution_count": null,
   "metadata": {},
   "outputs": [],
   "source": [
    "k=int(input())\n",
    "foo=1\n",
    "y = [[foo for i in range(k)] for j in range(k)]\n",
    "kk=len(y)\n",
    "mm,pq=0,0\n",
    "if len(y)>2:\n",
    "    for kkk in range(kk,0,-1):\n",
    "        for i in range(pq,kkk):\n",
    "            y[mm][i],y[i][mm],y[kkk-1][i],y[i][kkk-1]=pq+1,pq+1,pq+1,pq+1\n",
    "        kk,mm,pq=len(y),mm+1,pq+1\n",
    "\n",
    "i=0\n",
    "for i in range(len(y)):\n",
    "    prt=\"\"\n",
    "    for j in range(len(y)):\n",
    "        #print(y[i][j],end=\" \")\n",
    "        prt=prt+str(y[i][j])+str(\" \")\n",
    "    prt=prt.strip()\n",
    "    print(prt)\n",
    "   # print(\"\\n\")\n"
   ]
  },
  {
   "cell_type": "code",
   "execution_count": 4,
   "metadata": {},
   "outputs": [
    {
     "name": "stdout",
     "output_type": "stream",
     "text": [
      "4\n",
      "1 1 1 1\n",
      "1 2 2 1\n",
      "1 2 2 1\n",
      "1 1 1 1\n",
      "5\n",
      "1 1 1 1 1\n",
      "1 2 2 2 1\n",
      "1 2 3 2 1\n",
      "1 2 2 2 1\n",
      "1 1 1 1 1\n",
      "3\n",
      "1 1 1\n",
      "1 2 1\n",
      "1 1 1\n",
      "7\n",
      "1 1 1 1 1 1 1\n",
      "1 2 2 2 2 2 1\n",
      "1 2 3 3 3 2 1\n",
      "1 2 3 4 3 2 1\n",
      "1 2 3 3 3 2 1\n",
      "1 2 2 2 2 2 1\n",
      "1 1 1 1 1 1 1\n",
      "9\n",
      "1 1 1 1 1 1 1 1 1\n",
      "1 2 2 2 2 2 2 2 1\n",
      "1 2 3 3 3 3 3 2 1\n",
      "1 2 3 4 4 4 3 2 1\n",
      "1 2 3 4 5 4 3 2 1\n",
      "1 2 3 4 4 4 3 2 1\n",
      "1 2 3 3 3 3 3 2 1\n",
      "1 2 2 2 2 2 2 2 1\n",
      "1 1 1 1 1 1 1 1 1\n",
      "0\n"
     ]
    }
   ],
   "source": [
    "ine=int(input())\n",
    "while ine != 0:\n",
    "    \n",
    "    k=ine\n",
    "    foo=1\n",
    "    y = [[foo for i in range(k)] for j in range(k)]\n",
    "    kk=len(y)\n",
    "    mm,pq=0,0\n",
    "    if len(y)>2:\n",
    "        for kkk in range(kk,0,-1):\n",
    "            for i in range(pq,kkk):\n",
    "                y[mm][i],y[i][mm],y[kkk-1][i],y[i][kkk-1]=pq+1,pq+1,pq+1,pq+1\n",
    "            kk,mm,pq=len(y),mm+1,pq+1\n",
    "\n",
    "    i=0\n",
    "    for i in range(len(y)):\n",
    "        prt=\"\"\n",
    "        for j in range(len(y)-1):\n",
    "        #print(y[i][j],end=\" \")\n",
    "            prt=prt+str(y[i][j])+str(\" \")\n",
    "        prt=prt+str(y[i][len(y)-1])\n",
    "        print(prt)\n",
    "    ine=int(input())\n",
    "   # print(\"\\n\")\n"
   ]
  },
  {
   "cell_type": "code",
   "execution_count": null,
   "metadata": {},
   "outputs": [],
   "source": [
    "1   1   1\n",
    "1   1   1"
   ]
  },
  {
   "cell_type": "code",
   "execution_count": 8,
   "metadata": {},
   "outputs": [
    {
     "name": "stdout",
     "output_type": "stream",
     "text": [
      "3\n",
      "  1   1   1\n",
      "  1   2   1\n",
      "  1   1   1\n",
      "\n",
      "\n",
      "4\n",
      "  1   1   1   1\n",
      "  1   2   2   1\n",
      "  1   2   2   1\n",
      "  1   1   1   1\n",
      "\n",
      "\n",
      "7\n",
      "  1   1   1   1   1   1   1\n",
      "  1   2   2   2   2   2   1\n",
      "  1   2   3   3   3   2   1\n",
      "  1   2   3   4   3   2   1\n",
      "  1   2   3   3   3   2   1\n",
      "  1   2   2   2   2   2   1\n",
      "  1   1   1   1   1   1   1\n",
      "\n",
      "\n",
      "9\n",
      "  1   1   1   1   1   1   1   1   1\n",
      "  1   2   2   2   2   2   2   2   1\n",
      "  1   2   3   3   3   3   3   2   1\n",
      "  1   2   3   4   4   4   3   2   1\n",
      "  1   2   3   4   5   4   3   2   1\n",
      "  1   2   3   4   4   4   3   2   1\n",
      "  1   2   3   3   3   3   3   2   1\n",
      "  1   2   2   2   2   2   2   2   1\n",
      "  1   1   1   1   1   1   1   1   1\n",
      "\n",
      "\n",
      "2\n",
      "  1   1\n",
      "  1   1\n",
      "\n",
      "\n",
      "0\n"
     ]
    }
   ],
   "source": [
    "ine=int(input())\n",
    "while ine != 0:\n",
    "    \n",
    "    k=ine\n",
    "    foo=1\n",
    "    y = [[foo for i in range(k)] for j in range(k)]\n",
    "    kk=len(y)\n",
    "    mm,pq=0,0\n",
    "    if len(y)>2:\n",
    "        for kkk in range(kk,0,-1):\n",
    "            for i in range(pq,kkk):\n",
    "                y[mm][i],y[i][mm],y[kkk-1][i],y[i][kkk-1]=pq+1,pq+1,pq+1,pq+1\n",
    "            kk,mm,pq=len(y),mm+1,pq+1\n",
    "\n",
    "    i=0\n",
    "    for i in range(len(y)):\n",
    "        prt=\" \"\n",
    "        for j in range(len(y)-1):\n",
    "        #print(y[i][j],end=\" \")\n",
    "            prt=prt+str(y[i][j])+str(\" \")\n",
    "        prt=prt+str(y[i][len(y)-1])\n",
    "        print(prt)\n",
    "    print(\"\\n\")\n",
    "    ine=int(input())\n",
    "   # print(\"\\n\")\n"
   ]
  },
  {
   "cell_type": "code",
   "execution_count": 29,
   "metadata": {},
   "outputs": [
    {
     "name": "stdout",
     "output_type": "stream",
     "text": [
      "3\n",
      "4\n",
      "0\n",
      "  1  1  1\n",
      "  1  2  1\n",
      "  1  1  1\n",
      "\n",
      "\n",
      "  1  1  1  1\n",
      "  1  2  2  1\n",
      "  1  2  2  1\n",
      "  1  1  1  1\n",
      "\n",
      "\n"
     ]
    }
   ],
   "source": [
    "a=[]\n",
    "ine=int(input())\n",
    "while ine != 0:\n",
    "    a.append(ine)\n",
    "    ine=int(input())\n",
    "#print(a)\n",
    "for d in a:\n",
    "    \n",
    "    k=d\n",
    "    foo=1\n",
    "    y = [[foo for i in range(k)] for j in range(k)]\n",
    "    kk=len(y)\n",
    "    mm,pq=0,0\n",
    "    if len(y)>2:\n",
    "        for kkk in range(kk,0,-1):\n",
    "            for i in range(pq,kkk):\n",
    "                y[mm][i],y[i][mm],y[kkk-1][i],y[i][kkk-1]=pq+1,pq+1,pq+1,pq+1\n",
    "            kk,mm,pq=len(y),mm+1,pq+1\n",
    "\n",
    "    i=0\n",
    "    for i in range(len(y)):\n",
    "        prt=\"\"\n",
    "        for j in range(len(y)-1):\n",
    "        #print(y[i][j],end=\" \")\n",
    "            k=\"%3d\"%y[i][j]\n",
    "            prt=prt+str(k)\n",
    "        k=\"%3d\"%y[i][len(y)-1]\n",
    "        prt=prt+str(k)\n",
    "        print(prt)\n",
    "    print(\"\\n\")\n",
    "    \n",
    "   # print(\"\\n\")\n"
   ]
  },
  {
   "cell_type": "code",
   "execution_count": 20,
   "metadata": {},
   "outputs": [
    {
     "name": "stdout",
     "output_type": "stream",
     "text": [
      "  4\n"
     ]
    }
   ],
   "source": [
    "c=4\n",
    "k=\"%3d\"%c\n",
    "print(str(k))"
   ]
  },
  {
   "cell_type": "code",
   "execution_count": 6,
   "metadata": {},
   "outputs": [
    {
     "name": "stdout",
     "output_type": "stream",
     "text": [
      "3\n",
      "0\n",
      "  1   1   1\n",
      "  1   2   1\n",
      "  1   1   1\n",
      "\n"
     ]
    }
   ],
   "source": [
    "a=[]\n",
    "ine=int(input())\n",
    "while ine != 0:\n",
    "    a.append(ine)\n",
    "    ine=int(input())\n",
    "#print(a)\n",
    "for d in a:\n",
    "   \n",
    "    k=d\n",
    "    foo=1\n",
    "    y = [[foo for i in range(k)] for j in range(k)]\n",
    "    kk=len(y)\n",
    "    mm,pq=0,0\n",
    "    if len(y)>2:\n",
    "        for kkk in range(kk,0,-1):\n",
    "            for i in range(pq,kkk):\n",
    "                y[mm][i],y[i][mm],y[kkk-1][i],y[i][kkk-1]=pq+1,pq+1,pq+1,pq+1\n",
    "            kk,mm,pq=len(y),mm+1,pq+1\n",
    " \n",
    "    i=0\n",
    "    for i in range(len(y)):\n",
    "        prt=\"\"\n",
    "        for j in range(len(y)):\n",
    "            pp=\" %3d\" %y[i][j]\n",
    "            prt+= str(pp)\n",
    "        print(prt[1:])\n",
    "    print(\"\")\n",
    "\n",
    "       # print(prt)\n",
    "   # print(\"\\n\")\n",
    "   \n",
    "   # print(\"\\n\")"
   ]
  },
  {
   "cell_type": "code",
   "execution_count": null,
   "metadata": {},
   "outputs": [],
   "source": []
  }
 ],
 "metadata": {
  "kernelspec": {
   "display_name": "Python 3",
   "language": "python",
   "name": "python3"
  },
  "language_info": {
   "codemirror_mode": {
    "name": "ipython",
    "version": 3
   },
   "file_extension": ".py",
   "mimetype": "text/x-python",
   "name": "python",
   "nbconvert_exporter": "python",
   "pygments_lexer": "ipython3",
   "version": "3.6.5"
  }
 },
 "nbformat": 4,
 "nbformat_minor": 2
}
