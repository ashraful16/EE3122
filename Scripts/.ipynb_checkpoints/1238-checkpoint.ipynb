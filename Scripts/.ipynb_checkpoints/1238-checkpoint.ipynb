{
 "cells": [
  {
   "cell_type": "code",
   "execution_count": 9,
   "metadata": {},
   "outputs": [
    {
     "name": "stdout",
     "output_type": "stream",
     "text": [
      "1\n",
      "wefwkefw as\n",
      "waesfwkefw\n"
     ]
    }
   ],
   "source": [
    "a=int(input())\n",
    "\n",
    "def stpr(a,b):\n",
    "    p=''\n",
    "    if len(a)>len(b):\n",
    "        k=len(b)\n",
    "    else:\n",
    "        k=len(a)\n",
    "        \n",
    "    for i in range(k):\n",
    "        p=p+str(a[i])+str(b[i])\n",
    "    if len(a)<len(b):\n",
    "        p=p+str(b[len(a):len(b)])\n",
    "    if len(a)>len(b):\n",
    "        p=p+str(a[len(b):len(a)])\n",
    "    print(p)\n",
    "        \n",
    "for i in range(a):\n",
    "    c1,c2=input().split(\" \")\n",
    "    #d1,d2=input().split(\" \")\n",
    "    stpr(c1,c2)\n",
    "    #stpr(d1,d2)\n"
   ]
  },
  {
   "cell_type": "code",
   "execution_count": null,
   "metadata": {},
   "outputs": [],
   "source": [
    "Tpo oCder\n",
    "aa bb"
   ]
  }
 ],
 "metadata": {
  "kernelspec": {
   "display_name": "Python 3",
   "language": "python",
   "name": "python3"
  },
  "language_info": {
   "codemirror_mode": {
    "name": "ipython",
    "version": 3
   },
   "file_extension": ".py",
   "mimetype": "text/x-python",
   "name": "python",
   "nbconvert_exporter": "python",
   "pygments_lexer": "ipython3",
   "version": "3.6.5"
  }
 },
 "nbformat": 4,
 "nbformat_minor": 2
}
