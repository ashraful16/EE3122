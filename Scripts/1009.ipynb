{
 "cells": [
  {
   "cell_type": "code",
   "execution_count": 5,
   "metadata": {},
   "outputs": [
    {
     "name": "stdout",
     "output_type": "stream",
     "text": [
      "ew\n",
      "4\n",
      "55\n",
      "TOTAL = R$ 12.25\n"
     ]
    }
   ],
   "source": [
    "A=(raw_input())\n",
    "B=float(input())\n",
    "C=float(input())\n",
    "\n",
    "e=B+.15*C\n",
    "print \"TOTAL = R$ %.2f\"%e"
   ]
  },
  {
   "cell_type": "code",
   "execution_count": 4,
   "metadata": {},
   "outputs": [
    {
     "name": "stdout",
     "output_type": "stream",
     "text": [
      "Enter a number: ere\n",
      "ere\n"
     ]
    }
   ],
   "source": [
    "x = raw_input(\"Enter a number: \") \n",
    "print x"
   ]
  },
  {
   "cell_type": "code",
   "execution_count": 2,
   "metadata": {},
   "outputs": [
    {
     "name": "stdout",
     "output_type": "stream",
     "text": [
      "\"ash\"\n",
      "500\n",
      "1230\n",
      "TOTAL = R$ 684.50\n"
     ]
    }
   ],
   "source": [
    "A=input()\n",
    "B=float(input())\n",
    "C=float(input())\n",
    "\n",
    "\n",
    "print \"TOTAL = R$ %.2f\"%(B+.15*C)"
   ]
  },
  {
   "cell_type": "code",
   "execution_count": null,
   "metadata": {},
   "outputs": [],
   "source": []
  }
 ],
 "metadata": {
  "kernelspec": {
   "display_name": "Python 2",
   "language": "python",
   "name": "python2"
  },
  "language_info": {
   "codemirror_mode": {
    "name": "ipython",
    "version": 2
   },
   "file_extension": ".py",
   "mimetype": "text/x-python",
   "name": "python",
   "nbconvert_exporter": "python",
   "pygments_lexer": "ipython2",
   "version": "2.7.12"
  }
 },
 "nbformat": 4,
 "nbformat_minor": 2
}
