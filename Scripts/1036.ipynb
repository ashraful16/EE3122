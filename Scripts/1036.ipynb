{
 "cells": [
  {
   "cell_type": "code",
   "execution_count": 8,
   "metadata": {},
   "outputs": [
    {
     "name": "stdout",
     "output_type": "stream",
     "text": [
      "10.0 3.0 5.0\n",
      "Impossivel calcular\n"
     ]
    }
   ],
   "source": [
    "from math import *\n",
    "a=raw_input()\n",
    "a=a.split(\" \")\n",
    "A=float(a[0])\n",
    "B=float(a[1])\n",
    "C=float(a[2])\n",
    "\n",
    "d=B*B-4*A*C\n",
    "\n",
    "if A != 0 and d > 0:\n",
    "    r1=(-B+sqrt(d))/(2*A)\n",
    "    r2=(-B-sqrt(d))/(2*A)\n",
    "    print \"R1 = %.5f\"%r1\n",
    "    print \"R2 = %.5f\"%r2\n",
    "else:\n",
    "    print \"Impossivel calcular\"\n",
    "    "
   ]
  },
  {
   "cell_type": "code",
   "execution_count": null,
   "metadata": {},
   "outputs": [],
   "source": [
    "Input Samples\tOutput Samples\n",
    "10.0 20.1 5.1\n",
    "\n",
    "R1 = -0.29788\n",
    "R2 = -1.71212\n",
    "\n",
    "0.0 20.0 5.0\n",
    "\n",
    "Impossivel calcular\n",
    "\n",
    "10.3 203.0 5.0\n",
    "\n",
    "R1 = -0.02466\n",
    "R2 = -19.68408\n",
    "\n",
    "10.0 3.0 5.0\n",
    "\n",
    "Impossivel calcular"
   ]
  }
 ],
 "metadata": {
  "kernelspec": {
   "display_name": "Python 2",
   "language": "python",
   "name": "python2"
  },
  "language_info": {
   "codemirror_mode": {
    "name": "ipython",
    "version": 2
   },
   "file_extension": ".py",
   "mimetype": "text/x-python",
   "name": "python",
   "nbconvert_exporter": "python",
   "pygments_lexer": "ipython2",
   "version": "2.7.12"
  }
 },
 "nbformat": 4,
 "nbformat_minor": 2
}
