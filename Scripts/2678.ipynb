{
 "cells": [
  {
   "cell_type": "code",
   "execution_count": 15,
   "metadata": {},
   "outputs": [
    {
     "name": "stdout",
     "output_type": "stream",
     "text": [
      "ee-ee\n"
     ]
    }
   ],
   "source": [
    "def stnb(da):\n",
    "    \n",
    "    for i in range(0,9)\n",
    "    if ord(da)==65,ord(da)==65,ord(da)==67:\n",
    "        return 2\n",
    "    \n",
    "    elif ord(da)==68,ord(da)==69,ord(da)==70:\n",
    "        return 3\n",
    "    elif ord(da)==68,ord(da)==69,ord(da)==70:\n",
    "        return 3\n",
    "    \n",
    "    \n",
    "\n",
    "\n",
    "a=input().split()\n",
    "\n",
    "\n",
    "try:\n",
    "    a,b=a.split(\"-\")\n",
    "    \n",
    "except:\n",
    "    pass\n",
    "\n",
    "\n",
    "    \n",
    "    \n",
    "    \n"
   ]
  },
  {
   "cell_type": "code",
   "execution_count": 17,
   "metadata": {},
   "outputs": [
    {
     "data": {
      "text/plain": [
       "(68, 70)"
      ]
     },
     "execution_count": 17,
     "metadata": {},
     "output_type": "execute_result"
    }
   ],
   "source": [
    "ord(\"D\"),ord(\"F\")"
   ]
  },
  {
   "cell_type": "code",
   "execution_count": null,
   "metadata": {},
   "outputs": [],
   "source": []
  }
 ],
 "metadata": {
  "kernelspec": {
   "display_name": "Python 3",
   "language": "python",
   "name": "python3"
  },
  "language_info": {
   "codemirror_mode": {
    "name": "ipython",
    "version": 3
   },
   "file_extension": ".py",
   "mimetype": "text/x-python",
   "name": "python",
   "nbconvert_exporter": "python",
   "pygments_lexer": "ipython3",
   "version": "3.6.8"
  }
 },
 "nbformat": 4,
 "nbformat_minor": 2
}
