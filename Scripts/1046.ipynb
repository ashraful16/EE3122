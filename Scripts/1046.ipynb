{
 "cells": [
  {
   "cell_type": "code",
   "execution_count": null,
   "metadata": {},
   "outputs": [],
   "source": [
    "Read the start time and end time of a game, in hours.\n",
    "Then calculate the duration of the game, knowing that \n",
    "the game can begin in a day and finish in another day,\n",
    "with a maximum duration of 24 hours. The message must\n",
    "be printed in portuguese “O JOGO DUROU X HORA(S)” \n",
    "that means “THE GAME LASTED X HOUR(S)”\n",
    "\n",
    "Input\n",
    "Two integer numbers representing the start and end time of a game.\n",
    "\n",
    "Output\n",
    "Print the duration of the game as in the sample output.\n",
    "\n",
    "Input Sample\tOutput Sample\n",
    "16 2\n",
    "\n",
    "O JOGO DUROU 10 HORA(S)\n",
    "\n",
    "0 0\n",
    "\n",
    "O JOGO DUROU 24 HORA(S)\n",
    "\n",
    "2 16\n",
    "\n",
    "O JOGO DUROU 14 HORA(S)"
   ]
  },
  {
   "cell_type": "code",
   "execution_count": 7,
   "metadata": {},
   "outputs": [
    {
     "name": "stdout",
     "output_type": "stream",
     "text": [
      "2 16\n",
      "O JOGO DUROU 14 HORA(S)\n"
     ]
    }
   ],
   "source": [
    "s=raw_input().split()\n",
    "a,b=int(s[0]),int(s[1])\n",
    "if a<=12 and b>12:\n",
    "    x=b-a\n",
    "elif a>12 and b<=12:\n",
    "    x=(24-a)+b\n",
    "elif a==b:\n",
    "    x=24\n",
    "else:\n",
    "    x=a-b\n",
    "    \n",
    "print \"O JOGO DUROU %d HORA(S)\"%x"
   ]
  },
  {
   "cell_type": "code",
   "execution_count": 2,
   "metadata": {},
   "outputs": [
    {
     "name": "stdout",
     "output_type": "stream",
     "text": [
      "['4', '17']\n"
     ]
    }
   ],
   "source": [
    "print s"
   ]
  },
  {
   "cell_type": "code",
   "execution_count": null,
   "metadata": {},
   "outputs": [],
   "source": [
    "s=raw_input().split()\n",
    "a,b=int(s[0]),int(s[1])\n",
    "x=a-b\n",
    "if x<0:\n",
    "    x=24+b-a\n",
    "print \"O JOGO DUROU %d HORA(S)\"%x"
   ]
  }
 ],
 "metadata": {
  "kernelspec": {
   "display_name": "Python 2",
   "language": "python",
   "name": "python2"
  },
  "language_info": {
   "codemirror_mode": {
    "name": "ipython",
    "version": 2
   },
   "file_extension": ".py",
   "mimetype": "text/x-python",
   "name": "python",
   "nbconvert_exporter": "python",
   "pygments_lexer": "ipython2",
   "version": "2.7.12"
  }
 },
 "nbformat": 4,
 "nbformat_minor": 2
}
