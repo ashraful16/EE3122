{
 "cells": [
  {
   "cell_type": "code",
   "execution_count": 7,
   "metadata": {},
   "outputs": [
    {
     "name": "stdout",
     "output_type": "stream",
     "text": [
      "4\n",
      "0\n",
      "  1   2   3   4\n",
      "  2   1   2   3\n",
      "  3   2   1   2\n",
      "  4   3   2   1\n",
      "\n"
     ]
    }
   ],
   "source": [
    "# -*- coding: utf-8 -*-\n",
    "\n",
    "'''\n",
    "Escreva a sua solução aqui\n",
    "Code your solution here\n",
    "Escriba su solución aquí\n",
    "'''\n",
    "\n",
    "a=[]\n",
    "ine=int(input())\n",
    "while ine != 0:\n",
    "    a.append(ine)\n",
    "    ine=int(input())\n",
    "#print(a)\n",
    "for d in a:\n",
    "   \n",
    "    k=d\n",
    "    foo=1\n",
    "    y = [[foo for i in range(k)] for j in range(k)]\n",
    "    kk=len(y)\n",
    "    mm,pq=0,0\n",
    "    bsn=len(y)\n",
    "    if len(y)>=2:\n",
    "        for kkk in range(kk,0,-1):\n",
    "            asn=0\n",
    "            \n",
    "            for i in range(pq,kkk):\n",
    "                #y[mm][i],y[i][mm],y[kkk-1][i],y[i][kkk-1]=6,6,6,6\n",
    "                #y[i][mm],y[kkk-1][i],y[i][kkk-1]=6,6,6\n",
    "                \n",
    "                y[mm][i]=asn+1\n",
    "                y[i][mm]=asn+1\n",
    "                y[kkk-1][i]=bsn-i\n",
    "                y[i][kkk-1]=bsn-i\n",
    "                #y[kkk-1][i]=\n",
    "                asn+=1\n",
    "            bsn=bsn-1\n",
    "            kk,mm,pq=len(y),mm+1,pq+1\n",
    " \n",
    "    i=0\n",
    "    for i in range(len(y)):\n",
    "        prt=\"\"\n",
    "        for j in range(len(y)):\n",
    "            pp=\" %3d\" %y[i][j]\n",
    "            prt+= str(pp)\n",
    "        print(prt[1:])\n",
    "    print(\"\")\n",
    "\n",
    "       # print(prt)\n",
    "   # print(\"\\n\")\n",
    "   \n",
    "   # print(\"\\n\")"
   ]
  },
  {
   "cell_type": "code",
   "execution_count": null,
   "metadata": {},
   "outputs": [],
   "source": [
    " 1  2  4  8\n",
    " 2  4  8 16\n",
    " 4  8 16 32\n",
    " 8 16 32 64"
   ]
  },
  {
   "cell_type": "code",
   "execution_count": 22,
   "metadata": {},
   "outputs": [
    {
     "name": "stdout",
     "output_type": "stream",
     "text": [
      "5\n",
      "1 2 4 8 16 \n",
      "2 4 8 16 32 \n",
      "4 8 16 32 64 \n",
      "8 16 32 64 128 \n",
      "16 32 64 128 256 \n"
     ]
    }
   ],
   "source": [
    "\n",
    "\n",
    "\n",
    "inp=int(input())\n",
    "a=[]\n",
    "for i in range(0,inp):\n",
    "    #print 2**i\n",
    "    a.append(2**i)\n",
    "\n",
    "    \n",
    "for i in range(inp):\n",
    "    for j in range(inp):\n",
    "        if j+i<inp:\n",
    "            up=a[j+i]\n",
    "            print a[j+i],\n",
    "        else:\n",
    "            print 2*up,\n",
    "            up=2*up\n",
    "    print \"\""
   ]
  },
  {
   "cell_type": "code",
   "execution_count": 24,
   "metadata": {},
   "outputs": [
    {
     "name": "stdout",
     "output_type": "stream",
     "text": [
      "2\n",
      "3\n",
      "1 2 4 \n",
      "2 4 8 \n",
      "4 8 16 \n",
      "5\n",
      "1 2 4 8 16 \n",
      "2 4 8 16 32 \n",
      "4 8 16 32 64 \n",
      "8 16 32 64 128 \n",
      "16 32 64 128 256 \n"
     ]
    }
   ],
   "source": [
    "k=int(input())\n",
    "\n",
    "for i in range(k):\n",
    "    \n",
    "    \n",
    "\n",
    "\n",
    "    inp=int(input())\n",
    "    a=[]\n",
    "    for i in range(0,inp):\n",
    "    #print 2**i\n",
    "        a.append(2**i)\n",
    "\n",
    "    \n",
    "    for i in range(inp):\n",
    "        for j in range(inp):\n",
    "            if j+i<inp:\n",
    "                up=a[j+i]\n",
    "                print a[j+i],\n",
    "            else:\n",
    "                print 2*up,\n",
    "                up=2*up\n",
    "        print \"\""
   ]
  },
  {
   "cell_type": "code",
   "execution_count": null,
   "metadata": {},
   "outputs": [],
   "source": [
    "k=int(input())\n",
    "\n",
    "for i in range(k):\n",
    "    \n",
    "    \n",
    "\n",
    "\n",
    "    inp=int(input())\n",
    "    a=[]\n",
    "    for i in range(0,inp):\n",
    "    #print 2**i\n",
    "        a.append(2**i)\n",
    "\n",
    "    \n",
    "    for i in range(inp):\n",
    "        for j in range(inp):\n",
    "            stp=\"\"\n",
    "            if j+i<inp:\n",
    "                up=a[j+i]\n",
    "                print a[j+i],\n",
    "            else:\n",
    "                print 2*up,\n",
    "                up=2*up\n",
    "        print \"\""
   ]
  },
  {
   "cell_type": "code",
   "execution_count": null,
   "metadata": {},
   "outputs": [],
   "source": []
  },
  {
   "cell_type": "code",
   "execution_count": 25,
   "metadata": {},
   "outputs": [
    {
     "name": "stdout",
     "output_type": "stream",
     "text": [
      "5\n",
      "0\n",
      "  1  1  1  1  1\n",
      "  1  2  2  2  1\n",
      "  1  2  3  2  1\n",
      "  1  2  2  2  1\n",
      "  1  1  1  1  1\n",
      "\n",
      "\n"
     ]
    }
   ],
   "source": [
    "a=[]\n",
    "ine=int(input())\n",
    "while ine != 0:\n",
    "    a.append(ine)\n",
    "    ine=int(input())\n",
    "#print(a)\n",
    "for d in a:\n",
    "   \n",
    "    k=d\n",
    "    foo=1\n",
    "    y = [[foo for i in range(k)] for j in range(k)]\n",
    "    kk=len(y)\n",
    "    mm,pq=0,0\n",
    "    if len(y)>2:\n",
    "        for kkk in range(kk,0,-1):\n",
    "            for i in range(pq,kkk):\n",
    "                y[mm][i],y[i][mm],y[kkk-1][i],y[i][kkk-1]=pq+1,pq+1,pq+1,pq+1\n",
    "            kk,mm,pq=len(y),mm+1,pq+1\n",
    " \n",
    "    i=0\n",
    "    for i in range(len(y)):\n",
    "        prt=\"\"\n",
    "        for j in range(len(y)-1):\n",
    "        #print(y[i][j],end=\" \")\n",
    "            k=\"%3d\"%y[i][j]\n",
    "            prt=prt+str(k)\n",
    "        k=\"%3d\"%y[i][len(y)-1]\n",
    "        prt=prt+str(k)\n",
    "        print(prt)\n",
    "    print(\"\\n\")\n",
    "   \n",
    "   # print(\"\\n\")"
   ]
  },
  {
   "cell_type": "code",
   "execution_count": 7,
   "metadata": {},
   "outputs": [
    {
     "name": "stdout",
     "output_type": "stream",
     "text": [
      "5\n",
      " 1 2 4 8 16\n",
      " 2 4 8 16 16\n",
      " 4 8 16 16 32\n",
      " 8 16 16 32 64\n",
      " 16 16 32 64 128\n",
      "0\n"
     ]
    }
   ],
   "source": [
    "while True:\n",
    "\n",
    "    inp=int(input())\n",
    "    if (inp== 0):\n",
    "        break\n",
    "    a=[]\n",
    "    for i in range(0,inp):\n",
    "    #print 2**i\n",
    "        a.append(2**i)\n",
    "        \n",
    "        \n",
    "    p=len(str(inp))\n",
    "    \n",
    "    for i in range(inp):\n",
    "        stp=''\n",
    "        for r in range(p):\n",
    "            stp=stp+\" \"\n",
    "            c=stp\n",
    "        for j in range(inp):\n",
    "            \n",
    "            if j+i<inp:\n",
    "                up=a[j+i]\n",
    "                stp=stp+c+str(\"%d\"%up)\n",
    "                #print a[j+i],\n",
    "            else:\n",
    "                #print 2*up,\n",
    "                stp=stp+c+str(\"%d\"%up)\n",
    "                up=2*up\n",
    "        print stp[1:]\n",
    "        #print \"\""
   ]
  },
  {
   "cell_type": "code",
   "execution_count": 3,
   "metadata": {},
   "outputs": [
    {
     "name": "stdout",
     "output_type": "stream",
     "text": [
      "2\n"
     ]
    }
   ],
   "source": [
    "c=45\n",
    "c=str(c)\n",
    "print len(c)"
   ]
  },
  {
   "cell_type": "code",
   "execution_count": null,
   "metadata": {},
   "outputs": [],
   "source": []
  }
 ],
 "metadata": {
  "kernelspec": {
   "display_name": "Python 2",
   "language": "python",
   "name": "python2"
  },
  "language_info": {
   "codemirror_mode": {
    "name": "ipython",
    "version": 2
   },
   "file_extension": ".py",
   "mimetype": "text/x-python",
   "name": "python",
   "nbconvert_exporter": "python",
   "pygments_lexer": "ipython2",
   "version": "2.7.12"
  }
 },
 "nbformat": 4,
 "nbformat_minor": 2
}
