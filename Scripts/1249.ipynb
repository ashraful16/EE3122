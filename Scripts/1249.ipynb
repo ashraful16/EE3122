{
 "cells": [
  {
   "cell_type": "code",
   "execution_count": null,
   "metadata": {},
   "outputs": [],
   "source": [
    "a1=['a','b','c','d','e','f','g','h','i','j','k','l','m','n','o','p','q','r','s','t','u','v','w','x','y','z']\n",
    "a2=['A','B','C','D','E','F','G','H','I','J','K','L','M','N','O','P','Q','R','S','T','U','V','W','X','Y','Z']\n"
   ]
  },
  {
   "cell_type": "code",
   "execution_count": null,
   "metadata": {},
   "outputs": [],
   "source": [
    "print(ord(' '),ord('Z'))\n",
    "print(ord('a'),ord('z'))\n",
    "#chr(67)"
   ]
  },
  {
   "cell_type": "code",
   "execution_count": null,
   "metadata": {},
   "outputs": [],
   "source": []
  },
  {
   "cell_type": "code",
   "execution_count": null,
   "metadata": {},
   "outputs": [],
   "source": [
    "a=input()\n",
    "s=''\n",
    "sft,stf=13,13\n",
    "for aa in a:\n",
    "    k=ord(aa)\n",
    "    if (k>=65 and k<=90) or (k>=97 and k<=122) :\n",
    "        if (k+sft>90 and k<=90) :\n",
    "            #print(chr(65+k+sft-90))\n",
    "            za=65+k+sft-90-1\n",
    "        elif ( k+sft>122):\n",
    "            #print(chr(97+k+sft-122))\n",
    "            za=97+k+sft-122-1\n",
    "        else:\n",
    "            #print(chr(k+sft))\n",
    "            za=k+sft\n",
    "    else:\n",
    "        za=k\n",
    "    #print(chr(za))\n",
    "    s=s+str(chr(za))\n",
    "print(s)\n",
    "\n",
    "        \n",
    "    \n"
   ]
  },
  {
   "cell_type": "code",
   "execution_count": null,
   "metadata": {},
   "outputs": [],
   "source": [
    "\n",
    "nop123<>,klm?*$\n",
    "\n",
    "\n",
    "\n",
    "Sample Input\tSample Output\n",
    "z\n",
    "a\n",
    "x\n",
    "Hello world!\n",
    "This is a test message.\n",
    "abc123<>,xyz?*$\n",
    "m\n",
    "n\n",
    "k\n",
    "Uryyb jbeyq!\n",
    "Guvf vf n grfg zrffntr.\n",
    "nop123<>,klm?*$"
   ]
  },
  {
   "cell_type": "code",
   "execution_count": null,
   "metadata": {},
   "outputs": [],
   "source": [
    "try :\n",
    "    a=input()\n",
    "    s=''\n",
    "    sft,stf=13,13\n",
    "    for aa in a:\n",
    "        k=ord(aa)\n",
    "        if (k>=65 and k<=90) or (k>=97 and k<=122) :\n",
    "            if (k+sft>90 and k<=90) :\n",
    "                #print(chr(65+k+sft-90))\n",
    "                za=65+k+sft-90-1\n",
    "            elif ( k+sft>122):\n",
    "            #print(chr(97+k+sft-122))\n",
    "                za=97+k+sft-122-1\n",
    "            else:\n",
    "            #print(chr(k+sft))\n",
    "                za=k+sft\n",
    "        else:\n",
    "            za=k\n",
    "    #print(chr(za))\n",
    "        s=s+str(chr(za))\n",
    "    print(s)\n",
    "except EOFERROR:\n",
    "    print()\n",
    "    "
   ]
  },
  {
   "cell_type": "code",
   "execution_count": 4,
   "metadata": {},
   "outputs": [
    {
     "name": "stdout",
     "output_type": "stream",
     "text": [
      "re\n",
      "er\n",
      "\n"
     ]
    }
   ],
   "source": [
    "c=True\n",
    "while c==True:\n",
    "    \n",
    "    try :\n",
    "        a=input()\n",
    "        if a=='':\n",
    "            break\n",
    "        s=''\n",
    "        sft,stf=13,13\n",
    "        for aa in a:\n",
    "            k=ord(aa)\n",
    "            if (k>=65 and k<=90) or (k>=97 and k<=122) :\n",
    "                if (k+sft>90 and k<=90) :\n",
    "                #print(chr(65+k+sft-90))\n",
    "                    za=65+k+sft-90-1\n",
    "                elif ( k+sft>122):\n",
    "            #print(chr(97+k+sft-122))\n",
    "                    za=97+k+sft-122-1\n",
    "                else:\n",
    "            #print(chr(k+sft))\n",
    "                    za=k+sft\n",
    "            else:\n",
    "                za=k\n",
    "    #print(chr(za))\n",
    "            s=s+str(chr(za))\n",
    "        print(s)\n",
    "    except EOFError:\n",
    "        #print(\"   dwf\")\n",
    "        #c==False\n",
    "        break\n",
    "    #except :\n",
    "       # print(\"   dwf\")\n",
    "        #c==False\n",
    "       # break\n",
    "    "
   ]
  },
  {
   "cell_type": "code",
   "execution_count": null,
   "metadata": {},
   "outputs": [],
   "source": [
    "print(ord(input()))"
   ]
  },
  {
   "cell_type": "code",
   "execution_count": null,
   "metadata": {},
   "outputs": [],
   "source": [
    "a=input()\n",
    "print(a,type(a),a==\"\")"
   ]
  },
  {
   "cell_type": "code",
   "execution_count": null,
   "metadata": {},
   "outputs": [],
   "source": []
  }
 ],
 "metadata": {
  "kernelspec": {
   "display_name": "Python 3",
   "language": "python",
   "name": "python3"
  },
  "language_info": {
   "codemirror_mode": {
    "name": "ipython",
    "version": 3
   },
   "file_extension": ".py",
   "mimetype": "text/x-python",
   "name": "python",
   "nbconvert_exporter": "python",
   "pygments_lexer": "ipython3",
   "version": "3.6.5"
  }
 },
 "nbformat": 4,
 "nbformat_minor": 2
}
