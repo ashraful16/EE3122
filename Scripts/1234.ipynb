{
 "cells": [
  {
   "cell_type": "code",
   "execution_count": 3,
   "metadata": {},
   "outputs": [
    {
     "name": "stdout",
     "output_type": "stream",
     "text": [
      "This is \n",
      "T\n",
      "H\n",
      "I\n",
      "S\n",
      "I\n",
      "S\n",
      "THISIS\n"
     ]
    }
   ],
   "source": [
    "c=raw_input()\n",
    "fl=True\n",
    "os=\"\"\n",
    "for d in c:\n",
    "    \n",
    "    if fl==False :\n",
    "        if (d <='z' and d>='a')or (d <='Z' and d>='A'):\n",
    "            k=d.lower()\n",
    "            os=os+str(k)\n",
    "            print(k)\n",
    "    elif fl==True:\n",
    "        if (d <='z' and d>='a')or (d <='Z' and d>='A'):\n",
    "            k=d.upper()\n",
    "            os=os+str(k)\n",
    "            print(k)\n",
    "            fl==False\n",
    "    else:\n",
    "        os=os+str(d)\n",
    "        print(d)\n",
    "\n",
    "print(os)\n",
    "    "
   ]
  },
  {
   "cell_type": "code",
   "execution_count": 7,
   "metadata": {},
   "outputs": [
    {
     "name": "stdout",
     "output_type": "stream",
     "text": [
      "ash ra ful\n",
      "AsH rA fUl\n"
     ]
    }
   ],
   "source": [
    "c=raw_input()\n",
    "fl=True\n",
    "os=\"\"\n",
    "for d in c:\n",
    "    \n",
    "    \n",
    "    if (d <='z' and d>='a')or (d <='Z' and d>='A'):\n",
    "        if fl==False :\n",
    "            k=d.lower()\n",
    "            os=os+str(k)\n",
    "            #print(k)\n",
    "            fl=True\n",
    "        elif fl==True:\n",
    "            k=d.upper()\n",
    "            os=os+str(k)\n",
    "            #print(k)\n",
    "            fl=False\n",
    "    else:\n",
    "        os=os+str(d)\n",
    "        #print(d)\n",
    "\n",
    "print(os)\n",
    "    "
   ]
  },
  {
   "cell_type": "code",
   "execution_count": null,
   "metadata": {},
   "outputs": [
    {
     "name": "stdout",
     "output_type": "stream",
     "text": [
      "This is a dancing sentence\n",
      "ThIs Is A dAnCiNg SeNtEnCe\n",
      "  This   is         a  dancing   sentence\n",
      "  ThIs   Is         A  dAnCiNg   SeNtEnCe\n",
      "aaaaaaaaaaa\n",
      "AaAaAaAaAaA\n",
      "z\n",
      "Z\n",
      "\n",
      "\n",
      "\n",
      "\n",
      "\n",
      "\n",
      "\n",
      "\n"
     ]
    }
   ],
   "source": [
    "while True:\n",
    "    try:\n",
    "        c=raw_input()\n",
    "        fl=True\n",
    "        os=\"\"\n",
    "        for d in c:\n",
    "    \n",
    "    \n",
    "            if (d <='z' and d>='a')or (d <='Z' and d>='A'):\n",
    "                if fl==False :\n",
    "                    k=d.lower()\n",
    "                    os=os+str(k)\n",
    "            #print(k)\n",
    "                    fl=True\n",
    "                elif fl==True:\n",
    "                    k=d.upper()\n",
    "                    os=os+str(k)\n",
    "            #print(k)\n",
    "                    fl=False\n",
    "            else:\n",
    "                os=os+str(d)\n",
    "        #print(d)\n",
    "\n",
    "        print(os)\n",
    "    except:\n",
    "        break\n",
    "    "
   ]
  },
  {
   "cell_type": "code",
   "execution_count": null,
   "metadata": {},
   "outputs": [],
   "source": [
    "Sample Input\tSample Output\n",
    "This is a dancing sentence\n",
    "  This   is         a  dancing   sentence  \n",
    "aaaaaaaaaaa\n",
    "z\n",
    "\n",
    "ThIs Is A dAnCiNg SeNtEnCe\n",
    "  ThIs   Is         A  dAnCiNg   SeNtEnCe  \n",
    "AaAaAaAaAaA\n",
    "Z"
   ]
  }
 ],
 "metadata": {
  "kernelspec": {
   "display_name": "Python 2",
   "language": "python",
   "name": "python2"
  },
  "language_info": {
   "codemirror_mode": {
    "name": "ipython",
    "version": 2
   },
   "file_extension": ".py",
   "mimetype": "text/x-python",
   "name": "python",
   "nbconvert_exporter": "python",
   "pygments_lexer": "ipython2",
   "version": "2.7.12"
  }
 },
 "nbformat": 4,
 "nbformat_minor": 2
}
