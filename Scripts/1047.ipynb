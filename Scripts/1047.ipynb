{
 "cells": [
  {
   "cell_type": "code",
   "execution_count": null,
   "metadata": {},
   "outputs": [],
   "source": []
  },
  {
   "cell_type": "code",
   "execution_count": null,
   "metadata": {},
   "outputs": [],
   "source": [
    "Read the start time and end time of a game, \n",
    "in hours and minutes (initial hour, initial minute, \n",
    "                      final hour, final minute).\n",
    "Then print the duration of the game, \n",
    "knowing that the game can begin in a day and finish in another day,\n",
    "\n",
    "Obs.: With a maximum game time of 24 hours and the minimum game time of 1 minute.\n",
    "\n",
    "Input\n",
    "Four integer numbers representing the start and end time of the game.\n",
    "\n",
    "Output\n",
    "Print the duration of the game in hours and minutes, \n",
    "in this format: “O JOGO DUROU XXX HORA(S) E YYY MINUTO(S)” \n",
    "    . Which means: the game lasted XXX hour(s) and YYY minutes.\n",
    "\n",
    "Input Sample\tOutput Sample\n",
    "7 8 9 10\n",
    "\n",
    "O JOGO DUROU 2 HORA(S) E 2 MINUTO(S)\n",
    "\n",
    "7 7 7 7\n",
    "\n",
    "O JOGO DUROU 24 HORA(S) E 0 MINUTO(S)\n",
    "\n",
    "7 10 8 9\n",
    "\n",
    "O JOGO DUROU 0 HORA(S) E 59 MINUTO(S)"
   ]
  },
  {
   "cell_type": "code",
   "execution_count": 28,
   "metadata": {},
   "outputs": [
    {
     "name": "stdout",
     "output_type": "stream",
     "text": [
      "7 9 6 1\n",
      "O JOGO DUROU 22 HORA(S) E 52 MINUTO(S)\n",
      "\n"
     ]
    }
   ],
   "source": [
    "s=raw_input().split()\n",
    "a,c,b,d=int(s[0]),int(s[1]),int(s[2]),int(s[3])\n",
    "\n",
    "if a<=12 and b>12 :\n",
    "    x=b-a\n",
    "    if c<d:\n",
    "        y=-c+d\n",
    "    else:\n",
    "        x=x-1\n",
    "        y=60-(c-d)\n",
    "    if y == 60:\n",
    "        x=x+1\n",
    "        y=0\n",
    "        \n",
    "elif a>12 and b<=12:\n",
    "    x=(24-a)+b\n",
    "    if c<d:\n",
    "        y=-c+d\n",
    "    else:\n",
    "        x=x-1\n",
    "        y=60-(c-d)\n",
    "    if y == 60:\n",
    "        x=x+1\n",
    "        y=0\n",
    "elif a > b :\n",
    "    x=(24-(a-b))\n",
    "    if c<d:\n",
    "        y=-c+d\n",
    "    else:\n",
    "        x=x-1\n",
    "        y=60-(c-d)\n",
    "    if y == 60:\n",
    "        x=x+1\n",
    "        y=0\n",
    "    \n",
    "elif a==b:\n",
    "    x=24\n",
    "    if c<d:\n",
    "        y=-c+d\n",
    "    else:\n",
    "        x=x-1\n",
    "        y=60-(c-d)\n",
    "    if y == 60:\n",
    "        x=x+1\n",
    "        y=0\n",
    "    if y == 60:\n",
    "        x=x+1\n",
    "        y=0\n",
    "\n",
    "\n",
    "\n",
    "else:\n",
    "    x=b-a\n",
    "    if c<d:\n",
    "        y=-c+d\n",
    "    else:\n",
    "        x=x-1\n",
    "        y=60-(c-d)\n",
    "    if y == 60:\n",
    "        x=x+1\n",
    "        y=0\n",
    "    \n",
    "    \n",
    "print \"O JOGO DUROU %d HORA(S) E %d MINUTO(S)\"%(x,y)\n",
    "print \"\""
   ]
  },
  {
   "cell_type": "code",
   "execution_count": null,
   "metadata": {},
   "outputs": [],
   "source": []
  }
 ],
 "metadata": {
  "kernelspec": {
   "display_name": "Python 2",
   "language": "python",
   "name": "python2"
  },
  "language_info": {
   "codemirror_mode": {
    "name": "ipython",
    "version": 2
   },
   "file_extension": ".py",
   "mimetype": "text/x-python",
   "name": "python",
   "nbconvert_exporter": "python",
   "pygments_lexer": "ipython2",
   "version": "2.7.12"
  }
 },
 "nbformat": 4,
 "nbformat_minor": 2
}
