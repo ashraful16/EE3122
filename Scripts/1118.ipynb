{
 "cells": [
  {
   "cell_type": "code",
   "execution_count": null,
   "metadata": {},
   "outputs": [],
   "source": [
    "soma = 0\n",
    "qte = 0\n",
    "while qte < 2:\n",
    "    nota = float(input())\n",
    "    if(nota >= 0 and nota <= 10):\n",
    "        soma += nota\n",
    "        qte += 1\n",
    "    else:\n",
    "        print(\"nota invalida\")\n",
    "\n",
    "print(\"media = %.2f\" %(soma/2))"
   ]
  }
 ],
 "metadata": {
  "kernelspec": {
   "display_name": "Python 2",
   "language": "python",
   "name": "python2"
  },
  "language_info": {
   "codemirror_mode": {
    "name": "ipython",
    "version": 2
   },
   "file_extension": ".py",
   "mimetype": "text/x-python",
   "name": "python",
   "nbconvert_exporter": "python",
   "pygments_lexer": "ipython2",
   "version": "2.7.12"
  }
 },
 "nbformat": 4,
 "nbformat_minor": 2
}
