{
 "cells": [
  {
   "cell_type": "code",
   "execution_count": null,
   "metadata": {},
   "outputs": [],
   "source": [
    "i=int(input(\"dim\"))\n",
    "a=[]\n",
    "for i in range(0,i):\n",
    "    for j in range(0,i):\n",
    "        a[i][j].append(i*j)\n",
    "    print i"
   ]
  },
  {
   "cell_type": "code",
   "execution_count": null,
   "metadata": {},
   "outputs": [],
   "source": [
    "X,Y=3,3\n",
    "out = [[ str(i)+str(j) for j in range (Y)] for i in range (X)]\n",
    "i,j\n",
    "print (out)"
   ]
  },
  {
   "cell_type": "code",
   "execution_count": null,
   "metadata": {},
   "outputs": [],
   "source": [
    "X,Y=3,3\n",
    "j=0\n",
    "i=0\n",
    "out = [[ str(i)+str(j) for j in range (Y)]]\n",
    "i,j\n",
    "print (out)"
   ]
  },
  {
   "cell_type": "code",
   "execution_count": null,
   "metadata": {},
   "outputs": [],
   "source": []
  },
  {
   "cell_type": "code",
   "execution_count": null,
   "metadata": {},
   "outputs": [],
   "source": [
    "X,Y=3,3\n",
    "out = [[ 0 for j in range (Y)] for i in range (X)]\n",
    "i,j\n",
    "print (out)"
   ]
  },
  {
   "cell_type": "code",
   "execution_count": null,
   "metadata": {},
   "outputs": [],
   "source": [
    "i=int(input(\"dim\"))\n",
    "\n",
    "X,Y=i,i\n",
    "j=i\n",
    "a = [[ 0 for j in range (Y)] for i in range (X)]\n",
    "for i in range(0,i):\n",
    "    for j in range(0,j):\n",
    "        a[j][j]=i\n",
    "print a"
   ]
  },
  {
   "cell_type": "code",
   "execution_count": null,
   "metadata": {},
   "outputs": [],
   "source": [
    "i=int(input(\"enter dim :  \"))\n",
    "n,i,j=i,0,0\n",
    "ar=[[0 for l in range(n)] for k in range(n)]\n",
    "print ar\n",
    "\n",
    "le=n*n\n",
    "qq,rr=0,0\n",
    "iii=0\n",
    "while iii<le:\n",
    "    d=int(input())\n",
    "    ar[qq][rr]=d\n",
    "    rr+=1\n",
    "    if rr>=n:\n",
    "        qq+=1\n",
    "        rr=0\n",
    "        \n",
    "    iii+=1\n",
    "print ar"
   ]
  },
  {
   "cell_type": "code",
   "execution_count": null,
   "metadata": {},
   "outputs": [],
   "source": [
    "li=int(input())-1\n",
    "ope=str(raw_input())\n",
    "i=5\n",
    "n,i,j=i,0,0\n",
    "ar=[[0 for l in range(n)] for k in range(n)]\n",
    "print ar\n",
    "\n",
    "le=n*n\n",
    "qq,rr=0,0\n",
    "iii=0\n",
    "while iii<le:\n",
    "    d=int(input())\n",
    "    ar[qq][rr]=d\n",
    "    rr+=1\n",
    "    if rr>=n:\n",
    "        qq+=1\n",
    "        rr=0\n",
    "        \n",
    "    iii+=1\n",
    "print ar\n",
    "summ=0\n",
    "if ope==\"S\":\n",
    "    print i,n\n",
    "    for i in range(n):\n",
    "        summ=summ+(ar[li][i])\n",
    "else :\n",
    "    print i,n\n",
    "    for i in range(n):\n",
    "        summ=summ+(ar[li][i])\n",
    "    summ=summ/float(n)\n",
    "    print summ,n\n",
    "        \n",
    "print \"%.1f\"%summ"
   ]
  },
  {
   "cell_type": "markdown",
   "metadata": {},
   "source": [
    "#### "
   ]
  },
  {
   "cell_type": "code",
   "execution_count": null,
   "metadata": {},
   "outputs": [],
   "source": [
    "summ=0\n",
    "if ope==\"S\":\n",
    "    print i,n\n",
    "    for i in range(n):\n",
    "        summ=summ+(ar[li][i])\n",
    "else :\n",
    "    print i,n\n",
    "    for i in range(n):\n",
    "        summ=summ+(ar[li][i])\n",
    "    summ=summ/float(n)\n",
    "    print summ,n\n",
    "        \n",
    "print \"%.1f\"%summ"
   ]
  },
  {
   "cell_type": "code",
   "execution_count": null,
   "metadata": {},
   "outputs": [],
   "source": [
    "li=int(input())\n",
    "ope=str(raw_input())\n",
    "i=12\n",
    "n,i,j=i,0,0\n",
    "ar=[[0 for l in range(n)] for k in range(n)]\n",
    "le=n*n\n",
    "qq,rr=0,0\n",
    "iii=0\n",
    "while iii<le:\n",
    "    d=float(input())\n",
    "    ar[qq][rr]=d\n",
    "    rr+=1\n",
    "    if rr>=n:\n",
    "        qq+=1\n",
    "        rr=0\n",
    "        \n",
    "    iii+=1\n",
    "summ=0\n",
    "if ope==\"S\":\n",
    "    for i in range(n):\n",
    "        summ=summ+(ar[li][i])\n",
    "elif ope==\"M\" :\n",
    "    for i in range(n):\n",
    "        summ=summ+(ar[li][i])\n",
    "    summ=summ/float(n)\n",
    "    print summ,n\n",
    "        \n",
    "print \"%.1f\"%summ"
   ]
  },
  {
   "cell_type": "code",
   "execution_count": null,
   "metadata": {},
   "outputs": [],
   "source": []
  },
  {
   "cell_type": "code",
   "execution_count": null,
   "metadata": {},
   "outputs": [],
   "source": [
    "ope=(raw_input())\n",
    "ope=ope.split(\"\\n\")\n",
    "print ope"
   ]
  },
  {
   "cell_type": "code",
   "execution_count": null,
   "metadata": {},
   "outputs": [],
   "source": []
  },
  {
   "cell_type": "code",
   "execution_count": 15,
   "metadata": {},
   "outputs": [
    {
     "name": "stdout",
     "output_type": "stream",
     "text": [
      "1\n",
      "S\n",
      "1\n",
      "2\n",
      "3\n",
      "4\n",
      "5\n",
      "6\n",
      "7\n",
      "8\n",
      "-4\n",
      "[[1.0, 2.0, 3.0], [4.0, 5.0, 6.0], [7.0, 8.0, -4.0]]\n",
      "15.0\n"
     ]
    }
   ],
   "source": [
    "li=int(input())\n",
    "ope=str(raw_input())\n",
    "k=0\n",
    "ssss=3\n",
    "mia=ssss*ssss\n",
    "array=[]\n",
    "while k<mia:\n",
    "    ay=raw_input()\n",
    "    array.append(float(ay))\n",
    "    k+=1\n",
    "\n",
    "i=ssss\n",
    "n,i,j=i,0,0\n",
    "ar=[[0 for l in range(n)] for k in range(n)]\n",
    "le=n*n\n",
    "qq,rr=0,0\n",
    "iii=0\n",
    "while iii<le:\n",
    "    \n",
    "    ar[qq][rr]=float(array[iii])\n",
    "    rr+=1\n",
    "    if rr>=n:\n",
    "        qq+=1\n",
    "        rr=0\n",
    "        \n",
    "    iii+=1\n",
    "\n",
    "print ar\n",
    "summ=0\n",
    "if ope==\"S\":\n",
    "    #print i,n\n",
    "    for i in range(n):\n",
    "        summ=summ+float((ar[li][i]))\n",
    "if ope==\"M\" :\n",
    "    print i,n\n",
    "    for i in range(n):\n",
    "        summ=summ+(ar[li][i])\n",
    "    #print summ,n\n",
    "    summ=summ/float(n)\n",
    "\n",
    "        \n",
    "print \"%.1f\"%summ"
   ]
  },
  {
   "cell_type": "code",
   "execution_count": null,
   "metadata": {},
   "outputs": [],
   "source": [
    "1 2 1 2 1 2 1 2 1 2 1 2\n",
    "3 4 3 4 3 4 3 4 3 4 3 4\n",
    "5 6 5 6 5 6 5 6 5 6 5 6\n",
    "7 8 7 8 7 8 7 8 7 8 7 8\n",
    "9 0 9 0 9 0 9 0 9 0 9 0\n",
    "-1 5 -1 5 -1 5 -1 5 -1 5 -1 5\n",
    "-2 6 -2 6 -2 6 -2 6 -2 6 -2 6\n",
    "-3 7 -3 7 -3 7 -3 7 -3 7 -3 7\n",
    "-4 8 -4 8 -4 8 -4 8 -4 8 -4 8\n",
    "-5 9 -5 9 -5 9 -5 9 -5 9 -5 9\n",
    "-6 0 -6 0 -6 0 -6 0 -6 0 -6 0\n",
    "-7 2 -7 2 -7 2 -7 2 -7 2 -7 2\n"
   ]
  }
 ],
 "metadata": {
  "kernelspec": {
   "display_name": "Python 2",
   "language": "python",
   "name": "python2"
  },
  "language_info": {
   "codemirror_mode": {
    "name": "ipython",
    "version": 2
   },
   "file_extension": ".py",
   "mimetype": "text/x-python",
   "name": "python",
   "nbconvert_exporter": "python",
   "pygments_lexer": "ipython2",
   "version": "2.7.12"
  }
 },
 "nbformat": 4,
 "nbformat_minor": 2
}
