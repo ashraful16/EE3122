{
 "cells": [
  {
   "cell_type": "code",
   "execution_count": 5,
   "metadata": {},
   "outputs": [
    {
     "name": "stdout",
     "output_type": "stream",
     "text": [
      "4\n",
      "56\n",
      "-2\n",
      "34\n",
      "5\n",
      "0 in\n",
      "4 out\n"
     ]
    }
   ],
   "source": [
    "c=int(raw_input())\n",
    "i=0\n",
    "cn=[]\n",
    "inc=0\n",
    "while i<c:\n",
    "    k=int(raw_input())\n",
    "    cn.append(k)\n",
    "    if k>=10 and k<=20:\n",
    "        inc+=1\n",
    "    i+=1\n",
    "out=len(cn)-inc\n",
    "print \"%d in\"%inc\n",
    "print \"%d out\"%out"
   ]
  },
  {
   "cell_type": "code",
   "execution_count": null,
   "metadata": {},
   "outputs": [],
   "source": []
  }
 ],
 "metadata": {
  "kernelspec": {
   "display_name": "Python 2",
   "language": "python",
   "name": "python2"
  },
  "language_info": {
   "codemirror_mode": {
    "name": "ipython",
    "version": 2
   },
   "file_extension": ".py",
   "mimetype": "text/x-python",
   "name": "python",
   "nbconvert_exporter": "python",
   "pygments_lexer": "ipython2",
   "version": "2.7.12"
  }
 },
 "nbformat": 4,
 "nbformat_minor": 2
}
