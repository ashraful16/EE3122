{
 "cells": [
  {
   "cell_type": "code",
   "execution_count": 13,
   "metadata": {},
   "outputs": [
    {
     "name": "stdout",
     "output_type": "stream",
     "text": [
      "abcdef\n",
      "cdofhij\n",
      "3\n"
     ]
    }
   ],
   "source": [
    "a=raw_input()\n",
    "b=raw_input()\n",
    "\n",
    "re=[]\n",
    "\n",
    "for i in range(len(a)):\n",
    "    for j in range(len(b)):\n",
    "        if a[i]==b[j]:\n",
    "            \n",
    "            ap=0\n",
    "            l,m=i,j\n",
    "            for k in range(l,len(a)):\n",
    "                if a[k]==b[m]:\n",
    "                    ap+=1\n",
    "                if k<len(a) or m<len(b):\n",
    "                    re.append(ap)\n",
    "                else:\n",
    "                    re.append(ap)\n",
    "                    break\n",
    "                m+=1\n",
    "    \n",
    "print(max(re))\n",
    "                \n",
    "                "
   ]
  },
  {
   "cell_type": "code",
   "execution_count": null,
   "metadata": {},
   "outputs": [],
   "source": [
    "\n",
    "Sample Input\tSample Output\n",
    "abcdef\n",
    "cdofhij\n",
    "TWO\n",
    "FOUR\n",
    "abracadabra\n",
    "open\n",
    "Hey This java is hot\n",
    "Java is a new paradigm\n",
    "\n",
    "2\n",
    "1\n",
    "0\n",
    "7"
   ]
  },
  {
   "cell_type": "code",
   "execution_count": 1,
   "metadata": {},
   "outputs": [
    {
     "name": "stdout",
     "output_type": "stream",
     "text": [
      "Hey This java is hot\n",
      "Java is a new paradigm\n",
      "7\n"
     ]
    }
   ],
   "source": [
    "a=raw_input()\n",
    "b=raw_input()\n",
    "\n",
    "re=[0]\n",
    "\n",
    "for i in range(len(a)):\n",
    "    for j in range(len(b)):\n",
    "        if a[i]==b[j]:\n",
    "            \n",
    "            ap=0\n",
    "            l,m=i,j\n",
    "            for k in range(l,len(a)):\n",
    "                if a[k]==b[m]:\n",
    "                    ap+=1\n",
    "                    re.append(ap)\n",
    "                #if k==len(a)-1 :\n",
    "                    #re.append(ap)\n",
    "                   # break\n",
    "                else:\n",
    "                    re.append(ap)\n",
    "                    break\n",
    "                m+=1\n",
    "    \n",
    "\n",
    "\n",
    "print(max(re))\n",
    "                \n",
    "                "
   ]
  },
  {
   "cell_type": "code",
   "execution_count": 23,
   "metadata": {},
   "outputs": [
    {
     "ename": "SyntaxError",
     "evalue": "invalid syntax (<ipython-input-23-97a8acc334aa>, line 2)",
     "output_type": "error",
     "traceback": [
      "\u001b[0;36m  File \u001b[0;32m\"<ipython-input-23-97a8acc334aa>\"\u001b[0;36m, line \u001b[0;32m2\u001b[0m\n\u001b[0;31m    Sample Input\tSample Output\u001b[0m\n\u001b[0m               ^\u001b[0m\n\u001b[0;31mSyntaxError\u001b[0m\u001b[0;31m:\u001b[0m invalid syntax\n"
     ]
    }
   ],
   "source": [
    "Hey This java is hot\n",
    "Java is a new paradigm"
   ]
  },
  {
   "cell_type": "code",
   "execution_count": null,
   "metadata": {},
   "outputs": [
    {
     "name": "stdout",
     "output_type": "stream",
     "text": [
      "abcdef\n",
      "cdofhij\n",
      "2\n",
      "TWO\n",
      "FOUR\n",
      "1\n",
      "abracadabra\n",
      "open\n",
      "0\n",
      "Hey This java is hot\n",
      "Java is a new paradigm\n",
      "7\n",
      "\n",
      "\n",
      "0\n",
      "[\n",
      "\n",
      "0\n",
      "\n",
      "\n",
      "0\n"
     ]
    }
   ],
   "source": [
    "while True:\n",
    "    try:\n",
    "        a=raw_input()\n",
    "        b=raw_input()\n",
    "\n",
    "        re=[0]\n",
    "\n",
    "        for i in range(len(a)):\n",
    "            for j in range(len(b)):\n",
    "                if a[i]==b[j]:\n",
    "            \n",
    "                    ap=0\n",
    "                    l,m=i,j\n",
    "                    for k in range(l,len(a)):\n",
    "                        if a[k]==b[m]:\n",
    "                            ap+=1\n",
    "                            re.append(ap)\n",
    "                #if k==len(a)-1 :\n",
    "                    #re.append(ap)\n",
    "                   # break\n",
    "                        else:\n",
    "                            re.append(ap)\n",
    "                            break\n",
    "                        m+=1\n",
    "    \n",
    "\n",
    "\n",
    "        \n",
    "        print(max(re))\n",
    "    except:\n",
    "        break\n",
    "        \n",
    "                \n",
    "                "
   ]
  },
  {
   "cell_type": "code",
   "execution_count": null,
   "metadata": {},
   "outputs": [],
   "source": [
    "\n",
    "Sample Input\tSample Output\n",
    "abcdef\n",
    "cdofhij\n",
    "TWO\n",
    "FOUR\n",
    "abracadabra\n",
    "open\n",
    "Hey This java is hot\n",
    "Java is a new paradigm\n",
    "\n",
    "2\n",
    "1\n",
    "0\n",
    "7"
   ]
  }
 ],
 "metadata": {
  "kernelspec": {
   "display_name": "Python 2",
   "language": "python",
   "name": "python2"
  },
  "language_info": {
   "codemirror_mode": {
    "name": "ipython",
    "version": 2
   },
   "file_extension": ".py",
   "mimetype": "text/x-python",
   "name": "python",
   "nbconvert_exporter": "python",
   "pygments_lexer": "ipython2",
   "version": "2.7.12"
  }
 },
 "nbformat": 4,
 "nbformat_minor": 2
}
