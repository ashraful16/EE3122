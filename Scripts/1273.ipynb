{
 "cells": [
  {
   "cell_type": "code",
   "execution_count": 12,
   "metadata": {},
   "outputs": [
    {
     "name": "stdout",
     "output_type": "stream",
     "text": [
      "3\n",
      "bob\n",
      "tommy\n",
      "jiim\n",
      "[3, 5, 4] ['bob', 'tommy', 'jiim']\n",
      "  bob\n",
      "tommy\n",
      " jiim\n"
     ]
    }
   ],
   "source": [
    "a=int(input())\n",
    "\n",
    "n=[]\n",
    "s=[]\n",
    "for i in range(0,a):\n",
    "    p=raw_input()\n",
    "    n.append(len(p))\n",
    "    s.append(p)\n",
    "\n",
    "mx=max(n)\n",
    "#print n,s\n",
    "\n",
    "\n",
    "prt=[]\n",
    "for d in s:\n",
    "    if len(d)<mx:\n",
    "        fs=(mx-len(d))*' '+d\n",
    "    else:\n",
    "        fs=d\n",
    "        \n",
    "    prt.append(fs)\n",
    "    \n",
    "for k in prt:\n",
    "    print k\n",
    "        "
   ]
  },
  {
   "cell_type": "code",
   "execution_count": null,
   "metadata": {},
   "outputs": [],
   "source": [
    "3\n",
    "BOB\n",
    "TOMMY\n",
    "JIM"
   ]
  },
  {
   "cell_type": "code",
   "execution_count": 5,
   "metadata": {},
   "outputs": [
    {
     "data": {
      "text/plain": [
       "5"
      ]
     },
     "execution_count": 5,
     "metadata": {},
     "output_type": "execute_result"
    }
   ],
   "source": [
    "max(n)"
   ]
  },
  {
   "cell_type": "code",
   "execution_count": 6,
   "metadata": {},
   "outputs": [
    {
     "data": {
      "text/plain": [
       "'   '"
      ]
     },
     "execution_count": 6,
     "metadata": {},
     "output_type": "execute_result"
    }
   ],
   "source": [
    "3*' '"
   ]
  },
  {
   "cell_type": "code",
   "execution_count": 11,
   "metadata": {},
   "outputs": [
    {
     "name": "stdout",
     "output_type": "stream",
     "text": [
      "  BOB\n",
      "TOMMY\n",
      "  JIM\n"
     ]
    }
   ],
   "source": [
    "mx=max(n)\n",
    "prt=[]\n",
    "for d in s:\n",
    "    if len(d)<mx:\n",
    "        fs=(mx-len(d))*' '+d\n",
    "    else:\n",
    "        fs=d\n",
    "        \n",
    "    prt.append(fs)\n",
    "    \n",
    "for k in prt:\n",
    "    print k\n",
    "        "
   ]
  },
  {
   "cell_type": "code",
   "execution_count": 16,
   "metadata": {},
   "outputs": [
    {
     "name": "stdout",
     "output_type": "stream",
     "text": [
      "2\n",
      "ewe\n",
      "q\n",
      "ewe\n",
      "  q\n",
      "1\n",
      "w\n",
      "w\n",
      "0\n"
     ]
    }
   ],
   "source": [
    "while True:\n",
    "    a=int(input())\n",
    "    if a==0:\n",
    "        break\n",
    "    n=[]\n",
    "    s=[]\n",
    "    for i in range(0,a):\n",
    "        p=raw_input()\n",
    "        n.append(len(p))\n",
    "        s.append(p)\n",
    "\n",
    "    mx=max(n)\n",
    "#print n,s\n",
    "\n",
    "\n",
    "    prt=[]\n",
    "    for d in s:\n",
    "        if len(d)<mx:\n",
    "            fs=(mx-len(d))*' '+d\n",
    "        else:\n",
    "            fs=d\n",
    "        \n",
    "        prt.append(fs)\n",
    "    \n",
    "    for k in prt:\n",
    "        print k\n",
    "    \n",
    "    #print('\\n')"
   ]
  },
  {
   "cell_type": "code",
   "execution_count": null,
   "metadata": {},
   "outputs": [],
   "source": []
  }
 ],
 "metadata": {
  "kernelspec": {
   "display_name": "Python 2",
   "language": "python",
   "name": "python2"
  },
  "language_info": {
   "codemirror_mode": {
    "name": "ipython",
    "version": 2
   },
   "file_extension": ".py",
   "mimetype": "text/x-python",
   "name": "python",
   "nbconvert_exporter": "python",
   "pygments_lexer": "ipython2",
   "version": "2.7.12"
  }
 },
 "nbformat": 4,
 "nbformat_minor": 2
}
