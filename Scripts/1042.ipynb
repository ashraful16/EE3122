{
 "cells": [
  {
   "cell_type": "code",
   "execution_count": 21,
   "metadata": {},
   "outputs": [
    {
     "name": "stdout",
     "output_type": "stream",
     "text": [
      "7 21 -14\n",
      "21\n",
      "7\n",
      "-14\n",
      "\n",
      "\n",
      "-14\n",
      "7\n",
      "21\n"
     ]
    }
   ],
   "source": [
    "s=raw_input()\n",
    "s=((s.split(\" \")))\n",
    "p,q,r=int(s[0]),int(s[1]),int(s[2])\n",
    "if p >q and p>r:\n",
    "    a=p\n",
    "    if q>r:\n",
    "        b=q\n",
    "        c=r\n",
    "    else:\n",
    "        b,c=r,q\n",
    "elif q>p and q>r:\n",
    "    a=q\n",
    "    if p>r:\n",
    "        b=p\n",
    "        c=r\n",
    "    else:\n",
    "        b,c=r,p\n",
    "elif r>p and r>q:\n",
    "    a=r\n",
    "    if p>q:\n",
    "        b=p\n",
    "        c=q\n",
    "    else:\n",
    "        b,c=q,p\n",
    "print a\n",
    "print b\n",
    "print c\n",
    "print \"\\n\"\n",
    "\n",
    "print c\n",
    "print b\n",
    "print a"
   ]
  },
  {
   "cell_type": "code",
   "execution_count": 19,
   "metadata": {},
   "outputs": [
    {
     "name": "stdout",
     "output_type": "stream",
     "text": [
      "7 21 -12\n"
     ]
    }
   ],
   "source": [
    "print a,b,c"
   ]
  },
  {
   "cell_type": "code",
   "execution_count": null,
   "metadata": {},
   "outputs": [],
   "source": [
    "7 21 -14\n",
    "\n",
    "-14\n",
    "7\n",
    "21\n",
    "\n",
    "7\n",
    "21\n",
    "-14\n",
    "\n",
    "-14 21 7\n",
    "\n",
    "-14\n",
    "7\n",
    "21\n",
    "\n",
    "-14\n",
    "21\n",
    "7"
   ]
  },
  {
   "cell_type": "code",
   "execution_count": 22,
   "metadata": {},
   "outputs": [
    {
     "name": "stdout",
     "output_type": "stream",
     "text": [
      "7 12 -21\n",
      "12\n",
      "7\n",
      "-21\n",
      "\n",
      "\n",
      "-21\n",
      "7\n",
      "12\n"
     ]
    }
   ],
   "source": [
    "s=raw_input()\n",
    "s=((s.split(\" \")))\n",
    "p,q,r=float(s[0]),float(s[1]),float(s[2])\n",
    "#p,q,r=7,21,-14\n",
    "if p >q and p>r:\n",
    "    a=p\n",
    "    if q>r:\n",
    "        b,c=q,r\n",
    "    else:\n",
    "        b,c=r,q\n",
    "if q>p and q>r:\n",
    "    a=q\n",
    "    if p>r:\n",
    "        b,c=p,r\n",
    "    else:\n",
    "        b,c=r,p\n",
    "if r>p and r>q:\n",
    "    a=r\n",
    "    if p>q:\n",
    "        b,c=p,q\n",
    "    else:\n",
    "        b,c=q,p\n",
    "a,b,c=int(a),int(b),int(c)\n",
    "print a\n",
    "print b\n",
    "print c\n",
    "print \"\\n\"\n",
    "print c\n",
    "print b\n",
    "print a"
   ]
  },
  {
   "cell_type": "code",
   "execution_count": 23,
   "metadata": {},
   "outputs": [
    {
     "name": "stdout",
     "output_type": "stream",
     "text": [
      "4 5 3\n",
      "3\n",
      "4\n",
      "5\n",
      "\n",
      "4\n",
      "5\n",
      "3\n"
     ]
    }
   ],
   "source": [
    "entrada = raw_input().split()\n",
    "#Transformando eles em inteiro\n",
    "a = int(entrada[0])\n",
    "b = int(entrada[1])\n",
    "c = int(entrada[2])\n",
    "\n",
    "#Colocando todos em uma lista\n",
    "lista = [a,b,c]\n",
    "\n",
    "#Ordenando a lista\n",
    "lista.sort()\n",
    "\n",
    "#Mostrando os numeros ordenados\n",
    "print lista[0]\n",
    "print lista[1]\n",
    "print lista[2]\n",
    "print \"\"\n",
    "\n",
    "#Mostrando os números como foram digitados\n",
    "print a\n",
    "print b\n",
    "print c"
   ]
  },
  {
   "cell_type": "code",
   "execution_count": null,
   "metadata": {},
   "outputs": [],
   "source": []
  }
 ],
 "metadata": {
  "kernelspec": {
   "display_name": "Python 2",
   "language": "python",
   "name": "python2"
  },
  "language_info": {
   "codemirror_mode": {
    "name": "ipython",
    "version": 2
   },
   "file_extension": ".py",
   "mimetype": "text/x-python",
   "name": "python",
   "nbconvert_exporter": "python",
   "pygments_lexer": "ipython2",
   "version": "2.7.12"
  }
 },
 "nbformat": 4,
 "nbformat_minor": 2
}
