{
 "cells": [
  {
   "cell_type": "code",
   "execution_count": 4,
   "metadata": {},
   "outputs": [
    {
     "name": "stdout",
     "output_type": "stream",
     "text": [
      "1 4 5 1 1\n",
      "Jogador 2 ganha!\n"
     ]
    }
   ],
   "source": [
    "a=raw_input().split(\" \")\n",
    "\n",
    "s=0\n",
    "for d in a:\n",
    "    s=s+int(d)\n",
    "    \n",
    "    \n",
    "if s%2==0 and int(a[0])%2==0:\n",
    "    print(\"Jogador 1 ganha!\")\n",
    "elif s%2!=0 and int(a[0])%2!=0:\n",
    "    print(\"Jogador 1 ganha!\")\n",
    "else :\n",
    "    print(\"Jogador 2 ganha!\")\n",
    "    "
   ]
  },
  {
   "cell_type": "code",
   "execution_count": null,
   "metadata": {},
   "outputs": [],
   "source": [
    "\n",
    "Input Samples\tOutput Samples\n",
    "1 4 5 0 0\n",
    "\n",
    "Jogador 2 ganha!\n",
    "\n",
    "1 4 5 1 0\n",
    "\n",
    "Jogador 1 ganha!\n",
    "\n",
    "1 4 5 1 1\n",
    "\n",
    "Jogador 2 ganha!"
   ]
  }
 ],
 "metadata": {
  "kernelspec": {
   "display_name": "Python 2",
   "language": "python",
   "name": "python2"
  },
  "language_info": {
   "codemirror_mode": {
    "name": "ipython",
    "version": 2
   },
   "file_extension": ".py",
   "mimetype": "text/x-python",
   "name": "python",
   "nbconvert_exporter": "python",
   "pygments_lexer": "ipython2",
   "version": "2.7.12"
  }
 },
 "nbformat": 4,
 "nbformat_minor": 2
}
