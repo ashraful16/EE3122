{
 "cells": [
  {
   "cell_type": "code",
   "execution_count": 2,
   "metadata": {},
   "outputs": [
    {
     "name": "stdout",
     "output_type": "stream",
     "text": [
      "6 25\n",
      "Nao sao Multiplos\n"
     ]
    }
   ],
   "source": [
    "s=raw_input().split(\" \")\n",
    "a,b=float(s[0]),float(s[1])\n",
    "if a%b ==0 or b%a==0:\n",
    "    print \"Sao Multiplos\"\n",
    "else:\n",
    "    print \"Nao sao Multiplos\"\n",
    "    "
   ]
  },
  {
   "cell_type": "code",
   "execution_count": null,
   "metadata": {},
   "outputs": [],
   "source": [
    "Input Sample\tOutput Sample\n",
    "6 24\n",
    "\n",
    "Sao Multiplos\n",
    "\n",
    "6 25\n",
    "\n",
    "Nao sao Multiplos"
   ]
  }
 ],
 "metadata": {
  "kernelspec": {
   "display_name": "Python 2",
   "language": "python",
   "name": "python2"
  },
  "language_info": {
   "codemirror_mode": {
    "name": "ipython",
    "version": 2
   },
   "file_extension": ".py",
   "mimetype": "text/x-python",
   "name": "python",
   "nbconvert_exporter": "python",
   "pygments_lexer": "ipython2",
   "version": "2.7.12"
  }
 },
 "nbformat": 4,
 "nbformat_minor": 2
}
