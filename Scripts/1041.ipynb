{
 "cells": [
  {
   "cell_type": "code",
   "execution_count": null,
   "metadata": {},
   "outputs": [],
   "source": [
    "f the point is at the origin, write the message \"Origem\".\n",
    "\n",
    "If the point is over X axis write \"Eixo X\", else if the point is over Y axis write \"Eixo Y\".\n",
    "\n"
   ]
  },
  {
   "cell_type": "code",
   "execution_count": 14,
   "metadata": {},
   "outputs": [
    {
     "name": "stdout",
     "output_type": "stream",
     "text": [
      "0 0.0\n",
      "Origem\n"
     ]
    }
   ],
   "source": [
    "s=raw_input()\n",
    "s=s.split(\" \")\n",
    "x,y=float(s[0]),float(s[1])\n",
    "if x==0 and y==0:\n",
    "    print \"Origem\"\n",
    "if x==0 and y != 0:\n",
    "    print \"Eixo Y\"\n",
    "if x!=0 and y == 0:\n",
    "    print \"Eixo X\"\n",
    "\n",
    "    \n",
    "if x >0 and y >0 :\n",
    "    print \"Q1\"\n",
    "if x>0 and y<0:\n",
    "    print \"Q4\"\n",
    "if x<0 and y>0:\n",
    "    print \"Q2\"\n",
    "if x<0 and y<0:\n",
    "    print \"Q3\""
   ]
  },
  {
   "cell_type": "code",
   "execution_count": null,
   "metadata": {},
   "outputs": [],
   "source": [
    "Input Sample\tOutput Sample\n",
    "4.5 -2.2\n",
    "\n",
    "Q4\n",
    "\n",
    "0.1 0.1\n",
    "\n",
    "Q1\n",
    "\n",
    "0.0 0.0\n",
    "\n",
    "Origem"
   ]
  }
 ],
 "metadata": {
  "kernelspec": {
   "display_name": "Python 2",
   "language": "python",
   "name": "python2"
  },
  "language_info": {
   "codemirror_mode": {
    "name": "ipython",
    "version": 2
   },
   "file_extension": ".py",
   "mimetype": "text/x-python",
   "name": "python",
   "nbconvert_exporter": "python",
   "pygments_lexer": "ipython2",
   "version": "2.7.12"
  }
 },
 "nbformat": 4,
 "nbformat_minor": 2
}
