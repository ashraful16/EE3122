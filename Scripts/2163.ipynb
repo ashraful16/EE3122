{
 "cells": [
  {
   "cell_type": "code",
   "execution_count": 47,
   "metadata": {},
   "outputs": [
    {
     "name": "stdout",
     "output_type": "stream",
     "text": [
      "3 3\n",
      "42 42 42\n",
      "42 7 42\n",
      "42 42 42\n",
      "0 0\n"
     ]
    }
   ],
   "source": [
    "a,b=raw_input().split(\" \")\n",
    "a,b=int(a),int(b)\n",
    "\n",
    "kkk=a\n",
    "ap=[]\n",
    "for i in range(a):\n",
    "    p=raw_input().split(\" \")\n",
    "    ap.append(p)\n",
    "\n",
    "#print(ap)\n",
    "    \n",
    "i,j=-1,-1\n",
    "ii,jj=[],[]\n",
    "for d in ap:\n",
    "    i+=1\n",
    "    for k in d:\n",
    "        j+=1\n",
    "        if int(k)==42:\n",
    "            \n",
    "            ii.append(i)\n",
    "            jj.append(j)\n",
    "    j=-1\n",
    "\n",
    "#rint(ii,jj)\n",
    "    \n",
    "  \n",
    "def cheker(a,b):\n",
    "    flg=True\n",
    "    for l in range(b-1,b+2):\n",
    "        if a+1==kkk:\n",
    "            return False\n",
    "        if ap[a-1][l]!='7':\n",
    "            flg=False\n",
    "            return flg\n",
    "        if ap[a+1][l]!='7':\n",
    "            flg=False\n",
    "            return flg\n",
    "        \n",
    "    if ap[a][b-1]!='7' or ap[a][b+1]!='7':\n",
    "        flg=False\n",
    "        return flg\n",
    "    return flg\n",
    "        \n",
    "\n",
    "prt=0\n",
    "for i in range(len(ii)):\n",
    "    \n",
    "    pq=cheker(int(ii[i]),int(jj[i]))\n",
    "    #rint(int(ii[i]),int(jj[i]))\n",
    "    ot=str(int(ii[i])+1)+str(\" \")+str(int(jj[i])+1)\n",
    "    if pq==True:\n",
    "        print(ot)\n",
    "        prt+=1\n",
    "if prt==0:\n",
    "    print('0 0')"
   ]
  },
  {
   "cell_type": "code",
   "execution_count": null,
   "metadata": {},
   "outputs": [],
   "source": [
    "3 3\n",
    "42 42 42\n",
    "42 7 42\n",
    "42 42 42"
   ]
  },
  {
   "cell_type": "code",
   "execution_count": 32,
   "metadata": {},
   "outputs": [
    {
     "name": "stdout",
     "output_type": "stream",
     "text": [
      "([['7', '7', '7'], ['7', '42', '7'], ['7', '7', '42']], [2], [2])\n"
     ]
    }
   ],
   "source": [
    "\n",
    "ap=[['7','7','7'],['7','42','7'],['7','7','42']]\n",
    "ii=[2]\n",
    "jj=[2]\n",
    "print(ap,ii,jj)"
   ]
  },
  {
   "cell_type": "code",
   "execution_count": 35,
   "metadata": {},
   "outputs": [
    {
     "name": "stdout",
     "output_type": "stream",
     "text": [
      "(2, 2)\n"
     ]
    }
   ],
   "source": [
    "def cheker(a,b):\n",
    "    flg=True\n",
    "    for l in range(b-1,b+2):\n",
    "        \n",
    "        if ap[a-1][l]!='7':\n",
    "            flg=False\n",
    "            return flg\n",
    "        if ap[a+1][l]!='7':\n",
    "            flg=False\n",
    "            return flg\n",
    "        \n",
    "    if ap[a][b-1]!='7' or ap[a][b+1]!='7':\n",
    "        flg=False\n",
    "        return flg\n",
    "    return flg\n",
    "        \n",
    "    \n",
    "for i in range(len(ii)):\n",
    "    \n",
    "    pq=cheker(int(ii[i]),int(jj[i]))\n",
    "    print(int(ii[i]),int(jj[i]))\n",
    "    ot=str(int(ii[i])+1)+str(\" \")+str(int(jj[i])+1)\n",
    "    if pq==True:\n",
    "        print(ot)\n"
   ]
  },
  {
   "cell_type": "code",
   "execution_count": 9,
   "metadata": {},
   "outputs": [
    {
     "data": {
      "text/plain": [
       "'42'"
      ]
     },
     "execution_count": 9,
     "metadata": {},
     "output_type": "execute_result"
    }
   ],
   "source": []
  },
  {
   "cell_type": "code",
   "execution_count": 15,
   "metadata": {},
   "outputs": [
    {
     "name": "stdout",
     "output_type": "stream",
     "text": [
      "(None, None)\n"
     ]
    }
   ],
   "source": [
    "="
   ]
  },
  {
   "cell_type": "code",
   "execution_count": 48,
   "metadata": {},
   "outputs": [
    {
     "name": "stdout",
     "output_type": "stream",
     "text": [
      "4 7\n",
      "11 12 7 7 7 13 14\n",
      "15 6 7 42 7 7 42\n",
      "98 -5 7 7 7 42 7\n",
      "-1 42 3 9 7 7 7\n",
      "2 4\n"
     ]
    }
   ],
   "source": [
    "a,b=raw_input().split(\" \")\n",
    "a,b=int(a),int(b)\n",
    "\n",
    "kkk=a\n",
    "ap=[]\n",
    "for i in range(a):\n",
    "    p=raw_input().split(\" \")\n",
    "    ap.append(p)\n",
    "\n",
    "#print(ap)\n",
    "    \n",
    "i,j=-1,-1\n",
    "ii,jj=[],[]\n",
    "for d in ap:\n",
    "    i+=1\n",
    "    for k in d:\n",
    "        j+=1\n",
    "        if int(k)==42:\n",
    "            \n",
    "            ii.append(i)\n",
    "            jj.append(j)\n",
    "    j=-1\n",
    "\n",
    "def cheker(a,b):\n",
    "    flg=True\n",
    "    for l in range(b-1,b+2):\n",
    "        if a+1==kkk:\n",
    "            return False\n",
    "        if ap[a-1][l]!='7':\n",
    "            flg=False\n",
    "            return flg\n",
    "        if ap[a+1][l]!='7':\n",
    "            flg=False\n",
    "            return flg\n",
    "        \n",
    "    if ap[a][b-1]!='7' or ap[a][b+1]!='7':\n",
    "        flg=False\n",
    "        return flg\n",
    "    return flg\n",
    "        \n",
    "\n",
    "    \n",
    "prt=0\n",
    "for i in range(len(ii)):\n",
    "    \n",
    "    pq=cheker(int(ii[i]),int(jj[i]))\n",
    "    #rint(int(ii[i]),int(jj[i]))\n",
    "    ot=str(int(ii[i])+1)+str(\" \")+str(int(jj[i])+1)\n",
    "    if pq==True:\n",
    "        print(ot)\n",
    "        prt+=1\n",
    "if prt==0:\n",
    "    print('0 0')"
   ]
  },
  {
   "cell_type": "code",
   "execution_count": null,
   "metadata": {},
   "outputs": [],
   "source": [
    "4 7\n",
    "11 12 7 7 7 13 14\n",
    "15 6 7 42 7 7 42\n",
    "98 -5 7 7 7 42 7\n",
    "-1 42 3 9 7 7 7\n",
    "\n",
    "2 4"
   ]
  },
  {
   "cell_type": "code",
   "execution_count": 49,
   "metadata": {},
   "outputs": [
    {
     "name": "stdout",
     "output_type": "stream",
     "text": [
      "4 7\n",
      "11 12 7 7 7 13 14\n",
      "15 6 7 42 7 7 42\n",
      "98 -5 7 7 7 42 7\n",
      "-1 42 3 9 7 7 7\n",
      "2 4\n"
     ]
    }
   ],
   "source": [
    "a,b=raw_input().split(\" \")\n",
    "a,b=int(a),int(b)\n",
    "\n",
    "kkk=a\n",
    "ap=[]\n",
    "for i in range(a):\n",
    "    p=raw_input().split(\" \")\n",
    "    ap.append(p)\n",
    "\n",
    "#print(ap)\n",
    "    \n",
    "i,j=-1,-1\n",
    "ii,jj=[],[]\n",
    "for d in ap:\n",
    "    i+=1\n",
    "    for k in d:\n",
    "        j+=1\n",
    "        if int(k)==42:\n",
    "            \n",
    "            ii.append(i)\n",
    "            jj.append(j)\n",
    "    j=-1\n",
    "\n",
    "def cheker(a,b):\n",
    "    flg=True\n",
    "    for l in range(b-1,b+2):\n",
    "        if a+1==kkk:\n",
    "            return False\n",
    "        if ap[a-1][l]!='7' or ap[a+1][l]!='7':\n",
    "            flg=False\n",
    "            return flg\n",
    "\n",
    "        \n",
    "    if ap[a][b-1]!='7' or ap[a][b+1]!='7':\n",
    "        flg=False\n",
    "        return flg\n",
    "    return flg\n",
    "        \n",
    "\n",
    "    \n",
    "prt=0\n",
    "for i in range(len(ii)):\n",
    "    \n",
    "    pq=cheker(int(ii[i]),int(jj[i]))\n",
    "    ot=str(int(ii[i])+1)+str(\" \")+str(int(jj[i])+1)\n",
    "    if pq==True:\n",
    "        print(ot)\n",
    "        prt+=1\n",
    "        break\n",
    "if prt==0:\n",
    "    print('0 0')"
   ]
  },
  {
   "cell_type": "code",
   "execution_count": null,
   "metadata": {},
   "outputs": [],
   "source": [
    "4 7\n",
    "11 12 7 7 7 13 14\n",
    "15 6 7 42 7 7 42\n",
    "98 -5 7 7 7 42 7\n",
    "-1 42 3 9 7 7 7\n",
    "\n",
    "2 4"
   ]
  }
 ],
 "metadata": {
  "kernelspec": {
   "display_name": "Python 2",
   "language": "python",
   "name": "python2"
  },
  "language_info": {
   "codemirror_mode": {
    "name": "ipython",
    "version": 2
   },
   "file_extension": ".py",
   "mimetype": "text/x-python",
   "name": "python",
   "nbconvert_exporter": "python",
   "pygments_lexer": "ipython2",
   "version": "2.7.12"
  }
 },
 "nbformat": 4,
 "nbformat_minor": 2
}
