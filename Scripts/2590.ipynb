{
 "cells": [
  {
   "cell_type": "code",
   "execution_count": null,
   "metadata": {},
   "outputs": [],
   "source": []
  },
  {
   "cell_type": "code",
   "execution_count": null,
   "metadata": {},
   "outputs": [],
   "source": [
    "for _ in range(int(input())):\n",
    "\n",
    "    inp=int(input())\n",
    "    a=[1,7,9,3]\n",
    "    mod=inp%4\n",
    "    print(a[mod])\n",
    "\n"
   ]
  },
  {
   "cell_type": "code",
   "execution_count": null,
   "metadata": {},
   "outputs": [],
   "source": [
    "a=pow(3,10)"
   ]
  },
  {
   "cell_type": "code",
   "execution_count": null,
   "metadata": {},
   "outputs": [],
   "source": [
    "3245678976543%4"
   ]
  },
  {
   "cell_type": "code",
   "execution_count": null,
   "metadata": {},
   "outputs": [],
   "source": [
    "a=[1,7,9,3]\n",
    "for _ in range(int(input())):\n",
    "    inp=int(str(input())[-2:])\n",
    "    inp=inp%4\n",
    "    print(a[inp])\n",
    "\n"
   ]
  },
  {
   "cell_type": "code",
   "execution_count": null,
   "metadata": {},
   "outputs": [],
   "source": []
  },
  {
   "cell_type": "code",
   "execution_count": null,
   "metadata": {},
   "outputs": [],
   "source": []
  },
  {
   "cell_type": "code",
   "execution_count": null,
   "metadata": {},
   "outputs": [],
   "source": []
  },
  {
   "cell_type": "code",
   "execution_count": null,
   "metadata": {},
   "outputs": [],
   "source": []
  },
  {
   "cell_type": "code",
   "execution_count": null,
   "metadata": {},
   "outputs": [],
   "source": []
  },
  {
   "cell_type": "raw",
   "metadata": {},
   "source": [
    "### Time efficiend C++\n",
    "#include <iostream>\n",
    "using namespace std;\n",
    "\n",
    "int main()\n",
    "{\n",
    "    int inp;\n",
    "    int Num;\n",
    "    cin.tie(NULL);\n",
    "    cout.sync_with_stdio(false);\n",
    "    cin >> inp;\n",
    "    for(int i = 0; i < inp; i++)\n",
    "    {\n",
    "        cin >> Num;\n",
    "\n",
    "        if(Num % 4 == 0)\n",
    "        {\n",
    "            cout << 1 << '\\n';\n",
    "        }\n",
    "        else if(Num % 4 == 1)\n",
    "        {\n",
    "            cout << 7 << '\\n';\n",
    "        }\n",
    "        else if(Num % 4 == 2)\n",
    "        {\n",
    "            cout << 9 << '\\n';\n",
    "        }\n",
    "        else\n",
    "        {\n",
    "            cout << 3 << '\\n';\n",
    "        }\n",
    "    }\n",
    "    return 0;\n",
    "}\n"
   ]
  },
  {
   "cell_type": "code",
   "execution_count": null,
   "metadata": {},
   "outputs": [],
   "source": []
  },
  {
   "cell_type": "code",
   "execution_count": null,
   "metadata": {},
   "outputs": [],
   "source": []
  },
  {
   "cell_type": "code",
   "execution_count": null,
   "metadata": {},
   "outputs": [],
   "source": []
  },
  {
   "cell_type": "code",
   "execution_count": null,
   "metadata": {},
   "outputs": [],
   "source": []
  },
  {
   "cell_type": "code",
   "execution_count": null,
   "metadata": {},
   "outputs": [],
   "source": []
  }
 ],
 "metadata": {
  "kernelspec": {
   "display_name": "Python 3",
   "language": "python",
   "name": "python3"
  }
 },
 "nbformat": 4,
 "nbformat_minor": 4
}
