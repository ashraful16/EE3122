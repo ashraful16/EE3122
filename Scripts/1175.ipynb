{
 "cells": [
  {
   "cell_type": "code",
   "execution_count": 3,
   "metadata": {},
   "outputs": [
    {
     "name": "stdout",
     "output_type": "stream",
     "text": [
      "3\n",
      "2\n",
      "5\n",
      "N[0] = 5\n",
      "N[1] = 2\n",
      "N[2] = 3\n"
     ]
    }
   ],
   "source": [
    "i=0\n",
    "da=[]\n",
    "n=20\n",
    "while i<n:\n",
    "    a=int(input())\n",
    "    da.append(a)\n",
    "    i+=1\n",
    "j=n-1\n",
    "while j>=0:\n",
    "    print \"N[%d] = %d\"%(-j+n-1,da[j])\n",
    "    j-=1"
   ]
  },
  {
   "cell_type": "code",
   "execution_count": null,
   "metadata": {},
   "outputs": [],
   "source": [
    "-54\n",
    "-78\n",
    "-84\n",
    "89\n",
    "16\n",
    "28\n",
    "91\n",
    "-4\n",
    "84\n",
    "-95\n",
    "-15\n",
    "-23\n",
    "20\n",
    "-17\n",
    "30\n",
    "-75\n",
    "54\n",
    "85\n",
    "23\n",
    "5"
   ]
  },
  {
   "cell_type": "code",
   "execution_count": null,
   "metadata": {},
   "outputs": [],
   "source": []
  }
 ],
 "metadata": {
  "kernelspec": {
   "display_name": "Python 2",
   "language": "python",
   "name": "python2"
  },
  "language_info": {
   "codemirror_mode": {
    "name": "ipython",
    "version": 2
   },
   "file_extension": ".py",
   "mimetype": "text/x-python",
   "name": "python",
   "nbconvert_exporter": "python",
   "pygments_lexer": "ipython2",
   "version": "2.7.12"
  }
 },
 "nbformat": 4,
 "nbformat_minor": 2
}
