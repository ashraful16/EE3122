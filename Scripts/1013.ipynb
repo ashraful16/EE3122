{
 "cells": [
  {
   "cell_type": "code",
   "execution_count": 4,
   "metadata": {},
   "outputs": [
    {
     "name": "stdout",
     "output_type": "stream",
     "text": [
      "3 4 9\n",
      "9\n",
      "9 eh o maior\n"
     ]
    }
   ],
   "source": [
    "c=raw_input()\n",
    "c=c.split(\" \")\n",
    "#A=float(input())\n",
    "#B=float(input())\n",
    "#C=float(input())\n",
    "A,B,C=int(c[0]),int(c[1]),int(c[2])\n",
    "\n",
    "if A < C and B < C:\n",
    "    T=C\n",
    "elif B<A and C <A :\n",
    "    T=A\n",
    "else:\n",
    "    T=B\n",
    "\n",
    "\n",
    "print \"%d eh o maior\"%T\n",
    "#106 eh o maior"
   ]
  },
  {
   "cell_type": "code",
   "execution_count": null,
   "metadata": {},
   "outputs": [],
   "source": []
  }
 ],
 "metadata": {
  "kernelspec": {
   "display_name": "Python 2",
   "language": "python",
   "name": "python2"
  },
  "language_info": {
   "codemirror_mode": {
    "name": "ipython",
    "version": 2
   },
   "file_extension": ".py",
   "mimetype": "text/x-python",
   "name": "python",
   "nbconvert_exporter": "python",
   "pygments_lexer": "ipython2",
   "version": "2.7.12"
  }
 },
 "nbformat": 4,
 "nbformat_minor": 2
}
