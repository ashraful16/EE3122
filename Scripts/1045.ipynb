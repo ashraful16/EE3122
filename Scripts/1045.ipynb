{
 "cells": [
  {
   "cell_type": "code",
   "execution_count": null,
   "metadata": {},
   "outputs": [],
   "source": []
  },
  {
   "cell_type": "code",
   "execution_count": 15,
   "metadata": {},
   "outputs": [
    {
     "name": "stdout",
     "output_type": "stream",
     "text": [
      "5 7 2\n",
      "NAO FORMA TRIANGULO\n"
     ]
    }
   ],
   "source": [
    "entrada = raw_input().split()\n",
    "#Transformando eles em inteiro\n",
    "a = float(entrada[0])\n",
    "b = float(entrada[1])\n",
    "c = float(entrada[2])\n",
    "\n",
    "#Colocando todos em uma lista\n",
    "lista = [a,b,c]\n",
    "\n",
    "#Ordenando a lista\n",
    "lista.sort()\n",
    "\n",
    "a,b,c=lista[2],lista[0],lista[1]\n",
    "\n",
    "\n",
    "if a >= b+c:\n",
    "\tprint \"NAO FORMA TRIANGULO\"\n",
    "elif a*a==b*b+c*c:\n",
    "\tprint \"TRIANGULO RETANGULO\"\n",
    "elif a*a>b*b+c*c:\n",
    "\tprint \"TRIANGULO OBTUSANGULO\"\n",
    "elif a*a<b*b+c*c:\n",
    "\tprint \"TRIANGULO ACUTANGULO\"\n",
    "if a==b and b==c:\n",
    "\tprint \"TRIANGULO EQUILATERO\"\n",
    "elif a==b or b==c or c==a:\n",
    "\tprint \"TRIANGULO ISOSCELES\""
   ]
  },
  {
   "cell_type": "code",
   "execution_count": null,
   "metadata": {},
   "outputs": [],
   "source": [
    "if A ≥ B + C, write the message: NAO FORMA TRIANGULO\n",
    "if A2 = B2 + C2, write the message: TRIANGULO RETANGULO\n",
    "if A2 > B2 + C2, write the message: TRIANGULO OBTUSANGULO\n",
    "if A2 < B2 + C2, write the message: TRIANGULO ACUTANGULO\n",
    "if the three sides are the same size, write the message: TRIANGULO EQUILATERO\n",
    "if only two sides are the same and the third one is different, write the message: TRIANGULO ISOSCELES\n",
    "\n",
    "Input Samples\tOutput Samples\n",
    "7.0 5.0 7.0\n",
    "\n",
    "TRIANGULO ACUTANGULO\n",
    "TRIANGULO ISOSCELES\n",
    "\n",
    "6.0 6.0 10.0\n",
    "\n",
    "TRIANGULO OBTUSANGULO\n",
    "TRIANGULO ISOSCELES\n",
    "\n",
    "6.0 6.0 6.0\n",
    "\n",
    "TRIANGULO ACUTANGULO\n",
    "TRIANGULO EQUILATERO\n",
    "\n",
    "5.0 7.0 2.0\n",
    "\n",
    "NAO FORMA TRIANGULO\n",
    "\n",
    "6.0 8.0 10.0\n",
    "\n",
    "TRIANGULO RETANGULO"
   ]
  },
  {
   "cell_type": "code",
   "execution_count": 14,
   "metadata": {},
   "outputs": [],
   "source": [
    "import time \n",
    "time.sleep(3)"
   ]
  },
  {
   "cell_type": "code",
   "execution_count": null,
   "metadata": {},
   "outputs": [],
   "source": []
  }
 ],
 "metadata": {
  "kernelspec": {
   "display_name": "Python 2",
   "language": "python",
   "name": "python2"
  },
  "language_info": {
   "codemirror_mode": {
    "name": "ipython",
    "version": 2
   },
   "file_extension": ".py",
   "mimetype": "text/x-python",
   "name": "python",
   "nbconvert_exporter": "python",
   "pygments_lexer": "ipython2",
   "version": "2.7.12"
  }
 },
 "nbformat": 4,
 "nbformat_minor": 2
}
