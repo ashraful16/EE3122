{
 "cells": [
  {
   "cell_type": "code",
   "execution_count": 8,
   "metadata": {},
   "outputs": [
    {
     "name": "stdout",
     "output_type": "stream",
     "text": [
      "7 777\n",
      "0\n"
     ]
    }
   ],
   "source": [
    "a,b=raw_input().split(\" \")\n",
    "\n",
    "b=str(b)\n",
    "pr='0'\n",
    "for d in b:\n",
    "    if int(d)!=int(a):\n",
    "        pr=pr+str(d)\n",
    "        \n",
    "print(int(pr))\n",
    "       "
   ]
  },
  {
   "cell_type": "code",
   "execution_count": null,
   "metadata": {},
   "outputs": [],
   "source": [
    "Input Sample\tOutput Sample\n",
    "5 5000000\n",
    "3 123456\n",
    "9 23454324543423\n",
    "9 99999999991999999\n",
    "7 777\n",
    "0 0\n",
    "\n",
    "0\n",
    "12456\n",
    "23454324543423\n",
    "1\n",
    "0"
   ]
  },
  {
   "cell_type": "code",
   "execution_count": 10,
   "metadata": {},
   "outputs": [
    {
     "name": "stdout",
     "output_type": "stream",
     "text": [
      "5 5000000\n",
      "0\n",
      "3 123456\n",
      "12456\n",
      "9 23454324543423\n",
      "23454324543423\n",
      "9 99999999991999999\n",
      "1\n",
      "7 777\n",
      "0\n",
      "0 0\n"
     ]
    }
   ],
   "source": [
    "while True:\n",
    "    a,b=raw_input().split(\" \")\n",
    "    if int(a)==0 and int(b)==0:\n",
    "        break\n",
    "    b=str(b)\n",
    "    pr='0'\n",
    "    for d in b:\n",
    "        if int(d)!=int(a):\n",
    "            pr=pr+str(d)\n",
    "        \n",
    "    print(int(pr))\n",
    "       "
   ]
  },
  {
   "cell_type": "code",
   "execution_count": null,
   "metadata": {},
   "outputs": [],
   "source": [
    "Input Sample\tOutput Sample\n",
    "5 5000000\n",
    "3 123456\n",
    "9 23454324543423\n",
    "9 99999999991999999\n",
    "7 777\n",
    "0 0\n",
    "\n",
    "0\n",
    "12456\n",
    "23454324543423\n",
    "1\n",
    "0"
   ]
  }
 ],
 "metadata": {
  "kernelspec": {
   "display_name": "Python 2",
   "language": "python",
   "name": "python2"
  },
  "language_info": {
   "codemirror_mode": {
    "name": "ipython",
    "version": 2
   },
   "file_extension": ".py",
   "mimetype": "text/x-python",
   "name": "python",
   "nbconvert_exporter": "python",
   "pygments_lexer": "ipython2",
   "version": "2.7.12"
  }
 },
 "nbformat": 4,
 "nbformat_minor": 2
}
