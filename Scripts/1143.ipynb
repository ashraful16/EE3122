{
 "cells": [
  {
   "cell_type": "code",
   "execution_count": 2,
   "metadata": {},
   "outputs": [
    {
     "name": "stdout",
     "output_type": "stream",
     "text": [
      "5\n",
      "1 1 1 PUM\n",
      "2 4 8 PUM\n",
      "3 9 27 PUM\n",
      "4 16 64 PUM\n",
      "5 25 125 PUM\n"
     ]
    }
   ],
   "source": [
    "num=int(input())\n",
    "i=0\n",
    "a,b,c=1,1,1\n",
    "\n",
    "while i<num:\n",
    "    a,b,c=a,a*a,a*a*a\n",
    "    print \"%d %d %d \"%(a,b,c)\n",
    "    a=a+1\n",
    "    i+=1"
   ]
  },
  {
   "cell_type": "code",
   "execution_count": null,
   "metadata": {},
   "outputs": [],
   "source": []
  }
 ],
 "metadata": {
  "kernelspec": {
   "display_name": "Python 2",
   "language": "python",
   "name": "python2"
  },
  "language_info": {
   "codemirror_mode": {
    "name": "ipython",
    "version": 2
   },
   "file_extension": ".py",
   "mimetype": "text/x-python",
   "name": "python",
   "nbconvert_exporter": "python",
   "pygments_lexer": "ipython2",
   "version": "2.7.12"
  }
 },
 "nbformat": 4,
 "nbformat_minor": 2
}
