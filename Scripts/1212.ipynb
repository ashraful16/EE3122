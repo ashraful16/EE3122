{
 "cells": [
  {
   "cell_type": "code",
   "execution_count": 51,
   "metadata": {},
   "outputs": [
    {
     "name": "stdout",
     "output_type": "stream",
     "text": [
      "9999 999\n",
      "3\n"
     ]
    }
   ],
   "source": [
    "a,b=raw_input().split(\" \")\n",
    "\n",
    "if len(a)>len(b):\n",
    "    ca=len(a)\n",
    "else:\n",
    "    ca=len(b)\n",
    "    \n",
    "c=0\n",
    "cro=0\n",
    "for i in range(ca-1,-1,-1):\n",
    "    if c>=0:\n",
    "        if i>len(a)-1 :\n",
    "            s,c=c+0+int(b[i]),c+0+int(b[i])\n",
    "        elif i>len(b)-1:\n",
    "            s,c=c+int(a[i])+0,c+int(a[i])+0\n",
    "        else:\n",
    "            s,c=c+int(a[i])+int(b[i]),c+int(a[i])+int(b[i])\n",
    "        \n",
    "        if c>=10:\n",
    "            aa=str(c)\n",
    "            dd=int(aa[0])\n",
    "            c=dd\n",
    "        else:\n",
    "            c=0\n",
    "    else:\n",
    "        s,c=int(a[i])+int(b[i]),int(a[i])+int(b[i])\n",
    "        if c>=10:\n",
    "            aa=str(c)\n",
    "            dd=int(aa[0])\n",
    "            c=dd\n",
    "        else:\n",
    "            c=0\n",
    "            \n",
    "        \n",
    "    if c>=1 :\n",
    "        cro+=1\n",
    "\n",
    "print(cro)\n",
    "    \n",
    "    \n",
    "    "
   ]
  },
  {
   "cell_type": "code",
   "execution_count": null,
   "metadata": {},
   "outputs": [],
   "source": [
    "9999 999\n",
    "95 94\n",
    "1995 95\n",
    "0 0\n",
    "\n",
    "4 carry operations.\n",
    "1 carry operation.\n",
    "3 carry operations.\n"
   ]
  },
  {
   "cell_type": "code",
   "execution_count": 40,
   "metadata": {},
   "outputs": [
    {
     "name": "stdout",
     "output_type": "stream",
     "text": [
      "('15', 1, 1, 2)\n"
     ]
    }
   ],
   "source": [
    "aa=str(15)\n",
    "dd=int(aa[0])\n",
    "c=dd\n",
    "print(aa,dd,c,len(aa))"
   ]
  },
  {
   "cell_type": "code",
   "execution_count": null,
   "metadata": {},
   "outputs": [],
   "source": []
  },
  {
   "cell_type": "code",
   "execution_count": null,
   "metadata": {},
   "outputs": [],
   "source": []
  },
  {
   "cell_type": "code",
   "execution_count": 53,
   "metadata": {},
   "outputs": [
    {
     "name": "stdout",
     "output_type": "stream",
     "text": [
      "95 94\n",
      "1\n"
     ]
    }
   ],
   "source": [
    "a,b=raw_input().split(\" \")\n",
    "\n",
    "if len(a)>len(b):\n",
    "    ca=len(a)\n",
    "else:\n",
    "    ca=len(b)\n",
    "\n",
    "c=0\n",
    "cro=0\n",
    "for i in range(ca-1,-1,-1):\n",
    "    if c>=0:\n",
    "        \n",
    "        s,c=c+int(a[i])+int(b[i]),c+int(a[i])+int(b[i])\n",
    "        \n",
    "        if c>=10:\n",
    "            aa=str(c)\n",
    "            dd=int(aa[0])\n",
    "            c=dd\n",
    "        else:\n",
    "            c=0\n",
    "    else:\n",
    "        s,c=int(a[i])+int(b[i]),int(a[i])+int(b[i])\n",
    "        if c>=10:\n",
    "            aa=str(c)\n",
    "            dd=int(aa[0])\n",
    "            c=dd\n",
    "        else:\n",
    "            c=0\n",
    "            \n",
    "        \n",
    "    if c>=1 :\n",
    "        cro+=1\n",
    "\n",
    "print(cro)\n",
    "    \n",
    "    \n",
    "    "
   ]
  },
  {
   "cell_type": "code",
   "execution_count": 70,
   "metadata": {},
   "outputs": [
    {
     "name": "stdout",
     "output_type": "stream",
     "text": [
      "123 594\n",
      "1\n"
     ]
    }
   ],
   "source": [
    "a,b=raw_input().split(\" \")\n",
    "\n",
    "if len(a)>len(b):\n",
    "    ca=len(a)\n",
    "else:\n",
    "    ca=len(b)\n",
    "\n",
    "if len(a) !=len(b):\n",
    "    if len(a)<len(b):\n",
    "        k=len(b)-len(a)\n",
    "        add=k*'0'\n",
    "        a=add+a\n",
    "    else:\n",
    "        k=len(a)-len(b)\n",
    "        add=k*'0'\n",
    "        b=add+b\n",
    "        \n",
    "#print(a,b)\n",
    "\n",
    "\n",
    "c=0\n",
    "cro=0\n",
    "for i in range(ca-1,-1,-1):\n",
    "    if c>=0:\n",
    "        \n",
    "        s,c=c+int(a[i])+int(b[i]),c+int(a[i])+int(b[i])\n",
    "        \n",
    "        if c>=10:\n",
    "            aa=str(c)\n",
    "            dd=int(aa[0])\n",
    "            c=dd\n",
    "        else:\n",
    "            c=0\n",
    "    else:\n",
    "        s,c=int(a[i])+int(b[i]),int(a[i])+int(b[i])\n",
    "        if c>=10:\n",
    "            aa=str(c)\n",
    "            dd=int(aa[0])\n",
    "            c=dd\n",
    "        else:\n",
    "            c=0\n",
    "            \n",
    "        \n",
    "    if c>=1 :\n",
    "        cro+=1\n",
    "\n",
    "print(cro)\n",
    "    \n",
    "    \n",
    "        "
   ]
  },
  {
   "cell_type": "code",
   "execution_count": null,
   "metadata": {},
   "outputs": [],
   "source": [
    "\n",
    "Sample Input\tSample Output\n",
    "123 456\n",
    "555 555\n",
    "123 594\n",
    "0 0\n",
    "\n",
    "No carry operation.\n",
    "3 carry operations.\n",
    "1 carry operation."
   ]
  },
  {
   "cell_type": "code",
   "execution_count": 82,
   "metadata": {},
   "outputs": [
    {
     "name": "stdout",
     "output_type": "stream",
     "text": [
      "146423 446456\n",
      "1 carry operation.\n",
      "545655 55578\n",
      "5 carry operations.\n",
      "146423 594644\n",
      "3 carry operations.\n",
      "454 989765\n",
      "3 carry operations.\n",
      "123 456\n",
      "No carry operation.\n",
      "555 555\n",
      "3 carry operations.\n",
      "123 594\n",
      "1 carry operation.\n",
      "\n"
     ]
    },
    {
     "ename": "ValueError",
     "evalue": "need more than 1 value to unpack",
     "output_type": "error",
     "traceback": [
      "\u001b[0;31m---------------------------------------------------------------------------\u001b[0m",
      "\u001b[0;31mValueError\u001b[0m                                Traceback (most recent call last)",
      "\u001b[0;32m<ipython-input-82-f02c04640ed4>\u001b[0m in \u001b[0;36m<module>\u001b[0;34m()\u001b[0m\n\u001b[1;32m      1\u001b[0m \u001b[0;32mwhile\u001b[0m \u001b[0mTrue\u001b[0m\u001b[0;34m:\u001b[0m\u001b[0;34m\u001b[0m\u001b[0m\n\u001b[1;32m      2\u001b[0m \u001b[0;34m\u001b[0m\u001b[0m\n\u001b[0;32m----> 3\u001b[0;31m     \u001b[0ma\u001b[0m\u001b[0;34m,\u001b[0m\u001b[0mb\u001b[0m\u001b[0;34m=\u001b[0m\u001b[0mraw_input\u001b[0m\u001b[0;34m(\u001b[0m\u001b[0;34m)\u001b[0m\u001b[0;34m.\u001b[0m\u001b[0msplit\u001b[0m\u001b[0;34m(\u001b[0m\u001b[0;34m\" \"\u001b[0m\u001b[0;34m)\u001b[0m\u001b[0;34m\u001b[0m\u001b[0m\n\u001b[0m\u001b[1;32m      4\u001b[0m \u001b[0;34m\u001b[0m\u001b[0m\n\u001b[1;32m      5\u001b[0m     \u001b[0;32mif\u001b[0m \u001b[0mint\u001b[0m\u001b[0;34m(\u001b[0m\u001b[0ma\u001b[0m\u001b[0;34m)\u001b[0m\u001b[0;34m==\u001b[0m\u001b[0;36m0\u001b[0m \u001b[0;32mand\u001b[0m \u001b[0mint\u001b[0m\u001b[0;34m(\u001b[0m\u001b[0mb\u001b[0m\u001b[0;34m)\u001b[0m\u001b[0;34m==\u001b[0m\u001b[0;36m0\u001b[0m\u001b[0;34m:\u001b[0m\u001b[0;32mbreak\u001b[0m\u001b[0;34m\u001b[0m\u001b[0m\n",
      "\u001b[0;31mValueError\u001b[0m: need more than 1 value to unpack"
     ]
    }
   ],
   "source": [
    "while True:\n",
    "    \n",
    "    a,b=raw_input().split(\" \")\n",
    "    \n",
    "    if int(a)==0 and int(b)==0:break\n",
    "\n",
    "    if len(a)>len(b):\n",
    "        ca=len(a)\n",
    "    else:\n",
    "        ca=len(b)\n",
    "\n",
    "    if len(a) !=len(b):\n",
    "        if len(a)<len(b):\n",
    "            k=len(b)-len(a)\n",
    "            add=k*'0'\n",
    "            a=add+a\n",
    "        else:\n",
    "            k=len(a)-len(b)\n",
    "            add=k*'0'\n",
    "            b=add+b\n",
    "        \n",
    "#print(a,b)\n",
    "\n",
    "\n",
    "    c=0\n",
    "    cro=0\n",
    "    for i in range(ca-1,-1,-1):\n",
    "        \n",
    "        if c>=0:\n",
    "        \n",
    "            s,c=c+int(a[i])+int(b[i]),c+int(a[i])+int(b[i])\n",
    "        \n",
    "            if c>=10:\n",
    "                aa=str(c)\n",
    "                dd=int(aa[0])\n",
    "                c=dd\n",
    "            else:\n",
    "                \n",
    "                c=0\n",
    "        else:\n",
    "            s,c=int(a[i])+int(b[i]),int(a[i])+int(b[i])\n",
    "            if c>=10:\n",
    "                aa=str(c)\n",
    "                dd=int(aa[0])\n",
    "                c=dd\n",
    "            else:\n",
    "                c=0\n",
    "            \n",
    "        \n",
    "        if c>=1 :\n",
    "            cro+=1\n",
    "    \n",
    "    if cro==0:\n",
    "        cro=\"No\"\n",
    "        \n",
    "    prs=str(cro)+str(\" carry operations.\")\n",
    "    if cro=='No' or cro==1 :\n",
    "        prs=str(cro)+str(\" carry operation.\")\n",
    "        \n",
    "\n",
    "    print(prs)\n",
    "        "
   ]
  },
  {
   "cell_type": "code",
   "execution_count": null,
   "metadata": {},
   "outputs": [],
   "source": [
    "Sample Input\tSample Output\n",
    "123 456\n",
    "555 555\n",
    "123 594\n",
    "0 0\n",
    "\n",
    "No carry operation.\n",
    "3 carry operations.\n",
    "1 carry operation."
   ]
  }
 ],
 "metadata": {
  "kernelspec": {
   "display_name": "Python 2",
   "language": "python",
   "name": "python2"
  },
  "language_info": {
   "codemirror_mode": {
    "name": "ipython",
    "version": 2
   },
   "file_extension": ".py",
   "mimetype": "text/x-python",
   "name": "python",
   "nbconvert_exporter": "python",
   "pygments_lexer": "ipython2",
   "version": "2.7.12"
  }
 },
 "nbformat": 4,
 "nbformat_minor": 2
}
