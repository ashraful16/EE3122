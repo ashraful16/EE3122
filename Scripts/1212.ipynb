{
 "cells": [
  {
   "cell_type": "code",
   "execution_count": 2,
   "metadata": {
    "scrolled": true
   },
   "outputs": [
    {
     "name": "stdout",
     "output_type": "stream",
     "text": [
      "34 27\n",
      "1 carry operation.\n",
      "999999999 1\n",
      "9 carry operations.\n",
      "999999999 999999999\n",
      "9 carry operations.\n",
      "0 0\n",
      "No carry operation.\n"
     ]
    }
   ],
   "source": [
    "def carrycounter(c,d):\n",
    "#     c,d=146423,446456\n",
    "\n",
    "    d1=str(c)\n",
    "    d2=str(d)\n",
    "    len_d1=len(d1)\n",
    "    len_d2=len(d2)\n",
    "\n",
    "    if len_d1 >len_d2:\n",
    "        d2='0'*(len_d1-len_d2)+d2\n",
    "#         print(d2)\n",
    "    elif len_d1<len_d2:\n",
    "        d1='0'*(len_d2-len_d1)+d1\n",
    "#         print(d1)\n",
    "\n",
    "    # print(d1,d2)    \n",
    "    Num_of_carry_op=0\n",
    "    carry=0\n",
    "    for i in range(len(d1)-1,-1,-1):\n",
    "        sumr=int(d1[i])+int(d2[i])+carry\n",
    "    #     print(sumr)\n",
    "        if sumr >9:\n",
    "            Num_of_carry_op+=1\n",
    "            carry=1\n",
    "    #         print(carry,Num_of_carry_op)\n",
    "        else:\n",
    "            carry=0\n",
    "    # print(Num_of_carry_op)\n",
    "\n",
    "#     if Num_of_carry_op ==1: \n",
    "#         print(\"%d carry operation.\"%Num_of_carry_op)\n",
    "#     elif Num_of_carry_op >1:\n",
    "#         print(\"%d carry operations.\"%Num_of_carry_op)\n",
    "#     else: \n",
    "#         print(\"No carry operation.\")\n",
    "    if(Num_of_carry_op == 0):\n",
    "        print(\"No carry operation.\")\n",
    "    elif(Num_of_carry_op == 1):\n",
    "        print(\"1 carry operation.\")\n",
    "    else:\n",
    "        print(\"%d carry operations.\" % Num_of_carry_op)\n",
    "\n",
    "\n",
    "\n",
    "while True:\n",
    "    a=input()\n",
    "    c,d=a.split()\n",
    "    c,d=int(c),int(d)\n",
    "    carrycounter(c,d)\n",
    "#     print(c,d)\n",
    "    if c==d==0:\n",
    "        break    "
   ]
  },
  {
   "cell_type": "code",
   "execution_count": null,
   "metadata": {},
   "outputs": [],
   "source": [
    "34 27\n",
    "998 991\n",
    "99998 2\n",
    "999999998 1\n",
    "999999999 1\n",
    "999999999 999999999\n",
    "0 0\n",
    "2 carry operations.\n",
    "5 carry operations.\n",
    "No carry operation.\n",
    "9 carry operations.\n",
    "9 carry operations.\n"
   ]
  },
  {
   "cell_type": "code",
   "execution_count": null,
   "metadata": {},
   "outputs": [],
   "source": [
    "c,d=99,990"
   ]
  },
  {
   "cell_type": "code",
   "execution_count": null,
   "metadata": {},
   "outputs": [],
   "source": [
    "d1=str(c)\n",
    "d2=str(d)\n",
    "len_d1=len(d1)\n",
    "len_d2=len(d2)\n"
   ]
  },
  {
   "cell_type": "code",
   "execution_count": null,
   "metadata": {},
   "outputs": [],
   "source": [
    "len_d1,len_d2"
   ]
  },
  {
   "cell_type": "code",
   "execution_count": null,
   "metadata": {},
   "outputs": [],
   "source": []
  },
  {
   "cell_type": "code",
   "execution_count": null,
   "metadata": {},
   "outputs": [],
   "source": [
    "if len_d1 >len_d2:\n",
    "    d2='0'*(len_d1-len_d2)+d2\n",
    "    print(d2)\n",
    "elif len_d1<len_d2:\n",
    "    d1='0'*(len_d2-len_d1)+d1\n",
    "    print(d1)\n"
   ]
  },
  {
   "cell_type": "code",
   "execution_count": null,
   "metadata": {},
   "outputs": [],
   "source": [
    "c,d=146423,446456\n",
    "\n",
    "d1=str(c)\n",
    "d2=str(d)\n",
    "len_d1=len(d1)\n",
    "len_d2=len(d2)\n",
    "\n",
    "if len_d1 >len_d2:\n",
    "    d2='0'*(len_d1-len_d2)+d2\n",
    "    print(d2)\n",
    "elif len_d1<len_d2:\n",
    "    d1='0'*(len_d2-len_d1)+d1\n",
    "    print(d1)\n",
    "\n",
    "# print(d1,d2)    \n",
    "Num_of_carry_op=0\n",
    "carry=0\n",
    "for i in range(len(d1)-1,-1,-1):\n",
    "    sumr=int(d1[i])+int(d2[i])+carry\n",
    "#     print(sumr)\n",
    "    if sumr >9:\n",
    "        Num_of_carry_op+=1\n",
    "        carry=1\n",
    "#         print(carry,Num_of_carry_op)\n",
    "    else:\n",
    "        carry=0\n",
    "# print(Num_of_carry_op)\n",
    "\n",
    "if Num_of_carry_op >0: \n",
    "    print(\"%d carry operations.\"%Num_of_carry_op)\n",
    "else: \n",
    "    print(\"No carry operation.\")"
   ]
  },
  {
   "cell_type": "code",
   "execution_count": null,
   "metadata": {},
   "outputs": [],
   "source": [
    "print(\"%d carry operations.\"%Num_of_carry_op)"
   ]
  },
  {
   "cell_type": "code",
   "execution_count": null,
   "metadata": {},
   "outputs": [],
   "source": [
    "def carrycounter(c,d):\n",
    "#     c,d=146423,446456\n",
    "\n",
    "    d1=str(c)\n",
    "    d2=str(d)\n",
    "    len_d1=len(d1)\n",
    "    len_d2=len(d2)\n",
    "\n",
    "    if len_d1 >len_d2:\n",
    "        d2='0'*(len_d1-len_d2)+d2\n",
    "        print(d2)\n",
    "    elif len_d1<len_d2:\n",
    "        d1='0'*(len_d2-len_d1)+d1\n",
    "        print(d1)\n",
    "\n",
    "    # print(d1,d2)    \n",
    "    Num_of_carry_op=0\n",
    "    carry=0\n",
    "    for i in range(len(d1)-1,-1,-1):\n",
    "        sumr=int(d1[i])+int(d2[i])+carry\n",
    "    #     print(sumr)\n",
    "        if sumr >9:\n",
    "            Num_of_carry_op+=1\n",
    "            carry=1\n",
    "    #         print(carry,Num_of_carry_op)\n",
    "        else:\n",
    "            carry=0\n",
    "    # print(Num_of_carry_op)\n",
    "\n",
    "    if Num_of_carry_op >0: \n",
    "        print(\"%d carry operations.\"%Num_of_carry_op)\n",
    "    else: \n",
    "        print(\"No carry operation.\")"
   ]
  },
  {
   "cell_type": "code",
   "execution_count": 4,
   "metadata": {},
   "outputs": [
    {
     "name": "stdout",
     "output_type": "stream",
     "text": [
      "146423 446456\n",
      "1 carry operation.\n",
      "\n",
      "\n",
      "545655 55578\n",
      "5 carry operations.\n",
      "\n",
      "\n",
      "146423 594644\n",
      "3 carry operations.\n",
      "\n",
      "\n",
      "454 989765\n",
      "3 carry operations.\n",
      "\n",
      "\n",
      "0 0\n",
      "No carry operation.\n",
      "\n",
      "\n"
     ]
    }
   ],
   "source": [
    "def carrycounter(c,d):\n",
    "#     c,d=146423,446456\n",
    "\n",
    "    d1=str(c)\n",
    "    d2=str(d)\n",
    "    len_d1=len(d1)\n",
    "    len_d2=len(d2)\n",
    "\n",
    "    if len_d1 >len_d2:\n",
    "        d2='0'*(len_d1-len_d2)+d2\n",
    "#         print(d2)\n",
    "    elif len_d1<len_d2:\n",
    "        d1='0'*(len_d2-len_d1)+d1\n",
    "#         print(d1)\n",
    "\n",
    "    # print(d1,d2)    \n",
    "    Num_of_carry_op=0\n",
    "    carry=0\n",
    "    for i in range(len(d1)-1,-1,-1):\n",
    "        sumr=int(d1[i])+int(d2[i])+carry\n",
    "    #     print(sumr)\n",
    "        if sumr >9:\n",
    "            Num_of_carry_op+=1\n",
    "            carry=1\n",
    "    #         print(carry,Num_of_carry_op)\n",
    "        else:\n",
    "            carry=0\n",
    "    # print(Num_of_carry_op)\n",
    "\n",
    "    if Num_of_carry_op >0:\n",
    "        if Num_of_carry_op==1:\n",
    "            print(\"1 carry operation.\")\n",
    "        else:\n",
    "            print(\"%d carry operations.\"%Num_of_carry_op)\n",
    "    else: \n",
    "        print(\"No carry operation.\")\n",
    "#     print('\\n')\n",
    "\n",
    "\n",
    "\n",
    "while True:\n",
    "    a=input()\n",
    "    c,d=a.split()\n",
    "    c,d=int(c),int(d)\n",
    "    if c==d==0:\n",
    "        break \n",
    "    carrycounter(c,d)\n",
    "#     print(c,d)\n",
    "   "
   ]
  },
  {
   "cell_type": "code",
   "execution_count": null,
   "metadata": {},
   "outputs": [],
   "source": []
  }
 ],
 "metadata": {
  "kernelspec": {
   "display_name": "Python 3",
   "language": "python",
   "name": "python3"
  },
  "language_info": {
   "codemirror_mode": {
    "name": "ipython",
    "version": 3
   },
   "file_extension": ".py",
   "mimetype": "text/x-python",
   "name": "python",
   "nbconvert_exporter": "python",
   "pygments_lexer": "ipython3",
   "version": "3.7.4"
  }
 },
 "nbformat": 4,
 "nbformat_minor": 4
}
