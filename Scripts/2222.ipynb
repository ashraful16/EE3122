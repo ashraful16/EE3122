{
 "cells": [
  {
   "cell_type": "code",
   "execution_count": null,
   "metadata": {},
   "outputs": [],
   "source": [
    "Input Samples\tOutput Samples\n",
    "1\n",
    "4\n",
    "1 1\n",
    "2 1 5\n",
    "3 2 4 6\n",
    "4 1 3 5 7\n",
    "5\n",
    "1 1 2\n",
    "1 1 4\n",
    "2 1 4\n",
    "2 3 4\n",
    "1 2 4\n",
    "\n",
    "1\n",
    "1\n",
    "4\n",
    "7\n",
    "2"
   ]
  },
  {
   "cell_type": "code",
   "execution_count": 57,
   "metadata": {},
   "outputs": [
    {
     "name": "stdout",
     "output_type": "stream",
     "text": [
      "1\n",
      "4\n",
      "1 1\n",
      "2 1 5\n",
      "3 2 4 6\n",
      "4 1 3 5 7\n",
      "5\n",
      "1 1 2\n",
      "1 1 4\n",
      "2 1 4\n",
      "2 3 4\n",
      "1 2 4\n"
     ]
    }
   ],
   "source": [
    "for i in range(int(input())):\n",
    "    ## input nunmber of sets ##\n",
    "    N_sets=int(input())\n",
    "    sets_list=[]\n",
    "    for j in range(N_sets):\n",
    "#         sets_list.append(input())\n",
    "        globals()[\"set%d\" % (j)]=input().split()\n",
    "        globals()[\"set%d\" % (j)]=eval(\"set%d\" % (j))[1:]\n",
    "        globals()[\"set%d\" % (j)]=set(list(map(int, eval(\"set%d\" % (j)))))\n",
    "    \n",
    "    ## input nunmber of operation ##\n",
    "    N_operation=int(input())    \n",
    "    for k in range(N_operation):\n",
    "#         sets_list.append(input())\n",
    "        globals()[\"opera%d\" % (k)]=input().split()\n",
    "        globals()[\"opera%d\" % (k)]=list(map(int, eval(\"opera%d\" % (k))))\n",
    "    \n",
    "    \n",
    "# 4\n",
    "# 1 1\n",
    "# 2 1 5\n",
    "# 3 2 4 6\n",
    "# 4 1 3 5 7\n",
    "# 5\n",
    "# 1 1 2\n",
    "# 1 1 4\n",
    "# 2 1 4\n",
    "# 2 3 4\n",
    "# 1 2 4    "
   ]
  },
  {
   "cell_type": "code",
   "execution_count": 58,
   "metadata": {},
   "outputs": [
    {
     "name": "stdout",
     "output_type": "stream",
     "text": [
      "0 {1}\n",
      "1 {1, 5}\n",
      "2 {2, 4, 6}\n",
      "3 {1, 3, 5, 7}\n",
      "0 [1, 1, 2]\n",
      "1 [1, 1, 4]\n",
      "2 [2, 1, 4]\n",
      "3 [2, 3, 4]\n",
      "4 [1, 2, 4]\n"
     ]
    }
   ],
   "source": [
    "for i in range(4):\n",
    "    print(i,eval(\"set%d\" % (i)))\n",
    "\n",
    "for i in range(5):\n",
    "    print(i,eval(\"opera%d\" % (i)))\n",
    "    "
   ]
  },
  {
   "cell_type": "code",
   "execution_count": 67,
   "metadata": {},
   "outputs": [],
   "source": [
    "in_u,s1,s2=opera0\n"
   ]
  },
  {
   "cell_type": "code",
   "execution_count": 78,
   "metadata": {},
   "outputs": [
    {
     "name": "stdout",
     "output_type": "stream",
     "text": [
      "2 1 4\n",
      "{1} {1, 3, 5, 7}\n",
      "{1, 3, 5, 7}\n"
     ]
    }
   ],
   "source": [
    "t=3\n",
    "in_u,s1,s2=eval(\"opera%d\" % (t-1))\n",
    "print(in_u,s1,s2)\n",
    "subs1,subs2=eval(\"set%d\" % (s1-1)),eval(\"set%d\" % (s2-1))\n",
    "if in_u==1:  #intersection\n",
    "    print(subs1,subs2)\n",
    "    intersec=subs1&subs2\n",
    "    print(intersec)\n",
    "    print(len(intersec))\n",
    "    \n",
    "else:          #union\n",
    "    print(subs1,subs2)\n",
    "    union=subs1 | subs2\n",
    "    print(union)\n",
    "    print(len(union))\n"
   ]
  },
  {
   "cell_type": "code",
   "execution_count": 60,
   "metadata": {},
   "outputs": [],
   "source": [
    "# globals()[\"opera%d\" % (3)]=input().split()\n",
    "# globals()[\"opera%d\" % (3)]=eval(\"opera%d\" % (3))[1:]\n",
    "# opera3"
   ]
  },
  {
   "cell_type": "code",
   "execution_count": 80,
   "metadata": {},
   "outputs": [
    {
     "data": {
      "text/plain": [
       "4"
      ]
     },
     "execution_count": 80,
     "metadata": {},
     "output_type": "execute_result"
    }
   ],
   "source": [
    "len(union)"
   ]
  },
  {
   "cell_type": "code",
   "execution_count": null,
   "metadata": {},
   "outputs": [],
   "source": []
  },
  {
   "cell_type": "code",
   "execution_count": 70,
   "metadata": {},
   "outputs": [
    {
     "name": "stdout",
     "output_type": "stream",
     "text": [
      "Union : {0, 1, 2, 3, 4, 5, 6, 8}\n",
      "Intersection : {2, 4}\n"
     ]
    }
   ],
   "source": [
    "# sets are define \n",
    "A = {0, 2, 4, 6, 8}\n",
    "B = {1, 2, 3, 4, 5} \n",
    "  \n",
    "# union \n",
    "print(\"Union :\", A | B) \n",
    "  \n",
    "# intersection \n",
    "print(\"Intersection :\", A & B) "
   ]
  },
  {
   "cell_type": "code",
   "execution_count": null,
   "metadata": {},
   "outputs": [],
   "source": []
  },
  {
   "cell_type": "code",
   "execution_count": 15,
   "metadata": {},
   "outputs": [
    {
     "data": {
      "text/plain": [
       "[4]"
      ]
     },
     "execution_count": 15,
     "metadata": {},
     "output_type": "execute_result"
    }
   ],
   "source": [
    "neuron1=[4]\n",
    "### assigin variable dynamically\n",
    "\n",
    "globals()[\"loc_neu%d\" % (1)]=5\n",
    "\n",
    "### evaluate variable dynamically\n",
    "eval(\"neuron%d\" % (1))"
   ]
  },
  {
   "cell_type": "code",
   "execution_count": null,
   "metadata": {},
   "outputs": [],
   "source": []
  },
  {
   "cell_type": "code",
   "execution_count": null,
   "metadata": {},
   "outputs": [],
   "source": []
  },
  {
   "cell_type": "code",
   "execution_count": 91,
   "metadata": {},
   "outputs": [
    {
     "name": "stdout",
     "output_type": "stream",
     "text": [
      "2\n",
      "3\n",
      "5 1 2 3 4 5\n",
      "6 2 3 4 5 6 7\n",
      "1 52\n",
      "4\n",
      "1 1 3\n",
      "1 1 2\n",
      "2 1 3\n",
      "2 1 2\n",
      "0\n",
      "4\n",
      "6\n",
      "7\n",
      "10\n",
      "5 4 23 17 2 5\n",
      "3 10 20 30\n",
      "4 1 2 3 4\n",
      "12 1 2 3 4 5 6 7 8 9 10 11 12\n",
      "12 5 10 15 20 25 30 35 40 45 50 55 60\n",
      "1 7\n",
      "1 8\n",
      "6 41 42 43 44 45 46\n",
      "5 60 59 58 44 45\n",
      "2 2 3\n",
      "10\n",
      "1 2 5\n",
      "1 6 7\n",
      "1 1 10\n",
      "2 4 5\n",
      "2 5 6\n",
      "2 8 5\n",
      "1 3 10\n",
      "1 4 3\n",
      "2 9 10\n",
      "2 9 1\n",
      "3\n",
      "0\n",
      "1\n",
      "22\n",
      "13\n",
      "17\n",
      "2\n",
      "4\n",
      "7\n",
      "10\n"
     ]
    }
   ],
   "source": [
    "for i in range(int(input())):\n",
    "    ## input nunmber of sets ##\n",
    "    N_sets=int(input())\n",
    "    sets_list=[]\n",
    "    for j in range(N_sets):\n",
    "#         sets_list.append(input())\n",
    "        globals()[\"set%d\" % (j)]=input().split()\n",
    "        globals()[\"set%d\" % (j)]=eval(\"set%d\" % (j))[1:]\n",
    "        globals()[\"set%d\" % (j)]=set(list(map(int, eval(\"set%d\" % (j)))))\n",
    "    \n",
    "    ## input nunmber of operation ##\n",
    "    N_operation=int(input())    \n",
    "    for k in range(N_operation):\n",
    "#         sets_list.append(input())\n",
    "        globals()[\"opera%d\" % (k)]=input().split()\n",
    "        globals()[\"opera%d\" % (k)]=list(map(int, eval(\"opera%d\" % (k))))\n",
    "        \n",
    "    for t in range(N_operation):\n",
    "        in_u,s1,s2=eval(\"opera%d\" % (t))\n",
    "#         print(in_u,s1,s2)\n",
    "        subs1,subs2=eval(\"set%d\" % (s1-1)),eval(\"set%d\" % (s2-1))\n",
    "        if in_u==1:  #intersection\n",
    "#             print(subs1,subs2)\n",
    "            intersec=subs1&subs2\n",
    "#             print(intersec)\n",
    "            print(len(intersec))\n",
    "\n",
    "        else:          #union\n",
    "#             print(subs1,subs2)\n",
    "            union=subs1 | subs2\n",
    "#             print(union)\n",
    "            print(len(union))\n",
    "\n",
    "\n",
    "    "
   ]
  },
  {
   "cell_type": "code",
   "execution_count": null,
   "metadata": {},
   "outputs": [],
   "source": [
    "0\n",
    "4\n",
    "6\n",
    "7\n",
    "\n",
    "3\n",
    "0\n",
    "1\n",
    "22\n",
    "13\n",
    "17\n",
    "2\n",
    "4\n",
    "7\n",
    "10\n",
    "\n",
    "##\n",
    "2\n",
    "3\n",
    "5 1 2 3 4 5\n",
    "6 2 3 4 5 6 7\n",
    "1 52\n",
    "4\n",
    "1 1 3\n",
    "1 1 2\n",
    "2 1 3\n",
    "2 1 2\n",
    "10\n",
    "5 4 23 17 2 5\n",
    "3 10 20 30\n",
    "4 1 2 3 4\n",
    "12 1 2 3 4 5 6 7 8 9 10 11 12\n",
    "12 5 10 15 20 25 30 35 40 45 50 55 60\n",
    "1 7\n",
    "1 8\n",
    "6 41 42 43 44 45 46\n",
    "5 60 59 58 44 45\n",
    "2 2 3\n",
    "10\n",
    "1 2 5\n",
    "1 6 7\n",
    "1 1 10\n",
    "2 4 5\n",
    "2 5 6\n",
    "2 8 5\n",
    "1 3 10\n",
    "1 4 3\n",
    "2 9 10\n",
    "2 9 1\n"
   ]
  },
  {
   "cell_type": "code",
   "execution_count": 102,
   "metadata": {},
   "outputs": [
    {
     "name": "stdout",
     "output_type": "stream",
     "text": [
      "1\n",
      "4\n",
      "1 1\n",
      "2 1 5\n",
      "3 2 4 6\n",
      "4 1 3 5 7\n",
      "5\n",
      "1 1 2\n",
      "1 1 4\n",
      "2 1 3\n",
      "2 3 4\n",
      "1 2 4\n",
      "1\n",
      "1\n",
      "4\n",
      "7\n",
      "2\n"
     ]
    }
   ],
   "source": [
    "def operation(subs1,subs2,in_u):\n",
    "    \n",
    "    if in_u==1:\n",
    "        print(len(subs1&subs2))\n",
    "    else:\n",
    "        print(len(subs1|subs2))\n",
    "        \n",
    "\n",
    "for i in range(int(input())):\n",
    "    ## input nunmber of sets ##\n",
    "    N_sets=int(input())\n",
    "    sets_list=[]\n",
    "    for j in range(N_sets):\n",
    "        \n",
    "        globals()[\"set%d\" % (j)]=set(input().split()[1:])\n",
    "#         globals()[\"set%d\" % (j)]=set(eval(\"set%d\" % (j))[1:]\n",
    "# #         globals()[\"set%d\" % (j)]=set(list(map(int, eval(\"set%d\" % (j)))))\n",
    "#         t_s=eval(\"set%d\" % (j))\n",
    "#         globals()[\"set%d\" % (j)]=set()\n",
    "    \n",
    "    ## input nunmber of operation ##\n",
    "    N_operation=int(input())    \n",
    "    for k in range(N_operation):\n",
    "\n",
    "        \n",
    "        globals()[\"opera%d\" % (k)]=input().split()\n",
    "#         globals()[\"opera%d\" % (k)]=list(map(int, eval(\"opera%d\" % (k))))\n",
    "        t_p=eval(\"opera%d\" % (k))\n",
    "        globals()[\"opera%d\" % (k)]=[int(p) for p in t_p]\n",
    "        \n",
    "    for t in range(N_operation):\n",
    "        in_u,s1,s2=eval(\"opera%d\" % (t))\n",
    "        operation(eval(\"set%d\" % (s1-1)),eval(\"set%d\" % (s2-1)),in_u)\n",
    "\n",
    "\n",
    "    "
   ]
  },
  {
   "cell_type": "code",
   "execution_count": 109,
   "metadata": {},
   "outputs": [
    {
     "name": "stdout",
     "output_type": "stream",
     "text": [
      "1\n",
      "4\n",
      "1 1\n",
      "2 1 5\n",
      "3 2 4 6\n",
      "4 1 3 5 7\n",
      "5\n",
      "1 1 2\n",
      "1\n",
      "1 1 4\n",
      "1\n",
      "2 1 3\n",
      "4\n",
      "2 3 4\n",
      "7\n",
      "1 2 4\n",
      "2\n"
     ]
    }
   ],
   "source": [
    "# def operation_output(subs1,subs2,in_u):\n",
    "    \n",
    "#     if in_u==1:\n",
    "#         print(len(subs1&subs2))\n",
    "#     else:\n",
    "#         print(len(subs1|subs2))\n",
    "\n",
    "for i in range(int(input())):\n",
    "    sets_list=[]\n",
    "    for j in range(int(input())):\n",
    "        sets_list.append(set(input().split()[1:]))\n",
    "\n",
    "    for _ in range(int(input())):\n",
    "        operation=[int(p) for p in input().split()]\n",
    "#         operation_output(sets_list[operation[1] - 1],\n",
    "#                   sets_list[operation[2] - 1],operation[0])\n",
    "        if operation[0] == 1:\n",
    "            output = sets_list[operation[1] - 1] &  sets_list[operation[2] - 1]\n",
    "        else:\n",
    "            output = sets_list[operation[1] - 1] |  sets_list[operation[2] - 1]\n",
    "        print(len(output))\n",
    "\n",
    "    \n",
    "        \n",
    "        \n",
    "#        1\n",
    "# 4\n",
    "# 1 1 \n",
    "# 2 1 5\n",
    "# 3 2 4 6\n",
    "# 4 1 3 5 7\n",
    "# 5\n",
    "# 1 1 2\n",
    "# 1 1 4\n",
    "# 2 1 3\n",
    "# 2 3 4\n",
    "# 1 2 4 "
   ]
  },
  {
   "cell_type": "code",
   "execution_count": null,
   "metadata": {},
   "outputs": [],
   "source": []
  },
  {
   "cell_type": "code",
   "execution_count": null,
   "metadata": {},
   "outputs": [],
   "source": [
    "\n",
    "\n",
    "for i in range(int(input())):\n",
    "    sets_list=[]\n",
    "    for j in range(int(input())):\n",
    "        sets_list.append(set(input().split()[1:]))\n",
    "\n",
    "    for _ in range(int(input())):\n",
    "        operation=[int(p) for p in input().split()]\n",
    "        \n",
    "        if operation[0] == 1:\n",
    "            output = sets_list[operation[1] - 1] &  sets_list[operation[2] - 1]\n",
    "        else:\n",
    "            output = sets_list[operation[1] - 1] |  sets_list[operation[2] - 1]\n",
    "        print(len(output))\n",
    "\n",
    "\n",
    "        "
   ]
  }
 ],
 "metadata": {
  "kernelspec": {
   "display_name": "Python 3",
   "language": "python",
   "name": "python3"
  },
  "language_info": {
   "codemirror_mode": {
    "name": "ipython",
    "version": 3
   },
   "file_extension": ".py",
   "mimetype": "text/x-python",
   "name": "python",
   "nbconvert_exporter": "python",
   "pygments_lexer": "ipython3",
   "version": "3.7.4"
  }
 },
 "nbformat": 4,
 "nbformat_minor": 4
}
