{
 "cells": [
  {
   "cell_type": "code",
   "execution_count": 20,
   "metadata": {},
   "outputs": [
    {
     "name": "stdout",
     "output_type": "stream",
     "text": [
      "5\n",
      "100 99 112 -8 -7\n",
      "0\n"
     ]
    }
   ],
   "source": [
    "a=int(input())\n",
    "b=raw_input().split(\" \")\n",
    "i=0\n",
    "if int(b[i+1])>int(b[i]) :\n",
    "    fl=True\n",
    "else:\n",
    "    fl=False\n",
    "    \n",
    "pr=0\n",
    "for i in range(1,len(b)-1):\n",
    "    k=int(b[i])\n",
    "    l=int(b[i+1])\n",
    "    \n",
    "    if k<l and fl==True :\n",
    "        pr+=1\n",
    "        print(\"0\")\n",
    "        break\n",
    "    if fl==False and k<l:\n",
    "        pr+=1\n",
    "        print(\"0\")\n",
    "        break\n",
    "    #if i==len(b)-2 and pr==0:\n",
    "       # print(pr)\n",
    "    \n",
    "\n",
    "if pr==0:\n",
    "    print('1')\n",
    "    "
   ]
  },
  {
   "cell_type": "code",
   "execution_count": null,
   "metadata": {},
   "outputs": [],
   "source": []
  },
  {
   "cell_type": "code",
   "execution_count": 66,
   "metadata": {},
   "outputs": [
    {
     "name": "stdout",
     "output_type": "stream",
     "text": [
      "2\n",
      "0 0\n",
      "0\n"
     ]
    }
   ],
   "source": [
    "a=int(input())\n",
    "b=raw_input().split(\" \")\n",
    "\n",
    "ap=''\n",
    "\n",
    "for i in range(a-1):\n",
    "    if int(b[i])<int(b[i+1]):\n",
    "        ap=ap+str(1)\n",
    "    else:\n",
    "        ap=ap+str(0)\n",
    "        \n",
    "\n",
    "#print(ap)\n",
    "\n",
    "if len(ap)==2:\n",
    "    if ap=='10':\n",
    "        print(\"1\")\n",
    "    else:\n",
    "        print(\"0\")\n",
    "elif len(ap)==1:\n",
    "    if int(b[0])==int(b[1]):\n",
    "        print(\"0\")\n",
    "    else:\n",
    "        print(\"1\")\n",
    "    \n",
    "elif len(ap)%2==0 and len(ap)>2:\n",
    "    if ap[0:len(ap)/2]==ap[len(ap)/2:]:\n",
    "        print(\"1\")\n",
    "    else:\n",
    "        print(\"0\")\n",
    "else:\n",
    "    if ap[0:(len(ap)-1)/2]==ap[(len(ap)-1)/2:-1]:\n",
    "        print(\"1\")\n",
    "    else:\n",
    "        print(\"0\")\n",
    "    "
   ]
  },
  {
   "cell_type": "code",
   "execution_count": 31,
   "metadata": {},
   "outputs": [
    {
     "data": {
      "text/plain": [
       "('01', '01')"
      ]
     },
     "execution_count": 31,
     "metadata": {},
     "output_type": "execute_result"
    }
   ],
   "source": []
  },
  {
   "cell_type": "code",
   "execution_count": 52,
   "metadata": {},
   "outputs": [
    {
     "data": {
      "text/plain": [
       "('1010', '1010')"
      ]
     },
     "execution_count": 52,
     "metadata": {},
     "output_type": "execute_result"
    }
   ],
   "source": [
    "ap[0:(len(ap)-1)/2],ap[(len(ap)-1)/2:-1]"
   ]
  },
  {
   "cell_type": "code",
   "execution_count": 37,
   "metadata": {},
   "outputs": [
    {
     "data": {
      "text/plain": [
       "-2"
      ]
     },
     "execution_count": 37,
     "metadata": {},
     "output_type": "execute_result"
    }
   ],
   "source": [
    "int(b[2])"
   ]
  },
  {
   "cell_type": "code",
   "execution_count": 71,
   "metadata": {},
   "outputs": [
    {
     "name": "stdout",
     "output_type": "stream",
     "text": [
      "3\n",
      "1 4 2\n",
      "0\n"
     ]
    }
   ],
   "source": [
    "a=int(input())\n",
    "b=raw_input().split(\" \")\n",
    "\n",
    "\n",
    "pr=0\n",
    "\n",
    "if int(b[0])>int(b[1]):\n",
    "    k=True\n",
    "elif  int(b[0])==int(b[1]):\n",
    "    print('0')\n",
    "    pr+=1\n",
    "    \n",
    "else:\n",
    "    k=False\n",
    "    \n",
    "\n",
    "for i in range(0,a-1):\n",
    "    if k==True and pr==0:\n",
    "       \n",
    "        if int(b[i])<int(b[i+1]):\n",
    "            print(\"0\")\n",
    "            pr+=1\n",
    "        \n",
    "        \n",
    "    if k==False and pr==0:\n",
    "        \n",
    "        if int(b[i])>int(b[i+1]):\n",
    "            print(\"0\")\n",
    "            pr+=1\n",
    "            \n",
    "if pr ==0:\n",
    "    print('1')\n",
    "        \n",
    "    \n",
    "    "
   ]
  },
  {
   "cell_type": "code",
   "execution_count": null,
   "metadata": {},
   "outputs": [],
   "source": [
    "n = int(input())\n",
    "h = [int(x) for x in raw_input().split()]\n",
    "if n == 2 and h[0] == h[1]:\n",
    "    pico = 0\n",
    "else:\n",
    "    pico = 1\n",
    "    for i in range(1, n-1):\n",
    "        if not ((h[i] < h[i-1] and h[i] < h[i+1]) or (h[i] > h[i-1] and h[i] > h[i+1])):\n",
    "            pico = 0\n",
    "            break\n",
    "print(pico)"
   ]
  }
 ],
 "metadata": {
  "kernelspec": {
   "display_name": "Python 2",
   "language": "python",
   "name": "python2"
  },
  "language_info": {
   "codemirror_mode": {
    "name": "ipython",
    "version": 2
   },
   "file_extension": ".py",
   "mimetype": "text/x-python",
   "name": "python",
   "nbconvert_exporter": "python",
   "pygments_lexer": "ipython2",
   "version": "2.7.12"
  }
 },
 "nbformat": 4,
 "nbformat_minor": 2
}
