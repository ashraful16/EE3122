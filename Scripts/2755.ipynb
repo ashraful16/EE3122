{
 "cells": [
  {
   "cell_type": "code",
   "execution_count": null,
   "metadata": {},
   "outputs": [],
   "source": [
    "Your programming teacher would like you to do a program with the following characteristics:\n",
    "\n",
    "Show the following sentence on the screen: \"Ro'b'er to \\ /\" (Between r and t has a tab);\n",
    "Show the following sentence on the screen: (._.) ( l: ) ( .-. ) ( :l ) (._.);\n",
    "Show the following sentence on the screen: (^_-) (-_-) (-_^);\n",
    "Show the following sentence on the screen: (\"_\") ('.');\n",
    "    \n",
    "\t\n",
    "    \n",
    "\"Ro'b'er        to\\/\"\n",
    "\n",
    "(._.) ( l: ) ( .-. ) ( :l ) (._.)\n",
    "\n",
    "(^_-) (-_-) (-_^)\n",
    "\n",
    "(\"_\") ('.')"
   ]
  },
  {
   "cell_type": "code",
   "execution_count": 10,
   "metadata": {},
   "outputs": [
    {
     "data": {
      "text/plain": [
       "\"Ro'b'er        to\\\\/\""
      ]
     },
     "execution_count": 10,
     "metadata": {},
     "output_type": "execute_result"
    }
   ],
   "source": [
    "\"Ro'b'er        to\\/\""
   ]
  },
  {
   "cell_type": "code",
   "execution_count": 33,
   "metadata": {},
   "outputs": [
    {
     "name": "stdout",
     "output_type": "stream",
     "text": [
      "\"Ro'b'er\tto\\/\"\n",
      "(._.) ( l: ) ( .-. ) ( :l ) (._.)\n",
      "(^_-) (-_-) (-_^)\n",
      "(\"_\") ('.')\n"
     ]
    }
   ],
   "source": [
    "print(str(r'\"')+\"Ro'b'er\\tto\\/\"+str(r'\"'))\n",
    "# print()\n",
    "print(r'(._.) ( l: ) ( .-. ) ( :l ) (._.)')\n",
    "# print()\n",
    "print(r'(^_-) (-_-) (-_^)')\n",
    "# print()\n",
    "print(r'(\"_\")',r\"('.')\")\n",
    "# print()"
   ]
  },
  {
   "cell_type": "code",
   "execution_count": 27,
   "metadata": {},
   "outputs": [
    {
     "name": "stdout",
     "output_type": "stream",
     "text": [
      "\"Ro'b'er\tto\\/\"\n",
      "(._.) ( l: ) ( .-. ) ( :l ) (._.)\n",
      "(^_-) (-_-) (-_^)\n",
      "(\"_\") ('.')\n"
     ]
    }
   ],
   "source": [
    "print('\"Ro\\'b\\'er\\tto\\\\/\"')\n",
    "print('(._.) ( l: ) ( .-. ) ( :l ) (._.)')\n",
    "print('(^_-) (-_-) (-_^)')\n",
    "print('(\"_\") (\\'.\\')')"
   ]
  },
  {
   "cell_type": "code",
   "execution_count": null,
   "metadata": {},
   "outputs": [],
   "source": []
  },
  {
   "cell_type": "code",
   "execution_count": null,
   "metadata": {},
   "outputs": [],
   "source": []
  }
 ],
 "metadata": {
  "kernelspec": {
   "display_name": "Python 3",
   "language": "python",
   "name": "python3"
  },
  "language_info": {
   "codemirror_mode": {
    "name": "ipython",
    "version": 3
   },
   "file_extension": ".py",
   "mimetype": "text/x-python",
   "name": "python",
   "nbconvert_exporter": "python",
   "pygments_lexer": "ipython3",
   "version": "3.7.4"
  }
 },
 "nbformat": 4,
 "nbformat_minor": 4
}
