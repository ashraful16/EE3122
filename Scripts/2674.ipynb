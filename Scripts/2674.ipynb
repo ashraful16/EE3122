{
 "cells": [
  {
   "cell_type": "code",
   "execution_count": null,
   "metadata": {},
   "outputs": [],
   "source": [
    "from math import sqrt\n",
    "\n",
    "def primo(n):\n",
    "    if (n == 2):\n",
    "        return 1\n",
    "    if (n == 0 or n == 1 or (n % 2 == 0)):\n",
    "        return 0\n",
    "    for i in range(3, int(sqrt(n)) + 2):\n",
    "        if (n % i == 0):\n",
    "            return 0\n",
    "    return 1\n",
    "\n",
    "def super(n):\n",
    "    while n >= 10:\n",
    "        s = n % 10\n",
    "        n = int(n / 10)\n",
    "        if not primo(s):\n",
    "            return 0\n",
    "    if(n == 2 or n == 3 or n == 5 or n == 7):\n",
    "        return 1\n",
    "    else:\n",
    "        return 0\n",
    "\n",
    "while True:\n",
    "    try:\n",
    "        n = int(input())\n",
    "        if not primo(n):\n",
    "            print('Nada')\n",
    "        else:\n",
    "            if super(n):\n",
    "                print('Super')\n",
    "            else:\n",
    "                print('Primo')\n",
    "\n",
    "    except EOFError:\n",
    "        break"
   ]
  }
 ],
 "metadata": {
  "kernelspec": {
   "display_name": "Python 3",
   "language": "python",
   "name": "python3"
  },
  "language_info": {
   "codemirror_mode": {
    "name": "ipython",
    "version": 3
   },
   "file_extension": ".py",
   "mimetype": "text/x-python",
   "name": "python",
   "nbconvert_exporter": "python",
   "pygments_lexer": "ipython3",
   "version": "3.7.4"
  }
 },
 "nbformat": 4,
 "nbformat_minor": 4
}
