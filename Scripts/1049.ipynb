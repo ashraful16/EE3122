{
 "cells": [
  {
   "cell_type": "markdown",
   "metadata": {},
   "source": [
    "#![title](UOJ_1049_b.png)\n"
   ]
  },
  {
   "cell_type": "code",
   "execution_count": 20,
   "metadata": {},
   "outputs": [
    {
     "name": "stdout",
     "output_type": "stream",
     "text": [
      "vertebrado\n",
      "mamifero\n",
      "onivoro\n",
      "\n",
      "homem\n"
     ]
    }
   ],
   "source": [
    "c=raw_input()\n",
    "d=raw_input()\n",
    "e=raw_input()\n",
    "s=[]\n",
    "if c==\"vertebrado\" and d==\"ave\" and e==\"carnivoro\":\n",
    "    s=\"aguia\"\n",
    "if c==\"vertebrado\" and d==\"ave\" and e==\"onivoro\":\n",
    "    s=\"pomba\"  \n",
    "if c==\"vertebrado\" and d==\"mamifero\" and e==\"onivoro\":\n",
    "    s=\"homem\"  \n",
    "if c==\"vertebrado\" and d==\"mamifero\" and e==\"herbivoro\":\n",
    "    s=\"vaca\"  \n",
    "if c==\"invertebrado\" and d==\"inseto\" and e==\"herbivoro\":\n",
    "    s=\"lagarta\" \n",
    "if c==\"invertebrado\" and d==\"inseto\" and e==\"hematofago\":\n",
    "    s=\"pulga\"\n",
    "if c==\"invertebrado\" and d==\"anelideo\" and e==\"hematofago\":\n",
    "    s=\"sanguessuga\"\n",
    "if c==\"invertebrado\" and d==\"anelideo\" and e==\"onivoro\":\n",
    "    s=\"minhoca\"\n",
    "\n",
    "print \"\"    \n",
    "print s"
   ]
  },
  {
   "cell_type": "code",
   "execution_count": null,
   "metadata": {},
   "outputs": [],
   "source": [
    "Output\n",
    "Print the animal name according to the given input.\n",
    "\n",
    "Input Samples\tOutput Samples\n",
    "vertebrado\n",
    "mamifero\n",
    "onivoro\n",
    "\n",
    "homem\n",
    "\n",
    "vertebrado\n",
    "ave\n",
    "carnivoro\n",
    "\n",
    "aguia\n",
    "\n",
    "invertebrado\n",
    "anelideo\n",
    "onivoro\n",
    "\n",
    "minhoca"
   ]
  },
  {
   "cell_type": "code",
   "execution_count": 16,
   "metadata": {},
   "outputs": [
    {
     "name": "stdout",
     "output_type": "stream",
     "text": [
      "er\n",
      "er <type 'str'>\n"
     ]
    }
   ],
   "source": []
  },
  {
   "cell_type": "code",
   "execution_count": null,
   "metadata": {},
   "outputs": [],
   "source": []
  }
 ],
 "metadata": {
  "kernelspec": {
   "display_name": "Python 2",
   "language": "python",
   "name": "python2"
  },
  "language_info": {
   "codemirror_mode": {
    "name": "ipython",
    "version": 2
   },
   "file_extension": ".py",
   "mimetype": "text/x-python",
   "name": "python",
   "nbconvert_exporter": "python",
   "pygments_lexer": "ipython2",
   "version": "2.7.12"
  }
 },
 "nbformat": 4,
 "nbformat_minor": 2
}
