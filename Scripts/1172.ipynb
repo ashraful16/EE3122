{
 "cells": [
  {
   "cell_type": "code",
   "execution_count": 4,
   "metadata": {},
   "outputs": [
    {
     "name": "stdout",
     "output_type": "stream",
     "text": [
      "-1\n",
      "-445234\n",
      "-22\n",
      "-120\n",
      "0\n",
      "2\n",
      "-200\n",
      "1\n",
      "9\n",
      "22\n",
      "X[0] = 1\n",
      "X[1] = 1\n",
      "X[2] = 1\n",
      "X[3] = 1\n",
      "X[4] = 1\n",
      "X[5] = 2\n",
      "X[6] = 1\n",
      "X[7] = 1\n",
      "X[8] = 9\n",
      "X[9] = 22\n"
     ]
    }
   ],
   "source": [
    "i=0\n",
    "x=[]\n",
    "while i<10:\n",
    "    a=int(input())\n",
    "    x.append(a)\n",
    "    i+=1\n",
    "y=[]\n",
    "for d in x:\n",
    "    if d==0 or d <0:\n",
    "        y.append(1)\n",
    "    else:\n",
    "        y.append(d)\n",
    "\n",
    "i=0\n",
    "x=y\n",
    "while i<10:\n",
    "    print \"X[%d] = %d\"%(i,x[i])\n",
    "    i+=1"
   ]
  },
  {
   "cell_type": "markdown",
   "metadata": {},
   "source": []
  },
  {
   "cell_type": "code",
   "execution_count": null,
   "metadata": {},
   "outputs": [],
   "source": [
    "\"\"\"-1\n",
    "-45234\n",
    "-22\n",
    "-120\n",
    "0\n",
    "2\n",
    "-200\n",
    "1\n",
    "9\n",
    "22\n",
    "\"\"\"\n"
   ]
  },
  {
   "cell_type": "code",
   "execution_count": null,
   "metadata": {},
   "outputs": [],
   "source": []
  }
 ],
 "metadata": {
  "kernelspec": {
   "display_name": "Python 2",
   "language": "python",
   "name": "python2"
  },
  "language_info": {
   "codemirror_mode": {
    "name": "ipython",
    "version": 2
   },
   "file_extension": ".py",
   "mimetype": "text/x-python",
   "name": "python",
   "nbconvert_exporter": "python",
   "pygments_lexer": "ipython2",
   "version": "2.7.12"
  }
 },
 "nbformat": 4,
 "nbformat_minor": 2
}
