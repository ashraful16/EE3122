{
 "cells": [
  {
   "cell_type": "code",
   "execution_count": 13,
   "metadata": {},
   "outputs": [
    {
     "name": "stdout",
     "output_type": "stream",
     "text": [
      "3\n",
      "fte\n",
      "10 20 12\n",
      "1 10 9\n",
      "we\n",
      "8 7 1\n",
      "2 7 0\n",
      "we\n",
      "3 3 3\n",
      "1 2 3\n",
      "Pontos de Saque: 19.05 %.\n",
      "Pontos de Bloqueio: 63.33 %.\n",
      "Pontos de Ataque: 75.00 %.\n"
     ]
    }
   ],
   "source": [
    "s1,b1,a1,s2,b2,a2=0,0,0,0,0,0\n",
    "\n",
    "for i in range(int(input())):\n",
    "    du=raw_input()\n",
    "    a=raw_input().split(\" \")\n",
    "    b=raw_input().split(\" \")\n",
    "    s1,b1,a1,s2,b2,a2=s1+int(a[0]),b1+int(a[1]),a1+int(a[2]),s2+int(b[0]),b2+int(b[1]),a2+int(b[2])\n",
    "    \n",
    "p1=(s2/float(s1))*100\n",
    "p2=(b2/float(b1))*100\n",
    "p3=(a2/float(a1))*100\n",
    "#print(p1,p2,p3)\n",
    "\n",
    "print \"Pontos de Saque: %.2f\"%p1,\"%.\"\n",
    "print \"Pontos de Bloqueio: %.2f\"%p2,\"%.\"\n",
    "print \"Pontos de Ataque: %.2f\"%p3,\"%.\""
   ]
  },
  {
   "cell_type": "code",
   "execution_count": null,
   "metadata": {},
   "outputs": [],
   "source": [
    "# Input Sample\tOutput Sample\n",
    "3\n",
    "Renan\n",
    "10 20 12\n",
    "1 10 9\n",
    "Jonas\n",
    "8 7 1\n",
    "2 7 0\n",
    "Edson\n",
    "3 3 3\n",
    "1 2 3\n",
    "\n",
    "Pontos de Saque: 19.05 %.\n",
    "Pontos de Bloqueio: 63.33 %.\n",
    "Pontos de Ataque: 75.00 %."
   ]
  },
  {
   "cell_type": "code",
   "execution_count": 11,
   "metadata": {},
   "outputs": [
    {
     "name": "stdout",
     "output_type": "stream",
     "text": [
      "Pontos de Saque: 19.05 %.\n",
      "Pontos de Bloqueio: 63.33 %.\n",
      "Pontos de Ataque: 75.00 %.\n"
     ]
    }
   ],
   "source": [
    "print \"Pontos de Saque: %.2f\"%p1,\"%.\"\n",
    "print \"Pontos de Bloqueio: %.2f\"%p2,\"%.\"\n",
    "print \"Pontos de Ataque: %.2f\"%p3,\"%.\""
   ]
  },
  {
   "cell_type": "code",
   "execution_count": 3,
   "metadata": {},
   "outputs": [
    {
     "data": {
      "text/plain": [
       "4"
      ]
     },
     "execution_count": 3,
     "metadata": {},
     "output_type": "execute_result"
    }
   ],
   "source": [
    "s2"
   ]
  },
  {
   "cell_type": "code",
   "execution_count": 7,
   "metadata": {},
   "outputs": [
    {
     "data": {
      "text/plain": [
       "19.047619047619047"
      ]
     },
     "execution_count": 7,
     "metadata": {},
     "output_type": "execute_result"
    }
   ],
   "source": [
    "((s2/float(s1))*100)"
   ]
  },
  {
   "cell_type": "code",
   "execution_count": null,
   "metadata": {},
   "outputs": [],
   "source": []
  }
 ],
 "metadata": {
  "kernelspec": {
   "display_name": "Python 2",
   "language": "python",
   "name": "python2"
  },
  "language_info": {
   "codemirror_mode": {
    "name": "ipython",
    "version": 2
   },
   "file_extension": ".py",
   "mimetype": "text/x-python",
   "name": "python",
   "nbconvert_exporter": "python",
   "pygments_lexer": "ipython2",
   "version": "2.7.12"
  }
 },
 "nbformat": 4,
 "nbformat_minor": 2
}
