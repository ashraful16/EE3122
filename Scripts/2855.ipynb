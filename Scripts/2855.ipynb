{
 "cells": [
  {
   "cell_type": "code",
   "execution_count": null,
   "metadata": {},
   "outputs": [],
   "source": []
  },
  {
   "cell_type": "code",
   "execution_count": null,
   "metadata": {},
   "outputs": [],
   "source": [
    "\n"
   ]
  },
  {
   "cell_type": "code",
   "execution_count": 5,
   "metadata": {},
   "outputs": [
    {
     "name": "stdout",
     "output_type": "stream",
     "text": [
      "1 2 3 4 5 6 7 8 9 10\n",
      "7\n",
      "Y\n"
     ]
    }
   ],
   "source": [
    "dawd=raw_input()\n",
    "a=raw_input().split(\" \")\n",
    "a=[int(d) for d in a]\n",
    "c=int(input())\n",
    "p=1\n",
    "r=True\n",
    "while r==True:\n",
    "    \n",
    "    b=a[0::p]\n",
    "    \n",
    "    p+=1\n",
    "    if p==len(b):\n",
    "        r=False\n",
    "        \n",
    "\n",
    "if c in b:\n",
    "    print('Y')\n",
    "\n",
    "else:\n",
    "    \n",
    "    print(\"N\")\n",
    "    "
   ]
  },
  {
   "cell_type": "code",
   "execution_count": null,
   "metadata": {},
   "outputs": [],
   "source": [
    "10\n",
    "\n",
    "1 2 3 4 5 6 7 8 9 10\n",
    "\n",
    "7"
   ]
  },
  {
   "cell_type": "code",
   "execution_count": 4,
   "metadata": {},
   "outputs": [
    {
     "name": "stdout",
     "output_type": "stream",
     "text": [
      "Y\n"
     ]
    }
   ],
   "source": [
    "        \n",
    "\n",
    "if c in b:\n",
    "    print('Y')\n",
    "\n",
    "else:\n",
    "    \n",
    "    print(\"N\")"
   ]
  },
  {
   "cell_type": "code",
   "execution_count": null,
   "metadata": {},
   "outputs": [
    {
     "name": "stdout",
     "output_type": "stream",
     "text": [
      "10\n",
      "1 2 3 4 5 6 7 8 9 10\n",
      "7\n",
      "Y\n",
      "10\n",
      "1 2 3 4 5 6 7 8 9 10\n",
      "9\n",
      "N\n",
      "25\n",
      "1 3 8 9 11 12 13 14 15 26 29 38 44 49 50 55 56 57 58 66 77 88 99 105 123\n",
      "58\n"
     ]
    }
   ],
   "source": [
    "while True:\n",
    "    try:\n",
    "        dawd=raw_input()\n",
    "        a=raw_input().split(\" \")\n",
    "        a=[int(d) for d in a]\n",
    "        c=int(input())\n",
    "        p=1\n",
    "        r=True\n",
    "        while r==True:\n",
    "    \n",
    "            b=a[0::p]\n",
    "    \n",
    "            p+=1\n",
    "            if p==len(b):\n",
    "                r=False\n",
    "        \n",
    "\n",
    "        if c in b:\n",
    "            print('Y')\n",
    "\n",
    "        else:\n",
    "    \n",
    "            print(\"N\")\n",
    "    \n",
    "    \n",
    "    except:\n",
    "        break\n",
    "        \n",
    "    "
   ]
  },
  {
   "cell_type": "code",
   "execution_count": null,
   "metadata": {},
   "outputs": [],
   "source": [
    "Exemplos de Entrada\tExemplos de Saída\n",
    "10\n",
    "\n",
    "1 2 3 4 5 6 7 8 9 10\n",
    "\n",
    "7\n",
    "\n",
    "10\n",
    "\n",
    "1 2 3 4 5 6 7 8 9 10\n",
    "\n",
    "9\n",
    "\n",
    "25\n",
    "\n",
    "1 3 8 9 11 12 13 14 15 26 29 38 44 49 50 55 56 57 58 66 77 88 99 105 123\n",
    "\n",
    "58\n",
    "\n",
    "Y\n",
    "\n",
    "N\n",
    "\n",
    "Y\n",
    "\n"
   ]
  },
  {
   "cell_type": "code",
   "execution_count": null,
   "metadata": {},
   "outputs": [],
   "source": []
  }
 ],
 "metadata": {
  "kernelspec": {
   "display_name": "Python 2",
   "language": "python",
   "name": "python2"
  },
  "language_info": {
   "codemirror_mode": {
    "name": "ipython",
    "version": 2
   },
   "file_extension": ".py",
   "mimetype": "text/x-python",
   "name": "python",
   "nbconvert_exporter": "python",
   "pygments_lexer": "ipython2",
   "version": "2.7.12"
  }
 },
 "nbformat": 4,
 "nbformat_minor": 2
}
