{
 "cells": [
  {
   "cell_type": "code",
   "execution_count": 1,
   "metadata": {},
   "outputs": [
    {
     "name": "stdout",
     "output_type": "stream",
     "text": [
      "---------------------------------------\n",
      "|  decimal  |  octal  |  Hexadecimal  |\n",
      "---------------------------------------\n",
      "|      0    |    0    |       0       |\n",
      "|      1    |    1    |       1       |\n",
      "|      2    |    2    |       2       |\n",
      "|      3    |    3    |       3       |\n",
      "|      4    |    4    |       4       |\n",
      "|      5    |    5    |       5       |\n",
      "|      6    |    6    |       6       |\n",
      "|      7    |    7    |       7       |\n",
      "|      8    |   10    |       8       |\n",
      "|      9    |   11    |       9       |\n",
      "|     10    |   12    |       A       |\n",
      "|     11    |   13    |       B       |\n",
      "|     12    |   14    |       C       |\n",
      "|     13    |   15    |       D       |\n",
      "|     14    |   16    |       E       |\n",
      "|     15    |   17    |       F       |\n",
      "---------------------------------------\n"
     ]
    }
   ],
   "source": [
    "print('---------------------------------------')\n",
    "print('|  decimal  |  octal  |  Hexadecimal  |')\n",
    "print('---------------------------------------')\n",
    "print('|      0    |    0    |       0       |')\n",
    "print('|      1    |    1    |       1       |')\n",
    "print('|      2    |    2    |       2       |')\n",
    "print('|      3    |    3    |       3       |')\n",
    "print('|      4    |    4    |       4       |')\n",
    "print('|      5    |    5    |       5       |')\n",
    "print('|      6    |    6    |       6       |')\n",
    "print('|      7    |    7    |       7       |')\n",
    "print('|      8    |   10    |       8       |')\n",
    "print('|      9    |   11    |       9       |')\n",
    "print('|     10    |   12    |       A       |')\n",
    "print('|     11    |   13    |       B       |')\n",
    "print('|     12    |   14    |       C       |')\n",
    "print('|     13    |   15    |       D       |')\n",
    "print('|     14    |   16    |       E       |')\n",
    "print('|     15    |   17    |       F       |')\n",
    "print('---------------------------------------')"
   ]
  },
  {
   "cell_type": "code",
   "execution_count": null,
   "metadata": {},
   "outputs": [],
   "source": []
  }
 ],
 "metadata": {
  "kernelspec": {
   "display_name": "Python 2",
   "language": "python",
   "name": "python2"
  },
  "language_info": {
   "codemirror_mode": {
    "name": "ipython",
    "version": 2
   },
   "file_extension": ".py",
   "mimetype": "text/x-python",
   "name": "python",
   "nbconvert_exporter": "python",
   "pygments_lexer": "ipython2",
   "version": "2.7.12"
  }
 },
 "nbformat": 4,
 "nbformat_minor": 2
}
