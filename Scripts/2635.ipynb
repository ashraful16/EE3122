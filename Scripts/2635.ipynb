{
 "cells": [
  {
   "cell_type": "code",
   "execution_count": 34,
   "metadata": {},
   "outputs": [
    {
     "name": "stdout",
     "output_type": "stream",
     "text": [
      "5\n",
      "maratonaicpc\n",
      "maraton\n",
      "programacao\n",
      "progress\n",
      "inputs\n",
      "3\n",
      "marat\n",
      "programacao\n",
      "outputs\n",
      "2 12\n",
      "1 11\n",
      "-1\n"
     ]
    }
   ],
   "source": [
    "\n",
    "a=[]\n",
    "for i in range(int(input())):\n",
    "    a.append(raw_input())\n",
    "    \n",
    "    \n",
    "b=[]\n",
    "for i in range(int(input())):\n",
    "    b.append(raw_input())\n",
    "    \n",
    "for da in b:\n",
    "    cp=0\n",
    "    arl=[]\n",
    "    mxl=0\n",
    "    for da1 in a:\n",
    "        #print(da1,da)\n",
    "        p=da1.find(da)\n",
    "        if p>=0:\n",
    "            cp+=1\n",
    "            if mxl<len(da1):\n",
    "                mxl=len(da1)\n",
    "                \n",
    "    arl.append(mxl)\n",
    "        \n",
    "    if cp>0:\n",
    "        \n",
    "        print cp,mxl\n",
    "    else:\n",
    "        print -1"
   ]
  },
  {
   "cell_type": "code",
   "execution_count": null,
   "metadata": {},
   "outputs": [],
   "source": [
    "Input Sample\tOutput Sample\n",
    "5\n",
    "\n",
    "maratonaicpc\n",
    "\n",
    "maraton\n",
    "\n",
    "programacao\n",
    "\n",
    "progress\n",
    "\n",
    "inputs\n",
    "\n",
    "3\n",
    "\n",
    "marat\n",
    "\n",
    "programacao\n",
    "\n",
    "outputs\n",
    "\n",
    "2 12\n",
    "\n",
    "1 11\n",
    "\n",
    "-1"
   ]
  },
  {
   "cell_type": "code",
   "execution_count": 33,
   "metadata": {},
   "outputs": [
    {
     "name": "stdout",
     "output_type": "stream",
     "text": [
      "2 12\n",
      "1 11\n",
      "-1\n"
     ]
    }
   ],
   "source": [
    "for da in b:\n",
    "    cp=0\n",
    "    arl=[]\n",
    "    mxl=0\n",
    "    for da1 in a:\n",
    "        #print(da1,da)\n",
    "        p=da1.find(da)\n",
    "        if p>=0:\n",
    "            cp+=1\n",
    "            if mxl<len(da1):\n",
    "                mxl=len(da1)\n",
    "                \n",
    "    arl.append(mxl)\n",
    "        \n",
    "    if cp>0:\n",
    "        \n",
    "        print cp,mxl\n",
    "    else:\n",
    "        print -1\n",
    "    \n",
    "    #print cp,arl,mxl\n",
    "    \n",
    "\n",
    "    \n",
    "\n",
    "    "
   ]
  },
  {
   "cell_type": "code",
   "execution_count": 27,
   "metadata": {},
   "outputs": [
    {
     "data": {
      "text/plain": [
       "[0, 0, 0, 0, 0]"
      ]
     },
     "execution_count": 27,
     "metadata": {},
     "output_type": "execute_result"
    }
   ],
   "source": []
  },
  {
   "cell_type": "code",
   "execution_count": 7,
   "metadata": {},
   "outputs": [
    {
     "data": {
      "text/plain": [
       "2"
      ]
     },
     "execution_count": 7,
     "metadata": {},
     "output_type": "execute_result"
    }
   ],
   "source": []
  },
  {
   "cell_type": "code",
   "execution_count": 19,
   "metadata": {},
   "outputs": [
    {
     "name": "stdout",
     "output_type": "stream",
     "text": [
      "(\"Substring 'let it':\", 11)\n",
      "(\"Substring 'small ':\", -1)\n",
      "Contains substring 'be,'\n"
     ]
    }
   ],
   "source": []
  },
  {
   "cell_type": "code",
   "execution_count": null,
   "metadata": {},
   "outputs": [],
   "source": []
  }
 ],
 "metadata": {
  "kernelspec": {
   "display_name": "Python 2",
   "language": "python",
   "name": "python2"
  },
  "language_info": {
   "codemirror_mode": {
    "name": "ipython",
    "version": 2
   },
   "file_extension": ".py",
   "mimetype": "text/x-python",
   "name": "python",
   "nbconvert_exporter": "python",
   "pygments_lexer": "ipython2",
   "version": "2.7.12"
  }
 },
 "nbformat": 4,
 "nbformat_minor": 2
}
