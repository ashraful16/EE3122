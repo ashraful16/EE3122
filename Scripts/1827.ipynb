{
 "cells": [
  {
   "cell_type": "code",
   "execution_count": 1,
   "metadata": {
    "scrolled": true
   },
   "outputs": [
    {
     "name": "stdout",
     "output_type": "stream",
     "text": [
      "6\n",
      "0\n",
      "[[2, 1, 1, 1, 1, 3], [1, 2, 1, 1, 3, 1], [1, 1, 2, 3, 1, 1], [1, 1, 3, 2, 1, 1], [1, 3, 1, 1, 2, 1], [3, 1, 1, 1, 1, 2]]\n",
      "[[2, 1, 1, 1, 1, 3], [1, 2, 2, 2, 2, 1], [1, 2, 3, 3, 2, 1], [1, 2, 3, 3, 2, 1], [1, 2, 2, 2, 2, 1], [3, 1, 1, 1, 1, 2]]\n",
      "  2  1  1  1  1  3\n",
      "  1  2  0  0  0  1\n",
      "  1  0  3  0  2  1\n",
      "  1  0  0  3  2  1\n",
      "  1  0  2  2  2  1\n",
      "  3  1  1  1  1  2\n",
      "\n",
      "\n"
     ]
    }
   ],
   "source": [
    "a=[]\n",
    "ine=int(input())\n",
    "while ine != 0:\n",
    "    a.append(ine)\n",
    "    ine=int(input())\n",
    "#print(a)\n",
    "for d in a:\n",
    "   \n",
    "    k=d\n",
    "    foo=1\n",
    "    y = [[foo for i in range(k)] for j in range(k)]\n",
    "    kk=len(y)\n",
    "    mm,pq=0,0\n",
    "    \n",
    "\n",
    "    #for ii in range(kk):\n",
    "     #   y[ii][ii]=2\n",
    "      #  y[ii][kk-1-ii]=3            \n",
    "    #print y\n",
    "    \n",
    "    if len(y)>2:\n",
    "        p=0\n",
    "        for ii in range(kk):\n",
    "            y[ii][ii]=2\n",
    "            if ii != kk-1-ii:\n",
    "                \n",
    "                y[ii][kk-1-ii]=3\n",
    "                \n",
    "        print y\n",
    "            \n",
    "                \n",
    "                \n",
    "        for kkk in range(kk,0,-1):\n",
    "            for i in range(pq,kkk):\n",
    "                y[mm][i],y[i][mm],y[kkk-1][i],y[i][kkk-1]=pq+1,pq+1,pq+1,pq+1\n",
    "            kk,mm,pq=len(y),mm+1,pq+1\n",
    "            y[0][0],y[kk-1][0],y[0][kk-1],y[kk-1][kk-1]=2,3,3,2\n",
    "            \n",
    "        print y\n",
    "        rm=round((kk-1)/3)\n",
    "        for ii in range(0,kk):\n",
    "            for jj in range(0,kk-ii):\n",
    "                if ii>0 and jj>0 and ii<kk-1 and kk-1 and ii!=jj and jj != kk-1-jj:\n",
    "                    y[ii][jj]=0\n",
    "        \n",
    "             #print y\n",
    "    i=0\n",
    "    for i in range(len(y)):\n",
    "        prt=\"\"\n",
    "        for j in range(len(y)-1):\n",
    "        #print(y[i][j],end=\" \")\n",
    "            k=\"%3d\"%y[i][j]\n",
    "            prt=prt+str(k)\n",
    "        k=\"%3d\"%y[i][len(y)-1]\n",
    "        prt=prt+str(k)\n",
    "        print(prt)\n",
    "    print(\"\\n\")\n"
   ]
  },
  {
   "cell_type": "code",
   "execution_count": null,
   "metadata": {},
   "outputs": [],
   "source": [
    "20000000003\n",
    "02000000030\n",
    "00200000300\n",
    "00011111000\n",
    "00011111000\n",
    "00011411000\n",
    "00011111000\n",
    "00011111000\n",
    "00300000200\n",
    "03000000020\n",
    "30000000002"
   ]
  },
  {
   "cell_type": "code",
   "execution_count": null,
   "metadata": {},
   "outputs": [],
   "source": [
    "# for integers\n",
    "print(round(10))\n",
    "\n",
    "# for floating point\n",
    "print(round(10.7))\n",
    "\n",
    "# even choice\n",
    "print(round(5.5))"
   ]
  },
  {
   "cell_type": "code",
   "execution_count": null,
   "metadata": {},
   "outputs": [],
   "source": [
    "kk=15\n",
    "rm=((kk-1)/3)\n",
    "rm=int(round(rm))\n",
    "print rm,type(rm)\n",
    "for ii in range(rm):\n",
    "    for jj in range(rm):\n",
    "        s=2"
   ]
  },
  {
   "cell_type": "code",
   "execution_count": null,
   "metadata": {},
   "outputs": [],
   "source": [
    "x=round(4.9)\n",
    "print \"%d\"%x"
   ]
  },
  {
   "cell_type": "code",
   "execution_count": null,
   "metadata": {},
   "outputs": [],
   "source": []
  }
 ],
 "metadata": {
  "kernelspec": {
   "display_name": "Python 2",
   "language": "python",
   "name": "python2"
  },
  "language_info": {
   "codemirror_mode": {
    "name": "ipython",
    "version": 2
   },
   "file_extension": ".py",
   "mimetype": "text/x-python",
   "name": "python",
   "nbconvert_exporter": "python",
   "pygments_lexer": "ipython2",
   "version": "2.7.12"
  }
 },
 "nbformat": 4,
 "nbformat_minor": 2
}
