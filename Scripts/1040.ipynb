{
 "cells": [
  {
   "cell_type": "code",
   "execution_count": 19,
   "metadata": {},
   "outputs": [
    {
     "name": "stdout",
     "output_type": "stream",
     "text": [
      "2.0 4.0 7.5 8.0 6.4\n",
      "['2.0', '4.0', '7.5', '8.0', '6.4']\n",
      "2.0 4.0 7.5 8.0\n"
     ]
    }
   ],
   "source": [
    "from math import *\n",
    "p1=raw_input()\n",
    "p1=p1.split(\" \")\n",
    "print p1\n",
    "x1,x2,x3,x4=(float(p1[0]),float(p1[1]),float(p1[2]),float(p1[3]))\n",
    "print x1,x2,x3,x4"
   ]
  },
  {
   "cell_type": "code",
   "execution_count": 13,
   "metadata": {},
   "outputs": [],
   "source": [
    "s=2*x1+3*x2+4*x3+x4\n",
    "av=s/(2+3+4+1)"
   ]
  },
  {
   "cell_type": "code",
   "execution_count": 14,
   "metadata": {},
   "outputs": [
    {
     "name": "stdout",
     "output_type": "stream",
     "text": [
      "Media: 7.3\n"
     ]
    }
   ],
   "source": [
    "print \"Media: %.1f\"%av"
   ]
  },
  {
   "cell_type": "code",
   "execution_count": null,
   "metadata": {},
   "outputs": [],
   "source": [
    "if av >7.0:\n",
    "    print \"Aluno aprovado.\"\n",
    "if av < 5.0:\n",
    "    print \"Aluno reprovado.\"\n",
    "if av<7 and av>4.99:\n",
    "    print \"Aluno em exame.\"\n",
    "    "
   ]
  },
  {
   "cell_type": "code",
   "execution_count": 25,
   "metadata": {},
   "outputs": [
    {
     "name": "stdout",
     "output_type": "stream",
     "text": [
      "Aluno reprovado.\n"
     ]
    }
   ],
   "source": [
    "\n",
    "av=4.9\n"
   ]
  },
  {
   "cell_type": "code",
   "execution_count": null,
   "metadata": {},
   "outputs": [],
   "source": []
  },
  {
   "cell_type": "code",
   "execution_count": 33,
   "metadata": {},
   "outputs": [
    {
     "name": "stdout",
     "output_type": "stream",
     "text": [
      "9.0 4.0 8.5 9.0\n",
      "Media: 7.3\n",
      "Aluno aprovado.\n"
     ]
    }
   ],
   "source": [
    "from math import *\n",
    "p1=raw_input()\n",
    "p1=p1.split(\" \")\n",
    "x1,x2,x3,x4=(float(p1[0]),float(p1[1]),float(p1[2]),float(p1[3]))\n",
    "s=2*x1+3*x2+4*x3+x4\n",
    "av=s/(2+3+4+1)\n",
    "print \"Media: %.1f\"%av\n",
    "if av >7.0:\n",
    "    print \"Aluno aprovado.\"\n",
    "if av < 5.0:\n",
    "    print \"Aluno reprovado.\"\n",
    "if av<7 and av>4.99:\n",
    "    print \"Aluno em exame.\"\n",
    "l=4\n",
    "\n",
    "if len(p1)>l:\n",
    "    x5=float(p1[l])\n",
    "    print \"Nota do exame: %.1f\"%x5\n",
    "    \n",
    "    av1=(av+x5)*0.5\n",
    "    \n",
    "    if av1 >4.99:\n",
    "        print \"Aluno aprovado.\"\n",
    "    if av1 <= 4.99:\n",
    "        print \"Aluno reprovado.\"\n",
    "    fav=(x5+av)*0.5\n",
    "    print \"Media final: %.1f\"%fav\n",
    "    \n",
    "\n",
    "    \n"
   ]
  },
  {
   "cell_type": "code",
   "execution_count": null,
   "metadata": {},
   "outputs": [],
   "source": [
    "from math import *\n",
    "p1=raw_input()\n",
    "p1=p1.split(\" \")\n",
    "x1,x2,x3,x4=(float(p1[0]),float(p1[1]),float(p1[2]),float(p1[3]))\n",
    "s=2*x1+3*x2+4*x3+x4\n",
    "av=s/(2+3+4+1)\n",
    "print \"Media: %.1f\"%av\n",
    "if av >7.0:\n",
    "    print \"Aluno aprovado.\"\n",
    "if av < 5.0:\n",
    "    print \"Aluno reprovado.\"\n",
    "    x5=float(p1[l])\n",
    "    print \"Nota do exame: %.1f\"%x5\n",
    "    \n",
    "    av1=(av+x5)*0.5\n",
    "    \n",
    "    if av1 >4.99:\n",
    "        print \"Aluno aprovado.\"\n",
    "    if av1 <= 4.99:\n",
    "        print \"Aluno reprovado.\"\n",
    "    fav=(x5+av)*0.5\n",
    "    print \"Media final: %.1f\"%fav\n",
    "if av<7 and av>4.99:\n",
    "    print \"Aluno em exame.\"\n",
    "\n",
    "    \n",
    "    \n",
    "\n",
    "    \n"
   ]
  },
  {
   "cell_type": "code",
   "execution_count": null,
   "metadata": {},
   "outputs": [],
   "source": [
    "\n",
    "Input Sample\tOutput Sample\n",
    "2.0 4.0 7.5 8.0\n",
    "6.4\n",
    "\n",
    "Media: 5.4\n",
    "Aluno em exame.\n",
    "Nota do exame: 6.4\n",
    "Aluno aprovado.\n",
    "Media final: 5.9\n",
    "\n",
    "2.0 6.5 4.0 9.0\n",
    "\n",
    "Media: 4.8\n",
    "Aluno reprovado.\n",
    "\n",
    "9.0 4.0 8.5 9.0\n",
    "\n",
    "Media: 7.3\n",
    "Aluno aprovado."
   ]
  },
  {
   "cell_type": "code",
   "execution_count": null,
   "metadata": {},
   "outputs": [],
   "source": [
    "f the average was 7.0 or more, print the message \"Aluno aprovado.\" (Approved Student). \n",
    "If the average was less than 5.0, print the message: \"Aluno reprovado.\" (Reproved Student). \n",
    "    If the average was between 5.0 and 6.9, including these,\n",
    "    the program must print the message \"Aluno em exame.\" (In exam student).\n",
    "\n",
    "In case of exam, read one more score. Print the message \"Nota do exame: \" (Exam score) \n",
    "followed by the typed score.\n",
    "\n",
    "Recalculate the average (sum the exam score with \n",
    "the previous calculated average and divide by 2) and print the message “Aluno aprovado.” (Approved student)\n",
    "in case of average 5.0 or more) or \"Aluno reprovado.\" (Reproved student) in case of average 4.9 or less.\n",
    "\n",
    "\n",
    "\n",
    "For these 2 cases (approved or reproved after the exam) print the message \"Media final: \" (Final average) \n",
    "followed by the final average for this student in the last line.\n",
    "\n",
    "\n",
    "\n"
   ]
  },
  {
   "cell_type": "code",
   "execution_count": 39,
   "metadata": {},
   "outputs": [
    {
     "name": "stdout",
     "output_type": "stream",
     "text": [
      "9.0 4.0 8.5 9.0 9.0 4.0 8.5 9.0\n",
      "Media: 7.3\n",
      "Aluno aprovado.\n",
      "Nota do exame: 9.0 4.0 8.5 9.0\n",
      "Aluno reprovado.\n",
      "Media final: 0.000000\n"
     ]
    }
   ],
   "source": [
    "from math import *\n",
    "p1=raw_input()\n",
    "p1=p1.split(\" \")\n",
    "x1,x2,x3,x4=(float(p1[0]),float(p1[1]),float(p1[2]),float(p1[3]))\n",
    "s=2*x1+3*x2+4*x3+x4\n",
    "av=s/(2+3+4+1)\n",
    "print \"Media: %.1f\"%av\n",
    "if av >7.0:\n",
    "    print \"Aluno aprovado.\"\n",
    "if av < 5.0:\n",
    "    print \"Aluno reprovado.\"\n",
    "if av<7 and av>4.99:\n",
    "    print \"Aluno em exame.\"\n",
    "l=4\n",
    "\n",
    "if len(p1)==5:\n",
    "    x5=float(p1[l])\n",
    "    print \"Nota do exame: %.1f\"%x5\n",
    "    \n",
    "    av1=(av+x5)*0.5\n",
    "    \n",
    "    if av1 >4.99:\n",
    "        print \"Aluno aprovado.\"\n",
    "    if av1 <= 4.99:\n",
    "        print \"Aluno reprovado.\"\n",
    "    fav=(x5+av)*0.5\n",
    "    print \"Media final: %.1f\"%fav\n",
    "    \n",
    "if len(p1)==6:\n",
    "    x5,x6=float(p1[l]),float(p1[l+1])\n",
    "    print \"Nota do exame: %.1f %.1f\" %(x5,x6)\n",
    "    \n",
    "    av1=(av+x5+x6)*(1/3)\n",
    "    \n",
    "    if av1 >4.99:\n",
    "        print \"Aluno aprovado.\"\n",
    "    if av1 <= 4.99:\n",
    "        print \"Aluno reprovado.\"\n",
    "    fav=(x5+av+x6)*(1/3)\n",
    "    print \"Media final: %.1f\"%fav  \n",
    "if len(p1)==7:\n",
    "    x5,x6,x7=float(p1[l]),float(p1[l+1]),float(p1[l+2])\n",
    "    print \"Nota do exame: %.1f %.1f %.1f\" %(x5,x6,x7)\n",
    "    \n",
    "    av1=(av+x5+x6+x7)*(1/4)\n",
    "    if av1 >4.99:\n",
    "        print \"Aluno aprovado.\"\n",
    "    if av1 <= 4.99:\n",
    "        print \"Aluno reprovado.\"\n",
    "    fav=(x5+av+x6+x7)*(1/4)\n",
    "    print \"Media final: %.1f\"%fav  \n",
    "    \n",
    "    \n",
    "if len(p1)==8:\n",
    "    x5,x6,x7,x8=float(p1[l]),float(p1[l+1]),float(p1[l+2]),float(p1[l+3])\n",
    "    print \"Nota do exame: %.1f %.1f %.1f %.1f\" %(x5,x6,x7,x8)\n",
    "    \n",
    "    av1=(av+x5+x6+x7+x8)*(1/6)\n",
    "    if av1 >4.99:\n",
    "        print \"Aluno aprovado.\"\n",
    "    if av1 <= 4.99:\n",
    "        print \"Aluno reprovado.\"\n",
    "    fav=(x5+av+x6+x7+x8)*(1/6)\n",
    "    print \"Media final: %1f\"%fav"
   ]
  },
  {
   "cell_type": "code",
   "execution_count": null,
   "metadata": {},
   "outputs": [],
   "source": []
  }
 ],
 "metadata": {
  "kernelspec": {
   "display_name": "Python 2",
   "language": "python",
   "name": "python2"
  },
  "language_info": {
   "codemirror_mode": {
    "name": "ipython",
    "version": 2
   },
   "file_extension": ".py",
   "mimetype": "text/x-python",
   "name": "python",
   "nbconvert_exporter": "python",
   "pygments_lexer": "ipython2",
   "version": "2.7.12"
  }
 },
 "nbformat": 4,
 "nbformat_minor": 2
}
