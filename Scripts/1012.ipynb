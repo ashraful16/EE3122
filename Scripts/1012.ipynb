{
 "cells": [
  {
   "cell_type": "code",
   "execution_count": 8,
   "metadata": {},
   "outputs": [
    {
     "name": "stdout",
     "output_type": "stream",
     "text": [
      "12.7 10.4 15.2\n",
      "TRIANGULO: 96.520\n",
      "CIRCULO: 725.833\n",
      "TRAPEZIO: 175.560\n",
      "QUADRADO: 108.160\n",
      "RETANGULO: 132.080\n"
     ]
    }
   ],
   "source": [
    "c=raw_input()\n",
    "c=c.split(\" \")\n",
    "#A=float(input())\n",
    "#B=float(input())\n",
    "#C=float(input())\n",
    "A,B,C=float(c[0]),float(c[1]),float(c[2])\n",
    "tr=0.5*A*C\n",
    "cc=3.14159*C*C\n",
    "t=0.5*C*(A+B)\n",
    "s=B*B\n",
    "r=A*B\n",
    "\n",
    "\n",
    "print \"TRIANGULO: %.3f\"%tr\n",
    "print \"CIRCULO: %.3f\"%cc\n",
    "print \"TRAPEZIO: %.3f\"%t\n",
    "print \"QUADRADO: %.3f\"%s\n",
    "print \"RETANGULO: %.3f\"%r"
   ]
  },
  {
   "cell_type": "code",
   "execution_count": null,
   "metadata": {},
   "outputs": [],
   "source": [
    "12.7 10.4 15.2\n",
    "\n",
    "TRIANGULO: 96.520\n",
    "CIRCULO: 725.833\n",
    "TRAPEZIO´: 175.560\n",
    "QUADRADO: 108.160\n",
    "RETANGULO: 132.080\n",
    "\n",
    "\n",
    "\n",
    "TRIANGULO: 7.800\n",
    "CIRCULO: 84.949\n",
    "TRAPEZIO: 18.200\n",
    "QUADRADO: 16.000\n",
    "RETANGULO: 12.000"
   ]
  },
  {
   "cell_type": "code",
   "execution_count": null,
   "metadata": {},
   "outputs": [],
   "source": [
    "c=raw_input().split(\" \")\n",
    "a=float(c[0])\n",
    "b=float(c[1])\n",
    "c=float(c[2])\n",
    "tr=.5*a*c\n",
    "c=3.14159*c*c\n",
    "t=.5*c*(a+b)\n",
    "s=b*b\n",
    "r=a*b\n",
    "\n",
    "\n",
    "print \"TRIANGULO: %.3f\"%tr\n",
    "print \"CIRCULO: %.3f\"%c\n",
    "print \"TRAPEZIO: %.3f\"%t\n",
    "print \"QUADRADO: %.3f\"%s\n",
    "print \"RETANGULO: %.3f\"%r"
   ]
  }
 ],
 "metadata": {
  "kernelspec": {
   "display_name": "Python 2",
   "language": "python",
   "name": "python2"
  },
  "language_info": {
   "codemirror_mode": {
    "name": "ipython",
    "version": 2
   },
   "file_extension": ".py",
   "mimetype": "text/x-python",
   "name": "python",
   "nbconvert_exporter": "python",
   "pygments_lexer": "ipython2",
   "version": "2.7.12"
  }
 },
 "nbformat": 4,
 "nbformat_minor": 2
}
