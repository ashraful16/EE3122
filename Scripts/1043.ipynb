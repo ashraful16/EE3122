{
 "cells": [
  {
   "cell_type": "code",
   "execution_count": 11,
   "metadata": {},
   "outputs": [
    {
     "name": "stdout",
     "output_type": "stream",
     "text": [
      "6 4 2.1\n",
      "Perimetro = 12.1\n"
     ]
    }
   ],
   "source": [
    "s=raw_input().split(\" \")\n",
    "a,b,c=float(s[0]),float(s[1]),float(s[2])\n",
    "if a+b > c and b+c >a and c+a>b :\n",
    "    print \"Perimetro = %.1f\"%(a+b+c)\n",
    "else:\n",
    "    print \"Area = %.1f\"%(0.5*(a+b)*c)\n"
   ]
  },
  {
   "cell_type": "code",
   "execution_count": null,
   "metadata": {},
   "outputs": [],
   "source": [
    "Input Sample\tOutput Sample\n",
    "6.0 4.0 2.0\n",
    "\n",
    "Area = 10.0\n",
    "\n",
    "6.0 4.0 2.1\n",
    "\n",
    "Perimetro = 12.1"
   ]
  }
 ],
 "metadata": {
  "kernelspec": {
   "display_name": "Python 2",
   "language": "python",
   "name": "python2"
  },
  "language_info": {
   "codemirror_mode": {
    "name": "ipython",
    "version": 2
   },
   "file_extension": ".py",
   "mimetype": "text/x-python",
   "name": "python",
   "nbconvert_exporter": "python",
   "pygments_lexer": "ipython2",
   "version": "2.7.12"
  }
 },
 "nbformat": 4,
 "nbformat_minor": 2
}
