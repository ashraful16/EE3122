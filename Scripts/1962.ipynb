{
 "cells": [
  {
   "cell_type": "code",
   "execution_count": null,
   "metadata": {},
   "outputs": [],
   "source": [
    "Input Sample\tOutput Sample\n",
    "3\n",
    "10000\n",
    "15\n",
    "2015\n",
    "\n",
    "7986 A.C.\n",
    "2000 D.C.\n",
    "1 A.C."
   ]
  },
  {
   "cell_type": "code",
   "execution_count": null,
   "metadata": {},
   "outputs": [
    {
     "name": "stdout",
     "output_type": "stream",
     "text": [
      "3\n",
      "7986\n",
      "5970 A.C.\n",
      "10000\n",
      "7984 A.C.\n"
     ]
    }
   ],
   "source": [
    "i=int(input())\n",
    "\n",
    "for ii in range(i):\n",
    "    c=int(input())\n",
    "    if c<=2014:\n",
    "        print(\"%d D.C.\"%(2015-c))\n",
    "    else:\n",
    "        print(\"%d A.C.\")%(c-2015-1)"
   ]
  },
  {
   "cell_type": "code",
   "execution_count": null,
   "metadata": {},
   "outputs": [],
   "source": []
  }
 ],
 "metadata": {
  "kernelspec": {
   "display_name": "Python 2",
   "language": "python",
   "name": "python2"
  },
  "language_info": {
   "codemirror_mode": {
    "name": "ipython",
    "version": 2
   },
   "file_extension": ".py",
   "mimetype": "text/x-python",
   "name": "python",
   "nbconvert_exporter": "python",
   "pygments_lexer": "ipython2",
   "version": "2.7.12"
  }
 },
 "nbformat": 4,
 "nbformat_minor": 2
}
