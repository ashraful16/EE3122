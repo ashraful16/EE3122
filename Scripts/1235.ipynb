{
 "cells": [
  {
   "cell_type": "code",
   "execution_count": null,
   "metadata": {},
   "outputs": [],
   "source": [
    "Sample Input\tSample Output\n",
    "5\n",
    "I ENIL SIHTHSIREBBIG S\n",
    "LEVELKAYAK\n",
    "H YPPAHSYADILO\n",
    "ABCDEFGHIJKLMNOPQRSTUVWXYZ\n",
    "VOD OWT SNEH HCNERF EGDIRTRAP A DNA SE\n",
    "\n",
    "THIS LINE IS GIBBERISH\n",
    "LEVELKAYAK\n",
    "HAPPY HOLIDAYS\n",
    "MLKJIHGFEDCBAZYXWVUTSRQPON\n",
    "FRENCH HENS TWO DOVES AND A PARTRIDGE"
   ]
  },
  {
   "cell_type": "code",
   "execution_count": 9,
   "metadata": {},
   "outputs": [
    {
     "name": "stdout",
     "output_type": "stream",
     "text": [
      "I ENIL SIHTHSIREBBIG S\n",
      "THIS LINE I\n",
      "THIS LINE IS GIBBERIS\n"
     ]
    }
   ],
   "source": [
    "c=raw_input()\n",
    "ot=''\n",
    "for i in range(0,len(c)/2):\n",
    "    ot=ot+str(c[len(c)/2-i-1])\n",
    "#print(ot)\n",
    "for i in range(len(c)-1,len(c)/2,-1):\n",
    "    ot=ot+str(c[i])\n",
    "print(ot)"
   ]
  },
  {
   "cell_type": "code",
   "execution_count": 4,
   "metadata": {},
   "outputs": [
    {
     "data": {
      "text/plain": [
       "2"
      ]
     },
     "execution_count": 4,
     "metadata": {},
     "output_type": "execute_result"
    }
   ],
   "source": [
    "5/2"
   ]
  },
  {
   "cell_type": "code",
   "execution_count": 4,
   "metadata": {},
   "outputs": [
    {
     "name": "stdout",
     "output_type": "stream",
     "text": [
      "4\n",
      "A CB\n",
      " ABC\n",
      "AB BAC\n",
      " BACAB\n",
      "I ENIL SIHTHSIREBBIG S\n",
      "THIS LINE IS GIBBERISH\n",
      "VAELEM E\n",
      "LEAVE ME\n"
     ]
    }
   ],
   "source": [
    "lo=int(input())\n",
    "\n",
    "for j in range(lo):\n",
    "    c=raw_input()\n",
    "    ot=''\n",
    "    for i in range(0,len(c)/2):\n",
    "        ot=ot+str(c[len(c)/2-i-1])\n",
    "#print(ot)\n",
    "    for i in range(len(c)-1,len(c)/2-1,-1):\n",
    "        ot=ot+str(c[i])\n",
    "    print(ot)\n",
    "    "
   ]
  },
  {
   "cell_type": "code",
   "execution_count": null,
   "metadata": {},
   "outputs": [],
   "source": [
    "4\n",
    "A CB\n",
    "AB BAC\n",
    "I ENIL SIHTHSIREBBIG S\n",
    "VAELEM E\n",
    "\n",
    " ABC\n",
    " BACAB\n",
    "THIS LINE IS GIBBERISH\n",
    "LEAVE ME\n"
   ]
  }
 ],
 "metadata": {
  "kernelspec": {
   "display_name": "Python 2",
   "language": "python",
   "name": "python2"
  },
  "language_info": {
   "codemirror_mode": {
    "name": "ipython",
    "version": 2
   },
   "file_extension": ".py",
   "mimetype": "text/x-python",
   "name": "python",
   "nbconvert_exporter": "python",
   "pygments_lexer": "ipython2",
   "version": "2.7.12"
  }
 },
 "nbformat": 4,
 "nbformat_minor": 2
}
