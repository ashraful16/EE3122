{
 "cells": [
  {
   "cell_type": "code",
   "execution_count": 4,
   "metadata": {},
   "outputs": [
    {
     "name": "stdout",
     "output_type": "stream",
     "text": [
      "ACGT\n",
      "ACGTA\n",
      "Resistente\n",
      "ATTA\n",
      "TA\n",
      "Resistente\n",
      "CCCGT\n",
      "TG\n",
      "Nao resistente\n",
      "AAATGAAA\n",
      "GT\n",
      "Nao resistente\n",
      "AAAAAAAAAAAAAAAAAAAAAAAAAAAAAAAAAAAAAAAAAAAAAAAAAAAAAAAAAAAAAAAAAAAAAAAAAAAAAAAAAAAAAAAAAAAAAAAAAAAA\n",
      "CA\n",
      "Nao resistente\n",
      "AAAAAAAAAAAAAAAAAAAAAAAAAAAAAAAAAAAAAAAAAAAAAAAAAAAAAAAAAAAAAAAAAAAAAAAAAAAAAAAAAAAAAAAAAAAAAAAAAAAA\n",
      "A\n",
      "Resistente\n",
      "\n"
     ]
    }
   ],
   "source": [
    "while True:\n",
    "    try:\n",
    "        a=input()\n",
    "        if a ==\"\":\n",
    "            break\n",
    "    \n",
    "        b=input()\n",
    "        \n",
    "        \n",
    "        if len(a)>len(b):\n",
    "            c,d=a,b\n",
    "        else:\n",
    "            c,d=b,a\n",
    "            \n",
    "        if b in a:\n",
    "            print(\"Resistente\")\n",
    "        else:\n",
    "            print(\"Nao resistente\")\n",
    "            \n",
    "    except:\n",
    "        break"
   ]
  },
  {
   "cell_type": "code",
   "execution_count": null,
   "metadata": {},
   "outputs": [],
   "source": [
    "Nao resistente\n",
    "Resistente\n",
    "Nao resistente\n",
    "Nao resistente\n",
    "Nao resistente\n",
    "Resistente\n"
   ]
  }
 ],
 "metadata": {
  "kernelspec": {
   "display_name": "Python 3",
   "language": "python",
   "name": "python3"
  },
  "language_info": {
   "codemirror_mode": {
    "name": "ipython",
    "version": 3
   },
   "file_extension": ".py",
   "mimetype": "text/x-python",
   "name": "python",
   "nbconvert_exporter": "python",
   "pygments_lexer": "ipython3",
   "version": "3.6.8"
  }
 },
 "nbformat": 4,
 "nbformat_minor": 2
}
