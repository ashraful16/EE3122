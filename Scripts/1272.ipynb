{
 "cells": [
  {
   "cell_type": "code",
   "execution_count": 20,
   "metadata": {},
   "outputs": [
    {
     "name": "stdout",
     "output_type": "stream",
     "text": [
      "compete·online·design·event·rating\n",
      "['compete\\xc2\\xb7online\\xc2\\xb7design\\xc2\\xb7event\\xc2\\xb7rating']\n",
      "c\n",
      "compete·online·design·event·rating\n"
     ]
    }
   ],
   "source": [
    "c=raw_input()\n",
    "c=str(c)\n",
    "d=c.split(\".\")\n",
    "print(d)\n",
    "re=\"\"\n",
    "for da in d:\n",
    "    if len(da)>0:\n",
    "        print(da[0])\n",
    "        re=re+str(da)\n",
    "        \n",
    "print(re)"
   ]
  },
  {
   "cell_type": "code",
   "execution_count": 28,
   "metadata": {},
   "outputs": [
    {
     "name": "stdout",
     "output_type": "stream",
     "text": [
      "sefw.fer\n",
      "[u'sefw', u'fer']\n",
      "('asa', 3, <type 'str'>, <type 'unicode'>)\n"
     ]
    }
   ],
   "source": [
    "import sys\n",
    "import io\n",
    "\n",
    "c=\"asa\"\n",
    "d=raw_input()\n",
    "d=d.decode()\n",
    "print(d.split(\".\"))\n",
    "print(c,len(c),type(c),type(d))"
   ]
  },
  {
   "cell_type": "code",
   "execution_count": 41,
   "metadata": {},
   "outputs": [
    {
     "name": "stdout",
     "output_type": "stream",
     "text": [
      "compete·online·design·event·rating\n",
      "c\n"
     ]
    }
   ],
   "source": [
    "import sys\n",
    "import io\n",
    "\n",
    "\n",
    "\n",
    "\n",
    "d=raw_input()\n",
    "\n",
    "#d=d.decode()\n",
    "#d=str(d)\n",
    "d=d.split(\".\")\n",
    "\n",
    "\n",
    "\n",
    "\n",
    "re=\"\"\n",
    "for da in d:\n",
    "    if len(da)>0:\n",
    "        re=re+str(da[0])\n",
    "        \n",
    "\n",
    "\n",
    "        \n",
    "print(re)\n",
    "        \n",
    "        \n"
   ]
  },
  {
   "cell_type": "code",
   "execution_count": 34,
   "metadata": {},
   "outputs": [
    {
     "name": "stdout",
     "output_type": "stream",
     "text": [
      "w\n"
     ]
    }
   ],
   "source": [
    "4\n",
    "compete·online·design·event·rating\n",
    "··u····r·i··o····n·l··i····n··e···\n",
    "·\n",
    "round··elimination·during··onsite··contest"
   ]
  },
  {
   "cell_type": "code",
   "execution_count": 66,
   "metadata": {},
   "outputs": [
    {
     "name": "stdout",
     "output_type": "stream",
     "text": [
      "round··elimination·during··onsite··contest\n",
      "('\\xb7', 183)\n",
      "('\\xc2', 194)\n",
      "('\\xb7', 183)\n",
      "('e', 101)\n",
      "('\\xb7', 183)\n",
      "('d', 100)\n",
      "('\\xb7', 183)\n",
      "('\\xc2', 194)\n",
      "('\\xb7', 183)\n",
      "('o', 111)\n",
      "('\\xb7', 183)\n",
      "('\\xc2', 194)\n",
      "('\\xb7', 183)\n",
      "('c', 99)\n",
      "r�·e�d�·o�·c\n"
     ]
    }
   ],
   "source": [
    "c=raw_input()\n",
    "\n",
    "re=''\n",
    "if ord(c[0]) !=46:\n",
    "    re=re+str(c[0])\n",
    "\n",
    "k=False\n",
    "for d in c:\n",
    "    #print(d,ord(d))\n",
    "    \n",
    "    \n",
    "    if k==True:\n",
    "        if len(d)==1 and d!='.':\n",
    "            print(d,ord(d))\n",
    "            re=re+str(d)\n",
    "        k=False\n",
    "        \n",
    "    if ord(d)==46 or ord(d)==194 or ord(d)==183:\n",
    "        k=True\n",
    "\n",
    "print(re)\n",
    "#print(re[::2])"
   ]
  },
  {
   "cell_type": "code",
   "execution_count": 67,
   "metadata": {},
   "outputs": [
    {
     "ename": "SyntaxError",
     "evalue": "invalid syntax (<ipython-input-67-60e395af0025>, line 2)",
     "output_type": "error",
     "traceback": [
      "\u001b[0;36m  File \u001b[0;32m\"<ipython-input-67-60e395af0025>\"\u001b[0;36m, line \u001b[0;32m2\u001b[0m\n\u001b[0;31m    compete·online·design·event·rating\u001b[0m\n\u001b[0m           ^\u001b[0m\n\u001b[0;31mSyntaxError\u001b[0m\u001b[0;31m:\u001b[0m invalid syntax\n"
     ]
    }
   ],
   "source": [
    "4\n",
    "compete·online·design·event·rating\n",
    "··u····r·i··o····n·l··i····n··e···\n",
    "·\n",
    "round··elimination·during··onsite··contest\n",
    "\n",
    "coder\n",
    "urionline\n",
    "\n",
    "redoc\n",
    "\n"
   ]
  },
  {
   "cell_type": "code",
   "execution_count": 63,
   "metadata": {},
   "outputs": [
    {
     "name": "stdout",
     "output_type": "stream",
     "text": [
      "('.', '\\xc2', '\\xb7')\n"
     ]
    }
   ],
   "source": [
    "print(chr(46),chr(194),chr(183))"
   ]
  },
  {
   "cell_type": "code",
   "execution_count": 71,
   "metadata": {},
   "outputs": [
    {
     "name": "stdout",
     "output_type": "stream",
     "text": [
      " \n",
      " \n"
     ]
    }
   ],
   "source": [
    "c=raw_input()\n",
    "\n",
    "re=''\n",
    "if ord(c[0]) !=46:\n",
    "    re=re+str(c[0])\n",
    "\n",
    "k=False\n",
    "for d in c:\n",
    "    #print(d,ord(d))\n",
    "    \n",
    "    \n",
    "    if k==True:\n",
    "        if ord(d)!=46 and ord(d)!=194 and ord(d)!=183:\n",
    "            re=re+str(d)\n",
    "        k=False\n",
    "        \n",
    "    if ord(d)==46 or ord(d)==194 or ord(d)==183:\n",
    "        k=True\n",
    "\n",
    "print(re)\n",
    "#print(re[::2])"
   ]
  },
  {
   "cell_type": "code",
   "execution_count": 7,
   "metadata": {},
   "outputs": [
    {
     "name": "stdout",
     "output_type": "stream",
     "text": [
      "5\n",
      " little    old    lad \n",
      "lol\n",
      "  o\n",
      "o\n",
      "h  o \n",
      "ho\n",
      "xyz dcba\n",
      "xd\n",
      "  \n",
      "\n"
     ]
    }
   ],
   "source": [
    "fr=int(input())\n",
    "\n",
    "for i in range(fr):\n",
    "    \n",
    "    c=raw_input()\n",
    "\n",
    "    re=''\n",
    "    d=c[0]\n",
    "    if ord(d)!=46 and ord(d)!=194 and ord(d)!=183 and ord(d)!=32:\n",
    "        re=re+str(c[0])\n",
    "\n",
    "    k=False\n",
    "    for d in c:\n",
    "        #print(d,ord(d))\n",
    "    \n",
    "    \n",
    "        if k==True:\n",
    "            if ord(d)!=46 and ord(d)!=194 and ord(d)!=183 and ord(d)!=32:\n",
    "                re=re+str(d)\n",
    "            k=False\n",
    "        \n",
    "        if ord(d)==46 or ord(d)==194 or ord(d)==183 or d==' ':\n",
    "            k=True\n",
    "        #print(k)\n",
    "    print(re)\n",
    "    "
   ]
  },
  {
   "cell_type": "code",
   "execution_count": null,
   "metadata": {},
   "outputs": [],
   "source": [
    "8\n",
    "teachers are providing information on certain adds\n",
    "   osh nlnl  lnln iolln nolelosh   eln \n",
    "    \n",
    " little    old    lad    \n",
    "  o \n",
    "h  o \n",
    " \n",
    "xyz dcba"
   ]
  },
  {
   "cell_type": "code",
   "execution_count": 84,
   "metadata": {},
   "outputs": [
    {
     "name": "stdout",
     "output_type": "stream",
     "text": [
      "32\n"
     ]
    }
   ],
   "source": [
    "print(ord(' '))"
   ]
  },
  {
   "cell_type": "code",
   "execution_count": null,
   "metadata": {},
   "outputs": [],
   "source": []
  }
 ],
 "metadata": {
  "kernelspec": {
   "display_name": "Python 2",
   "language": "python",
   "name": "python2"
  },
  "language_info": {
   "codemirror_mode": {
    "name": "ipython",
    "version": 2
   },
   "file_extension": ".py",
   "mimetype": "text/x-python",
   "name": "python",
   "nbconvert_exporter": "python",
   "pygments_lexer": "ipython2",
   "version": "2.7.12"
  }
 },
 "nbformat": 4,
 "nbformat_minor": 2
}
