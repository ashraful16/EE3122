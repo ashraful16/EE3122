{
 "cells": [
  {
   "cell_type": "code",
   "execution_count": 4,
   "metadata": {},
   "outputs": [
    {
     "name": "stdout",
     "output_type": "stream",
     "text": [
      "4\n",
      "abc-1234\n",
      "FAILURE\n",
      "a-1010\n",
      "FAILURE\n",
      "ABCD-1234\n",
      "FAILURE\n",
      "AIQ-2001\n",
      "MONDAY\n"
     ]
    }
   ],
   "source": [
    "j=int(raw_input())\n",
    "for i in range(j):\n",
    "    da=['FRIDAY','MONDAY','MONDAY','TUESDAY','TUESDAY','WEDNESDAY','WEDNESDAY','THURSDAY','THURSDAY','FRIDAY']\n",
    "    a=raw_input().split(\"-\")\n",
    "    \n",
    "    if len(a)==1:\n",
    "        k=False\n",
    "    elif len(a)==2:\n",
    "        if a[0].isupper()==True and a[1].isdigit()==True and len(a[0])==3 and len(a[1])==4:\n",
    "            k=True\n",
    "        else:\n",
    "            k=False\n",
    "            \n",
    "    if k==True:\n",
    "        p=int(a[1][len(a[1])-1])\n",
    "        print(da[p])\n",
    "        \n",
    "    else:\n",
    "        print(\"FAILURE\")\n",
    "        \n",
    "    \n",
    "    "
   ]
  },
  {
   "cell_type": "code",
   "execution_count": null,
   "metadata": {},
   "outputs": [],
   "source": [
    "\n",
    "4\n",
    "abc-1234\n",
    "a-1010\n",
    "ABCD-1234\n",
    "AIQ-2001\n",
    "\n",
    "FAILURE\n",
    "FAILURE\n",
    "FAILURE\n",
    "MONDAY"
   ]
  }
 ],
 "metadata": {
  "kernelspec": {
   "display_name": "Python 2",
   "language": "python",
   "name": "python2"
  },
  "language_info": {
   "codemirror_mode": {
    "name": "ipython",
    "version": 2
   },
   "file_extension": ".py",
   "mimetype": "text/x-python",
   "name": "python",
   "nbconvert_exporter": "python",
   "pygments_lexer": "ipython2",
   "version": "2.7.12"
  }
 },
 "nbformat": 4,
 "nbformat_minor": 2
}
