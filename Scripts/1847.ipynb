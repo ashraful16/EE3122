{
 "cells": [
  {
   "cell_type": "code",
   "execution_count": 30,
   "metadata": {},
   "outputs": [
    {
     "name": "stdout",
     "output_type": "stream",
     "text": [
      "2 4 6\n",
      ":)\n"
     ]
    }
   ],
   "source": [
    "inp=raw_input().split(\" \")\n",
    "a,b,c=int(inp[0]),int(inp[1]),int(inp[2])\n",
    "fl=\"\"\n",
    "if a-b>0 and (b-c<=0):\n",
    "    fl=\"h\"\n",
    "elif  a-b<0 and b-c>=0:\n",
    "    fl='s'\n",
    "elif a-b<0 and b-c<0 and c-b<b-a:\n",
    "    fl='s'\n",
    "elif a-b<0 and b-c<0 and c-b>=b-a:\n",
    "    fl='h'\n",
    "elif  a-b>0 and b-c>0 and b-c<a-b :\n",
    "    fl='h'\n",
    "elif  a-b>0 and b-c>0 and b-c>=a-b :\n",
    "    fl='s'\n",
    "elif a==b and b<c:\n",
    "    fl='h'\n",
    "elif a==b and b>c:\n",
    "    fl='s'\n",
    "#print fl\n",
    "\n",
    "if fl==\"s\":\n",
    "    print \":(\"\n",
    "else:\n",
    "    print \":)\""
   ]
  },
  {
   "cell_type": "code",
   "execution_count": null,
   "metadata": {},
   "outputs": [],
   "source": [
    "\n",
    "If the temperature decreased from the 1st to the 2nd day and from the 2nd to the 3rd, \n",
    "ut decreased from the 2nd to the 3rd at least what had decreased from the 1st to the 2nd,\n",
    "the people are sad (sixth figure).\n",
    "If the temperature remained constant from the 1st to the 2nd day,\n",
    "the people are happy if the temperature increased from the 2nd to the 3rd or sad otherwise \n",
    "(respectively, seventh and eighth figures)."
   ]
  },
  {
   "cell_type": "code",
   "execution_count": null,
   "metadata": {},
   "outputs": [],
   "source": []
  },
  {
   "cell_type": "code",
   "execution_count": 31,
   "metadata": {},
   "outputs": [
    {
     "name": "stdout",
     "output_type": "stream",
     "text": [
      "4 3 1\n",
      ":(\n"
     ]
    }
   ],
   "source": [
    "a, b, c = input().split()\n",
    "a = int(a)\n",
    "b = int(b)\n",
    "c = int(c)\n",
    "\n",
    "if(a > b):\n",
    "    if c > b:\n",
    "        print(':)')\n",
    "    else:\n",
    "        if(b-c < a-b):\n",
    "            print(':)')\n",
    "        else:\n",
    "            print(':(')\n",
    "            \n",
    "    \n",
    "elif(a < b):\n",
    "    if c < b:\n",
    "        print(':(')\n",
    "    else:\n",
    "        if(b-c > a-b):\n",
    "            print(':(')\n",
    "        else:\n",
    "            print(':)')\n",
    "    \n",
    "else:\n",
    "    if c > a:\n",
    "        print(':)')\n",
    "    else:\n",
    "        print(':(')"
   ]
  },
  {
   "cell_type": "code",
   "execution_count": null,
   "metadata": {},
   "outputs": [],
   "source": []
  }
 ],
 "metadata": {
  "kernelspec": {
   "display_name": "Python 2",
   "language": "python",
   "name": "python2"
  },
  "language_info": {
   "codemirror_mode": {
    "name": "ipython",
    "version": 2
   },
   "file_extension": ".py",
   "mimetype": "text/x-python",
   "name": "python",
   "nbconvert_exporter": "python",
   "pygments_lexer": "ipython2",
   "version": "2.7.12"
  }
 },
 "nbformat": 4,
 "nbformat_minor": 2
}
