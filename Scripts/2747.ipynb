{
 "cells": [
  {
   "cell_type": "code",
   "execution_count": 5,
   "metadata": {},
   "outputs": [
    {
     "name": "stdout",
     "output_type": "stream",
     "text": [
      "---------------------------------------\n",
      "\n",
      "\n",
      "|                                     |\n",
      "\n",
      "\n",
      "|                                     |\n",
      "\n",
      "\n",
      "|                                     |\n",
      "\n",
      "|                                     |\n",
      "\n",
      "\n",
      "---------------------------------------\n",
      "\n",
      "\n"
     ]
    }
   ],
   "source": [
    "print(\"---------------------------------------\")\n",
    "print(\"\\n\")\n",
    "print(\"|                                     |\")\n",
    "print(\"\\n\")\n",
    "print(\"|                                     |\")\n",
    "print(\"\\n\")\n",
    "print(\"|                                     |\\n\")\n",
    "\n",
    "print(\"|                                     |\")\n",
    "print(\"\\n\")\n",
    "print(\"---------------------------------------\")\n",
    "print(\"\\n\")"
   ]
  },
  {
   "cell_type": "code",
   "execution_count": 6,
   "metadata": {},
   "outputs": [
    {
     "name": "stdout",
     "output_type": "stream",
     "text": [
      "---------------------------------------\n",
      "\n",
      "|                                     |\n",
      "\n",
      "|                                     |\n",
      "\n",
      "|                                     |\n",
      "\n",
      "|                                     |\n",
      "\n",
      "|                                     |\n",
      "\n",
      "---------------------------------------\n",
      "\n"
     ]
    }
   ],
   "source": [
    "print(\"---------------------------------------\\n\")\n",
    "print(\"|                                     |\\n\")\n",
    "print(\"|                                     |\\n\")\n",
    "print(\"|                                     |\\n\")\n",
    "print(\"|                                     |\\n\")\n",
    "print(\"|                                     |\\n\")\n",
    "print(\"---------------------------------------\\n\")"
   ]
  },
  {
   "cell_type": "code",
   "execution_count": 11,
   "metadata": {},
   "outputs": [
    {
     "name": "stdout",
     "output_type": "stream",
     "text": [
      " - - - - - - - - - - - - - - - - - - - - - - - - - - - - - - - - - - - - - - -\n",
      "|                                                                           |\n",
      "|                                                                           |\n",
      "|                                                                           |\n",
      "|                                                                           |\n",
      "|                                                                           |\n",
      "- - - - - - - - - - - - - - - - - - - - - - - - - - - - - - - - - - - - - - -\n"
     ]
    }
   ],
   "source": [
    "for i in range(38):\n",
    "    print '-',\n",
    "print('-')\n",
    "    \n",
    "for i in range(5):\n",
    "    print '|', \n",
    "    for j in range(37):\n",
    "        print ' ',\n",
    "    print '|'\n",
    "    \n",
    "for i in range(38):\n",
    "    print '-', \n",
    "print '-'"
   ]
  },
  {
   "cell_type": "code",
   "execution_count": 12,
   "metadata": {},
   "outputs": [
    {
     "ename": "SyntaxError",
     "evalue": "invalid syntax (<ipython-input-12-3de06347c937>, line 2)",
     "output_type": "error",
     "traceback": [
      "\u001b[0;36m  File \u001b[0;32m\"<ipython-input-12-3de06347c937>\"\u001b[0;36m, line \u001b[0;32m2\u001b[0m\n\u001b[0;31m    print('-', end = \"\")\u001b[0m\n\u001b[0m                   ^\u001b[0m\n\u001b[0;31mSyntaxError\u001b[0m\u001b[0;31m:\u001b[0m invalid syntax\n"
     ]
    }
   ],
   "source": [
    "for i in range(38):\n",
    "    print('-', end = \"\")\n",
    "print('-')\n",
    "    \n",
    "for i in range(5):\n",
    "    print('|', end = \"\")\n",
    "    for j in range(37):\n",
    "        print(' ', end = \"\")\n",
    "    print('|')\n",
    "    \n",
    "for i in range(38):\n",
    "    print('-', end = \"\")\n",
    "print('-')"
   ]
  },
  {
   "cell_type": "code",
   "execution_count": null,
   "metadata": {},
   "outputs": [],
   "source": []
  }
 ],
 "metadata": {
  "kernelspec": {
   "display_name": "Python 2",
   "language": "python",
   "name": "python2"
  },
  "language_info": {
   "codemirror_mode": {
    "name": "ipython",
    "version": 2
   },
   "file_extension": ".py",
   "mimetype": "text/x-python",
   "name": "python",
   "nbconvert_exporter": "python",
   "pygments_lexer": "ipython2",
   "version": "2.7.12"
  }
 },
 "nbformat": 4,
 "nbformat_minor": 2
}
