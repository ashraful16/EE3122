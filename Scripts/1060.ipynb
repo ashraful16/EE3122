{
 "cells": [
  {
   "cell_type": "code",
   "execution_count": null,
   "metadata": {},
   "outputs": [],
   "source": [
    "ix numbers, positive and/or negative.\n",
    "\n",
    "Output\n",
    "Print a message with the total number of positive numbers.\n",
    "\n",
    "Input Sample\tOutput Sample\n",
    "7\n",
    "-5\n",
    "6\n",
    "-3.4\n",
    "4.6\n",
    "12"
   ]
  },
  {
   "cell_type": "code",
   "execution_count": 4,
   "metadata": {},
   "outputs": [
    {
     "name": "stdout",
     "output_type": "stream",
     "text": [
      "7\n",
      "-5\n",
      "-3.4\n",
      "4.6\n",
      "12\n",
      "6\n",
      "4 valores positivos\n"
     ]
    }
   ],
   "source": [
    "i=0\n",
    "fl=0\n",
    "while i <6:\n",
    "    c=float(raw_input())\n",
    "    if c >0:\n",
    "        fl+=1\n",
    "    i+=1\n",
    "\n",
    "print \"%d valores positivos\"%fl"
   ]
  },
  {
   "cell_type": "code",
   "execution_count": 3,
   "metadata": {},
   "outputs": [
    {
     "name": "stdout",
     "output_type": "stream",
     "text": [
      "4\n"
     ]
    }
   ],
   "source": [
    "print fl"
   ]
  },
  {
   "cell_type": "code",
   "execution_count": null,
   "metadata": {},
   "outputs": [],
   "source": []
  }
 ],
 "metadata": {
  "kernelspec": {
   "display_name": "Python 2",
   "language": "python",
   "name": "python2"
  },
  "language_info": {
   "codemirror_mode": {
    "name": "ipython",
    "version": 2
   },
   "file_extension": ".py",
   "mimetype": "text/x-python",
   "name": "python",
   "nbconvert_exporter": "python",
   "pygments_lexer": "ipython2",
   "version": "2.7.12"
  }
 },
 "nbformat": 4,
 "nbformat_minor": 2
}
