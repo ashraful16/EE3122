{
 "cells": [
  {
   "cell_type": "code",
   "execution_count": 13,
   "metadata": {},
   "outputs": [
    {
     "name": "stdout",
     "output_type": "stream",
     "text": [
      "2\n",
      "323\n",
      "15 leds\n",
      "23221\n",
      "22 leds\n"
     ]
    }
   ],
   "source": [
    "num=int(input())\n",
    "i=0\n",
    "for l in range(num):\n",
    "    n=int(input())\n",
    "    n=str(n)\n",
    "    led=0\n",
    "    for dis in n:\n",
    "        dis=int(dis)\n",
    "        if dis==0:\n",
    "            s=6\n",
    "        elif dis==1:\n",
    "            s=2\n",
    "        elif dis==2:\n",
    "            s=5\n",
    "        elif dis==3:\n",
    "            s=5\n",
    "        elif dis==4:\n",
    "            s=4\n",
    "        elif dis==5:\n",
    "            s=5\n",
    "        elif dis==6:\n",
    "            s=6\n",
    "        elif dis==7:\n",
    "            s=3\n",
    "        elif dis==8:\n",
    "            s=7\n",
    "        elif dis ==9:\n",
    "            s=6\n",
    "        led=led+s\n",
    "    print(\"%d leds\" %int(led))\n",
    "    #print(\"%d leds\"%led)\n",
    "    i+=1\n",
    "            \n",
    "            "
   ]
  },
  {
   "cell_type": "code",
   "execution_count": 12,
   "metadata": {},
   "outputs": [
    {
     "data": {
      "text/plain": [
       "1234567890"
      ]
     },
     "execution_count": 12,
     "metadata": {},
     "output_type": "execute_result"
    }
   ],
   "source": [
    "10\n",
    "1\n",
    "12\n",
    "123\n",
    "1234\n",
    "12345\n",
    "123456\n",
    "1234567\n",
    "12345678\n",
    "123456789\n",
    "1234567890\n"
   ]
  },
  {
   "cell_type": "code",
   "execution_count": null,
   "metadata": {},
   "outputs": [],
   "source": [
    "2 leds\n",
    "7 leds\n",
    "12 leds\n",
    "16 leds\n",
    "21 leds\n",
    "27 leds\n",
    "30 leds\n",
    "37 leds\n",
    "43 leds\n",
    "49 leds\n"
   ]
  }
 ],
 "metadata": {
  "kernelspec": {
   "display_name": "Python 2",
   "language": "python",
   "name": "python2"
  },
  "language_info": {
   "codemirror_mode": {
    "name": "ipython",
    "version": 2
   },
   "file_extension": ".py",
   "mimetype": "text/x-python",
   "name": "python",
   "nbconvert_exporter": "python",
   "pygments_lexer": "ipython2",
   "version": "2.7.12"
  }
 },
 "nbformat": 4,
 "nbformat_minor": 2
}
