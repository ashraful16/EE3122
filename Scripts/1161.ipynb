{
 "cells": [
  {
   "cell_type": "code",
   "execution_count": 15,
   "metadata": {},
   "outputs": [
    {
     "name": "stdout",
     "output_type": "stream",
     "text": [
      "20 20\n",
      "4865804016353280000\n"
     ]
    }
   ],
   "source": [
    "a,b=raw_input().split(\" \")\n",
    "\n",
    "a,b=int(a),int(b)\n",
    "\n",
    "if a>b:\n",
    "    a,b=a,b\n",
    "else:\n",
    "    a,b=b,a\n",
    "\n",
    "def fact(k):\n",
    "    if k ==0 or k==1:\n",
    "        return 1\n",
    "    elif k>0:\n",
    "        tm=k\n",
    "        er=k\n",
    "        while tm>1:\n",
    "            er*=tm-1\n",
    "            tm-=1\n",
    "            \n",
    "        return er\n",
    "    \n",
    "\n",
    "if a==b:\n",
    "    k=fact(a)\n",
    "    print(2*k)\n",
    "\n",
    "else:\n",
    "    #su=0\n",
    "    #for q in range(b,a):\n",
    "        #su+=fact(q)\n",
    "    su=fact(b)+fact(a)   \n",
    "    print(su)\n",
    "        \n",
    "    \n",
    "            \n",
    "            \n",
    "        "
   ]
  },
  {
   "cell_type": "code",
   "execution_count": 3,
   "metadata": {},
   "outputs": [
    {
     "name": "stdout",
     "output_type": "stream",
     "text": [
      "1\n",
      "1\n",
      "2\n",
      "6\n",
      "24\n",
      "120\n",
      "720\n",
      "5040\n",
      "40320\n",
      "362880\n"
     ]
    }
   ],
   "source": [
    "1 2\n",
    "5 0\n",
    "20 20"
   ]
  },
  {
   "cell_type": "code",
   "execution_count": null,
   "metadata": {},
   "outputs": [],
   "source": []
  },
  {
   "cell_type": "code",
   "execution_count": null,
   "metadata": {},
   "outputs": [],
   "source": []
  },
  {
   "cell_type": "code",
   "execution_count": null,
   "metadata": {},
   "outputs": [],
   "source": []
  },
  {
   "cell_type": "code",
   "execution_count": 18,
   "metadata": {},
   "outputs": [
    {
     "name": "stdout",
     "output_type": "stream",
     "text": [
      "4 4\n",
      "48\n",
      "0 4\n",
      "25\n",
      "0 2\n",
      "3\n",
      "\n"
     ]
    }
   ],
   "source": [
    "def fact(k):\n",
    "    if k ==0 or k==1:\n",
    "        return 1\n",
    "    elif k>0:\n",
    "        tm=k\n",
    "        er=k\n",
    "        while tm>1:\n",
    "            er*=tm-1\n",
    "            tm-=1\n",
    "            \n",
    "        return er\n",
    "    \n",
    "    \n",
    "\n",
    "while True:\n",
    "    try:\n",
    "        a,b=raw_input().split(\" \")\n",
    "\n",
    "        a,b=int(a),int(b)\n",
    "\n",
    "        if a>b:\n",
    "            a,b=a,b\n",
    "        else:\n",
    "            a,b=b,a\n",
    "\n",
    "        \n",
    "\n",
    "        if a==b:\n",
    "            k=fact(a)\n",
    "            print(2*k)\n",
    "\n",
    "        else:\n",
    "\n",
    "            su=fact(b)+fact(a)   \n",
    "            print(su)\n",
    "        \n",
    "    except:\n",
    "        break\n",
    "        "
   ]
  },
  {
   "cell_type": "code",
   "execution_count": null,
   "metadata": {},
   "outputs": [],
   "source": [
    "4 4\n",
    "0 0\n",
    "0 2"
   ]
  }
 ],
 "metadata": {
  "kernelspec": {
   "display_name": "Python 2",
   "language": "python",
   "name": "python2"
  },
  "language_info": {
   "codemirror_mode": {
    "name": "ipython",
    "version": 2
   },
   "file_extension": ".py",
   "mimetype": "text/x-python",
   "name": "python",
   "nbconvert_exporter": "python",
   "pygments_lexer": "ipython2",
   "version": "2.7.12"
  }
 },
 "nbformat": 4,
 "nbformat_minor": 2
}
