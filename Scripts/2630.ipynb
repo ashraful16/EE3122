{
 "cells": [
  {
   "cell_type": "code",
   "execution_count": 13,
   "metadata": {},
   "outputs": [
    {
     "name": "stdout",
     "output_type": "stream",
     "text": [
      "4\n",
      "min\n",
      "35 70 35\n",
      "Caso #1: 35\n",
      "max\n",
      "35 70 35\n",
      "Caso #2: 70\n",
      "mean\n",
      "10 74 181\n",
      "Caso #3: 88\n",
      "eye\n",
      "23 78 197\n",
      "Caso #4: 74\n"
     ]
    }
   ],
   "source": [
    "\n",
    "\n",
    "for i in range(int(input())):\n",
    "    a=raw_input()\n",
    "    b=raw_input().split(\" \")\n",
    "    b1,b2,b3=int(b[0]),int(b[1]),int(b[2])\n",
    "    \n",
    "    if a=='min':\n",
    "        print(\"Caso #%d: %d\"%(i+1,min([b1,b2,b3])))\n",
    "    elif a=='max':\n",
    "        print(\"Caso #%d: %d\"%(i+1,max([b1,b2,b3])))   \n",
    "    elif a=='mean':\n",
    "        k=(b1+b2+b3)/3\n",
    "        print(\"Caso #%d: %d\"%(i+1,int(k)))\n",
    "    else:\n",
    "        k=.3*b1+.59*b2+.11*b3\n",
    "        print(\"Caso #%d: %d\"%(i+1,int(k)))\n",
    "    "
   ]
  },
  {
   "cell_type": "code",
   "execution_count": 3,
   "metadata": {},
   "outputs": [
    {
     "data": {
      "text/plain": [
       "9"
      ]
     },
     "execution_count": 3,
     "metadata": {},
     "output_type": "execute_result"
    }
   ],
   "source": [
    "4\n",
    "min\n",
    "35 70 35\n",
    "max\n",
    "35 70 35\n",
    "mean\n",
    "10 74 181\n",
    "eye\n",
    "23 78 197\n",
    "\n",
    "\n",
    "Caso #1: 35\n",
    "Caso #2: 70\n",
    "Caso #3: 88\n",
    "Caso #4: 74\n"
   ]
  },
  {
   "cell_type": "code",
   "execution_count": null,
   "metadata": {},
   "outputs": [],
   "source": []
  }
 ],
 "metadata": {
  "kernelspec": {
   "display_name": "Python 2",
   "language": "python",
   "name": "python2"
  },
  "language_info": {
   "codemirror_mode": {
    "name": "ipython",
    "version": 2
   },
   "file_extension": ".py",
   "mimetype": "text/x-python",
   "name": "python",
   "nbconvert_exporter": "python",
   "pygments_lexer": "ipython2",
   "version": "2.7.12"
  }
 },
 "nbformat": 4,
 "nbformat_minor": 2
}
