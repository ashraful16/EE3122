{
 "cells": [
  {
   "cell_type": "code",
   "execution_count": 46,
   "metadata": {},
   "outputs": [
    {
     "name": "stdout",
     "output_type": "stream",
     "text": [
      "4248035245857302861304475122262852382232831183377907185400973044372526725256648804647567360\n",
      "L\n",
      "h\n",
      "b\n"
     ]
    }
   ],
   "source": [
    "fll=0\n",
    "ordi=0\n",
    "a = int(input())\n",
    "if (a%100!=0 and a%4==0) or  (a%400==0):\n",
    "    fll=1\n",
    "    print(\"L\")\n",
    "    ordi+=1\n",
    "    \n",
    "if a%15==0 :\n",
    "    print('h')\n",
    "    ordi+=1\n",
    "    \n",
    "if fll==1 and a%55==0:\n",
    "    print('b')\n",
    "    ordi+=1\n",
    "if ordi==0:\n",
    "    print('0')"
   ]
  },
  {
   "cell_type": "code",
   "execution_count": 58,
   "metadata": {},
   "outputs": [
    {
     "name": "stdout",
     "output_type": "stream",
     "text": [
      "3\n",
      "This is an ordinary year.\n",
      "34\n",
      "\n",
      "This is an ordinary year.\n",
      "34\n",
      "\n",
      "This is an ordinary year.\n",
      "\n"
     ]
    }
   ],
   "source": [
    "\n",
    "fp=0\n",
    "while True:\n",
    "    try:\n",
    "        a = int(input())\n",
    "        if fp!=0:\n",
    "            print('')\n",
    "        fp+=1\n",
    "        fll=0\n",
    "        ordi=0\n",
    "        \n",
    "        if (a%100!=0 and a%4==0) or  (a%400==0):\n",
    "            fll=1\n",
    "            print(\"This is leap year.\")\n",
    "            ordi+=1\n",
    "\n",
    "        if a%15==0 :\n",
    "            print('This is huluculu festival year.')\n",
    "            ordi+=1\n",
    "\n",
    "        if fll==1 and a%55==0:\n",
    "            print('This is bulukulu festival year.')\n",
    "            ordi+=1\n",
    "        if ordi==0:\n",
    "            print('This is an ordinary year.')\n",
    "#         print('')\n",
    "    except:\n",
    "        break"
   ]
  },
  {
   "cell_type": "code",
   "execution_count": null,
   "metadata": {},
   "outputs": [],
   "source": []
  },
  {
   "cell_type": "code",
   "execution_count": null,
   "metadata": {},
   "outputs": [],
   "source": []
  }
 ],
 "metadata": {
  "kernelspec": {
   "display_name": "Python 3",
   "language": "python",
   "name": "python3"
  },
  "language_info": {
   "codemirror_mode": {
    "name": "ipython",
    "version": 3
   },
   "file_extension": ".py",
   "mimetype": "text/x-python",
   "name": "python",
   "nbconvert_exporter": "python",
   "pygments_lexer": "ipython3",
   "version": "3.7.4"
  }
 },
 "nbformat": 4,
 "nbformat_minor": 4
}
