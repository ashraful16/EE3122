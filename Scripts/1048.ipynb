{
 "cells": [
  {
   "cell_type": "code",
   "execution_count": null,
   "metadata": {},
   "outputs": [],
   "source": [
    "The company ABC decided to give a salary increase to its employees, according to the following table:\n",
    "\n",
    "\n",
    "    \n",
    "    \n",
    "    \n",
    "    \n",
    "Salary\tReadjustment Rate\n",
    "0 - 400.00\n",
    "400.01 - 800.00\n",
    "800.01 - 1200.00\n",
    "1200.01 - 2000.00\n",
    "Above 2000.00\n",
    "\n",
    "15%\n",
    "12%\n",
    "10%\n",
    "7%\n",
    "4%\n",
    "Read the employee's salary, calculate and print the new employee's \n",
    "salary, as well the money earned and the increase percentual obtained \n",
    "by the employee, with corresponding messages in Portuguese, as the below example.\n"
   ]
  },
  {
   "cell_type": "code",
   "execution_count": 4,
   "metadata": {},
   "outputs": [
    {
     "name": "stdout",
     "output_type": "stream",
     "text": [
      "400\n",
      "400.0\n"
     ]
    }
   ],
   "source": [
    "sa=float(input())\n"
   ]
  },
  {
   "cell_type": "code",
   "execution_count": 10,
   "metadata": {},
   "outputs": [
    {
     "name": "stdout",
     "output_type": "stream",
     "text": [
      "2000.00\n",
      "Novo salario: 2140.00\n",
      "Reajuste ganho: 140.00\n",
      "Em percentual: 7 %\n"
     ]
    }
   ],
   "source": [
    "sa=float(input())\n",
    "\n",
    "\n",
    "if sa >= 0 and 400.00 >= sa :\n",
    "    p=15\n",
    "elif sa >=400.01 and 800.00>=sa:\n",
    "    p=12\n",
    "elif sa >=800.01 and 1200.00>=sa:\n",
    "    p=10\n",
    "elif sa >=1200.01 and 2000.00>=sa:\n",
    "    p=7\n",
    "elif sa >2000.00:\n",
    "    p=4\n",
    "\n",
    "inc=sa*p* .01\n",
    "tot=inc+sa\n",
    "print \"Novo salario: %.2f\"%tot\n",
    "print \"Reajuste ganho: %.2f\"%inc\n",
    "print \"Em percentual: %d %%\"%p\n"
   ]
  },
  {
   "cell_type": "code",
   "execution_count": null,
   "metadata": {},
   "outputs": [],
   "source": [
    "\n",
    "Input Sample\tOutput Sample\n",
    "400.00\n",
    "\n",
    "Novo salario: 460.00\n",
    "Reajuste ganho: 60.00\n",
    "Em percentual: 15 %\n",
    "\n",
    "800.01\n",
    "\n",
    "Novo salario: 880.01\n",
    "Reajuste ganho: 80.00\n",
    "Em percentual: 10 %\n",
    "\n",
    "2000.00\n",
    "\n",
    "Novo salario: 2140.00\n",
    "Reajuste ganho: 140.00\n",
    "Em percentual: 7 %"
   ]
  }
 ],
 "metadata": {
  "kernelspec": {
   "display_name": "Python 2",
   "language": "python",
   "name": "python2"
  },
  "language_info": {
   "codemirror_mode": {
    "name": "ipython",
    "version": 2
   },
   "file_extension": ".py",
   "mimetype": "text/x-python",
   "name": "python",
   "nbconvert_exporter": "python",
   "pygments_lexer": "ipython2",
   "version": "2.7.12"
  }
 },
 "nbformat": 4,
 "nbformat_minor": 2
}
