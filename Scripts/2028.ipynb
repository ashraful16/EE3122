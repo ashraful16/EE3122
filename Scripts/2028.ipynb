{
 "cells": [
  {
   "cell_type": "code",
   "execution_count": 17,
   "metadata": {},
   "outputs": [
    {
     "name": "stdout",
     "output_type": "stream",
     "text": [
      "3\n",
      "Caso 1: 7 numeros\n",
      "0 1 2 2 3 3 3\n",
      "\n",
      "4\n",
      "Caso 2: 11 numeros\n",
      "0 1 2 2 3 3 3 4 4 4 4\n",
      "\n",
      "\n"
     ]
    }
   ],
   "source": [
    "k=0\n",
    "while True:\n",
    "    \n",
    "    try:\n",
    "        \n",
    "        a=int(input())\n",
    "        s=\"0 \"\n",
    "        fl=1\n",
    "        for i in range(a+1):\n",
    "            for j in range(1,i+1):\n",
    "                s=s+str(i)+str(\" \")\n",
    "                fl+=1\n",
    "        \n",
    "        k+=1\n",
    "        lp=k\n",
    "        if fl ==1:\n",
    "            \n",
    "            print(\"Caso %d: %d numero\"%(lp,fl))\n",
    "            print(s.strip())\n",
    "        else:\n",
    "            print(\"Caso %d: %d numeros\"%(lp,fl))\n",
    "            print(s.strip())\n",
    "        \n",
    "        print(\"\")\n",
    "    except:\n",
    "        break"
   ]
  },
  {
   "cell_type": "code",
   "execution_count": null,
   "metadata": {},
   "outputs": [],
   "source": []
  }
 ],
 "metadata": {
  "kernelspec": {
   "display_name": "Python 2",
   "language": "python",
   "name": "python2"
  },
  "language_info": {
   "codemirror_mode": {
    "name": "ipython",
    "version": 2
   },
   "file_extension": ".py",
   "mimetype": "text/x-python",
   "name": "python",
   "nbconvert_exporter": "python",
   "pygments_lexer": "ipython2",
   "version": "2.7.12"
  }
 },
 "nbformat": 4,
 "nbformat_minor": 2
}
