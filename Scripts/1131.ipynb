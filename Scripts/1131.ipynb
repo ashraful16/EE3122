{
 "cells": [
  {
   "cell_type": "code",
   "execution_count": null,
   "metadata": {},
   "outputs": [],
   "source": [
    "The Federação Gaúcha de Futebol invited you to write a program to present a statistical result of several GRENAIS. Write a program that read the number of goals scored by Inter and the number of goals scored by Gremio in a GRENAL. Write the message \"Novo grenal (1-sim 2-nao)\" and request a response. If the answer is 1, two new numbers must be read (another input case) asking the number of goals scored by the teams in a new departure, otherwise the program must be finished, printing:\n",
    "\n",
    "- How many GRENAIS were part of the statistics.\n",
    "- The number of victories of Inter.\n",
    "- The number of victories of Gremio.\n",
    "- The number of Draws.\n",
    "- A message indicating the team that won\n",
    "the largest number of GRENAIS (or the message: \"Não houve vencedor\" \n",
    "    if both team won the same quantity of GRENAIS).\n",
    "\n",
    "Input\n",
    "The input contains two integer values​​, corresponding to the goals scored by both teams. Then there is an integer (1 or 2), corresponding to the repetition of the algorithm.\n",
    "\n",
    "Output\n",
    "After each reading of the goals it must be printed the message \"Novo grenal (1-sim 2-nao)\". When the program is finished, the program must print the statistics as the example below.\n",
    "\n",
    "Input Sample\tOutput Sample\n",
    "3 2\n",
    "1\n",
    "2 3\n",
    "1\n",
    "3 1\n",
    "2\n",
    "\n",
    "Novo grenal (1-sim 2-nao)\n",
    "Novo grenal (1-sim 2-nao)\n",
    "Novo grenal (1-sim 2-nao)\n",
    "3 grenais\n",
    "Inter:2\n",
    "Gremio:1\n",
    "Empates:0\n",
    "Inter venceu mais"
   ]
  },
  {
   "cell_type": "code",
   "execution_count": null,
   "metadata": {},
   "outputs": [],
   "source": []
  },
  {
   "cell_type": "code",
   "execution_count": 6,
   "metadata": {},
   "outputs": [
    {
     "name": "stdout",
     "output_type": "stream",
     "text": [
      "1 4\n",
      "Novo grenal (1-sim 2-nao)\n",
      "1\n",
      "2 1\n",
      "Novo grenal (1-sim 2-nao)\n",
      "1\n",
      "9 9\n",
      "Novo grenal (1-sim 2-nao)\n",
      "1\n",
      "1 1\n",
      "Novo grenal (1-sim 2-nao)\n",
      "2\n",
      "4 grenais\n",
      "Inter:1\n",
      "Germio:1\n",
      "Empates:2\n",
      "Não houve vencedor\n"
     ]
    }
   ],
   "source": [
    "c=True\n",
    "intr,ger,dr=0,0,0\n",
    "while c==True:\n",
    "    \n",
    "    da=raw_input()\n",
    "    da=da.split(\" \")\n",
    "    g1,g2=int(da[0]),int(da[1])\n",
    "    if g1>g2:\n",
    "        intr+=1\n",
    "    elif g1==g2:\n",
    "        dr+=1\n",
    "    else:\n",
    "        ger+=1\n",
    "    cnd=int(input(\"Novo grenal (1-sim 2-nao)\\n\"))\n",
    "    if cnd==1:\n",
    "        c=True\n",
    "    else:\n",
    "        c=False\n",
    "print \"%d grenais\"%(intr+ger+dr)      \n",
    "print \"Inter:%d\"%intr\n",
    "print \"Germio:%d\"%ger\n",
    "print \"Empates:%d\"%dr\n",
    "if intr> ger:\n",
    "    print \"Inter venceu mais\"\n",
    "elif intr==ger:\n",
    "    print \"Nao houve vencedor\"\n",
    "else:\n",
    "    print \"Germio venceu mais\"\n",
    "\n",
    "    \n"
   ]
  },
  {
   "cell_type": "code",
   "execution_count": null,
   "metadata": {},
   "outputs": [],
   "source": [
    "1 4\n",
    "1\n",
    "2 1\n",
    "1\n",
    "9 9\n",
    "1\n",
    "1 1\n",
    "2\n",
    "\n",
    "\n",
    "\n",
    "Novo grenal (1-sim 2-nao)\n",
    "Novo grenal (1-sim 2-nao)\n",
    "Novo grenal (1-sim 2-nao)\n",
    "Novo grenal (1-sim 2-nao)\n",
    "4 grenais\n",
    "Inter:1\n",
    "Gremio:1\n",
    "Empates:2\n",
    "Nao houve vencedor\n"
   ]
  },
  {
   "cell_type": "code",
   "execution_count": null,
   "metadata": {},
   "outputs": [],
   "source": []
  },
  {
   "cell_type": "code",
   "execution_count": 9,
   "metadata": {},
   "outputs": [
    {
     "name": "stdout",
     "output_type": "stream",
     "text": [
      "3 2\n",
      "Novo grenal (1-sim 2-nao)\n",
      "1\n",
      "2 3\n",
      "Novo grenal (1-sim 2-nao)\n",
      "1\n",
      "3 1\n",
      "Novo grenal (1-sim 2-nao)\n",
      "2\n",
      "3 grenais\n",
      "Inter:2\n",
      "Germio:1\n",
      "Empates:0\n",
      "Inter venceu mais\n"
     ]
    }
   ],
   "source": []
  },
  {
   "cell_type": "code",
   "execution_count": 11,
   "metadata": {},
   "outputs": [
    {
     "name": "stdout",
     "output_type": "stream",
     "text": [
      "3 2\n",
      "Novo grenal (1-sim 2-nao)\n",
      "1\n",
      "2 3\n",
      "Novo grenal (1-sim 2-nao)\n",
      "1\n",
      "3 1\n",
      "Novo grenal (1-sim 2-nao)\n",
      "2\n",
      "3 grenais\n",
      "Inter:2\n",
      "Gremio:1\n",
      "Empates:0\n",
      "Inter venceu mais\n"
     ]
    }
   ],
   "source": [
    "c=True\n",
    "intr,ger,dr,su=0,0,0,0\n",
    "while c==True:\n",
    "    \n",
    "    da=raw_input()\n",
    "    da=da.split(\" \")\n",
    "    g1,g2=int(da[0]),int(da[1])\n",
    "    if g1>g2:\n",
    "        intr+=1\n",
    "    elif g1==g2:\n",
    "        dr+=1\n",
    "        \n",
    "    else:\n",
    "        ger+=1\n",
    "    su+=1\n",
    "    cnd=int(input(\"Novo grenal (1-sim 2-nao)\\n\"))\n",
    "    if cnd==1:\n",
    "        c=True\n",
    "    else:\n",
    "        c=False\n",
    "\n",
    "print \"%d grenais\" %su\n",
    "print \"Inter:%d\" %intr\n",
    "print \"Gremio:%d\" %ger\n",
    "print \"Empates:%d\" %dr\n",
    "\n",
    "if(intr == ger):\n",
    "    print \"Nao houve vencedor\"\n",
    "else:\n",
    "    if(intr> ger):\n",
    "        print \"Inter venceu mais\"\n",
    "    else:\n",
    "        print \"Gremio venceu mais\"\n"
   ]
  },
  {
   "cell_type": "code",
   "execution_count": null,
   "metadata": {},
   "outputs": [],
   "source": [
    "3 2\n",
    "1\n",
    "2 3\n",
    "1\n",
    "3 1\n",
    "2"
   ]
  },
  {
   "cell_type": "code",
   "execution_count": null,
   "metadata": {},
   "outputs": [],
   "source": [
    "\n"
   ]
  }
 ],
 "metadata": {
  "kernelspec": {
   "display_name": "Python 2",
   "language": "python",
   "name": "python2"
  },
  "language_info": {
   "codemirror_mode": {
    "name": "ipython",
    "version": 2
   },
   "file_extension": ".py",
   "mimetype": "text/x-python",
   "name": "python",
   "nbconvert_exporter": "python",
   "pygments_lexer": "ipython2",
   "version": "2.7.12"
  }
 },
 "nbformat": 4,
 "nbformat_minor": 2
}
