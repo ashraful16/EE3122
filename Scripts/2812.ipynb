{
 "cells": [
  {
   "cell_type": "code",
   "execution_count": 23,
   "metadata": {},
   "outputs": [
    {
     "name": "stdout",
     "output_type": "stream",
     "text": [
      "1\n",
      "2\n",
      "1 2 3 4\n",
      "3 1\n"
     ]
    }
   ],
   "source": [
    "for i in range(int(input())):\n",
    "    dummymym=int(input())\n",
    "    a=raw_input().split(\" \")\n",
    "    \n",
    "    b=[int(x) for x in a if int(x)%2 !=0]\n",
    "    \n",
    "    b.sort()\n",
    "    s=''\n",
    "    for i in range(len(b)/2):\n",
    "        s=s+str(b[len(b)-1-i])+str(\" \")+str(b[i])+str(\" \")\n",
    "    \n",
    "\n",
    "\n",
    "\n",
    "    if len(b)%2!=0:\n",
    "        s=s+str(b[(len(b)/2)+0])\n",
    "    \n",
    "    print(s.strip())\n",
    "        \n",
    "    "
   ]
  },
  {
   "cell_type": "code",
   "execution_count": null,
   "metadata": {},
   "outputs": [],
   "source": [
    "Input Sample\tOutput Sample\n",
    "3\n",
    "\n",
    "10\n",
    "\n",
    "1 2 3 4 5 6 7 8 9 10\n",
    "\n",
    "7\n",
    "\n",
    "2 4 6 8 10 12 14\n",
    "\n",
    "4\n",
    "\n",
    "9 7 77 63\n",
    "\n",
    "9 1 7 3 5\n",
    "\n",
    "\n",
    "77 7 63 9"
   ]
  },
  {
   "cell_type": "code",
   "execution_count": 18,
   "metadata": {},
   "outputs": [
    {
     "name": "stdout",
     "output_type": "stream",
     "text": [
      "17 1 15 3 11 5 9 7 \n"
     ]
    }
   ],
   "source": [
    "b=[1,3,5,7,9,11,15,17]\n",
    "s=''\n",
    "for i in range(len(b)/2):\n",
    "    s=s+str(b[len(b)-1-i])+str(\" \")+str(b[i])+str(\" \")\n",
    "    \n",
    "\n",
    "\n",
    "\n",
    "if len(b)%2!=0:\n",
    "    s=s+str(b[(len(b)/2)+0])\n",
    "    \n",
    "print(s)\n",
    "    \n",
    "    "
   ]
  },
  {
   "cell_type": "code",
   "execution_count": 11,
   "metadata": {},
   "outputs": [
    {
     "name": "stdout",
     "output_type": "stream",
     "text": [
      "([1, 3], [5, 7])\n"
     ]
    }
   ],
   "source": [
    "c=b[:len(b)/2]\n",
    "d=b[len(b)/2:]\n",
    "print(c,d)"
   ]
  },
  {
   "cell_type": "code",
   "execution_count": 10,
   "metadata": {},
   "outputs": [
    {
     "data": {
      "text/plain": [
       "4"
      ]
     },
     "execution_count": 10,
     "metadata": {},
     "output_type": "execute_result"
    }
   ],
   "source": [
    "(len(b))"
   ]
  },
  {
   "cell_type": "code",
   "execution_count": null,
   "metadata": {},
   "outputs": [],
   "source": []
  }
 ],
 "metadata": {
  "kernelspec": {
   "display_name": "Python 2",
   "language": "python",
   "name": "python2"
  },
  "language_info": {
   "codemirror_mode": {
    "name": "ipython",
    "version": 2
   },
   "file_extension": ".py",
   "mimetype": "text/x-python",
   "name": "python",
   "nbconvert_exporter": "python",
   "pygments_lexer": "ipython2",
   "version": "2.7.12"
  }
 },
 "nbformat": 4,
 "nbformat_minor": 2
}
