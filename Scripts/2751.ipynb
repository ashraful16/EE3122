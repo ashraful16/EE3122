{
 "cells": [
  {
   "cell_type": "code",
   "execution_count": null,
   "metadata": {},
   "outputs": [],
   "source": [
    "print 'Valores de b:'\n",
    "\n",
    "print '-------------'\n",
    "\n",
    "print '1) b = 7'\n",
    "\n",
    "print '2) b =                    7'\n",
    "\n",
    "print '3) b = 00000000000000000007'\n",
    "\n",
    "print '4) b = 7'\n",
    "\n",
    "print '5) b = 7%'\n",
    "\n",
    "print 'Valores de d:'\n",
    "\n",
    "print '-------------'\n",
    "\n",
    "print '1) d = 2.208000'\n",
    "\n",
    "print '2) d = 2'\n",
    "\n",
    "print '3) d = 2.2'\n",
    "\n",
    "print '4) d = 2.21'\n",
    "\n",
    "print '5) d = 2.208'\n",
    "\n",
    "print '6) d =                2.208'\n",
    "\n",
    "print '7) d = 0000000000000002.208'\n",
    "\n",
    "print '8) d = 2.208'\n",
    "\n",
    "print '9) d = 2.21%'"
   ]
  },
  {
   "cell_type": "code",
   "execution_count": 1,
   "metadata": {},
   "outputs": [
    {
     "name": "stdout",
     "output_type": "stream",
     "text": [
      "Valores de b:\n",
      "-------------\n",
      "1) b = 7\n",
      "2) b =                    7\n",
      "3) b = 00000000000000000007\n",
      "4) b = 7\n",
      "5) b = 7%\n",
      "Valores de d:\n",
      "-------------\n",
      "1) d = 2.208000\n",
      "2) d = 2\n",
      "3) d = 2.2\n",
      "4) d = 2.21\n",
      "5) d = 2.208\n",
      "6) d =                2.208\n",
      "7) d = 0000000000000002.208\n",
      "8) d = 2.208\n",
      "9) d = 2.21%\n"
     ]
    }
   ],
   "source": [
    "print 'Valores de b:'\n",
    "print '-------------'\n",
    "print '1) b = 7'\n",
    "print '2) b =                    7'\n",
    "print '3) b = 00000000000000000007'\n",
    "print '4) b = 7'                   \n",
    "print '5) b = 7%'\n",
    "print(\"\")\n",
    "print 'Valores de d:'\n",
    "print '-------------'\n",
    "print '1) d = 2.208000'\n",
    "print '2) d = 2'\n",
    "print '3) d = 2.2'\n",
    "print '4) d = 2.21'\n",
    "print '5) d = 2.208'\n",
    "print '6) d =                2.208'\n",
    "print '7) d = 0000000000000002.208'\n",
    "print '8) d = 2.208'               \n",
    "print '9) d = 2.21%'\n"
   ]
  },
  {
   "cell_type": "code",
   "execution_count": null,
   "metadata": {},
   "outputs": [],
   "source": [
    "a=15\n",
    "b=a/2;\n",
    "c=15.456;\n",
    "double d=float(c/7)\n",
    "\n",
    "print(\"Valores de b:\");\n",
    "print(\"-------------\");\n",
    "printf(\"1) b = %d\\n\",b);\n",
    "printf(\"2) b = %20d\\n\",b);\n",
    "printf(\"3) b = %020d\\n\",b);\n",
    "printf(\"4) b = %-20d\\n\",b);\n",
    "printf(\"5) b = %d%%\\n\",b);\n",
    "println();\n",
    "/* 12 */System.out.println(\"Valores de d:\");\n",
    "/* 13 */System.out.println(\"-------------\");\n",
    "/* 14 */System.out.printf(\"1) d = %f\\n\",d);\n",
    "/* 15 */System.out.printf(\"2) d = %.0f\\n\",d);\n",
    "/* 16 */System.out.printf(\"3) d = %.1f\\n\",d);\n",
    "/* 17 */System.out.printf(\"4) d = %.2f\\n\",d);\n",
    "/* 18 */System.out.printf(\"5) d = %.3f\\n\",d);\n",
    "/* 19 */System.out.printf(\"6) d = %20.3f\\n\",d);\n",
    "/* 20 */System.out.printf(\"7) d = %020.3f\\n\",d);\n",
    "/* 21 */System.out.printf(\"8) d = %-20.3f\\n\",d);\n",
    "/* 22 */System.out.printf(\"9) d = %.2f%%\\n\",d);"
   ]
  }
 ],
 "metadata": {
  "kernelspec": {
   "display_name": "Python 2",
   "language": "python",
   "name": "python2"
  },
  "language_info": {
   "codemirror_mode": {
    "name": "ipython",
    "version": 2
   },
   "file_extension": ".py",
   "mimetype": "text/x-python",
   "name": "python",
   "nbconvert_exporter": "python",
   "pygments_lexer": "ipython2",
   "version": "2.7.12"
  }
 },
 "nbformat": 4,
 "nbformat_minor": 2
}
