{
 "cells": [
  {
   "cell_type": "code",
   "execution_count": 1,
   "metadata": {},
   "outputs": [
    {
     "name": "stdout",
     "output_type": "stream",
     "text": [
      "10\n",
      "4\n",
      "32\n",
      "543\n",
      "3456\n",
      "654\n",
      "567\n",
      "87\n",
      "6789\n",
      "98\n",
      "2\n",
      "2\n",
      "4\n",
      "32\n",
      "98\n",
      "654\n",
      "3456\n",
      "6789\n",
      "567\n",
      "543\n",
      "87\n"
     ]
    }
   ],
   "source": [
    "inp=int(input())\n",
    "a=[]\n",
    "for i in range(inp):\n",
    "    c=int(input())\n",
    "    a.append(c)\n",
    "\n",
    "a.sort()\n",
    "\n",
    "ca=[]\n",
    "\n",
    "\n",
    "for d in a:\n",
    "    if int(d)%2==0:\n",
    "        print d\n",
    "    else:\n",
    "        ca.append(d)\n",
    "for d in range(len(ca)):\n",
    "    print ca[len(ca)-d-1]\n",
    "    \n",
    "    "
   ]
  },
  {
   "cell_type": "code",
   "execution_count": null,
   "metadata": {},
   "outputs": [],
   "source": [
    "10\n",
    "4\n",
    "32\n",
    "34\n",
    "543\n",
    "3456\n",
    "654\n",
    "567\n",
    "87\n",
    "6789\n",
    "98"
   ]
  },
  {
   "cell_type": "code",
   "execution_count": null,
   "metadata": {},
   "outputs": [],
   "source": [
    "4\n",
    "32\n",
    "34\n",
    "98\n",
    "654\n",
    "3456\n",
    "6789\n",
    "567\n",
    "543\n",
    "87"
   ]
  }
 ],
 "metadata": {
  "kernelspec": {
   "display_name": "Python 2",
   "language": "python",
   "name": "python2"
  },
  "language_info": {
   "codemirror_mode": {
    "name": "ipython",
    "version": 2
   },
   "file_extension": ".py",
   "mimetype": "text/x-python",
   "name": "python",
   "nbconvert_exporter": "python",
   "pygments_lexer": "ipython2",
   "version": "2.7.12"
  }
 },
 "nbformat": 4,
 "nbformat_minor": 2
}
