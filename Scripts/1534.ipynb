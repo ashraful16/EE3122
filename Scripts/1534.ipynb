{
 "cells": [
  {
   "cell_type": "code",
   "execution_count": 13,
   "metadata": {},
   "outputs": [
    {
     "name": "stdout",
     "output_type": "stream",
     "text": [
      "4\n",
      "1332\n",
      "3123\n",
      "3213\n",
      "2331\n"
     ]
    }
   ],
   "source": [
    "#from array import *\n",
    "\n",
    "\n",
    "inp=int(input())\n",
    "a=[]\n",
    "#print a\n",
    "ps1,ps2=0,inp-1\n",
    "c=True\n",
    "i=0\n",
    "while c==True:\n",
    "    le=inp\n",
    "    \n",
    "    if ps1 <=inp-1 and i>0:\n",
    "        \n",
    "        ps1,ps2=ps1+1,ps2-1\n",
    "    elif ps1 >=inp and i>0:\n",
    "        c=False\n",
    "        break\n",
    "    \n",
    "    for i in range(0,inp):\n",
    "        a.append(3)\n",
    "    #print a\n",
    "    \n",
    "    if ps1 <=inp-1:\n",
    "        \n",
    "        a[ps1],a[ps2]=1,2\n",
    "    else:\n",
    "        break\n",
    "    \n",
    "    \n",
    "    i+=1   \n",
    "    ed=\"\"\n",
    "    for d in a:\n",
    "        ed=ed+str(d)\n",
    "    print ed\n",
    "    a=[]\n",
    "    \n",
    "    "
   ]
  },
  {
   "cell_type": "code",
   "execution_count": 16,
   "metadata": {},
   "outputs": [
    {
     "name": "stdout",
     "output_type": "stream",
     "text": [
      "4\n",
      "1332\n",
      "3123\n",
      "3213\n",
      "2331\n",
      "6\n",
      "133332\n",
      "313323\n",
      "331233\n",
      "332133\n",
      "323313\n",
      "233331\n",
      "7\n",
      "1333332\n",
      "3133323\n",
      "3313233\n",
      "3332333\n",
      "3323133\n",
      "3233313\n",
      "2333331\n",
      "\n"
     ]
    },
    {
     "ename": "SyntaxError",
     "evalue": "unexpected EOF while parsing (<string>, line 0)",
     "output_type": "error",
     "traceback": [
      "\u001b[0;36m  File \u001b[0;32m\"<string>\"\u001b[0;36m, line \u001b[0;32munknown\u001b[0m\n\u001b[0;31m    \u001b[0m\n\u001b[0m    ^\u001b[0m\n\u001b[0;31mSyntaxError\u001b[0m\u001b[0;31m:\u001b[0m unexpected EOF while parsing\n"
     ]
    }
   ],
   "source": [
    "while True:\n",
    "    try:\n",
    "        inp=int(input())\n",
    "        a=[]\n",
    "        #print a\n",
    "        ps1,ps2=0,inp-1\n",
    "        c=True\n",
    "        i=0\n",
    "        while c==True:\n",
    "            le=inp\n",
    "    \n",
    "            if ps1 <=inp-1 and i>0:\n",
    "        \n",
    "                ps1,ps2=ps1+1,ps2-1\n",
    "            elif ps1 >=inp and i>0:\n",
    "                c=False\n",
    "                break\n",
    "    \n",
    "            for i in range(0,inp):\n",
    "                a.append(3)\n",
    "            #print a\n",
    "    \n",
    "            if ps1 <=inp-1:\n",
    "                a[ps1],a[ps2]=1,2\n",
    "            else:\n",
    "                break\n",
    "    \n",
    "    \n",
    "            i+=1   \n",
    "            ed=\"\"\n",
    "            for d in a:\n",
    "                ed=ed+str(d)\n",
    "            print ed\n",
    "            a=[]\n",
    "    except EOFError:\n",
    "        break\n",
    "    "
   ]
  },
  {
   "cell_type": "code",
   "execution_count": null,
   "metadata": {},
   "outputs": [],
   "source": []
  }
 ],
 "metadata": {
  "kernelspec": {
   "display_name": "Python 2",
   "language": "python",
   "name": "python2"
  },
  "language_info": {
   "codemirror_mode": {
    "name": "ipython",
    "version": 2
   },
   "file_extension": ".py",
   "mimetype": "text/x-python",
   "name": "python",
   "nbconvert_exporter": "python",
   "pygments_lexer": "ipython2",
   "version": "2.7.12"
  }
 },
 "nbformat": 4,
 "nbformat_minor": 2
}
