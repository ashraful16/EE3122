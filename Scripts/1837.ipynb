{
 "cells": [
  {
   "cell_type": "code",
   "execution_count": 15,
   "metadata": {},
   "outputs": [
    {
     "name": "stdout",
     "output_type": "stream",
     "text": [
      "-7 3\n",
      "-3 2\n"
     ]
    }
   ],
   "source": [
    "p=raw_input().split()\n",
    "a,b=int(p[0]),int(p[1])\n",
    "\n",
    "\n",
    "if b>0:\n",
    "    q=a/b\n",
    "else :\n",
    "    q=-(a/abs(b))\n",
    "\n",
    "r=a-q*b\n",
    "print q,r"
   ]
  },
  {
   "cell_type": "code",
   "execution_count": null,
   "metadata": {},
   "outputs": [],
   "source": [
    "Input Samples\tOutput Samples\n",
    "7 3\n",
    "\n",
    "2 1\n",
    "\n",
    "7 -3\n",
    "\n",
    "-2 1\n",
    "\n",
    "-7 3\n",
    "\n",
    "-3 2"
   ]
  },
  {
   "cell_type": "code",
   "execution_count": 13,
   "metadata": {},
   "outputs": [
    {
     "data": {
      "text/plain": [
       "2"
      ]
     },
     "execution_count": 13,
     "metadata": {},
     "output_type": "execute_result"
    }
   ],
   "source": [
    "7/3"
   ]
  },
  {
   "cell_type": "code",
   "execution_count": null,
   "metadata": {},
   "outputs": [],
   "source": []
  }
 ],
 "metadata": {
  "kernelspec": {
   "display_name": "Python 2",
   "language": "python",
   "name": "python2"
  },
  "language_info": {
   "codemirror_mode": {
    "name": "ipython",
    "version": 2
   },
   "file_extension": ".py",
   "mimetype": "text/x-python",
   "name": "python",
   "nbconvert_exporter": "python",
   "pygments_lexer": "ipython2",
   "version": "2.7.12"
  }
 },
 "nbformat": 4,
 "nbformat_minor": 2
}
