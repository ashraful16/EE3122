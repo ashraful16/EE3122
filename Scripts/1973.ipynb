{
 "cells": [
  {
   "cell_type": "code",
   "execution_count": null,
   "metadata": {},
   "outputs": [
    {
     "name": "stdout",
     "output_type": "stream",
     "text": [
      "8\n",
      "1 3 5 7 11 13 17 19\n"
     ]
    }
   ],
   "source": [
    "a=int(input())\n",
    "b=raw_input().split(\" \")\n",
    "c=b\n",
    "\n",
    "atr=0\n",
    "i=0\n",
    "while True:\n",
    "    #c[i]=int(c[i])-1\n",
    "    atr+=1\n",
    "    if int(c[i])%2==0:\n",
    "        c[i]=int(c[i])-1\n",
    "        i=i-1\n",
    "    elif int(c[i])%2 !=0:\n",
    "        c[i]=int(c[i])-1\n",
    "        i+=1\n",
    "    \n",
    "    if i<len(b)-1 :\n",
    "        if int(c[i+1])==0 and int(c[i-1])==0:\n",
    "            print(atr)\n",
    "            break\n",
    "    elif i==len(b)-1:\n",
    "        if int(c[0])==0 and int(c[i-1])==0:\n",
    "            print(atr)\n",
    "            break\n",
    "    \n",
    "    if i==len(b)-1:\n",
    "        i=0\n",
    "print(atr)"
   ]
  },
  {
   "cell_type": "code",
   "execution_count": null,
   "metadata": {},
   "outputs": [],
   "source": [
    "\n",
    "Exemplo de Entrada\tExemplo de Saída\n",
    "8\n",
    "1 3 5 7 11 13 17 19\n",
    "\n",
    "8 68\n",
    "\n",
    "8\n",
    "1 3 5 7 11 13 16 19\n",
    "\n",
    "7 63"
   ]
  },
  {
   "cell_type": "code",
   "execution_count": 6,
   "metadata": {},
   "outputs": [
    {
     "name": "stdout",
     "output_type": "stream",
     "text": [
      "8\n",
      "1 3 5 7 11 13 16 19\n",
      "12\n"
     ]
    }
   ],
   "source": [
    "a=int(input())\n",
    "b=raw_input().split(\" \")\n",
    "c=b\n",
    "\n",
    "atr=0\n",
    "i=0\n",
    "while True:\n",
    "    #c[i]=int(c[i])-1\n",
    "    \n",
    "    if int(c[i])==0:\n",
    "            break\n",
    "    atr+=1\n",
    "            \n",
    "    if int(c[i])%2==0:\n",
    "        \n",
    "        c[i]=int(c[i])-1\n",
    "        \n",
    "        i=i-1\n",
    "        \n",
    "    elif int(c[i])%2 !=0:\n",
    "       \n",
    "        c[i]=int(c[i])-1\n",
    "        \n",
    "        i=i+1\n",
    "    \n",
    "        \n",
    "     \n",
    "   \n",
    "    \n",
    "    if i==len(b):\n",
    "        i=0\n",
    "print(atr)"
   ]
  },
  {
   "cell_type": "code",
   "execution_count": 1,
   "metadata": {},
   "outputs": [
    {
     "ename": "SyntaxError",
     "evalue": "invalid syntax (<ipython-input-1-492ff11d1c03>, line 26)",
     "output_type": "error",
     "traceback": [
      "\u001b[0;36m  File \u001b[0;32m\"<ipython-input-1-492ff11d1c03>\"\u001b[0;36m, line \u001b[0;32m26\u001b[0m\n\u001b[0;31m    if i+1=len(b):\u001b[0m\n\u001b[0m          ^\u001b[0m\n\u001b[0;31mSyntaxError\u001b[0m\u001b[0;31m:\u001b[0m invalid syntax\n"
     ]
    }
   ],
   "source": []
  },
  {
   "cell_type": "code",
   "execution_count": null,
   "metadata": {},
   "outputs": [],
   "source": [
    "a=int(input())\n",
    "b=raw_input().split(\" \")\n",
    "c=b\n",
    "\n",
    "atr=0\n",
    "i=0\n",
    "while True:\n",
    "    #c[i]=int(c[i])-1\n",
    "    atr+=1\n",
    "    if int(c[i])==0:\n",
    "            i+=1\n",
    "            \n",
    "    if int(c[i])%2==0:\n",
    "        \n",
    "        c[i]=int(c[i])-1\n",
    "        if int(c[i-1]==0):\n",
    "            i+=1\n",
    "        else:\n",
    "            i=i-1\n",
    "    elif int(c[i])%2 !=0:\n",
    "       \n",
    "        c[i]=int(c[i])-1\n",
    "        \n",
    "        if int(c[i+1]==0):\n",
    "            i=i-1\n",
    "        else:\n",
    "            i=i+1\n",
    "    \n",
    "    if i<len(b)-1 :\n",
    "        if int(c[i+1])==0 and int(c[i-1])==0:\n",
    "            print(atr)\n",
    "            break\n",
    "    elif i==len(b)-1:\n",
    "        if int(c[0])==0 and int(c[i-1])==0:\n",
    "            print(atr)\n",
    "            break\n",
    "    \n",
    "    if i==len(b):\n",
    "        i=0\n",
    "print(atr)"
   ]
  }
 ],
 "metadata": {
  "kernelspec": {
   "display_name": "Python 2",
   "language": "python",
   "name": "python2"
  },
  "language_info": {
   "codemirror_mode": {
    "name": "ipython",
    "version": 2
   },
   "file_extension": ".py",
   "mimetype": "text/x-python",
   "name": "python",
   "nbconvert_exporter": "python",
   "pygments_lexer": "ipython2",
   "version": "2.7.12"
  }
 },
 "nbformat": 4,
 "nbformat_minor": 2
}
