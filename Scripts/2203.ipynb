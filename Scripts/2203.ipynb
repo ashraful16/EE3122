{
 "cells": [
  {
   "cell_type": "code",
   "execution_count": 33,
   "metadata": {},
   "outputs": [
    {
     "name": "stdout",
     "output_type": "stream",
     "text": [
      "4 6 22 6 4 18 5\n",
      "N\n"
     ]
    }
   ],
   "source": [
    "x1,y1,x2,y2,v,r1,r2=raw_input().split(\" \")\n",
    "x1,y1,x2,y2,v,r1,r2=int(x1),int(y1),int(x2),int(y2),int(v),int(r1),int(r2)\n",
    "di=(x1-x2)**2+(y1-y2)**2\n",
    "dis=di**.5\n",
    "fd=dis-1.5*v\n",
    "\n",
    "ls=r1-fd\n",
    "\n",
    "if v!=0:    \n",
    "    if ls/v >1.5:\n",
    "        print('Y')\n",
    "    else:\n",
    "        print(\"N\")\n",
    "else :\n",
    "    if r1>r2:\n",
    "        print \"Y\"\n",
    "#if r1+r2>=fd:\n",
    "#    print('Y')\n",
    "#else:\n",
    " #   print('N')"
   ]
  },
  {
   "cell_type": "code",
   "execution_count": 34,
   "metadata": {},
   "outputs": [
    {
     "name": "stdout",
     "output_type": "stream",
     "text": [
      "(18.0, 4, 12.0, 6.0, 1.5)\n",
      "Y\n"
     ]
    }
   ],
   "source": [
    "print(dis,v,fd,ls,ls/v)\n",
    "if r1+r2>=fd:\n",
    "    print('Y')\n",
    "else:\n",
    "    print('N')"
   ]
  },
  {
   "cell_type": "code",
   "execution_count": null,
   "metadata": {},
   "outputs": [],
   "source": [
    "4 6 22 6 3 18 5\n",
    "4 6 22 6 4 18 5\n",
    "4 6 22 6 4 18 6\n",
    "0 0 22 6 0 18 2\n",
    "0 0 22 6 0 22 6\n",
    "4 6 22 6 0 16 2\n",
    "4 6 22 6 1 16 2\n",
    "9 9 0 0 0 16 2\n",
    "9 9 1 1 0 16 2\n",
    "\n",
    "\n",
    "Y\n",
    "N\n",
    "Y\n",
    "N\n",
    "Y\n",
    "Y\n",
    "N\n",
    "Y\n",
    "Y\n"
   ]
  }
 ],
 "metadata": {
  "kernelspec": {
   "display_name": "Python 2",
   "language": "python",
   "name": "python2"
  },
  "language_info": {
   "codemirror_mode": {
    "name": "ipython",
    "version": 2
   },
   "file_extension": ".py",
   "mimetype": "text/x-python",
   "name": "python",
   "nbconvert_exporter": "python",
   "pygments_lexer": "ipython2",
   "version": "2.7.12"
  }
 },
 "nbformat": 4,
 "nbformat_minor": 2
}
