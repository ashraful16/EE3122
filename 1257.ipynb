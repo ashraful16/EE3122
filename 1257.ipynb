{
 "cells": [
  {
   "cell_type": "code",
   "execution_count": 1,
   "metadata": {},
   "outputs": [
    {
     "data": {
      "text/plain": [
       "3"
      ]
     },
     "execution_count": 1,
     "metadata": {},
     "output_type": "execute_result"
    }
   ],
   "source": [
    "ord('A')\n",
    "ord('D')-65"
   ]
  },
  {
   "cell_type": "code",
   "execution_count": 6,
   "metadata": {},
   "outputs": [
    {
     "name": "stdout",
     "output_type": "stream",
     "text": [
      "5\n",
      "2\n",
      "CBA\n",
      "DDD\n",
      "21\n",
      "1\n",
      "Z\n",
      "25\n",
      "6\n",
      "A\n",
      "B\n",
      "C\n",
      "D\n",
      "E\n",
      "F\n",
      "30\n",
      "6\n",
      "ABCDEFGHIJKLMNOPQRSTUVWXYZ\n",
      "ABCDEFGHIJKLMNOPQRSTUVWXYZ\n",
      "ABCDEFGHIJKLMNOPQRSTUVWXYZ\n",
      "ABCDEFGHIJKLMNOPQRSTUVWXYZ\n",
      "ABCDEFGHIJKLMNOPQRSTUVWXYZ\n",
      "ABCDEFGHIJKLMNOPQRSTUVWXYZ\n",
      "4290\n",
      "1\n",
      "ZZZZZZZZZZ\n",
      "295\n"
     ]
    }
   ],
   "source": [
    "\n",
    "\n",
    "a=int(input())\n",
    "\n",
    "for ii in range(a):\n",
    "    sz=int(input())\n",
    "    p=0\n",
    "    sm=0\n",
    "    LK=0\n",
    "    \n",
    "    while p<sz:\n",
    "        ar=input()\n",
    "        for jj in range(len(ar)):\n",
    "            #print(sm,LK,p,ord(ar[jj])-65)\n",
    "            sm=sm+jj+p+ord(ar[jj])-65\n",
    "        LK=+1   \n",
    "        p+=1\n",
    "        \n",
    "    print(sm)\n",
    "    \n",
    "    "
   ]
  },
  {
   "cell_type": "code",
   "execution_count": null,
   "metadata": {},
   "outputs": [],
   "source": [
    "\n",
    "Sample Input\tSample Output\n",
    "5\n",
    "2\n",
    "CBA\n",
    "DDD\n",
    "1\n",
    "Z\n",
    "6\n",
    "A\n",
    "B\n",
    "C\n",
    "D\n",
    "E\n",
    "F\n",
    "6\n",
    "ABCDEFGHIJKLMNOPQRSTUVWXYZ\n",
    "ABCDEFGHIJKLMNOPQRSTUVWXYZ\n",
    "ABCDEFGHIJKLMNOPQRSTUVWXYZ\n",
    "ABCDEFGHIJKLMNOPQRSTUVWXYZ\n",
    "ABCDEFGHIJKLMNOPQRSTUVWXYZ\n",
    "ABCDEFGHIJKLMNOPQRSTUVWXYZ\n",
    "1\n",
    "ZZZZZZZZZZ\n",
    "\n",
    "\n",
    "\n",
    "\n",
    "\n",
    "21\n",
    "25\n",
    "30\n",
    "4290\n",
    "295"
   ]
  }
 ],
 "metadata": {
  "kernelspec": {
   "display_name": "Python 3",
   "language": "python",
   "name": "python3"
  },
  "language_info": {
   "codemirror_mode": {
    "name": "ipython",
    "version": 3
   },
   "file_extension": ".py",
   "mimetype": "text/x-python",
   "name": "python",
   "nbconvert_exporter": "python",
   "pygments_lexer": "ipython3",
   "version": "3.6.5"
  }
 },
 "nbformat": 4,
 "nbformat_minor": 2
}
