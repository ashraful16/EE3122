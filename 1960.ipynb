{
 "cells": [
  {
   "cell_type": "code",
   "execution_count": null,
   "metadata": {},
   "outputs": [],
   "source": [
    "You must write a program that, given an arabic number, show its equivalent in roman numerals.\n",
    "\n",
    "Remember that I stands for 1, V for 5, X for 10, L for 50, C for 100, D for 500 and M stands for 1000."
   ]
  },
  {
   "cell_type": "code",
   "execution_count": 29,
   "metadata": {},
   "outputs": [
    {
     "name": "stdout",
     "output_type": "stream",
     "text": [
      "400\n",
      "MC\n"
     ]
    }
   ],
   "source": [
    "a=int(input())\n",
    "ss=a\n",
    "p=a/1000\n",
    "re=''\n",
    "if p>=1:\n",
    "    if p==4:\n",
    "        re=re+'MD'\n",
    "    else:\n",
    "        for i in range(int(p)):\n",
    "            re+=str('M')\n",
    "a=a-1000*int(p)\n",
    "p=a/500\n",
    "if p>=1:\n",
    "    if p==4:\n",
    "        re=re+'MD'\n",
    "    else:\n",
    "        for i in range(int(p)):\n",
    "            re+=str('D')\n",
    "        \n",
    "a=a-500*int(p)\n",
    "p=a/100\n",
    "if p>=1:\n",
    "    if p==4:\n",
    "        re=re+'MC'\n",
    "    else:\n",
    "        \n",
    "        for i in range(int(p)):\n",
    "            re+=str('C')\n",
    "\n",
    "a=a-100*int(p)\n",
    "p=a/50\n",
    "if p>=1:\n",
    "    for i in range(int(p)):\n",
    "        re+=str('L')\n",
    "\n",
    "a=a-50*int(p)\n",
    "p=a/10\n",
    "if p>=1:\n",
    "    for i in range(int(p)):\n",
    "        re+=str('X')\n",
    "\n",
    "a=a-10*int(p)\n",
    "p=a/9\n",
    "if p>=1:\n",
    "    for i in range(int(p)):\n",
    "        re+=str('IX')  \n",
    "a=a-9*int(p)\n",
    "p=a/8\n",
    "if p>=1:\n",
    "    for i in range(int(p)):\n",
    "        re+=str('VIII')  \n",
    "\n",
    "a=a-8*int(p)\n",
    "p=a/7\n",
    "if p>=1:\n",
    "    for i in range(int(p)):\n",
    "        re+=str('VII') \n",
    "a=a-7*int(p)\n",
    "p=a/6\n",
    "if p>=1:\n",
    "    for i in range(int(p)):\n",
    "        re+=str('VI') \n",
    "a=a-6*int(p)\n",
    "p=a/5\n",
    "if p>=1:\n",
    "    for i in range(int(p)):\n",
    "        re+=str('V')  \n",
    "\n",
    "a=a-5*int(p)\n",
    "p=a/4\n",
    "if p>=1:\n",
    "    for i in range(int(p)):\n",
    "        re+=str('IV')\n",
    "a=a-4*int(p)\n",
    "p=a/3\n",
    "if p>=1:\n",
    "    for i in range(int(p)):\n",
    "        re+=str('III')\n",
    "a=a-3*int(p)\n",
    "p=a/2\n",
    "if p>=1:\n",
    "    for i in range(int(p)):\n",
    "        re+=str('II')\n",
    "a=a-2*int(p)\n",
    "p=a/1\n",
    "if p>=1:\n",
    "    for i in range(int(p)):\n",
    "        re+=str('I')\n",
    "\n",
    "print(re)\n",
    "        \n",
    "\n",
    "    "
   ]
  },
  {
   "cell_type": "code",
   "execution_count": null,
   "metadata": {},
   "outputs": [],
   "source": [
    "\n",
    "Input Samples\tOutput Samples\n",
    "666\n",
    "\n",
    "DCLXVI\n",
    "\n",
    "83\n",
    "\n",
    "LXXXIII\n",
    "\n",
    "999\n",
    "\n",
    "CMXCIX\n",
    "\n",
    "CDXLIV"
   ]
  },
  {
   "cell_type": "code",
   "execution_count": null,
   "metadata": {},
   "outputs": [],
   "source": []
  },
  {
   "cell_type": "code",
   "execution_count": null,
   "metadata": {},
   "outputs": [],
   "source": [
    "#include <bits/stdc++.h>\n",
    " \n",
    "using namespace std;\n",
    " \n",
    "string a[10] = {\"\",\"C\",\"CC\",\"CCC\",\"CD\",\"D\",\"DC\",\"DCC\",\"DCCC\",\"CM\"};\n",
    "string b[10] = {\"\",\"X\",\"XX\",\"XXX\",\"XL\",\"L\",\"LX\",\"LXX\",\"LXXX\",\"XC\"};\n",
    "string c[10] = {\"\",\"I\",\"II\",\"III\",\"IV\",\"V\",\"VI\",\"VII\",\"VIII\",\"IX\"};\n",
    "int n;\n",
    " \n",
    "int main(){\n",
    "\tscanf(\"%d\",&n);\n",
    "\tstring res = a[n/100] + b[(n%100)/10] + c[n%10];\n",
    "\tcout << res << endl;\n",
    "\treturn 0;\n",
    "}"
   ]
  },
  {
   "cell_type": "code",
   "execution_count": 34,
   "metadata": {},
   "outputs": [
    {
     "name": "stdout",
     "output_type": "stream",
     "text": [
      "444\n",
      "CDXLIV\n"
     ]
    }
   ],
   "source": [
    "a=[\"\",\"C\",\"CC\",\"CCC\",\"CD\",\"D\",\"DC\",\"DCC\",\"DCCC\",\"CM\"]\n",
    "b=[\"\",\"X\",\"XX\",\"XXX\",\"XL\",\"L\",\"LX\",\"LXX\",\"LXXX\",\"XC\"]\n",
    "c=[\"\",\"I\",\"II\",\"III\",\"IV\",\"V\",\"VI\",\"VII\",\"VIII\",\"IX\"]\n",
    "\n",
    "n=int(input())\n",
    "re=str( a[int(n/100)]) + str(b[int((n%100)/10)]) +str( c[n%10])\n",
    "print(re)"
   ]
  },
  {
   "cell_type": "code",
   "execution_count": null,
   "metadata": {},
   "outputs": [],
   "source": []
  }
 ],
 "metadata": {
  "kernelspec": {
   "display_name": "Python 3",
   "language": "python",
   "name": "python3"
  },
  "language_info": {
   "codemirror_mode": {
    "name": "ipython",
    "version": 3
   },
   "file_extension": ".py",
   "mimetype": "text/x-python",
   "name": "python",
   "nbconvert_exporter": "python",
   "pygments_lexer": "ipython3",
   "version": "3.6.5"
  }
 },
 "nbformat": 4,
 "nbformat_minor": 2
}
